{
 "cells": [
  {
   "cell_type": "markdown",
   "metadata": {},
   "source": [
    "# SQL\n",
    "\n",
    "El coronavirus tomó al mundo entero por sorpresa, cambiando la rutina diaria de todos y todas. Los habitantes de las ciudades ya no pasaban su tiempo libre fuera, yendo a cafés y centros comerciales; sino que más gente se quedaba en casa, leyendo libros. Eso atrajo la atención de las startups (empresas emergentes) que se apresuraron a desarrollar nuevas aplicaciones para los amantes de los libros.\n",
    "\n",
    "Te han dado una base de datos de uno de los servicios que compiten en este mercado. Contiene datos sobre libros, editoriales, autores y calificaciones de clientes y reseñas de libros. Esta información se utilizará para generar una propuesta de valor para un nuevo producto.\n",
    "\n",
    "### Descripción de los datos\n",
    "\n",
    "**`books`**\n",
    "\n",
    "Contiene datos sobre libros:\n",
    "\n",
    "- `book_id`: identificación del libro\n",
    "- `author_id`: identificación del autor o autora\n",
    "- `title`: título\n",
    "- `num_pages`: número de páginas\n",
    "- `publication_date`: fecha de la publicación\n",
    "- `publisher_id`: identificación de la editorial\n",
    "\n",
    "**`authors`**\n",
    "\n",
    "Contiene datos sobre autores:\n",
    "\n",
    "- `author_id`: identificación del autor o autora\n",
    "- `author`: el autor o la autora\n",
    "\n",
    "**`publishers`**\n",
    "\n",
    "Contiene datos sobre editoriales:\n",
    "\n",
    "- `publisher_id`: identificación de la editorial\n",
    "- `publisher`: la editorial\n",
    "\n",
    "**`ratings`**\n",
    "\n",
    "Contiene datos sobre las calificaciones de usuarios:\n",
    "\n",
    "- `rating_id`: identificación de la calificación\n",
    "- `book_id`: identificación del libro\n",
    "- `username`: el nombre del usuario que revisó el libro\n",
    "- `rating`: calificación\n",
    "\n",
    "**`reviews`**\n",
    "\n",
    "Contiene datos sobre las reseñas de los y las clientes:\n",
    "\n",
    "- `review_id`: identificación de la reseña\n",
    "- `book_id`: identificación del libro\n",
    "- `username`: el nombre del usuario que revisó el libro\n",
    "- `text`: el texto de la reseña"
   ]
  },
  {
   "cell_type": "markdown",
   "metadata": {},
   "source": [
    "### Ejercicio\n",
    "\n",
    "- Encuentra el número de libros publicados después del 1 de enero de 2000.\n",
    "- Encuentra el número de reseñas de usuarios y la calificación promedio para cada libro.\n",
    "- Identifica la editorial que ha publicado el mayor número de libros con más de 50 páginas (esto te ayudará a excluir folletos y publicaciones similares de tu análisis).\n",
    "- Identifica al autor que tiene la más alta calificación promedio del libro: mira solo los libros con al menos 50 calificaciones.\n",
    "- Encuentra el número promedio de reseñas de texto entre los usuarios que calificaron más de 50 libros.\n",
    "\n",
    "### Instrucciones para completar la tarea\n",
    "\n",
    "- Describe los objetivos del estudio.\n",
    "- Estudia las tablas (imprime las primeras filas).\n",
    "- Realiza una consulta SQL para cada una de las tareas.\n",
    "- Genera los resultados de cada consulta en el Notebook.\n",
    "- Describe tus conclusiones para cada una de las tareas.\n",
    "\n",
    "### Acceso a la base de datos\n",
    "\n",
    "Conéctate a la base de datos siguiendo estas [instrucciones](https://www.notion.so/SQL-7684eef430ab4b10bfd8e3b2e042965e?pvs=21).\n",
    "\n",
    "### Notas\n",
    "\n",
    "- ¡No te olvides de las funciones! Pueden facilitar considerablemente tu vida y la ejecución de consultas.\n",
    "- Tus resultados deben ser obtenidos con SQL. Usa pandas solamente para imprimir y almacenar los resultados de la consulta."
   ]
  },
  {
   "cell_type": "code",
   "execution_count": 2,
   "metadata": {},
   "outputs": [],
   "source": [
    "import pandas as pd\n",
    "from sqlalchemy import create_engine\n",
    "\n",
    "\n",
    "db_config = {'user': 'practicum_student',         # nombre de usuario\n",
    "             'pwd': 's65BlTKV3faNIGhmvJVzOqhs', # contraseña\n",
    "             'host': 'rc1b-wcoijxj3yxfsf3fs.mdb.yandexcloud.net',\n",
    "             'port': 6432,              # puerto de conexión\n",
    "             'db': 'data-analyst-final-project-db'}          # nombre de la base de datos\n",
    "\n",
    "connection_string = 'postgresql://{}:{}@{}:{}/{}'.format(db_config['user'],\n",
    "                                                                     db_config['pwd'],\n",
    "                                                                       db_config['host'],\n",
    "                                                                       db_config['port'],\n",
    "                                                                       db_config['db'])\n",
    "\n",
    "engine = create_engine(connection_string, connect_args={'sslmode':'require'})"
   ]
  },
  {
   "cell_type": "code",
   "execution_count": 3,
   "metadata": {},
   "outputs": [],
   "source": [
    "books_df = pd.read_sql('SELECT * FROM books', con=engine)\n",
    "authors_df = pd.read_sql('SELECT * FROM authors', con=engine)\n",
    "publishers_df = pd.read_sql('SELECT * FROM publishers', con=engine)\n",
    "ratings_df = pd.read_sql('SELECT * FROM ratings', con=engine)\n",
    "reviews_df = pd.read_sql('SELECT * FROM reviews', con=engine)"
   ]
  },
  {
   "cell_type": "code",
   "execution_count": 3,
   "metadata": {},
   "outputs": [],
   "source": [
    "def analisis_exploratorio(df):\n",
    "    print('Tamaño del dataset', df.shape,'\\n')\n",
    "    print('Info del dataset: \\n', df.info())\n",
    "    print('Caracteristicas del dataset: \\n', df.describe())\n"
   ]
  },
  {
   "cell_type": "code",
   "execution_count": 4,
   "metadata": {},
   "outputs": [],
   "source": [
    "def analisis_exploratorio2(df):\n",
    "    print(df.head(),'\\n')\n",
    "    print('Numero de datos unicos: \\n', df.nunique())"
   ]
  },
  {
   "cell_type": "markdown",
   "metadata": {},
   "source": [
    "### Analisis exploratorio de books_df"
   ]
  },
  {
   "cell_type": "code",
   "execution_count": 5,
   "metadata": {},
   "outputs": [
    {
     "name": "stdout",
     "output_type": "stream",
     "text": [
      "Tamaño del dataset (1000, 6) \n",
      "\n",
      "<class 'pandas.core.frame.DataFrame'>\n",
      "RangeIndex: 1000 entries, 0 to 999\n",
      "Data columns (total 6 columns):\n",
      " #   Column            Non-Null Count  Dtype \n",
      "---  ------            --------------  ----- \n",
      " 0   book_id           1000 non-null   int64 \n",
      " 1   author_id         1000 non-null   int64 \n",
      " 2   title             1000 non-null   object\n",
      " 3   num_pages         1000 non-null   int64 \n",
      " 4   publication_date  1000 non-null   object\n",
      " 5   publisher_id      1000 non-null   int64 \n",
      "dtypes: int64(4), object(2)\n",
      "memory usage: 47.0+ KB\n",
      "Info del dataset: \n",
      " None\n",
      "Caracteristicas del dataset: \n",
      "            book_id    author_id   num_pages  publisher_id\n",
      "count  1000.000000  1000.000000  1000.00000   1000.000000\n",
      "mean    500.500000   320.417000   389.11100    171.270000\n",
      "std     288.819436   181.620172   229.39014     99.082685\n",
      "min       1.000000     1.000000    14.00000      1.000000\n",
      "25%     250.750000   162.750000   249.00000     83.000000\n",
      "50%     500.500000   316.500000   352.00000    177.500000\n",
      "75%     750.250000   481.000000   453.00000    258.000000\n",
      "max    1000.000000   636.000000  2690.00000    340.000000\n"
     ]
    }
   ],
   "source": [
    "analisis_exploratorio(books_df)"
   ]
  },
  {
   "cell_type": "code",
   "execution_count": 6,
   "metadata": {},
   "outputs": [
    {
     "name": "stdout",
     "output_type": "stream",
     "text": [
      "   book_id  author_id                                              title  \\\n",
      "0        1        546                                       'Salem's Lot   \n",
      "1        2        465                 1 000 Places to See Before You Die   \n",
      "2        3        407  13 Little Blue Envelopes (Little Blue Envelope...   \n",
      "3        4         82  1491: New Revelations of the Americas Before C...   \n",
      "4        5        125                                               1776   \n",
      "\n",
      "   num_pages publication_date  publisher_id  \n",
      "0        594       2005-11-01            93  \n",
      "1        992       2003-05-22           336  \n",
      "2        322       2010-12-21           135  \n",
      "3        541       2006-10-10           309  \n",
      "4        386       2006-07-04           268   \n",
      "\n",
      "Numero de datos unicos: \n",
      " book_id             1000\n",
      "author_id            636\n",
      "title                999\n",
      "num_pages            454\n",
      "publication_date     618\n",
      "publisher_id         340\n",
      "dtype: int64\n"
     ]
    }
   ],
   "source": [
    "analisis_exploratorio2(books_df)"
   ]
  },
  {
   "cell_type": "markdown",
   "metadata": {},
   "source": [
    "### Analisis exploratorio de authors_df"
   ]
  },
  {
   "cell_type": "code",
   "execution_count": 7,
   "metadata": {},
   "outputs": [
    {
     "name": "stdout",
     "output_type": "stream",
     "text": [
      "Tamaño del dataset (636, 2) \n",
      "\n",
      "<class 'pandas.core.frame.DataFrame'>\n",
      "RangeIndex: 636 entries, 0 to 635\n",
      "Data columns (total 2 columns):\n",
      " #   Column     Non-Null Count  Dtype \n",
      "---  ------     --------------  ----- \n",
      " 0   author_id  636 non-null    int64 \n",
      " 1   author     636 non-null    object\n",
      "dtypes: int64(1), object(1)\n",
      "memory usage: 10.1+ KB\n",
      "Info del dataset: \n",
      " None\n",
      "Caracteristicas del dataset: \n",
      "         author_id\n",
      "count  636.000000\n",
      "mean   318.500000\n",
      "std    183.741666\n",
      "min      1.000000\n",
      "25%    159.750000\n",
      "50%    318.500000\n",
      "75%    477.250000\n",
      "max    636.000000\n"
     ]
    }
   ],
   "source": [
    "analisis_exploratorio(authors_df)"
   ]
  },
  {
   "cell_type": "code",
   "execution_count": 8,
   "metadata": {},
   "outputs": [
    {
     "name": "stdout",
     "output_type": "stream",
     "text": [
      "   author_id                          author\n",
      "0          1                      A.S. Byatt\n",
      "1          2  Aesop/Laura Harris/Laura Gibbs\n",
      "2          3                 Agatha Christie\n",
      "3          4                   Alan Brennert\n",
      "4          5        Alan Moore/David   Lloyd \n",
      "\n",
      "Numero de datos unicos: \n",
      " author_id    636\n",
      "author       636\n",
      "dtype: int64\n"
     ]
    }
   ],
   "source": [
    "analisis_exploratorio2(authors_df)"
   ]
  },
  {
   "cell_type": "markdown",
   "metadata": {},
   "source": [
    "### Analisis exploratorio de publishers_df"
   ]
  },
  {
   "cell_type": "code",
   "execution_count": 9,
   "metadata": {},
   "outputs": [
    {
     "name": "stdout",
     "output_type": "stream",
     "text": [
      "Tamaño del dataset (340, 2) \n",
      "\n",
      "<class 'pandas.core.frame.DataFrame'>\n",
      "RangeIndex: 340 entries, 0 to 339\n",
      "Data columns (total 2 columns):\n",
      " #   Column        Non-Null Count  Dtype \n",
      "---  ------        --------------  ----- \n",
      " 0   publisher_id  340 non-null    int64 \n",
      " 1   publisher     340 non-null    object\n",
      "dtypes: int64(1), object(1)\n",
      "memory usage: 5.4+ KB\n",
      "Info del dataset: \n",
      " None\n",
      "Caracteristicas del dataset: \n",
      "        publisher_id\n",
      "count    340.000000\n",
      "mean     170.500000\n",
      "std       98.293777\n",
      "min        1.000000\n",
      "25%       85.750000\n",
      "50%      170.500000\n",
      "75%      255.250000\n",
      "max      340.000000\n"
     ]
    }
   ],
   "source": [
    "analisis_exploratorio(publishers_df)"
   ]
  },
  {
   "cell_type": "code",
   "execution_count": 10,
   "metadata": {},
   "outputs": [
    {
     "name": "stdout",
     "output_type": "stream",
     "text": [
      "   publisher_id                          publisher\n",
      "0             1                                Ace\n",
      "1             2                           Ace Book\n",
      "2             3                          Ace Books\n",
      "3             4                      Ace Hardcover\n",
      "4             5  Addison Wesley Publishing Company \n",
      "\n",
      "Numero de datos unicos: \n",
      " publisher_id    340\n",
      "publisher       340\n",
      "dtype: int64\n"
     ]
    }
   ],
   "source": [
    "analisis_exploratorio2(publishers_df)"
   ]
  },
  {
   "cell_type": "markdown",
   "metadata": {},
   "source": [
    "### Analisis exploratorio de ratings_df"
   ]
  },
  {
   "cell_type": "code",
   "execution_count": 11,
   "metadata": {},
   "outputs": [
    {
     "name": "stdout",
     "output_type": "stream",
     "text": [
      "Tamaño del dataset (6456, 4) \n",
      "\n",
      "<class 'pandas.core.frame.DataFrame'>\n",
      "RangeIndex: 6456 entries, 0 to 6455\n",
      "Data columns (total 4 columns):\n",
      " #   Column     Non-Null Count  Dtype \n",
      "---  ------     --------------  ----- \n",
      " 0   rating_id  6456 non-null   int64 \n",
      " 1   book_id    6456 non-null   int64 \n",
      " 2   username   6456 non-null   object\n",
      " 3   rating     6456 non-null   int64 \n",
      "dtypes: int64(3), object(1)\n",
      "memory usage: 201.9+ KB\n",
      "Info del dataset: \n",
      " None\n",
      "Caracteristicas del dataset: \n",
      "          rating_id      book_id       rating\n",
      "count  6456.000000  6456.000000  6456.000000\n",
      "mean   3228.500000   510.574195     3.928284\n",
      "std    1863.831001   284.141636     0.943303\n",
      "min       1.000000     1.000000     1.000000\n",
      "25%    1614.750000   291.000000     3.000000\n",
      "50%    3228.500000   506.000000     4.000000\n",
      "75%    4842.250000   750.000000     5.000000\n",
      "max    6456.000000  1000.000000     5.000000\n"
     ]
    }
   ],
   "source": [
    "analisis_exploratorio(ratings_df)"
   ]
  },
  {
   "cell_type": "code",
   "execution_count": 12,
   "metadata": {},
   "outputs": [
    {
     "name": "stdout",
     "output_type": "stream",
     "text": [
      "   rating_id  book_id       username  rating\n",
      "0          1        1     ryanfranco       4\n",
      "1          2        1  grantpatricia       2\n",
      "2          3        1   brandtandrea       5\n",
      "3          4        2       lorichen       3\n",
      "4          5        2    mariokeller       2 \n",
      "\n",
      "Numero de datos unicos: \n",
      " rating_id    6456\n",
      "book_id      1000\n",
      "username      160\n",
      "rating          5\n",
      "dtype: int64\n"
     ]
    }
   ],
   "source": [
    "analisis_exploratorio2(ratings_df)"
   ]
  },
  {
   "cell_type": "markdown",
   "metadata": {},
   "source": [
    "### Analisis exploratorio de reviews_df"
   ]
  },
  {
   "cell_type": "code",
   "execution_count": 13,
   "metadata": {},
   "outputs": [
    {
     "name": "stdout",
     "output_type": "stream",
     "text": [
      "Tamaño del dataset (2793, 4) \n",
      "\n",
      "<class 'pandas.core.frame.DataFrame'>\n",
      "RangeIndex: 2793 entries, 0 to 2792\n",
      "Data columns (total 4 columns):\n",
      " #   Column     Non-Null Count  Dtype \n",
      "---  ------     --------------  ----- \n",
      " 0   review_id  2793 non-null   int64 \n",
      " 1   book_id    2793 non-null   int64 \n",
      " 2   username   2793 non-null   object\n",
      " 3   text       2793 non-null   object\n",
      "dtypes: int64(2), object(2)\n",
      "memory usage: 87.4+ KB\n",
      "Info del dataset: \n",
      " None\n",
      "Caracteristicas del dataset: \n",
      "          review_id      book_id\n",
      "count  2793.000000  2793.000000\n",
      "mean   1397.000000   504.693161\n",
      "std     806.413976   288.472931\n",
      "min       1.000000     1.000000\n",
      "25%     699.000000   259.000000\n",
      "50%    1397.000000   505.000000\n",
      "75%    2095.000000   753.000000\n",
      "max    2793.000000  1000.000000\n"
     ]
    }
   ],
   "source": [
    "analisis_exploratorio(reviews_df)"
   ]
  },
  {
   "cell_type": "code",
   "execution_count": 14,
   "metadata": {},
   "outputs": [
    {
     "name": "stdout",
     "output_type": "stream",
     "text": [
      "   review_id  book_id       username  \\\n",
      "0          1        1   brandtandrea   \n",
      "1          2        1     ryanfranco   \n",
      "2          3        2       lorichen   \n",
      "3          4        3  johnsonamanda   \n",
      "4          5        3    scotttamara   \n",
      "\n",
      "                                                text  \n",
      "0  Mention society tell send professor analysis. ...  \n",
      "1  Foot glass pretty audience hit themselves. Amo...  \n",
      "2  Listen treat keep worry. Miss husband tax but ...  \n",
      "3  Finally month interesting blue could nature cu...  \n",
      "4  Nation purpose heavy give wait song will. List...   \n",
      "\n",
      "Numero de datos unicos: \n",
      " review_id    2793\n",
      "book_id       994\n",
      "username      160\n",
      "text         2793\n",
      "dtype: int64\n"
     ]
    }
   ],
   "source": [
    "analisis_exploratorio2(reviews_df)"
   ]
  },
  {
   "cell_type": "markdown",
   "metadata": {},
   "source": [
    "# Consultas"
   ]
  },
  {
   "cell_type": "markdown",
   "metadata": {},
   "source": [
    "### Numero de libros publicados antes del 1 de enero del 2000"
   ]
  },
  {
   "cell_type": "code",
   "execution_count": 16,
   "metadata": {},
   "outputs": [
    {
     "data": {
      "text/html": [
       "<div>\n",
       "<style scoped>\n",
       "    .dataframe tbody tr th:only-of-type {\n",
       "        vertical-align: middle;\n",
       "    }\n",
       "\n",
       "    .dataframe tbody tr th {\n",
       "        vertical-align: top;\n",
       "    }\n",
       "\n",
       "    .dataframe thead th {\n",
       "        text-align: right;\n",
       "    }\n",
       "</style>\n",
       "<table border=\"1\" class=\"dataframe\">\n",
       "  <thead>\n",
       "    <tr style=\"text-align: right;\">\n",
       "      <th></th>\n",
       "      <th>libros_publicados</th>\n",
       "    </tr>\n",
       "  </thead>\n",
       "  <tbody>\n",
       "    <tr>\n",
       "      <th>0</th>\n",
       "      <td>819</td>\n",
       "    </tr>\n",
       "  </tbody>\n",
       "</table>\n",
       "</div>"
      ],
      "text/plain": [
       "   libros_publicados\n",
       "0                819"
      ]
     },
     "execution_count": 16,
     "metadata": {},
     "output_type": "execute_result"
    }
   ],
   "source": [
    "query_1 = '''\n",
    "SELECT COUNT(*) AS libros_publicados\n",
    "FROM books\n",
    "WHERE publication_date > '2000-01-01';\n",
    "'''\n",
    "pd.read_sql(query_1, con=engine)"
   ]
  },
  {
   "cell_type": "markdown",
   "metadata": {},
   "source": [
    "### Numero de reseñas de usuario y calificacion promedio por libro"
   ]
  },
  {
   "cell_type": "code",
   "execution_count": 18,
   "metadata": {},
   "outputs": [
    {
     "data": {
      "text/html": [
       "<div>\n",
       "<style scoped>\n",
       "    .dataframe tbody tr th:only-of-type {\n",
       "        vertical-align: middle;\n",
       "    }\n",
       "\n",
       "    .dataframe tbody tr th {\n",
       "        vertical-align: top;\n",
       "    }\n",
       "\n",
       "    .dataframe thead th {\n",
       "        text-align: right;\n",
       "    }\n",
       "</style>\n",
       "<table border=\"1\" class=\"dataframe\">\n",
       "  <thead>\n",
       "    <tr style=\"text-align: right;\">\n",
       "      <th></th>\n",
       "      <th>book_id</th>\n",
       "      <th>title</th>\n",
       "      <th>total_reseñas</th>\n",
       "      <th>promedio_rating</th>\n",
       "    </tr>\n",
       "  </thead>\n",
       "  <tbody>\n",
       "    <tr>\n",
       "      <th>0</th>\n",
       "      <td>86</td>\n",
       "      <td>Arrows of the Queen (Heralds of Valdemar  #1)</td>\n",
       "      <td>2</td>\n",
       "      <td>5.00</td>\n",
       "    </tr>\n",
       "    <tr>\n",
       "      <th>1</th>\n",
       "      <td>901</td>\n",
       "      <td>The Walking Dead  Book One (The Walking Dead #...</td>\n",
       "      <td>2</td>\n",
       "      <td>5.00</td>\n",
       "    </tr>\n",
       "    <tr>\n",
       "      <th>2</th>\n",
       "      <td>390</td>\n",
       "      <td>Light in August</td>\n",
       "      <td>2</td>\n",
       "      <td>5.00</td>\n",
       "    </tr>\n",
       "    <tr>\n",
       "      <th>3</th>\n",
       "      <td>972</td>\n",
       "      <td>Wherever You Go  There You Are: Mindfulness Me...</td>\n",
       "      <td>2</td>\n",
       "      <td>5.00</td>\n",
       "    </tr>\n",
       "    <tr>\n",
       "      <th>4</th>\n",
       "      <td>136</td>\n",
       "      <td>Captivating: Unveiling the Mystery of a Woman'...</td>\n",
       "      <td>2</td>\n",
       "      <td>5.00</td>\n",
       "    </tr>\n",
       "    <tr>\n",
       "      <th>...</th>\n",
       "      <td>...</td>\n",
       "      <td>...</td>\n",
       "      <td>...</td>\n",
       "      <td>...</td>\n",
       "    </tr>\n",
       "    <tr>\n",
       "      <th>995</th>\n",
       "      <td>915</td>\n",
       "      <td>The World Is Flat: A Brief History of the Twen...</td>\n",
       "      <td>3</td>\n",
       "      <td>2.25</td>\n",
       "    </tr>\n",
       "    <tr>\n",
       "      <th>996</th>\n",
       "      <td>316</td>\n",
       "      <td>His Excellency: George Washington</td>\n",
       "      <td>2</td>\n",
       "      <td>2.00</td>\n",
       "    </tr>\n",
       "    <tr>\n",
       "      <th>997</th>\n",
       "      <td>202</td>\n",
       "      <td>Drowning Ruth</td>\n",
       "      <td>3</td>\n",
       "      <td>2.00</td>\n",
       "    </tr>\n",
       "    <tr>\n",
       "      <th>998</th>\n",
       "      <td>371</td>\n",
       "      <td>Junky</td>\n",
       "      <td>2</td>\n",
       "      <td>2.00</td>\n",
       "    </tr>\n",
       "    <tr>\n",
       "      <th>999</th>\n",
       "      <td>303</td>\n",
       "      <td>Harvesting the Heart</td>\n",
       "      <td>2</td>\n",
       "      <td>1.50</td>\n",
       "    </tr>\n",
       "  </tbody>\n",
       "</table>\n",
       "<p>1000 rows × 4 columns</p>\n",
       "</div>"
      ],
      "text/plain": [
       "     book_id                                              title  \\\n",
       "0         86      Arrows of the Queen (Heralds of Valdemar  #1)   \n",
       "1        901  The Walking Dead  Book One (The Walking Dead #...   \n",
       "2        390                                    Light in August   \n",
       "3        972  Wherever You Go  There You Are: Mindfulness Me...   \n",
       "4        136  Captivating: Unveiling the Mystery of a Woman'...   \n",
       "..       ...                                                ...   \n",
       "995      915  The World Is Flat: A Brief History of the Twen...   \n",
       "996      316                  His Excellency: George Washington   \n",
       "997      202                                      Drowning Ruth   \n",
       "998      371                                              Junky   \n",
       "999      303                               Harvesting the Heart   \n",
       "\n",
       "     total_reseñas  promedio_rating  \n",
       "0                2             5.00  \n",
       "1                2             5.00  \n",
       "2                2             5.00  \n",
       "3                2             5.00  \n",
       "4                2             5.00  \n",
       "..             ...              ...  \n",
       "995              3             2.25  \n",
       "996              2             2.00  \n",
       "997              3             2.00  \n",
       "998              2             2.00  \n",
       "999              2             1.50  \n",
       "\n",
       "[1000 rows x 4 columns]"
      ]
     },
     "execution_count": 18,
     "metadata": {},
     "output_type": "execute_result"
    }
   ],
   "source": [
    "query_2 = '''\n",
    "SELECT \n",
    "    r.book_id,\n",
    "    b.title,\n",
    "    COUNT(DISTINCT rv.review_id) AS total_reseñas,\n",
    "    ROUND(AVG(r.rating), 2) AS promedio_rating\n",
    "FROM ratings r\n",
    "LEFT JOIN reviews rv ON r.book_id = rv.book_id AND r.username = rv.username\n",
    "JOIN books b ON r.book_id = b.book_id\n",
    "GROUP BY r.book_id, b.title\n",
    "ORDER BY promedio_rating DESC;\n",
    "'''\n",
    "pd.read_sql(query_2, con=engine)"
   ]
  },
  {
   "cell_type": "markdown",
   "metadata": {},
   "source": [
    "### Editorial con mayor numero de libros con mas de 50 paginas"
   ]
  },
  {
   "cell_type": "code",
   "execution_count": 19,
   "metadata": {},
   "outputs": [
    {
     "data": {
      "text/html": [
       "<div>\n",
       "<style scoped>\n",
       "    .dataframe tbody tr th:only-of-type {\n",
       "        vertical-align: middle;\n",
       "    }\n",
       "\n",
       "    .dataframe tbody tr th {\n",
       "        vertical-align: top;\n",
       "    }\n",
       "\n",
       "    .dataframe thead th {\n",
       "        text-align: right;\n",
       "    }\n",
       "</style>\n",
       "<table border=\"1\" class=\"dataframe\">\n",
       "  <thead>\n",
       "    <tr style=\"text-align: right;\">\n",
       "      <th></th>\n",
       "      <th>publisher</th>\n",
       "      <th>libros_largos</th>\n",
       "    </tr>\n",
       "  </thead>\n",
       "  <tbody>\n",
       "    <tr>\n",
       "      <th>0</th>\n",
       "      <td>Penguin Books</td>\n",
       "      <td>42</td>\n",
       "    </tr>\n",
       "  </tbody>\n",
       "</table>\n",
       "</div>"
      ],
      "text/plain": [
       "       publisher  libros_largos\n",
       "0  Penguin Books             42"
      ]
     },
     "execution_count": 19,
     "metadata": {},
     "output_type": "execute_result"
    }
   ],
   "source": [
    "query_3 = '''\n",
    "SELECT \n",
    "    p.publisher,\n",
    "    COUNT(b.book_id) AS libros_largos\n",
    "FROM books b\n",
    "JOIN publishers p ON b.publisher_id = p.publisher_id\n",
    "WHERE b.num_pages > 50\n",
    "GROUP BY p.publisher\n",
    "ORDER BY libros_largos DESC\n",
    "LIMIT 1;\n",
    "'''\n",
    "pd.read_sql(query_3, con=engine)"
   ]
  },
  {
   "cell_type": "markdown",
   "metadata": {},
   "source": [
    "### Autor con mayor calificacion promedio en libros de mas de 50 paginas"
   ]
  },
  {
   "cell_type": "code",
   "execution_count": 4,
   "metadata": {},
   "outputs": [
    {
     "data": {
      "text/html": [
       "<div>\n",
       "<style scoped>\n",
       "    .dataframe tbody tr th:only-of-type {\n",
       "        vertical-align: middle;\n",
       "    }\n",
       "\n",
       "    .dataframe tbody tr th {\n",
       "        vertical-align: top;\n",
       "    }\n",
       "\n",
       "    .dataframe thead th {\n",
       "        text-align: right;\n",
       "    }\n",
       "</style>\n",
       "<table border=\"1\" class=\"dataframe\">\n",
       "  <thead>\n",
       "    <tr style=\"text-align: right;\">\n",
       "      <th></th>\n",
       "      <th>author</th>\n",
       "      <th>promedio_rating</th>\n",
       "      <th>total_calificaciones</th>\n",
       "    </tr>\n",
       "  </thead>\n",
       "  <tbody>\n",
       "    <tr>\n",
       "      <th>0</th>\n",
       "      <td>J.K. Rowling/Mary GrandPré</td>\n",
       "      <td>4.29</td>\n",
       "      <td>310</td>\n",
       "    </tr>\n",
       "  </tbody>\n",
       "</table>\n",
       "</div>"
      ],
      "text/plain": [
       "                       author  promedio_rating  total_calificaciones\n",
       "0  J.K. Rowling/Mary GrandPré             4.29                   310"
      ]
     },
     "execution_count": 4,
     "metadata": {},
     "output_type": "execute_result"
    }
   ],
   "source": [
    "query_4 = '''\n",
    "WITH libros_populares AS (\n",
    "    SELECT book_id\n",
    "    FROM ratings\n",
    "    GROUP BY book_id\n",
    "    HAVING COUNT(*) >= 50\n",
    ")\n",
    "\n",
    "SELECT \n",
    "    a.author,\n",
    "    ROUND(AVG(r.rating), 2) AS promedio_rating,\n",
    "    COUNT(r.rating_id) AS total_calificaciones\n",
    "FROM ratings r\n",
    "JOIN libros_populares lp ON r.book_id = lp.book_id\n",
    "JOIN books b ON r.book_id = b.book_id\n",
    "JOIN authors a ON b.author_id = a.author_id\n",
    "GROUP BY a.author\n",
    "ORDER BY promedio_rating DESC\n",
    "LIMIT 1;\n",
    "'''\n",
    "pd.read_sql(query_4, con=engine)"
   ]
  },
  {
   "cell_type": "markdown",
   "metadata": {},
   "source": [
    "### Numero promedio de reseñas de texto escritas por usuarios que calificaron mas de 50 libros"
   ]
  },
  {
   "cell_type": "code",
   "execution_count": 21,
   "metadata": {},
   "outputs": [
    {
     "data": {
      "text/html": [
       "<div>\n",
       "<style scoped>\n",
       "    .dataframe tbody tr th:only-of-type {\n",
       "        vertical-align: middle;\n",
       "    }\n",
       "\n",
       "    .dataframe tbody tr th {\n",
       "        vertical-align: top;\n",
       "    }\n",
       "\n",
       "    .dataframe thead th {\n",
       "        text-align: right;\n",
       "    }\n",
       "</style>\n",
       "<table border=\"1\" class=\"dataframe\">\n",
       "  <thead>\n",
       "    <tr style=\"text-align: right;\">\n",
       "      <th></th>\n",
       "      <th>promedio_reseñas</th>\n",
       "    </tr>\n",
       "  </thead>\n",
       "  <tbody>\n",
       "    <tr>\n",
       "      <th>0</th>\n",
       "      <td>24.33</td>\n",
       "    </tr>\n",
       "  </tbody>\n",
       "</table>\n",
       "</div>"
      ],
      "text/plain": [
       "   promedio_reseñas\n",
       "0             24.33"
      ]
     },
     "execution_count": 21,
     "metadata": {},
     "output_type": "execute_result"
    }
   ],
   "source": [
    "query_5 = '''\n",
    "WITH usuarios_activos AS (\n",
    "    SELECT username\n",
    "    FROM ratings\n",
    "    GROUP BY username\n",
    "    HAVING COUNT(*) > 50\n",
    "),\n",
    "reseñas_usuario AS (\n",
    "    SELECT username, COUNT(*) AS num_reseñas\n",
    "    FROM reviews\n",
    "    WHERE username IN (SELECT username FROM usuarios_activos)\n",
    "    GROUP BY username\n",
    ")\n",
    "SELECT ROUND(AVG(num_reseñas), 2) AS promedio_reseñas\n",
    "FROM reseñas_usuario;\n",
    "'''\n",
    "pd.read_sql(query_5, con=engine)"
   ]
  },
  {
   "cell_type": "markdown",
   "metadata": {},
   "source": [
    "# Conclusion\n",
    "Desde el 1 de enero del 2000 se han publicado 819 libros en las editoriales analizadas, de estas, la editorial Penguin Books fue la que presento un mayor numero de libros publicados en el periodo de tiempo analizado, con un total de 42 libros publicados. J.K. Rowling y Mary GrandPre fueron los autores con la mejor puntuacion en un libro entre los libros con mas de 50 paginas y mas de 50 reseñas, recibiendo una puntuacion de 4.29 en 310 reseña. Por otro lado, se encontro que los usuarios que calificaron al menos 50 libros, en promedio realizaron 24 reseñas de texto"
   ]
  }
 ],
 "metadata": {
  "kernelspec": {
   "display_name": "Python 3 (ipykernel)",
   "language": "python",
   "name": "python3"
  },
  "language_info": {
   "codemirror_mode": {
    "name": "ipython",
    "version": 3
   },
   "file_extension": ".py",
   "mimetype": "text/x-python",
   "name": "python",
   "nbconvert_exporter": "python",
   "pygments_lexer": "ipython3",
   "version": "3.9.23"
  }
 },
 "nbformat": 4,
 "nbformat_minor": 4
}
