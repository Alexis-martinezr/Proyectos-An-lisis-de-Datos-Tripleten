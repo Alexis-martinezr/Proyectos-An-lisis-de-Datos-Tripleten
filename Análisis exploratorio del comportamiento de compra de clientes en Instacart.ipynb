{
 "cells": [
  {
   "cell_type": "markdown",
   "id": "mhIvmmkW414q",
   "metadata": {
    "id": "mhIvmmkW414q"
   },
   "source": [
    "# Introducción\n",
    "\n",
    "Instacart es una plataforma de entregas de comestibles donde la clientela puede registrar un pedido y hacer que se lo entreguen, similar a Uber Eats y Door Dash.\n",
    "El conjunto de datos que te hemos proporcionado tiene modificaciones del original. Redujimos el tamaño del conjunto para que tus cálculos se hicieran más rápido e introdujimos valores ausentes y duplicados. Tuvimos cuidado de conservar las distribuciones de los datos originales cuando hicimos los cambios.\n",
    "\n",
    "Debes completar tres pasos. Para cada uno de ellos, escribe una breve introducción que refleje con claridad cómo pretendes resolver cada paso, y escribe párrafos explicatorios que justifiquen tus decisiones al tiempo que avanzas en tu solución.  También escribe una conclusión que resuma tus hallazgos y elecciones.\n"
   ]
  },
  {
   "cell_type": "markdown",
   "id": "3MbyzpOQZ5Or",
   "metadata": {
    "id": "3MbyzpOQZ5Or"
   },
   "source": [
    "## Diccionario de datos\n",
    "\n",
    "Hay cinco tablas en el conjunto de datos, y tendrás que usarlas todas para hacer el preprocesamiento de datos y el análisis exploratorio de datos. A continuación se muestra un diccionario de datos que enumera las columnas de cada tabla y describe los datos que contienen.\n",
    "\n",
    "- `instacart_orders.csv`: cada fila corresponde a un pedido en la aplicación Instacart.\n",
    "    - `'order_id'`: número de ID que identifica de manera única cada pedido.\n",
    "    - `'user_id'`: número de ID que identifica de manera única la cuenta de cada cliente.\n",
    "    - `'order_number'`: el número de veces que este cliente ha hecho un pedido.\n",
    "    - `'order_dow'`: día de la semana en que se hizo el pedido (0 si es domingo).\n",
    "    - `'order_hour_of_day'`: hora del día en que se hizo el pedido.\n",
    "    - `'days_since_prior_order'`: número de días transcurridos desde que este cliente hizo su pedido anterior.\n",
    "- `products.csv`: cada fila corresponde a un producto único que pueden comprar los clientes.\n",
    "    - `'product_id'`: número ID que identifica de manera única cada producto.\n",
    "    - `'product_name'`: nombre del producto.\n",
    "    - `'aisle_id'`: número ID que identifica de manera única cada categoría de pasillo de víveres.\n",
    "    - `'department_id'`: número ID que identifica de manera única cada departamento de víveres.\n",
    "- `order_products.csv`: cada fila corresponde a un artículo pedido en un pedido.\n",
    "    - `'order_id'`: número de ID que identifica de manera única cada pedido.\n",
    "    - `'product_id'`: número ID que identifica de manera única cada producto.\n",
    "    - `'add_to_cart_order'`: el orden secuencial en el que se añadió cada artículo en el carrito.\n",
    "    - `'reordered'`: 0 si el cliente nunca ha pedido este producto antes, 1 si lo ha pedido.\n",
    "- `aisles.csv`\n",
    "    - `'aisle_id'`: número ID que identifica de manera única cada categoría de pasillo de víveres.\n",
    "    - `'aisle'`: nombre del pasillo.\n",
    "- `departments.csv`\n",
    "    - `'department_id'`: número ID que identifica de manera única cada departamento de víveres.\n",
    "    - `'department'`: nombre del departamento."
   ]
  },
  {
   "cell_type": "markdown",
   "id": "n3Ha_cNSZ8lK",
   "metadata": {
    "id": "n3Ha_cNSZ8lK"
   },
   "source": [
    "# Paso 1. Descripción de los datos\n",
    "\n",
    "Lee los archivos de datos (`/datasets/instacart_orders.csv`, `/datasets/products.csv`, `/datasets/aisles.csv`, `/datasets/departments.csv` y `/datasets/order_products.csv`) con `pd.read_csv()` usando los parámetros adecuados para leer los datos correctamente. Verifica la información para cada DataFrame creado.\n"
   ]
  },
  {
   "cell_type": "markdown",
   "id": "OmlQPLlyaAfR",
   "metadata": {
    "id": "OmlQPLlyaAfR"
   },
   "source": [
    "## Plan de solución\n",
    "\n",
    "Escribe aquí tu plan de solución para el Paso 1. Descripción de los datos."
   ]
  },
  {
   "cell_type": "code",
   "execution_count": 1,
   "id": "fbf1adab",
   "metadata": {
    "id": "fbf1adab",
    "trusted": false
   },
   "outputs": [],
   "source": [
    "# importar librerías\n",
    "import pandas as pd\n",
    "from matplotlib import pyplot as plt"
   ]
  },
  {
   "cell_type": "code",
   "execution_count": 2,
   "id": "ad36396d",
   "metadata": {
    "id": "ad36396d",
    "trusted": false
   },
   "outputs": [],
   "source": [
    "# leer conjuntos de datos en los DataFrames\n",
    "ruta_base = \"/datasets/\"\n",
    "archivos = {\n",
    "    \"orders\": \"instacart_orders.csv\",\n",
    "    \"products\": \"products.csv\",\n",
    "    \"aisles\": \"aisles.csv\",\n",
    "    \"departments\": \"departments.csv\",\n",
    "    \"order_products\": \"order_products.csv\"\n",
    "}\n",
    "df_orders = pd.read_csv(ruta_base + archivos[\"orders\"], sep=\";\")\n",
    "df_products = pd.read_csv(ruta_base + archivos[\"products\"], sep=\";\")\n",
    "df_aisles = pd.read_csv(ruta_base + archivos[\"aisles\"], sep=\";\")\n",
    "df_departments = pd.read_csv(ruta_base + archivos[\"departments\"], sep=\";\")\n",
    "df_order_products = pd.read_csv(ruta_base + archivos[\"order_products\"], sep=\";\")"
   ]
  },
  {
   "cell_type": "code",
   "execution_count": 3,
   "id": "ad6a1efa",
   "metadata": {
    "id": "ad6a1efa",
    "trusted": false
   },
   "outputs": [
    {
     "name": "stdout",
     "output_type": "stream",
     "text": [
      "   order_id  user_id  order_number  order_dow  order_hour_of_day  \\\n",
      "0   1515936   183418            11          6                 13   \n",
      "1   1690866   163593             5          5                 12   \n",
      "2   1454967    39980             4          5                 19   \n",
      "3   1768857    82516            56          0                 20   \n",
      "4   3007858   196724             2          4                 12   \n",
      "\n",
      "   days_since_prior_order  \n",
      "0                    30.0  \n",
      "1                     9.0  \n",
      "2                     2.0  \n",
      "3                    10.0  \n",
      "4                    17.0  \n",
      "<class 'pandas.core.frame.DataFrame'>\n",
      "RangeIndex: 478967 entries, 0 to 478966\n",
      "Data columns (total 6 columns):\n",
      " #   Column                  Non-Null Count   Dtype  \n",
      "---  ------                  --------------   -----  \n",
      " 0   order_id                478967 non-null  int64  \n",
      " 1   user_id                 478967 non-null  int64  \n",
      " 2   order_number            478967 non-null  int64  \n",
      " 3   order_dow               478967 non-null  int64  \n",
      " 4   order_hour_of_day       478967 non-null  int64  \n",
      " 5   days_since_prior_order  450148 non-null  float64\n",
      "dtypes: float64(1), int64(5)\n",
      "memory usage: 21.9 MB\n",
      "None\n"
     ]
    }
   ],
   "source": [
    "# mostrar información del DataFrame\n",
    "print(df_orders.head())\n",
    "print(df_orders.info(show_counts = True))"
   ]
  },
  {
   "cell_type": "code",
   "execution_count": 4,
   "id": "5130e05e",
   "metadata": {
    "id": "5130e05e",
    "trusted": false
   },
   "outputs": [
    {
     "name": "stdout",
     "output_type": "stream",
     "text": [
      "   product_id                                       product_name  aisle_id  \\\n",
      "0           1                         Chocolate Sandwich Cookies        61   \n",
      "1           2                                   All-Seasons Salt       104   \n",
      "2           3               Robust Golden Unsweetened Oolong Tea        94   \n",
      "3           4  Smart Ones Classic Favorites Mini Rigatoni Wit...        38   \n",
      "4           5                          Green Chile Anytime Sauce         5   \n",
      "\n",
      "   department_id  \n",
      "0             19  \n",
      "1             13  \n",
      "2              7  \n",
      "3              1  \n",
      "4             13  \n",
      "<class 'pandas.core.frame.DataFrame'>\n",
      "RangeIndex: 49694 entries, 0 to 49693\n",
      "Data columns (total 4 columns):\n",
      " #   Column         Non-Null Count  Dtype \n",
      "---  ------         --------------  ----- \n",
      " 0   product_id     49694 non-null  int64 \n",
      " 1   product_name   48436 non-null  object\n",
      " 2   aisle_id       49694 non-null  int64 \n",
      " 3   department_id  49694 non-null  int64 \n",
      "dtypes: int64(3), object(1)\n",
      "memory usage: 1.5+ MB\n",
      "None\n"
     ]
    }
   ],
   "source": [
    "# mostrar información del DataFrame\n",
    "print(df_products.head())\n",
    "print(df_products.info(show_counts = True))"
   ]
  },
  {
   "cell_type": "code",
   "execution_count": 5,
   "id": "d8370c05",
   "metadata": {
    "id": "d8370c05",
    "trusted": false
   },
   "outputs": [
    {
     "name": "stdout",
     "output_type": "stream",
     "text": [
      "   aisle_id                       aisle\n",
      "0         1       prepared soups salads\n",
      "1         2           specialty cheeses\n",
      "2         3         energy granola bars\n",
      "3         4               instant foods\n",
      "4         5  marinades meat preparation\n",
      "<class 'pandas.core.frame.DataFrame'>\n",
      "RangeIndex: 134 entries, 0 to 133\n",
      "Data columns (total 2 columns):\n",
      " #   Column    Non-Null Count  Dtype \n",
      "---  ------    --------------  ----- \n",
      " 0   aisle_id  134 non-null    int64 \n",
      " 1   aisle     134 non-null    object\n",
      "dtypes: int64(1), object(1)\n",
      "memory usage: 2.2+ KB\n",
      "None\n"
     ]
    }
   ],
   "source": [
    "# mostrar información del DataFrame\n",
    "print(df_aisles.head())\n",
    "print(df_aisles.info(show_counts = True))"
   ]
  },
  {
   "cell_type": "code",
   "execution_count": 6,
   "id": "59e2090f",
   "metadata": {
    "id": "59e2090f",
    "trusted": false
   },
   "outputs": [
    {
     "name": "stdout",
     "output_type": "stream",
     "text": [
      "   department_id department\n",
      "0              1     frozen\n",
      "1              2      other\n",
      "2              3     bakery\n",
      "3              4    produce\n",
      "4              5    alcohol\n",
      "<class 'pandas.core.frame.DataFrame'>\n",
      "RangeIndex: 21 entries, 0 to 20\n",
      "Data columns (total 2 columns):\n",
      " #   Column         Non-Null Count  Dtype \n",
      "---  ------         --------------  ----- \n",
      " 0   department_id  21 non-null     int64 \n",
      " 1   department     21 non-null     object\n",
      "dtypes: int64(1), object(1)\n",
      "memory usage: 464.0+ bytes\n",
      "None\n"
     ]
    }
   ],
   "source": [
    "# mostrar información del DataFrame\n",
    "print(df_departments.head())\n",
    "print(df_departments.info())"
   ]
  },
  {
   "cell_type": "code",
   "execution_count": 7,
   "id": "6fc81694",
   "metadata": {
    "id": "6fc81694",
    "trusted": false
   },
   "outputs": [
    {
     "name": "stdout",
     "output_type": "stream",
     "text": [
      "   order_id  product_id  add_to_cart_order  reordered\n",
      "0   2141543       11440               17.0          0\n",
      "1    567889        1560                1.0          1\n",
      "2   2261212       26683                1.0          1\n",
      "3    491251        8670               35.0          1\n",
      "4   2571142        1940                5.0          1\n",
      "<class 'pandas.core.frame.DataFrame'>\n",
      "RangeIndex: 4545007 entries, 0 to 4545006\n",
      "Data columns (total 4 columns):\n",
      " #   Column             Non-Null Count    Dtype  \n",
      "---  ------             --------------    -----  \n",
      " 0   order_id           4545007 non-null  int64  \n",
      " 1   product_id         4545007 non-null  int64  \n",
      " 2   add_to_cart_order  4544171 non-null  float64\n",
      " 3   reordered          4545007 non-null  int64  \n",
      "dtypes: float64(1), int64(3)\n",
      "memory usage: 138.7 MB\n",
      "None\n"
     ]
    }
   ],
   "source": [
    "# mostrar información del DataFrame\n",
    "print(df_order_products.head())\n",
    "print(df_order_products.info(show_counts = True))"
   ]
  },
  {
   "cell_type": "markdown",
   "id": "t75BD19oaR5f",
   "metadata": {
    "id": "t75BD19oaR5f"
   },
   "source": [
    "## Conclusiones\n",
    "\n",
    "Escribe aquí tus conclusiones intermedias sobre el Paso 1. Descripción de los datos.\n",
    "Los datos se encuentras separados por por un divisor no estandad, una \";\" en lugar de \",\". Tambien se identificaron valores ausentes, ademas algunos datos estan como datos flotantes, cuando no tiene sentido que lo sean, como days_since_prior_order o add_to_cart_order"
   ]
  },
  {
   "cell_type": "markdown",
   "id": "8RJHqxVmaVsF",
   "metadata": {
    "id": "8RJHqxVmaVsF"
   },
   "source": [
    "# Paso 2. Preprocesamiento de los datos\n",
    "\n",
    "Preprocesa los datos de la siguiente manera:\n",
    "\n",
    "- Verifica y corrige los tipos de datos (por ejemplo, asegúrate de que las columnas de ID sean números enteros).\n",
    "- Identifica y completa los valores ausentes.\n",
    "- Identifica y elimina los valores duplicados.\n",
    "\n",
    "Asegúrate de explicar qué tipos de valores ausentes y duplicados encontraste, cómo los completaste o eliminaste y por qué usaste esos métodos. ¿Por qué crees que estos valores ausentes y duplicados pueden haber estado presentes en el conjunto de datos?"
   ]
  },
  {
   "cell_type": "code",
   "execution_count": 8,
   "id": "088fc6ee",
   "metadata": {
    "trusted": false
   },
   "outputs": [
    {
     "name": "stdout",
     "output_type": "stream",
     "text": [
      "        order_id  user_id  order_number  order_dow  order_hour_of_day  \\\n",
      "28        133707   182261             1          3                 10   \n",
      "96        787445    25685             1          6                 18   \n",
      "100       294410   111449             1          0                 19   \n",
      "103      2869915   123958             1          4                 16   \n",
      "104      2521921    42286             1          3                 18   \n",
      "...          ...      ...           ...        ...                ...   \n",
      "478895   2589657   205028             1          0                 16   \n",
      "478896   2222353   141211             1          2                 13   \n",
      "478922   2272807   204154             1          1                 15   \n",
      "478926   2499542    68810             1          4                 19   \n",
      "478945   1387033    22496             1          5                 14   \n",
      "\n",
      "        days_since_prior_order  \n",
      "28                         NaN  \n",
      "96                         NaN  \n",
      "100                        NaN  \n",
      "103                        NaN  \n",
      "104                        NaN  \n",
      "...                        ...  \n",
      "478895                     NaN  \n",
      "478896                     NaN  \n",
      "478922                     NaN  \n",
      "478926                     NaN  \n",
      "478945                     NaN  \n",
      "\n",
      "[28819 rows x 6 columns]\n",
      "28819\n"
     ]
    }
   ],
   "source": [
    "print(df_orders[df_orders.isna().any(axis=1)])\n",
    "print(df_orders[\"days_since_prior_order\"].isna().sum())"
   ]
  },
  {
   "cell_type": "code",
   "execution_count": 9,
   "id": "886ecab8",
   "metadata": {
    "trusted": false
   },
   "outputs": [
    {
     "name": "stdout",
     "output_type": "stream",
     "text": [
      "       product_id product_name  aisle_id  department_id\n",
      "37             38          NaN       100             21\n",
      "71             72          NaN       100             21\n",
      "109           110          NaN       100             21\n",
      "296           297          NaN       100             21\n",
      "416           417          NaN       100             21\n",
      "...           ...          ...       ...            ...\n",
      "49552       49553          NaN       100             21\n",
      "49574       49575          NaN       100             21\n",
      "49640       49641          NaN       100             21\n",
      "49663       49664          NaN       100             21\n",
      "49668       49669          NaN       100             21\n",
      "\n",
      "[1258 rows x 4 columns]\n",
      "1258\n"
     ]
    }
   ],
   "source": [
    "print(df_products[df_products.isna().any(axis=1)])\n",
    "print(df_products[\"product_name\"].isna().sum())"
   ]
  },
  {
   "cell_type": "code",
   "execution_count": 10,
   "id": "cc092782",
   "metadata": {
    "trusted": false
   },
   "outputs": [
    {
     "name": "stdout",
     "output_type": "stream",
     "text": [
      "0\n"
     ]
    }
   ],
   "source": [
    "print(df_products[\"product_id\"].duplicated().sum())"
   ]
  },
  {
   "cell_type": "code",
   "execution_count": 12,
   "id": "d45096f3",
   "metadata": {
    "trusted": false
   },
   "outputs": [],
   "source": [
    "#eliminacion de datos ausentes df_products \n",
    "#creo que no deberia eliminar los datos ausentes dado que aunque falta el nombre cuentan con Id unico\n"
   ]
  },
  {
   "cell_type": "code",
   "execution_count": 11,
   "id": "d8ff4756",
   "metadata": {
    "trusted": false
   },
   "outputs": [
    {
     "name": "stdout",
     "output_type": "stream",
     "text": [
      "   product_id                                       product_name  aisle_id  \\\n",
      "0           1                         chocolate sandwich cookies        61   \n",
      "1           2                                   all-seasons salt       104   \n",
      "2           3               robust golden unsweetened oolong tea        94   \n",
      "3           4  smart ones classic favorites mini rigatoni wit...        38   \n",
      "4           5                          green chile anytime sauce         5   \n",
      "\n",
      "   department_id  \n",
      "0             19  \n",
      "1             13  \n",
      "2              7  \n",
      "3              1  \n",
      "4             13  \n"
     ]
    }
   ],
   "source": [
    "#cambio a minusculas product_name\n",
    "df_products[\"product_name\"]= df_products[\"product_name\"].str.lower()\n",
    "print(df_products.head())"
   ]
  },
  {
   "cell_type": "code",
   "execution_count": 12,
   "id": "45b9d50e",
   "metadata": {
    "trusted": false
   },
   "outputs": [
    {
     "name": "stdout",
     "output_type": "stream",
     "text": [
      "         order_id  product_id  add_to_cart_order  reordered\n",
      "737       2449164        5068                NaN          0\n",
      "9926      1968313       43867                NaN          0\n",
      "14394     2926893       11688                NaN          0\n",
      "16418     1717990        4142                NaN          0\n",
      "30114     1959075       42828                NaN          1\n",
      "...           ...         ...                ...        ...\n",
      "4505662   1800005        7411                NaN          0\n",
      "4511400   1633337         260                NaN          0\n",
      "4517562    404157        9517                NaN          0\n",
      "4534112   1673227       17835                NaN          0\n",
      "4535739   1832957       17949                NaN          1\n",
      "\n",
      "[836 rows x 4 columns]\n"
     ]
    }
   ],
   "source": [
    "print(df_order_products[df_order_products.isna().any(axis=1)])\n"
   ]
  },
  {
   "cell_type": "code",
   "execution_count": 13,
   "id": "e37a2248",
   "metadata": {
    "trusted": false
   },
   "outputs": [
    {
     "name": "stdout",
     "output_type": "stream",
     "text": [
      "836\n"
     ]
    }
   ],
   "source": [
    "print(df_order_products[\"add_to_cart_order\"].isna().sum())"
   ]
  },
  {
   "cell_type": "code",
   "execution_count": 16,
   "id": "85d909c7",
   "metadata": {
    "trusted": false
   },
   "outputs": [],
   "source": [
    "#cambio de numero flotante a entero\n"
   ]
  },
  {
   "cell_type": "markdown",
   "id": "p6poABZQaZYb",
   "metadata": {
    "id": "p6poABZQaZYb"
   },
   "source": [
    "## Plan de solución\n",
    "\n",
    "Escribe aquí tu plan para el Paso 2. Preprocesamiento de los datos."
   ]
  },
  {
   "cell_type": "markdown",
   "id": "07357848-dc64-4156-9cc3-01ff4365226d",
   "metadata": {
    "id": "07357848-dc64-4156-9cc3-01ff4365226d"
   },
   "source": [
    "## Encuentra y elimina los valores duplicados (y describe cómo tomaste tus decisiones)."
   ]
  },
  {
   "cell_type": "markdown",
   "id": "f179f0a9",
   "metadata": {
    "id": "f179f0a9"
   },
   "source": [
    "### `orders` data frame"
   ]
  },
  {
   "cell_type": "code",
   "execution_count": 14,
   "id": "b99297a5-405a-463d-8535-9adc3da4ad74",
   "metadata": {
    "id": "b99297a5-405a-463d-8535-9adc3da4ad74",
    "trusted": false
   },
   "outputs": [
    {
     "name": "stdout",
     "output_type": "stream",
     "text": [
      "15\n"
     ]
    }
   ],
   "source": [
    "# Revisa si hay pedidos duplicados\n",
    "print(df_orders.duplicated().sum())\n"
   ]
  },
  {
   "cell_type": "code",
   "execution_count": 15,
   "id": "9e4819b0",
   "metadata": {
    "trusted": false
   },
   "outputs": [
    {
     "name": "stdout",
     "output_type": "stream",
     "text": [
      "        order_id  user_id  order_number  order_dow  order_hour_of_day  \\\n",
      "145574    794638    50898            24          3                  2   \n",
      "223105   2160484   107525            16          3                  2   \n",
      "230807   1918001   188546            14          3                  2   \n",
      "266232   1782114   106752             1          3                  2   \n",
      "273805   1112182   202304            84          3                  2   \n",
      "284038   2845099    31189            11          3                  2   \n",
      "311713   1021560    53767             3          3                  2   \n",
      "321100    408114    68324             4          3                  2   \n",
      "323900   1919531   191501            32          3                  2   \n",
      "345917   2232988    82565             1          3                  2   \n",
      "371905    391768    57671            19          3                  2   \n",
      "394347    467134    63189            21          3                  2   \n",
      "411408   1286742   183220            48          3                  2   \n",
      "415163   2282673    86751            49          3                  2   \n",
      "441599   2125197    14050            48          3                  2   \n",
      "\n",
      "        days_since_prior_order  \n",
      "145574                     2.0  \n",
      "223105                    30.0  \n",
      "230807                    16.0  \n",
      "266232                     NaN  \n",
      "273805                     6.0  \n",
      "284038                     7.0  \n",
      "311713                     9.0  \n",
      "321100                    18.0  \n",
      "323900                     7.0  \n",
      "345917                     NaN  \n",
      "371905                    10.0  \n",
      "394347                     2.0  \n",
      "411408                     4.0  \n",
      "415163                     2.0  \n",
      "441599                     3.0  \n"
     ]
    }
   ],
   "source": [
    "print(df_orders[df_orders.duplicated()])"
   ]
  },
  {
   "cell_type": "markdown",
   "id": "PEkwUX_gvt5A",
   "metadata": {
    "id": "PEkwUX_gvt5A"
   },
   "source": [
    "¿Tienes líneas duplicadas? Si sí, ¿qué tienen en común? si, en la seccion de orders, que todas fueron a las 2:00 "
   ]
  },
  {
   "cell_type": "code",
   "execution_count": 16,
   "id": "0d44de5d",
   "metadata": {
    "id": "0d44de5d",
    "trusted": false
   },
   "outputs": [
    {
     "name": "stdout",
     "output_type": "stream",
     "text": [
      "        order_id  user_id  order_number  order_dow  order_hour_of_day  \\\n",
      "4838     2766110   162084            41          3                  2   \n",
      "5156     2190225   138285            18          3                  2   \n",
      "15506     553049    58599            13          3                  2   \n",
      "18420     382357   120200            19          3                  2   \n",
      "24691     690242    77357             2          3                  2   \n",
      "...          ...      ...           ...        ...                ...   \n",
      "457013   3384021    14881             6          3                  2   \n",
      "458816    910166   164782            18          3                  2   \n",
      "459635   1680532   106435             6          3                  2   \n",
      "468324    222962    54979            59          3                  2   \n",
      "477526   2592344    46860            38          3                  2   \n",
      "\n",
      "        days_since_prior_order  \n",
      "4838                      16.0  \n",
      "5156                      11.0  \n",
      "15506                      7.0  \n",
      "18420                     11.0  \n",
      "24691                      9.0  \n",
      "...                        ...  \n",
      "457013                    30.0  \n",
      "458816                     4.0  \n",
      "459635                    21.0  \n",
      "468324                     3.0  \n",
      "477526                     3.0  \n",
      "\n",
      "[121 rows x 6 columns]\n"
     ]
    }
   ],
   "source": [
    "# Basándote en tus hallazgos,\n",
    "# Verifica todos los pedidos que se hicieron el miércoles a las 2:00 a.m.\n",
    "pedidos_miercoles= df_orders[df_orders[\"order_dow\"]==3]\n",
    "pedidos_2_am= pedidos_miercoles[pedidos_miercoles[\"order_hour_of_day\"]==2]\n",
    "print(pedidos_2_am)\n",
    "#como se cuales fueron el miercoles?\n"
   ]
  },
  {
   "cell_type": "markdown",
   "id": "vu2OWyoqwOx5",
   "metadata": {
    "id": "vu2OWyoqwOx5"
   },
   "source": [
    "¿Qué sugiere este resultado? Hay 15 pedidos que se duplicaron, cada una posiblemete 8 veces"
   ]
  },
  {
   "cell_type": "code",
   "execution_count": 17,
   "id": "480563c7",
   "metadata": {
    "id": "480563c7",
    "trusted": false
   },
   "outputs": [],
   "source": [
    "# Elimina los pedidos duplicados\n",
    "df_orders= df_orders.drop_duplicates().reset_index(drop=True)"
   ]
  },
  {
   "cell_type": "code",
   "execution_count": 18,
   "id": "0b2396a2",
   "metadata": {
    "id": "0b2396a2",
    "trusted": false
   },
   "outputs": [
    {
     "name": "stdout",
     "output_type": "stream",
     "text": [
      "0\n"
     ]
    }
   ],
   "source": [
    "# Vuelve a verificar si hay filas duplicadas\n",
    "print(df_orders.duplicated().sum())"
   ]
  },
  {
   "cell_type": "code",
   "execution_count": 19,
   "id": "f6113ef1",
   "metadata": {
    "id": "f6113ef1",
    "trusted": false
   },
   "outputs": [
    {
     "name": "stdout",
     "output_type": "stream",
     "text": [
      "0\n"
     ]
    }
   ],
   "source": [
    "# Vuelve a verificar únicamente si hay IDs duplicados de pedidos\n",
    "print(df_orders[\"order_id\"].duplicated().sum())"
   ]
  },
  {
   "cell_type": "markdown",
   "id": "5e8905ae",
   "metadata": {
    "id": "5e8905ae"
   },
   "source": [
    "Describe brevemente tus hallazgos y lo que hiciste con ellos\n",
    "Se eliminaron los pedidos duplicados "
   ]
  },
  {
   "cell_type": "markdown",
   "id": "45e6bc46",
   "metadata": {
    "id": "45e6bc46"
   },
   "source": [
    "### `products` data frame"
   ]
  },
  {
   "cell_type": "code",
   "execution_count": 20,
   "id": "c2eb6365",
   "metadata": {
    "trusted": false
   },
   "outputs": [
    {
     "name": "stdout",
     "output_type": "stream",
     "text": [
      "0\n"
     ]
    }
   ],
   "source": [
    "print(df_products.duplicated().sum())\n"
   ]
  },
  {
   "cell_type": "code",
   "execution_count": 21,
   "id": "88daa4f4",
   "metadata": {
    "id": "88daa4f4",
    "trusted": false
   },
   "outputs": [
    {
     "name": "stdout",
     "output_type": "stream",
     "text": [
      "0\n"
     ]
    }
   ],
   "source": [
    "# Revisa únicamente si hay ID de departamentos duplicados\n",
    "print(df_products[\"product_id\"].duplicated().sum())"
   ]
  },
  {
   "cell_type": "code",
   "execution_count": 22,
   "id": "c773f0bf",
   "metadata": {
    "id": "c773f0bf",
    "trusted": false
   },
   "outputs": [
    {
     "name": "stdout",
     "output_type": "stream",
     "text": [
      "1361\n"
     ]
    }
   ],
   "source": [
    "# Revisa únicamente si hay nombres duplicados de productos (convierte los nombres a letras mayúsculas para compararlos mejor)\n",
    "print(df_products[\"product_name\"].duplicated().sum())"
   ]
  },
  {
   "cell_type": "code",
   "execution_count": 23,
   "id": "01efd02e",
   "metadata": {
    "id": "01efd02e",
    "trusted": false
   },
   "outputs": [
    {
     "name": "stdout",
     "output_type": "stream",
     "text": [
      "duplicados de productos no faltantes 0\n"
     ]
    }
   ],
   "source": [
    "# Revisa si hay nombres duplicados de productos no faltantes\n",
    "df_productos_faltantes = df_products.drop_duplicates(subset=[\"product_name\"])\n",
    "print(\"duplicados de productos no faltantes\", df_productos_faltantes[\"product_name\"].duplicated().sum())\n"
   ]
  },
  {
   "cell_type": "markdown",
   "id": "9da8d293",
   "metadata": {
    "id": "9da8d293"
   },
   "source": [
    "Describe brevemente tus hallazgos y lo que hiciste con ellos. \n",
    "Los valores duplicados se conforman principalmente por los valores ausentes de product_name, dado que todos dicen NaN"
   ]
  },
  {
   "cell_type": "markdown",
   "id": "60f30db1",
   "metadata": {
    "id": "60f30db1"
   },
   "source": [
    "### `departments` data frame"
   ]
  },
  {
   "cell_type": "code",
   "execution_count": 24,
   "id": "fb410ad4-0fbf-4b80-bb09-23fdea79afe3",
   "metadata": {
    "id": "fb410ad4-0fbf-4b80-bb09-23fdea79afe3",
    "trusted": false
   },
   "outputs": [
    {
     "name": "stdout",
     "output_type": "stream",
     "text": [
      "0\n"
     ]
    }
   ],
   "source": [
    "# Revisa si hay filas totalmente duplicadas\n",
    "print(df_departments.duplicated().sum())\n"
   ]
  },
  {
   "cell_type": "code",
   "execution_count": 25,
   "id": "332b12bb",
   "metadata": {
    "id": "332b12bb",
    "trusted": false
   },
   "outputs": [
    {
     "name": "stdout",
     "output_type": "stream",
     "text": [
      "0\n"
     ]
    }
   ],
   "source": [
    "# Revisa únicamente si hay IDs duplicadas de productos\n",
    "print(df_departments.duplicated().sum())"
   ]
  },
  {
   "cell_type": "markdown",
   "id": "bd30d78e",
   "metadata": {
    "id": "bd30d78e"
   },
   "source": [
    "Describe brevemente tus hallazgos y lo que hiciste con ellos. \n",
    "No hay valores duplicados"
   ]
  },
  {
   "cell_type": "markdown",
   "id": "889349c1",
   "metadata": {
    "id": "889349c1"
   },
   "source": [
    "### `aisles` data frame"
   ]
  },
  {
   "cell_type": "code",
   "execution_count": 26,
   "id": "9da89fb9-4679-40f5-ad0d-c34df753a3f8",
   "metadata": {
    "id": "9da89fb9-4679-40f5-ad0d-c34df753a3f8",
    "trusted": false
   },
   "outputs": [
    {
     "name": "stdout",
     "output_type": "stream",
     "text": [
      "0\n"
     ]
    }
   ],
   "source": [
    "# Revisa si hay filas totalmente duplicadas\n",
    "print(df_aisles.duplicated().sum())"
   ]
  },
  {
   "cell_type": "code",
   "execution_count": 27,
   "id": "da7c2822",
   "metadata": {
    "id": "da7c2822",
    "trusted": false
   },
   "outputs": [
    {
     "name": "stdout",
     "output_type": "stream",
     "text": [
      "0\n"
     ]
    }
   ],
   "source": [
    "# Revisa únicamente si hay IDs duplicadas de pasillos\n",
    "print(df_aisles[\"aisle_id\"].duplicated().sum())"
   ]
  },
  {
   "cell_type": "markdown",
   "id": "ac63826f",
   "metadata": {
    "id": "ac63826f"
   },
   "source": [
    "Describe brevemente tus hallazgos y lo que hiciste con ellos.\n",
    "No hay valores duplicados, por lo que no fue necesario hacer nada con ellos"
   ]
  },
  {
   "cell_type": "markdown",
   "id": "274cd06a",
   "metadata": {
    "id": "274cd06a"
   },
   "source": [
    "### `order_products` data frame"
   ]
  },
  {
   "cell_type": "code",
   "execution_count": 28,
   "id": "52326689-84a8-4b8f-a881-7c68780f62c9",
   "metadata": {
    "id": "52326689-84a8-4b8f-a881-7c68780f62c9",
    "trusted": false
   },
   "outputs": [
    {
     "name": "stdout",
     "output_type": "stream",
     "text": [
      "0\n"
     ]
    }
   ],
   "source": [
    "# Revisa si hay filas totalmente duplicadas\n",
    "print(df_order_products.duplicated().sum())\n"
   ]
  },
  {
   "cell_type": "code",
   "execution_count": 29,
   "id": "7b861391",
   "metadata": {
    "id": "7b861391",
    "trusted": false
   },
   "outputs": [
    {
     "name": "stdout",
     "output_type": "stream",
     "text": [
      "4499434\n"
     ]
    }
   ],
   "source": [
    "# Vuelve a verificar si hay cualquier otro duplicado engañoso\n",
    "print(df_order_products[\"product_id\"].duplicated().sum())"
   ]
  },
  {
   "cell_type": "markdown",
   "id": "0b890492",
   "metadata": {
    "id": "0b890492"
   },
   "source": [
    "Describe brevemente tus hallazgos y lo que hiciste con ellos. Aunque hay Id de productos duplicados, eso no indica que haya productos duplicados, porque muchos productos se habran comprado varias veces en distintas ordenes, por lo que es normal que aparezcan varias veces"
   ]
  },
  {
   "cell_type": "markdown",
   "id": "1e46de76",
   "metadata": {
    "id": "1e46de76"
   },
   "source": [
    "## Encuentra y elimina los valores ausentes\n",
    "\n",
    "Al trabajar con valores duplicados, pudimos observar que también nos falta investigar valores ausentes:\n",
    "\n",
    "* La columna `'product_name'` de la tabla products.\n",
    "* La columna `'days_since_prior_order'` de la tabla orders.\n",
    "* La columna `'add_to_cart_order'` de la tabla order_productos."
   ]
  },
  {
   "cell_type": "markdown",
   "id": "c0aebd78",
   "metadata": {
    "id": "c0aebd78"
   },
   "source": [
    "### `products` data frame"
   ]
  },
  {
   "cell_type": "code",
   "execution_count": 30,
   "id": "fe4a8b0f",
   "metadata": {
    "id": "fe4a8b0f",
    "trusted": false
   },
   "outputs": [
    {
     "name": "stdout",
     "output_type": "stream",
     "text": [
      "1258\n"
     ]
    }
   ],
   "source": [
    "# Encuentra los valores ausentes en la columna 'product_name'\n",
    "print(df_products[\"product_name\"].isna().sum())"
   ]
  },
  {
   "cell_type": "markdown",
   "id": "-A6x1AbJhjkp",
   "metadata": {
    "id": "-A6x1AbJhjkp"
   },
   "source": [
    "Describe brevemente cuáles son tus hallazgos.\n",
    "Hay valores ausentes en product name"
   ]
  },
  {
   "cell_type": "code",
   "execution_count": 31,
   "id": "e96167bc",
   "metadata": {
    "id": "e96167bc",
    "trusted": false
   },
   "outputs": [
    {
     "name": "stdout",
     "output_type": "stream",
     "text": [
      "Valores ausentes relacionados al pasillo con ID 100:  1258\n",
      "Total de valores ausentes:  1258\n"
     ]
    }
   ],
   "source": [
    "#  ¿Todos los nombres de productos ausentes están relacionados con el pasillo con ID 100?\n",
    "pasillo_100 = df_products[df_products[\"aisle_id\"]==100]\n",
    "\n",
    "print(\"Valores ausentes relacionados al pasillo con ID 100: \",pasillo_100[\"product_name\"].isna().sum())\n",
    "print(\"Total de valores ausentes: \", df_products[\"product_name\"].isna().sum())\n"
   ]
  },
  {
   "cell_type": "markdown",
   "id": "WRpIfXRphpSL",
   "metadata": {
    "id": "WRpIfXRphpSL"
   },
   "source": [
    "Describe brevemente cuáles son tus hallazgos. \n",
    "Todos los valores ausentes estan relacionados al pasillo 100"
   ]
  },
  {
   "cell_type": "code",
   "execution_count": 32,
   "id": "8fd0a541",
   "metadata": {
    "id": "8fd0a541",
    "trusted": false
   },
   "outputs": [
    {
     "name": "stdout",
     "output_type": "stream",
     "text": [
      "Valores ausentes relacionados al deartamento con ID 21:  1258\n",
      "Total de valores ausentes:  1258\n"
     ]
    }
   ],
   "source": [
    "# ¿Todos los nombres de productos ausentes están relacionados con el departamento con ID 21?\n",
    "departamento_21 = df_products[df_products[\"department_id\"]==21]\n",
    "\n",
    "print(\"Valores ausentes relacionados al deartamento con ID 21: \",departamento_21[\"product_name\"].isna().sum())\n",
    "print(\"Total de valores ausentes: \", df_products[\"product_name\"].isna().sum())\n",
    "\n"
   ]
  },
  {
   "cell_type": "markdown",
   "id": "qDpdYn1Fht_I",
   "metadata": {
    "id": "qDpdYn1Fht_I"
   },
   "source": [
    "Describe brevemente cuáles son tus hallazgos.\n",
    "Todos los valores ausentes estan relacionados al departamento 21"
   ]
  },
  {
   "cell_type": "code",
   "execution_count": 33,
   "id": "325c3464",
   "metadata": {
    "id": "325c3464",
    "trusted": false
   },
   "outputs": [
    {
     "name": "stdout",
     "output_type": "stream",
     "text": [
      "     product_id product_name  aisle_id  department_id\n",
      "37           38          NaN       100             21\n",
      "71           72          NaN       100             21\n",
      "109         110          NaN       100             21\n",
      "296         297          NaN       100             21\n",
      "416         417          NaN       100             21\n",
      "436         437          NaN       100             21\n",
      "439         440          NaN       100             21\n",
      "471         472          NaN       100             21\n",
      "490         491          NaN       100             21\n",
      "555         556          NaN       100             21\n",
      "product_id       1258\n",
      "product_name        0\n",
      "aisle_id         1258\n",
      "department_id    1258\n",
      "dtype: int64\n"
     ]
    }
   ],
   "source": [
    "# Usa las tablas department y aisle para revisar los datos del pasillo con ID 100 y el departamento con ID 21.\n",
    "departamento_21_pasillo_100= departamento_21[departamento_21[\"aisle_id\"]==100]\n",
    "print(departamento_21_pasillo_100.head(10))\n",
    "print(departamento_21_pasillo_100.count())"
   ]
  },
  {
   "cell_type": "markdown",
   "id": "nqhSTUPhhvEJ",
   "metadata": {
    "id": "nqhSTUPhhvEJ"
   },
   "source": [
    "Describe brevemente cuáles son tus hallazgos.\n",
    "todos los valores de product_name en el pasillo 100 del departamento 21 se encuentra ausente, es probable que se produciera un error al momento de registrar los nombres de los productos de ese pasillo\n"
   ]
  },
  {
   "cell_type": "code",
   "execution_count": 34,
   "id": "6b295120",
   "metadata": {
    "id": "6b295120",
    "trusted": false
   },
   "outputs": [
    {
     "name": "stdout",
     "output_type": "stream",
     "text": [
      "product_id       0\n",
      "product_name     0\n",
      "aisle_id         0\n",
      "department_id    0\n",
      "dtype: int64\n"
     ]
    }
   ],
   "source": [
    "# Completa los nombres de productos ausentes con 'Unknown'\n",
    "df_products[\"product_name\"]= df_products[\"product_name\"].fillna(\"Unknown\")\n",
    "print(df_products.isna().sum())"
   ]
  },
  {
   "cell_type": "markdown",
   "id": "fc70e5ad",
   "metadata": {
    "id": "fc70e5ad"
   },
   "source": [
    "Describe brevemente tus hallazgos y lo que hiciste con ellos.\n",
    "Si bien se desconose el nombre de los productos del pasillo 100, son productos reales, es posible que fueran productos nuevos, o que el pasillo fuera nuevo y aun no se registrara su contenido, pero los productos son reales, por lo que se cambio el nombre como Unknown o desconocido "
   ]
  },
  {
   "cell_type": "markdown",
   "id": "7eb45c86",
   "metadata": {
    "id": "7eb45c86"
   },
   "source": [
    "### `orders` data frame"
   ]
  },
  {
   "cell_type": "code",
   "execution_count": 35,
   "id": "93e41d96",
   "metadata": {
    "id": "93e41d96",
    "trusted": false
   },
   "outputs": [
    {
     "name": "stdout",
     "output_type": "stream",
     "text": [
      "order_id                      0\n",
      "user_id                       0\n",
      "order_number                  0\n",
      "order_dow                     0\n",
      "order_hour_of_day             0\n",
      "days_since_prior_order    28817\n",
      "dtype: int64\n"
     ]
    }
   ],
   "source": [
    "# Encuentra los valores ausentes\n",
    "print(df_orders.isna().sum())"
   ]
  },
  {
   "cell_type": "code",
   "execution_count": 36,
   "id": "166e5a86",
   "metadata": {
    "id": "166e5a86",
    "trusted": false
   },
   "outputs": [
    {
     "name": "stdout",
     "output_type": "stream",
     "text": [
      "        order_id  user_id  order_number  order_dow  order_hour_of_day  \\\n",
      "28        133707   182261             1          3                 10   \n",
      "96        787445    25685             1          6                 18   \n",
      "100       294410   111449             1          0                 19   \n",
      "103      2869915   123958             1          4                 16   \n",
      "104      2521921    42286             1          3                 18   \n",
      "...          ...      ...           ...        ...                ...   \n",
      "478880   2589657   205028             1          0                 16   \n",
      "478881   2222353   141211             1          2                 13   \n",
      "478907   2272807   204154             1          1                 15   \n",
      "478911   2499542    68810             1          4                 19   \n",
      "478930   1387033    22496             1          5                 14   \n",
      "\n",
      "        days_since_prior_order  \n",
      "28                         NaN  \n",
      "96                         NaN  \n",
      "100                        NaN  \n",
      "103                        NaN  \n",
      "104                        NaN  \n",
      "...                        ...  \n",
      "478880                     NaN  \n",
      "478881                     NaN  \n",
      "478907                     NaN  \n",
      "478911                     NaN  \n",
      "478930                     NaN  \n",
      "\n",
      "[28817 rows x 6 columns]\n"
     ]
    }
   ],
   "source": [
    "# ¿Hay algún valor ausente que no sea el primer pedido del cliente?\n",
    "print(df_orders[df_orders.isna().any(axis=1)])"
   ]
  },
  {
   "cell_type": "code",
   "execution_count": 37,
   "id": "21c98882",
   "metadata": {
    "trusted": false
   },
   "outputs": [
    {
     "name": "stdout",
     "output_type": "stream",
     "text": [
      "order_id                  0\n",
      "user_id                   0\n",
      "order_number              0\n",
      "order_dow                 0\n",
      "order_hour_of_day         0\n",
      "days_since_prior_order    0\n",
      "dtype: int64\n",
      "<class 'pandas.core.frame.DataFrame'>\n",
      "RangeIndex: 478952 entries, 0 to 478951\n",
      "Data columns (total 6 columns):\n",
      " #   Column                  Non-Null Count   Dtype\n",
      "---  ------                  --------------   -----\n",
      " 0   order_id                478952 non-null  int64\n",
      " 1   user_id                 478952 non-null  int64\n",
      " 2   order_number            478952 non-null  int64\n",
      " 3   order_dow               478952 non-null  int64\n",
      " 4   order_hour_of_day       478952 non-null  int64\n",
      " 5   days_since_prior_order  478952 non-null  int64\n",
      "dtypes: int64(6)\n",
      "memory usage: 21.9 MB\n",
      "None\n"
     ]
    }
   ],
   "source": [
    "#sustitucion de valores ausentes en df_orders\n",
    "df_orders[\"days_since_prior_order\"]= df_orders[\"days_since_prior_order\"].fillna(0).astype(\"int64\")\n",
    "print(df_orders.isna().sum())\n",
    "print(df_orders.info())\n"
   ]
  },
  {
   "cell_type": "markdown",
   "id": "4e23d089",
   "metadata": {
    "id": "4e23d089"
   },
   "source": [
    "Describe brevemente tus hallazgos y lo que hiciste con ellos.\n",
    "Los valores ausentes estaban en days_since_prior_order, aparentemente los valores ausentes consisten en la primera compra, estos valores se sustituyeron con 0 para poder tratarlos como numeros enteros"
   ]
  },
  {
   "cell_type": "markdown",
   "id": "69dc9ca4",
   "metadata": {
    "id": "69dc9ca4"
   },
   "source": [
    "### `order_products` data frame"
   ]
  },
  {
   "cell_type": "code",
   "execution_count": 40,
   "id": "b8240253",
   "metadata": {
    "id": "b8240253",
    "trusted": false
   },
   "outputs": [
    {
     "name": "stdout",
     "output_type": "stream",
     "text": [
      "order_id               0\n",
      "product_id             0\n",
      "add_to_cart_order    836\n",
      "reordered              0\n",
      "dtype: int64\n"
     ]
    }
   ],
   "source": [
    "# Encuentra los valores ausentes\n",
    "print(df_order_products.isna().sum())"
   ]
  },
  {
   "cell_type": "code",
   "execution_count": 41,
   "id": "9a78e5ee",
   "metadata": {
    "id": "9a78e5ee",
    "trusted": false
   },
   "outputs": [
    {
     "name": "stdout",
     "output_type": "stream",
     "text": [
      "Valor minimo:  1.0\n",
      "Valor maximo:  64.0\n"
     ]
    }
   ],
   "source": [
    "# ¿Cuáles son los valores mínimos y máximos en esta columna?\n",
    "print(\"Valor minimo: \", df_order_products[\"add_to_cart_order\"].min())\n",
    "print(\"Valor maximo: \", df_order_products[\"add_to_cart_order\"].max())"
   ]
  },
  {
   "cell_type": "markdown",
   "id": "-Z2Ja215jW78",
   "metadata": {
    "id": "-Z2Ja215jW78"
   },
   "source": [
    "Describe brevemente cuáles son tus hallazgos."
   ]
  },
  {
   "cell_type": "code",
   "execution_count": 42,
   "id": "ab9d0c2b",
   "metadata": {
    "id": "ab9d0c2b",
    "trusted": false
   },
   "outputs": [
    {
     "name": "stdout",
     "output_type": "stream",
     "text": [
      "[2449164, 1968313, 2926893, 1717990, 1959075, 844733, 61355, 936852, 264710, 1717990, 1564093, 129627, 264710, 293169, 2849370, 1386261, 3308010, 903110, 2136777, 3347453, 1888628, 165801, 2449164, 2094761, 3347453, 1038146, 2136777, 2997021, 844733, 844733, 2136777, 813364, 165801, 2256933, 171934, 264710, 2449164, 2409109, 3347453, 813364, 2926893, 936852, 1730767, 1169835, 733526, 844733, 293169, 61355, 903110, 1968313, 733526, 2136777, 2926893, 404157, 1386261, 171934, 3125735, 747668, 3308010, 1169835, 1800005, 1961723, 936852, 2849370, 3308010, 61355, 871281, 1717990, 813364, 388234, 61355, 3125735, 1959075, 61355, 3125735, 1648217, 171934, 3125735, 61355, 1477139, 1959075, 1717990, 1717990, 61355, 1717990, 171934, 1038146, 3308010, 3347453, 102236, 936852, 171934, 1730767, 2926893, 1021563, 1832957, 1959075, 2256933, 1968313, 2721963, 293169, 102236, 3125735, 1959075, 264710, 678116, 1220886, 1386261, 171934, 1959075, 61355, 3308010, 61355, 102236, 388234, 171934, 3308010, 1961723, 2721963, 3308010, 1564093, 264710, 404157, 1673227, 813364, 2094761, 844733, 1386261, 1959075, 3125735, 61355, 102236, 3308010, 1386261, 936852, 2999801, 1038146, 1888628, 813364, 1800005, 1968313, 3308010, 2449164, 388234, 3125735, 102236, 903110, 1832957, 102236, 3308010, 2926893, 388234, 1800005, 2094761, 2721963, 844733, 2136777, 2926893, 813364, 2136777, 1673227, 1633337, 1021563, 102236, 1800005, 1477139, 2470674, 1220886, 2470674, 1648217, 264710, 1832957, 2721963, 2849370, 2625444, 871281, 1717990, 1220886, 1677118, 1730767, 1730767, 678116, 102236, 2136777, 61355, 2136777, 903110, 844733, 2849370, 1832957, 1730767, 2479011, 3383594, 61355, 1832957, 1021563, 1021563, 1959075, 1832957, 813364, 61355, 61355, 2926893, 1959075, 1648217, 2136777, 264710, 1800005, 2094761, 2926893, 1959075, 264710, 61355, 3308010, 2256933, 936852, 3308010, 1038146, 1183255, 2256933, 1832957, 1386261, 1713430, 1730767, 2136777, 3308010, 1717990, 171934, 1968313, 1717990, 2136777, 1648217, 1968313, 2652650, 733526, 1673227, 2849370, 61355, 3308010, 1169835, 3308010, 171934, 2999801, 1717990, 1386261, 936852, 1968313, 1713430, 1800005, 2136777, 264710, 264710, 2926893, 165801, 1598369, 2997021, 1730767, 61355, 1916118, 1730767, 3308010, 2479011, 2449164, 61355, 3125735, 2094761, 1888628, 3125735, 264710, 171934, 1800005, 1038146, 1959075, 102236, 3308010, 1386261, 1800005, 2470674, 2926893, 2470674, 102236, 3308010, 1717990, 903110, 2997021, 129627, 3383594, 3308010, 1386261, 854647, 102236, 1038146, 3308010, 936852, 264710, 264710, 1800005, 61355, 1220886, 2136777, 293169, 1800005, 1888628, 813364, 2136777, 61355, 1730767, 1021563, 2721963, 1730767, 1564093, 3308010, 2849370, 3308010, 1302315, 1888628, 61355, 1959075, 61355, 2136777, 733526, 3308010, 1730767, 1183255, 264710, 1730767, 678116, 2721963, 2136777, 3308010, 2721963, 2409109, 871281, 171934, 678116, 2849370, 813364, 3125735, 1730767, 61355, 2999801, 1648217, 936852, 3125735, 61355, 2849370, 1220886, 1959075, 2256933, 171934, 2926893, 2926893, 404157, 2136777, 3308010, 1021563, 404157, 171934, 61355, 2094761, 1832957, 293169, 813364, 293169, 3125735, 1021563, 1800005, 3308010, 936852, 264710, 171934, 888470, 1673227, 871281, 1800005, 3308010, 1730767, 180546, 2621907, 1730767, 936852, 1959075, 1169835, 1730767, 2926893, 854647, 2449164, 3308010, 2470674, 1183255, 61355, 1386261, 903110, 2094761, 903110, 264710, 1648217, 293169, 2479011, 1730767, 1730767, 2926893, 61355, 3125735, 1959075, 2409109, 2926893, 1021563, 1386261, 3308010, 2926893, 1800005, 61355, 2449164, 102236, 3308010, 1308785, 1800005, 2926893, 61355, 2136777, 1717990, 3308010, 1730767, 871281, 1673227, 102236, 2136777, 1717990, 813364, 1800005, 1959075, 813364, 165801, 2136777, 2729254, 1673227, 1961723, 61355, 1183255, 2136777, 1302315, 1386261, 2849370, 171934, 2136777, 3308010, 733526, 1959075, 9310, 813364, 2170451, 1800005, 404157, 871281, 3125735, 2721963, 404157, 129627, 678116, 2926893, 264710, 2256933, 102236, 102236, 1021563, 264710, 2926893, 936852, 102236, 1968313, 936852, 293169, 2136777, 2136777, 61355, 1183255, 1730767, 1800005, 2479011, 1386261, 1800005, 1673227, 3308010, 2926893, 2926893, 61355, 1832957, 1717990, 813364, 2999801, 264710, 3308010, 3347453, 3308010, 936852, 813364, 404157, 171934, 903110, 871281, 102236, 61355, 813364, 102236, 3308010, 1800005, 1832957, 2479011, 171934, 171934, 844733, 3308010, 171934, 1800005, 404157, 1673227, 3383594, 3308010, 2136777, 102236, 1717990, 2094761, 102236, 1959075, 171934, 2136777, 1386261, 2136777, 2449164, 171934, 3308010, 1220886, 2136777, 1959075, 2136777, 171934, 936852, 3308010, 2470674, 871281, 2721963, 102236, 61355, 3125735, 3308010, 1386261, 1717990, 293169, 61355, 1386261, 2721963, 2136777, 1888628, 264710, 1564093, 2136777, 1730767, 2849370, 2721963, 293169, 264710, 2721963, 3125735, 1959075, 404157, 171934, 61355, 1959075, 871281, 61355, 1183255, 1673227, 2849370, 1477139, 1730767, 903110, 844733, 3308010, 1673227, 61355, 171934, 2926893, 2926893, 1959075, 2479011, 3347453, 2721963, 2625444, 171934, 813364, 102236, 61355, 844733, 2721963, 1302315, 813364, 61355, 2926893, 1968313, 1968313, 264710, 1717990, 1730767, 2136777, 2721963, 2136777, 2721963, 171934, 171934, 2979697, 1730767, 1888628, 1625713, 2136777, 1800005, 2094761, 1961723, 1564093, 1959075, 1916118, 61355, 2997021, 293169, 3308010, 1529171, 61355, 2256933, 1959075, 2449164, 1673227, 2479011, 1888628, 1800005, 2470674, 1386261, 3125735, 2721963, 2926893, 1800005, 1386261, 2136777, 61355, 171934, 3308010, 61355, 936852, 61355, 936852, 293169, 1386261, 171934, 1800005, 871281, 3125735, 61355, 1959075, 1968313, 1717990, 3308010, 844733, 129627, 844733, 264710, 165801, 1386261, 2136777, 2721963, 1730767, 3125735, 2136777, 1183255, 171934, 936852, 854647, 1386261, 2926893, 1961723, 61355, 1730767, 1633337, 61355, 1959075, 102236, 404157, 1968313, 1386261, 2136777, 2999801, 1529171, 2721963, 61355, 3383594, 1730767, 936852, 2926893, 102236, 1959075, 102236, 1713430, 3383594, 102236, 1959075, 678116, 2449164, 844733, 61355, 3308010, 61355, 2136777, 264710, 171934, 813364, 3308010, 1730767, 61355, 102236, 61355, 1717990, 3308010, 1968313, 129627, 936852, 61355, 61355, 165801, 2409109, 2926893, 61355, 1961723, 1832957, 1961723, 1183255, 61355, 2999801, 1220886, 3125735, 171934, 388234, 102236, 102236, 61355, 2721963, 1800005, 1968313, 2136777, 61355, 1220886, 61355, 936852, 1673227, 936852, 1673227, 1625713, 171934, 2136777, 1800005, 1730767, 264710, 102236, 61355, 903110, 2136777, 1959075, 3125735, 171934, 1169835, 3308010, 61355, 1959075, 2721963, 813364, 1477139, 1888628, 1730767, 1959075, 2479011, 3308010, 2721963, 1717990, 2409109, 171934, 171934, 1183255, 1800005, 171934, 2136777, 388234, 264710, 61355, 1730767, 1717990, 1916118, 264710, 3125735, 1959075, 813364, 3347453, 293169, 171934, 1386261, 1183255, 1717990, 1308785, 2625444, 171934, 102236, 1386261, 1968313, 1386261, 404157, 1959075, 1832957, 1961723, 936852, 1386261, 2449164, 171934, 1959075, 2449164, 180546, 1183255, 1386261, 1968313, 2136777, 3308010, 2479011, 2979697, 1888628, 1832957, 1961723, 1800005, 1633337, 404157, 1673227, 1832957]\n"
     ]
    }
   ],
   "source": [
    "# Guarda todas las IDs de pedidos que tengan un valor ausente en 'add_to_cart_order'\n",
    "id_de_valores_ausentes = df_order_products[df_order_products[\"add_to_cart_order\"].isna()]['order_id'].tolist()\n",
    "print(id_de_valores_ausentes)"
   ]
  },
  {
   "cell_type": "code",
   "execution_count": 48,
   "id": "54c31695",
   "metadata": {
    "id": "54c31695",
    "trusted": false
   },
   "outputs": [
    {
     "name": "stdout",
     "output_type": "stream",
     "text": [
      "Valor minimo de 'product_id':  order_id        9310\n",
      "num_products       1\n",
      "dtype: int64\n",
      "Valor maximo de 'product_id':  order_id        3383594\n",
      "num_products         63\n",
      "dtype: int64\n",
      "   order_id  num_products\n",
      "0      9310             1\n",
      "1     61355            63\n",
      "2    102236            31\n",
      "3    129627             5\n",
      "4    165801             6\n",
      "         order_id  product_id  add_to_cart_order  reordered\n",
      "737       2449164        5068                NaN          0\n",
      "9926      1968313       43867                NaN          0\n",
      "14394     2926893       11688                NaN          0\n",
      "16418     1717990        4142                NaN          0\n",
      "30114     1959075       42828                NaN          1\n",
      "...           ...         ...                ...        ...\n",
      "4505662   1800005        7411                NaN          0\n",
      "4511400   1633337         260                NaN          0\n",
      "4517562    404157        9517                NaN          0\n",
      "4534112   1673227       17835                NaN          0\n",
      "4535739   1832957       17949                NaN          1\n",
      "\n",
      "[836 rows x 4 columns]\n"
     ]
    }
   ],
   "source": [
    "# ¿Todos los pedidos con valores ausentes tienen más de 64 productos?\n",
    "# Agrupa todos los pedidos con datos ausentes por su ID de pedido.\n",
    "# Cuenta el número de 'product_id' en cada pedido y revisa el valor mínimo del conteo.\n",
    "valores_ausentes= df_order_products[df_order_products['add_to_cart_order'].isna()]\n",
    "valores_ausentes_por_pedido= valores_ausentes.groupby(by= \"order_id\")[\"product_id\"].count().reset_index()\n",
    "valores_ausentes_por_pedido.rename(columns={'product_id': 'num_products'}, inplace=True)\n",
    "print(\"Valor minimo de 'product_id': \", valores_ausentes_por_pedido.min())\n",
    "print(\"Valor maximo de 'product_id': \", valores_ausentes_por_pedido.max())\n",
    "print(valores_ausentes_por_pedido.head())\n",
    "print(valores_ausentes)"
   ]
  },
  {
   "cell_type": "markdown",
   "id": "p9V6pddtjglj",
   "metadata": {
    "id": "p9V6pddtjglj"
   },
   "source": [
    "Describe brevemente cuáles son tus hallazgos.\n",
    "tienen menos de 64 productos (me sigue dando lo mismo, o no estoy seguro si algo este haciendo mal"
   ]
  },
  {
   "cell_type": "code",
   "execution_count": 44,
   "id": "7a987d08",
   "metadata": {
    "id": "7a987d08",
    "trusted": false
   },
   "outputs": [
    {
     "name": "stdout",
     "output_type": "stream",
     "text": [
      "order_id             0\n",
      "product_id           0\n",
      "add_to_cart_order    0\n",
      "reordered            0\n",
      "dtype: int64\n"
     ]
    }
   ],
   "source": [
    "# Remplaza los valores ausentes en la columna 'add_to_cart? con 999 y convierte la columna al tipo entero.\n",
    "df_order_products[\"add_to_cart_order\"]= df_order_products[\"add_to_cart_order\"].fillna(999)\n",
    "print(df_order_products.isna().sum())\n"
   ]
  },
  {
   "cell_type": "code",
   "execution_count": 45,
   "id": "86f1ec2c",
   "metadata": {
    "trusted": false
   },
   "outputs": [
    {
     "name": "stdout",
     "output_type": "stream",
     "text": [
      "<class 'pandas.core.frame.DataFrame'>\n",
      "RangeIndex: 4545007 entries, 0 to 4545006\n",
      "Data columns (total 4 columns):\n",
      " #   Column             Dtype\n",
      "---  ------             -----\n",
      " 0   order_id           int64\n",
      " 1   product_id         int64\n",
      " 2   add_to_cart_order  int64\n",
      " 3   reordered          int64\n",
      "dtypes: int64(4)\n",
      "memory usage: 138.7 MB\n",
      "None\n"
     ]
    }
   ],
   "source": [
    "df_order_products[\"add_to_cart_order\"]=df_order_products[\"add_to_cart_order\"].astype(\"int64\")\n",
    "print(df_order_products.info())"
   ]
  },
  {
   "cell_type": "markdown",
   "id": "fea4bcc7",
   "metadata": {
    "id": "fea4bcc7"
   },
   "source": [
    "Describe brevemente tus hallazgos y lo que hiciste con ellos.\n",
    "Porque el maximo de add_to_cart_order?, es posible que la pagina solo pueda procesar un maximo de productos añadidos"
   ]
  },
  {
   "cell_type": "markdown",
   "id": "RnplPFY1gSrb",
   "metadata": {
    "id": "RnplPFY1gSrb"
   },
   "source": [
    "## Conclusiones\n",
    "\n",
    "Escribe aquí tus conclusiones intermedias sobre el Paso 2. Preprocesamiento de los datos\n",
    "Las bases de datos contaban con varios datos ausentes y dulicados, algunos de ellos pobrablemente se deban a errores momentaneos en el sistea, dado que algunos de ellos ocurrieron a la misma fecha y hora, mientras que otras podrian deberse errores en los registros o por ser datos nuevos aun no registrados\n"
   ]
  },
  {
   "cell_type": "markdown",
   "id": "UjrOIwTcz3ri",
   "metadata": {
    "id": "UjrOIwTcz3ri"
   },
   "source": [
    "# Paso 3. Análisis de los datos\n",
    "\n",
    "Una vez los datos estén procesados y listos, haz el siguiente análisis:"
   ]
  },
  {
   "cell_type": "code",
   "execution_count": 46,
   "id": "7f770a3d",
   "metadata": {
    "trusted": false
   },
   "outputs": [],
   "source": [
    "#no entiendo porque no se muestra ningun resultado, ni siquiera se si lo estoy haciendo bien"
   ]
  },
  {
   "cell_type": "markdown",
   "id": "turkish-kidney",
   "metadata": {
    "id": "turkish-kidney"
   },
   "source": [
    "# [A] Fácil (deben completarse todos para aprobar)\n",
    "\n",
    "1. Verifica que los valores en las columnas `'order_hour_of_day'` y `'order_dow'` en la tabla orders sean razonables (es decir, `'order_hour_of_day'` oscile entre 0 y 23 y `'order_dow'` oscile entre 0 y 6).\n",
    "2. Crea un gráfico que muestre el número de personas que hacen pedidos dependiendo de la hora del día.\n",
    "3. Crea un gráfico que muestre qué día de la semana la gente hace sus compras.\n",
    "4. Crea un gráfico que muestre el tiempo que la gente espera hasta hacer su siguiente pedido, y comenta sobre los valores mínimos y máximos."
   ]
  },
  {
   "cell_type": "markdown",
   "id": "short-capability",
   "metadata": {
    "id": "short-capability"
   },
   "source": [
    "### [A1] Verifica que los valores sean sensibles"
   ]
  },
  {
   "cell_type": "code",
   "execution_count": 47,
   "id": "growing-fruit",
   "metadata": {
    "id": "growing-fruit",
    "trusted": false
   },
   "outputs": [
    {
     "name": "stdout",
     "output_type": "stream",
     "text": [
      "El valor minimo de order_hour_of_day es:  0 y el valor maximo es  23\n",
      "Valores unicos de order_hour_of_day es:  [13 12 19 20 11  8 18 15 16  9 22 10  0 14 17  1  7  6  2 21  3 23  5  4]\n",
      "El valor minimo de order_dow es:  0 y el valor maximo es  6\n",
      "Valores unicos de order_dow es:  [6 5 0 4 3 1 2]\n"
     ]
    }
   ],
   "source": [
    "print(\"El valor minimo de order_hour_of_day es: \", df_orders['order_hour_of_day'].min(), \"y el valor maximo es \", df_orders['order_hour_of_day'].max())\n",
    "print(\"Valores unicos de order_hour_of_day es: \", df_orders['order_hour_of_day'].unique())\n",
    "print(\"El valor minimo de order_dow es: \", df_orders['order_dow'].min(), \"y el valor maximo es \", df_orders['order_dow'].max())\n",
    "print(\"Valores unicos de order_dow es: \", df_orders['order_dow'].unique())"
   ]
  },
  {
   "cell_type": "markdown",
   "id": "hmR2GNQ6lCsX",
   "metadata": {
    "id": "hmR2GNQ6lCsX"
   },
   "source": [
    "Escribe aquí tus conclusiones\n",
    "la hora minima y maxima en la que se pidieron ordener fueron las 0 y 23 horas respectivamente, y los valores unicos presentaron todas las horas entre ese intervalo\n",
    "mientras que el valor minimo y maximo de los dias en que se pidieron ordenes son 0 y 6"
   ]
  },
  {
   "cell_type": "markdown",
   "id": "a6743a70",
   "metadata": {
    "id": "a6743a70"
   },
   "source": [
    "### [A2] Para cada hora del día, ¿cuántas personas hacen órdenes?"
   ]
  },
  {
   "cell_type": "code",
   "execution_count": 48,
   "id": "a36cca27",
   "metadata": {
    "id": "a36cca27",
    "trusted": false
   },
   "outputs": [
    {
     "data": {
      "image/png": "[encoded data removed]",
      "text/plain": [
       "<Figure size 1200x600 with 1 Axes>"
      ]
     },
     "metadata": {},
     "output_type": "display_data"
    }
   ],
   "source": [
    "hora_de_ordenes = df_orders.groupby('order_hour_of_day')['user_id'].nunique()\n",
    "hora_de_ordenes.plot.bar(figsize=(12, 6), color='royalblue', xlabel='Hora del día', ylabel='Número de usuarios', title='Número de personas que hacen pedidos por hora del día', rot=0)\n",
    "\n",
    "plt.show()"
   ]
  },
  {
   "cell_type": "markdown",
   "id": "11270eed",
   "metadata": {
    "id": "11270eed"
   },
   "source": [
    "Escribe aquí tus conclusiones\n",
    "el numero de pedidos alcanza sus puntos mas altos entre las 10:00 am y 4:00 m, despues de las 5:00 pm el numero de pedidos comienza a descender hasta alcanzar su punto mas bajo a las 3:00 am, comenzando a crecer de nuevo el numero de pedidos a partir de las 5:00 am"
   ]
  },
  {
   "cell_type": "markdown",
   "id": "documented-command",
   "metadata": {
    "id": "documented-command"
   },
   "source": [
    "### [A3] ¿Qué día de la semana compran víveres las personas?"
   ]
  },
  {
   "cell_type": "code",
   "execution_count": 49,
   "id": "chief-digit",
   "metadata": {
    "id": "chief-digit",
    "trusted": false
   },
   "outputs": [
    {
     "data": {
      "image/png": "[encoded data removed]",
      "text/plain": [
       "<Figure size 1200x600 with 1 Axes>"
      ]
     },
     "metadata": {},
     "output_type": "display_data"
    }
   ],
   "source": [
    "dia_de_ordenes = df_orders.groupby('order_dow')['user_id'].nunique()\n",
    "dia_de_ordenes.plot.bar(figsize=(12, 6), color='royalblue', xlabel='Día de la semana', ylabel='Número de usuarios', title='Número de personas que hacen pedidos por día', rot=0)\n",
    "plt.show()"
   ]
  },
  {
   "cell_type": "markdown",
   "id": "dominant-lightning",
   "metadata": {
    "id": "dominant-lightning"
   },
   "source": [
    "Escribe aquí tus conclusiones\n",
    "El dia de la semana no tiene un gran impacto en el numero de pedidos, sin emabargo, si se presenta un ligero incremento en el numero de pedidos los dias domingo y lunes"
   ]
  },
  {
   "cell_type": "markdown",
   "id": "cutting-concert",
   "metadata": {
    "id": "cutting-concert"
   },
   "source": [
    "### [A4] ¿Cuánto tiempo esperan las personas hasta hacer otro pedido? Comenta sobre los valores mínimos y máximos."
   ]
  },
  {
   "cell_type": "code",
   "execution_count": 50,
   "id": "c231f523",
   "metadata": {
    "id": "c231f523",
    "trusted": false
   },
   "outputs": [
    {
     "data": {
      "image/png": "[encoded data removed]",
      "text/plain": [
       "<Figure size 1200x600 with 1 Axes>"
      ]
     },
     "metadata": {},
     "output_type": "display_data"
    }
   ],
   "source": [
    "dias_de_espera_para_proxima_orden = df_orders.groupby('days_since_prior_order')['user_id'].nunique()\n",
    "dias_de_espera_para_proxima_orden.plot.bar(figsize=(12, 6), color='royalblue', xlabel='Días desde el ultimo pedido', ylabel='Número de usuarios', title='Número de dias transcurridos entre pedidos', rot=0)\n",
    "\n",
    "plt.show()\n"
   ]
  },
  {
   "cell_type": "code",
   "execution_count": 51,
   "id": "e636627c",
   "metadata": {
    "trusted": false
   },
   "outputs": [
    {
     "name": "stdout",
     "output_type": "stream",
     "text": [
      "Valor minimo 0\n",
      "Valor maximo 30\n"
     ]
    }
   ],
   "source": [
    "print(\"Valor minimo\", df_orders['days_since_prior_order'].min())\n",
    "print(\"Valor maximo\", df_orders['days_since_prior_order'].max())"
   ]
  },
  {
   "cell_type": "markdown",
   "id": "discrete-vertex",
   "metadata": {
    "id": "discrete-vertex"
   },
   "source": [
    "Escribe aquí tus conclusiones\n",
    "La mayoria de las personas realizan sus proximos pedidos transcurridos los 30 dias del pedido anterior, seguido del dia 0, que no estoy seguro si representa el primer pedido o diferentes pedidos realizados el mismo dia, mientras que la menor cantidad de personas dejaba transcurrir etre 25 y 29 dias entre sus pedidos"
   ]
  },
  {
   "cell_type": "markdown",
   "id": "tight-staff",
   "metadata": {
    "id": "tight-staff"
   },
   "source": [
    "# [B] Intermedio (deben completarse todos para aprobar)\n",
    "\n",
    "1. ¿Existe alguna diferencia entre las distribuciones `'order_hour_of_day'` de los miércoles y los sábados? Traza gráficos de barra de `'order_hour_of_day'` para ambos días en la misma figura y describe las diferencias que observes.\n",
    "2. Grafica la distribución para el número de órdenes que hacen los clientes (es decir, cuántos clientes hicieron solo 1 pedido, cuántos hicieron 2, cuántos 3, y así sucesivamente...).\n",
    "3. ¿Cuáles son los 20 principales productos que se piden con más frecuencia (muestra su identificación y nombre)?"
   ]
  },
  {
   "cell_type": "markdown",
   "id": "packed-classic",
   "metadata": {
    "id": "packed-classic"
   },
   "source": [
    "### [B1] Diferencia entre miércoles y sábados para  `'order_hour_of_day'`. Traza gráficos de barra para los dos días y describe las diferencias que veas."
   ]
  },
  {
   "cell_type": "code",
   "execution_count": 53,
   "id": "d89b8403",
   "metadata": {
    "id": "d89b8403",
    "trusted": false
   },
   "outputs": [],
   "source": [
    "miercoles= df_orders[df_orders['order_dow']==3]\n",
    "sabado= df_orders[df_orders['order_dow']==6]"
   ]
  },
  {
   "cell_type": "code",
   "execution_count": 54,
   "id": "94e54e8a",
   "metadata": {
    "id": "94e54e8a",
    "trusted": false
   },
   "outputs": [
    {
     "data": {
      "image/png": "[encoded data removed]",
      "text/plain": [
       "<Figure size 1200x600 with 1 Axes>"
      ]
     },
     "metadata": {},
     "output_type": "display_data"
    }
   ],
   "source": [
    "hora_de_ordenes_miercroles = miercoles.groupby('order_hour_of_day')['user_id'].nunique()\n",
    "hora_de_ordenes_miercroles.plot.bar(figsize=(12, 6), color='royalblue', xlabel='Hora del día', ylabel='Número de usuarios', title='Número de personas que hacen pedidos por hora del día miercoles', rot=0, alpha=0.7, align='center')\n",
    "plt.show()"
   ]
  },
  {
   "cell_type": "code",
   "execution_count": 55,
   "id": "797c90a8",
   "metadata": {
    "id": "797c90a8",
    "trusted": false
   },
   "outputs": [
    {
     "data": {
      "image/png": "[encoded data removed]",
      "text/plain": [
       "<Figure size 1200x600 with 1 Axes>"
      ]
     },
     "metadata": {},
     "output_type": "display_data"
    }
   ],
   "source": [
    "hora_de_ordenes_sabado = sabado.groupby('order_hour_of_day')['user_id'].nunique()\n",
    "hora_de_ordenes_sabado.plot.bar(figsize=(12, 6), color='royalblue', xlabel='Hora del día', ylabel='Número de usuarios', title='Número de personas que hacen pedidos por hora del día sabado', rot=0, alpha=0.7, align='edge')\n",
    "plt.show()"
   ]
  },
  {
   "cell_type": "code",
   "execution_count": 60,
   "id": "0fb8e8f2",
   "metadata": {
    "trusted": false
   },
   "outputs": [
    {
     "data": {
      "image/png": "[encoded data removed]",
      "text/plain": [
       "<Figure size 1200x600 with 1 Axes>"
      ]
     },
     "metadata": {},
     "output_type": "display_data"
    }
   ],
   "source": [
    "hora_de_ordenes_miercroles = miercoles.groupby('order_hour_of_day')['user_id'].nunique()\n",
    "hora_de_ordenes_miercroles.plot.bar(figsize=(12, 6), color='royalblue', xlabel='Hora del día', ylabel='Número de usuarios', title='Número de personas que hacen pedidos por hora del día miercoles', rot=0, alpha=0.7, align='center')\n",
    "hora_de_ordenes_sabado = sabado.groupby('order_hour_of_day')['user_id'].nunique()\n",
    "hora_de_ordenes_sabado.plot.bar(figsize=(12, 6), color='orange', xlabel='Hora del día', ylabel='Número de usuarios', title='Número de personas que hacen pedidos por hora del día sabado', rot=0, alpha=0.7, align='edge')\n",
    "plt.grid(axis='y', linestyle='--', alpha=0.7)\n",
    "plt.show()"
   ]
  },
  {
   "cell_type": "markdown",
   "id": "charitable-congo",
   "metadata": {
    "id": "charitable-congo"
   },
   "source": [
    "Escribe aquí tus conclusiones\n",
    "Presentan una tendencia bastante similar, sin embargo, presentan picos de pedidos ligeramente diferentes, el dia miercoles presenta dos picos de ventas, entre 10:00 y 11:00 am y entre 3:00 y 4:00 pm, mientras que el sabado se presenta un pico de ventas entre 1:00 y 2:00 pm"
   ]
  },
  {
   "cell_type": "markdown",
   "id": "e3891143",
   "metadata": {
    "id": "e3891143"
   },
   "source": [
    "### [B2] ¿Cuál es la distribución para el número de pedidos por cliente?"
   ]
  },
  {
   "cell_type": "code",
   "execution_count": 55,
   "id": "d8c26c23",
   "metadata": {
    "id": "d8c26c23",
    "trusted": false
   },
   "outputs": [
    {
     "data": {
      "image/png": "[encoded data removed]",
      "text/plain": [
       "<Figure size 1200x600 with 1 Axes>"
      ]
     },
     "metadata": {},
     "output_type": "display_data"
    }
   ],
   "source": [
    "numero_de_pedidos_por_cliente = df_orders.groupby('user_id')['order_number'].nunique()\n",
    "numero_de_pedidos_por_cliente.plot.hist(figsize=(12, 6), color='royalblue', xlabel='numero de pedidos', ylabel='Número de usuarios', title='Número de pedidos realizados por los clientes', rot=0, bins=50)\n",
    "plt.show()"
   ]
  },
  {
   "cell_type": "code",
   "execution_count": 56,
   "id": "00e69a66",
   "metadata": {
    "id": "00e69a66",
    "trusted": false
   },
   "outputs": [
    {
     "name": "stdout",
     "output_type": "stream",
     "text": [
      "100\n"
     ]
    }
   ],
   "source": [
    "print(df_orders['order_number'].max())"
   ]
  },
  {
   "cell_type": "markdown",
   "id": "d2eff7d5",
   "metadata": {
    "id": "d2eff7d5"
   },
   "source": [
    "Escribe aquí tus conclusiones\n",
    "La mayoria de usuarios realizaron entre 1 y 5 pedidos "
   ]
  },
  {
   "cell_type": "markdown",
   "id": "54a0319c",
   "metadata": {
    "id": "54a0319c"
   },
   "source": [
    "### [B3] ¿Cuáles son los 20 productos más populares (muestra su ID y nombre)?"
   ]
  },
  {
   "cell_type": "code",
   "execution_count": 61,
   "id": "exterior-arizona",
   "metadata": {
    "id": "exterior-arizona",
    "scrolled": true,
    "trusted": false
   },
   "outputs": [],
   "source": [
    "top20_products = df_order_products['product_id'].value_counts().reset_index()\n",
    "top20_products.columns = ['product_id', 'order_count']\n"
   ]
  },
  {
   "cell_type": "code",
   "execution_count": 64,
   "id": "universal-facial",
   "metadata": {
    "id": "universal-facial",
    "trusted": false
   },
   "outputs": [
    {
     "name": "stdout",
     "output_type": "stream",
     "text": [
      "    product_id  order_count            product_name_x  \\\n",
      "0        24852        66050                    banana   \n",
      "1        13176        53297    bag of organic bananas   \n",
      "2        21137        37039      organic strawberries   \n",
      "3        21903        33971      organic baby spinach   \n",
      "4        47209        29773      organic hass avocado   \n",
      "5        47766        24689           organic avocado   \n",
      "6        47626        21495               large lemon   \n",
      "7        16797        20018              strawberries   \n",
      "8        26209        19690                     limes   \n",
      "9        27845        19600        organic whole milk   \n",
      "10       27966        19197       organic raspberries   \n",
      "11       22935        15898      organic yellow onion   \n",
      "12       24964        15292            organic garlic   \n",
      "13       45007        14584          organic zucchini   \n",
      "14       39275        13879       organic blueberries   \n",
      "15       49683        13675            cucumber kirby   \n",
      "16       28204        12544        organic fuji apple   \n",
      "17        5876        12232             organic lemon   \n",
      "18        8277        11993  apple honeycrisp organic   \n",
      "19       40706        11781    organic grape tomatoes   \n",
      "\n",
      "              product_name_y              product_name  \n",
      "0                     banana                    banana  \n",
      "1     bag of organic bananas    bag of organic bananas  \n",
      "2       organic strawberries      organic strawberries  \n",
      "3       organic baby spinach      organic baby spinach  \n",
      "4       organic hass avocado      organic hass avocado  \n",
      "5            organic avocado           organic avocado  \n",
      "6                large lemon               large lemon  \n",
      "7               strawberries              strawberries  \n",
      "8                      limes                     limes  \n",
      "9         organic whole milk        organic whole milk  \n",
      "10       organic raspberries       organic raspberries  \n",
      "11      organic yellow onion      organic yellow onion  \n",
      "12            organic garlic            organic garlic  \n",
      "13          organic zucchini          organic zucchini  \n",
      "14       organic blueberries       organic blueberries  \n",
      "15            cucumber kirby            cucumber kirby  \n",
      "16        organic fuji apple        organic fuji apple  \n",
      "17             organic lemon             organic lemon  \n",
      "18  apple honeycrisp organic  apple honeycrisp organic  \n",
      "19    organic grape tomatoes    organic grape tomatoes  \n"
     ]
    }
   ],
   "source": [
    "top20_products = top20_products.merge(df_products[['product_id', 'product_name']], on='product_id')\n",
    "\n",
    "top20_products = top20_products.head(20)\n",
    "\n",
    "print(top20_products)\n"
   ]
  },
  {
   "cell_type": "code",
   "execution_count": 66,
   "id": "c0c35d9d",
   "metadata": {
    "trusted": false
   },
   "outputs": [
    {
     "data": {
      "text/plain": [
       "<AxesSubplot:title={'center':'Top 20 productos mas populares'}, xlabel='Productos', ylabel='Numero de compras'>"
      ]
     },
     "execution_count": 66,
     "metadata": {},
     "output_type": "execute_result"
    },
    {
     "data": {
      "image/png": "[encoded data removed]",
      "text/plain": [
       "<Figure size 1200x600 with 1 Axes>"
      ]
     },
     "metadata": {},
     "output_type": "display_data"
    }
   ],
   "source": [
    "top20_products.plot.bar(figsize=(12, 6), x= \"product_name\",y=\"order_count\" ,color='royalblue', xlabel='Productos', ylabel='Numero de compras', title='Top 20 productos mas populares', rot=60)"
   ]
  },
  {
   "cell_type": "markdown",
   "id": "7df00f47",
   "metadata": {
    "id": "7df00f47"
   },
   "source": [
    "Escribe aquí tus conclusiones\n",
    "los productos mas comprados son las bananas y bananas organicas"
   ]
  },
  {
   "cell_type": "markdown",
   "id": "gross-theme",
   "metadata": {
    "id": "gross-theme"
   },
   "source": [
    "# [C] Difícil (deben completarse todos para aprobar)\n",
    "\n",
    "1. ¿Cuántos artículos suelen comprar las personas en un pedido? ¿Cómo es la distribución?\n",
    "2. ¿Cuáles son los 20 principales artículos que vuelven a pedirse con mayor frecuencia (muestra sus nombres e IDs de los productos)?\n",
    "3. Para cada producto, ¿cuál es la tasa de repetición del pedido (número de repeticiones de pedido/total de pedidos?\n",
    "4. Para cada cliente, ¿qué proporción de los productos que pidió ya los había pedido? Calcula la tasa de repetición de pedido para cada usuario en lugar de para cada producto.\n",
    "5. ¿Cuáles son los 20 principales artículos que la gente pone primero en sus carritos (muestra las IDs de los productos, sus nombres, y el número de veces en que fueron el primer artículo en añadirse al carrito)?"
   ]
  },
  {
   "cell_type": "markdown",
   "id": "romantic-deposit",
   "metadata": {
    "id": "romantic-deposit"
   },
   "source": [
    "### [C1] ¿Cuántos artículos compran normalmente las personas en un pedido? ¿Cómo es la distribución?"
   ]
  },
  {
   "cell_type": "code",
   "execution_count": 68,
   "id": "virtual-punch",
   "metadata": {
    "id": "virtual-punch",
    "trusted": false
   },
   "outputs": [],
   "source": [
    "numero_de_productos_por_pedido = df_order_products.groupby(by='order_id').size()"
   ]
  },
  {
   "cell_type": "raw",
   "id": "89e0693e",
   "metadata": {},
   "source": []
  },
  {
   "cell_type": "code",
   "execution_count": 69,
   "id": "sensitive-breathing",
   "metadata": {
    "id": "sensitive-breathing",
    "trusted": false
   },
   "outputs": [
    {
     "data": {
      "image/png": "[encoded data removed]",
      "text/plain": [
       "<Figure size 1200x600 with 1 Axes>"
      ]
     },
     "metadata": {},
     "output_type": "display_data"
    }
   ],
   "source": [
    "numero_de_productos_por_pedido.plot.hist(figsize=(12, 6), color=\"royalblue\", xlabel='numero de articulos por pedidos', ylabel='Frecuencia', title='Distribucion del numero de articulos por pedido', rot=0, bins=50)\n",
    "plt.show()"
   ]
  },
  {
   "cell_type": "code",
   "execution_count": 70,
   "id": "d05a63a2",
   "metadata": {
    "trusted": false
   },
   "outputs": [],
   "source": [
    "numero_de_productos_por_pedido_top30 =numero_de_productos_por_pedido.head(30)"
   ]
  },
  {
   "cell_type": "code",
   "execution_count": 71,
   "id": "a7bc25b6",
   "metadata": {
    "trusted": false
   },
   "outputs": [
    {
     "data": {
      "text/plain": [
       "<AxesSubplot:title={'center':'Distribucion del numero de articulos por pedido'}, ylabel='Frequency'>"
      ]
     },
     "execution_count": 71,
     "metadata": {},
     "output_type": "execute_result"
    },
    {
     "data": {
      "image/png": "[encoded data removed]",
      "text/plain": [
       "<Figure size 1200x600 with 1 Axes>"
      ]
     },
     "metadata": {},
     "output_type": "display_data"
    }
   ],
   "source": [
    "numero_de_productos_por_pedido_top30.plot.hist(figsize=(12, 6), color=\"royalblue\", xlabel='numero de articulos por pedidos', ylabel='Frecuencia', title='Distribucion del numero de articulos por pedido', rot=0, bins=50)"
   ]
  },
  {
   "cell_type": "markdown",
   "id": "designed-mortality",
   "metadata": {
    "id": "designed-mortality"
   },
   "source": [
    "Escribe aquí tus conclusiones\n",
    "La cantidad de productos comprados mas popular son 10 productos, seguido de 6"
   ]
  },
  {
   "cell_type": "markdown",
   "id": "5e6b5537",
   "metadata": {
    "id": "5e6b5537"
   },
   "source": [
    "### [C2] ¿Cuáles son los 20 principales artículos que vuelven a pedirse con mayor frecuencia (muestra sus nombres e IDs de los productos)?"
   ]
  },
  {
   "cell_type": "code",
   "execution_count": 73,
   "id": "9374e55a",
   "metadata": {
    "id": "9374e55a",
    "trusted": false
   },
   "outputs": [],
   "source": [
    "reordered_products = df_order_products[df_order_products['reordered'] == 1]"
   ]
  },
  {
   "cell_type": "code",
   "execution_count": 74,
   "id": "possible-change",
   "metadata": {
    "id": "possible-change",
    "scrolled": true,
    "trusted": false
   },
   "outputs": [],
   "source": [
    "top_reordered = reordered_products['product_id'].value_counts().reset_index()\n",
    "top_reordered.columns = ['product_id', 'reorder_count']\n"
   ]
  },
  {
   "cell_type": "code",
   "execution_count": 75,
   "id": "professional-surfing",
   "metadata": {
    "id": "professional-surfing",
    "scrolled": true,
    "trusted": false
   },
   "outputs": [],
   "source": [
    "top_reordered = top_reordered.merge(df_products[['product_id', 'product_name']], on='product_id')"
   ]
  },
  {
   "cell_type": "code",
   "execution_count": 76,
   "id": "48dd3658",
   "metadata": {
    "id": "48dd3658",
    "trusted": false
   },
   "outputs": [
    {
     "name": "stdout",
     "output_type": "stream",
     "text": [
      "    product_id  reorder_count              product_name\n",
      "0        24852          55763                    banana\n",
      "1        13176          44450    bag of organic bananas\n",
      "2        21137          28639      organic strawberries\n",
      "3        21903          26233      organic baby spinach\n",
      "4        47209          23629      organic hass avocado\n",
      "5        47766          18743           organic avocado\n",
      "6        27845          16251        organic whole milk\n",
      "7        47626          15044               large lemon\n",
      "8        27966          14748       organic raspberries\n",
      "9        16797          13945              strawberries\n",
      "10       26209          13327                     limes\n",
      "11       22935          11145      organic yellow onion\n",
      "12       24964          10411            organic garlic\n",
      "13       45007          10076          organic zucchini\n",
      "14       49683           9538            cucumber kirby\n",
      "15       28204           8989        organic fuji apple\n",
      "16        8277           8836  apple honeycrisp organic\n",
      "17       39275           8799       organic blueberries\n",
      "18        5876           8412             organic lemon\n",
      "19       49235           8389       organic half & half\n"
     ]
    }
   ],
   "source": [
    "top_reordered = top_reordered.head(20)\n",
    "print(top_reordered)"
   ]
  },
  {
   "cell_type": "code",
   "execution_count": 78,
   "id": "98e3fd1b",
   "metadata": {
    "trusted": false
   },
   "outputs": [
    {
     "data": {
      "text/plain": [
       "<AxesSubplot:title={'center':'Top 20 productos mas recomprados'}, xlabel='Productos', ylabel='Numero de compras'>"
      ]
     },
     "execution_count": 78,
     "metadata": {},
     "output_type": "execute_result"
    },
    {
     "data": {
      "image/png": "[encoded data removed]",
      "text/plain": [
       "<Figure size 1200x600 with 1 Axes>"
      ]
     },
     "metadata": {},
     "output_type": "display_data"
    }
   ],
   "source": [
    "top_reordered.plot.bar(figsize=(12, 6), x= \"product_name\",y=\"reorder_count\" ,color='royalblue', xlabel='Productos', ylabel='Numero de compras', title='Top 20 productos mas recomprados', rot=60)"
   ]
  },
  {
   "cell_type": "markdown",
   "id": "80e70c74",
   "metadata": {
    "id": "80e70c74"
   },
   "source": [
    "Escribe aquí tus conclusiones\n",
    "al igual que en el top 20 de los productos pas ordenados, los productos mas reordenados son las bananas y bananas organicas, la mayoria de los pedidos que son reordenados son alimentos organicos"
   ]
  },
  {
   "cell_type": "markdown",
   "id": "9d312b14",
   "metadata": {
    "id": "9d312b14"
   },
   "source": [
    "### [C3] Para cada producto, ¿cuál es la proporción de las veces que se pide y que se vuelve a pedir?"
   ]
  },
  {
   "cell_type": "code",
   "execution_count": 76,
   "id": "8ae9f4b1",
   "metadata": {
    "id": "8ae9f4b1",
    "trusted": false
   },
   "outputs": [],
   "source": [
    "total_orders = df_order_products['product_id'].value_counts().reset_index()\n",
    "total_orders.columns = ['product_id', 'total_orders']\n",
    "\n"
   ]
  },
  {
   "cell_type": "code",
   "execution_count": 78,
   "id": "103e7fe1",
   "metadata": {
    "id": "103e7fe1",
    "trusted": false
   },
   "outputs": [],
   "source": [
    "# Contar cuántas veces se ha reordenado cada producto (reordered == 1)\n",
    "reorders = df_order_products[df_order_products['reordered'] == 1]['product_id'].value_counts().reset_index()\n",
    "reorders.columns = ['product_id', 'reorder_count']\n",
    "\n",
    "# Unir ambas tablas para tener total de pedidos y reordenamientos\n",
    "product_reorder_ratio = total_orders.merge(reorders, on='product_id', how='left')\n",
    "\n",
    "# Reemplazar valores NaN en reorder_count (productos que nunca fueron reordenados)\n",
    "product_reorder_ratio['reorder_count'] = product_reorder_ratio['reorder_count'].fillna(0)\n",
    "\n",
    "# Calcular la proporción de reordenamiento\n",
    "product_reorder_ratio['reorder_ratio'] = product_reorder_ratio['reorder_count'] / product_reorder_ratio['total_orders']\n",
    "\n",
    "# Unir con el DataFrame de productos para obtener los nombres\n",
    "product_reorder_ratio = product_reorder_ratio.merge(df_products[['product_id', 'product_name']], on='product_id')\n"
   ]
  },
  {
   "cell_type": "code",
   "execution_count": 79,
   "id": "social-individual",
   "metadata": {
    "id": "social-individual",
    "trusted": false
   },
   "outputs": [
    {
     "name": "stdout",
     "output_type": "stream",
     "text": [
      "    product_id  total_orders  reorder_count  reorder_ratio  \\\n",
      "0        24852         66050        55763.0       0.844254   \n",
      "1        13176         53297        44450.0       0.834006   \n",
      "2        21137         37039        28639.0       0.773212   \n",
      "3        21903         33971        26233.0       0.772217   \n",
      "4        47209         29773        23629.0       0.793639   \n",
      "5        47766         24689        18743.0       0.759164   \n",
      "6        47626         21495        15044.0       0.699884   \n",
      "7        16797         20018        13945.0       0.696623   \n",
      "8        26209         19690        13327.0       0.676841   \n",
      "9        27845         19600        16251.0       0.829133   \n",
      "10       27966         19197        14748.0       0.768245   \n",
      "11       22935         15898        11145.0       0.701032   \n",
      "12       24964         15292        10411.0       0.680813   \n",
      "13       45007         14584        10076.0       0.690894   \n",
      "14       39275         13879         8799.0       0.633979   \n",
      "15       49683         13675         9538.0       0.697477   \n",
      "16       28204         12544         8989.0       0.716598   \n",
      "17        5876         12232         8412.0       0.687704   \n",
      "18        8277         11993         8836.0       0.736763   \n",
      "19       40706         11781         7793.0       0.661489   \n",
      "\n",
      "                product_name  \n",
      "0                     banana  \n",
      "1     bag of organic bananas  \n",
      "2       organic strawberries  \n",
      "3       organic baby spinach  \n",
      "4       organic hass avocado  \n",
      "5            organic avocado  \n",
      "6                large lemon  \n",
      "7               strawberries  \n",
      "8                      limes  \n",
      "9         organic whole milk  \n",
      "10       organic raspberries  \n",
      "11      organic yellow onion  \n",
      "12            organic garlic  \n",
      "13          organic zucchini  \n",
      "14       organic blueberries  \n",
      "15            cucumber kirby  \n",
      "16        organic fuji apple  \n",
      "17             organic lemon  \n",
      "18  apple honeycrisp organic  \n",
      "19    organic grape tomatoes  \n"
     ]
    }
   ],
   "source": [
    "print(product_reorder_ratio.head(20))"
   ]
  },
  {
   "cell_type": "markdown",
   "id": "I10dEIAyldcO",
   "metadata": {
    "id": "I10dEIAyldcO"
   },
   "source": [
    "Escribe aquí tus conclusiones \n",
    "los articulos del top 20 tienen un alto indice de repedido, que va desde el 66% al 84%, por lo que los usuarios que los compran son clientes leales"
   ]
  },
  {
   "cell_type": "markdown",
   "id": "subject-boxing",
   "metadata": {
    "id": "subject-boxing"
   },
   "source": [
    "### [C4] Para cada cliente, ¿qué proporción de sus productos ya los había pedido?"
   ]
  },
  {
   "cell_type": "code",
   "execution_count": 79,
   "id": "medical-couple",
   "metadata": {
    "id": "medical-couple",
    "scrolled": true,
    "trusted": false
   },
   "outputs": [],
   "source": [
    "# Unir orders con order_products para asociar cada producto con un usuario\n",
    "orders_merged = df_order_products.merge(df_orders[['order_id', 'user_id']], on='order_id')\n",
    "\n",
    "# Contar cuántos productos ha pedido cada usuario en total\n",
    "total_products_per_user = orders_merged.groupby('user_id').size().reset_index(name='total_orders')\n",
    "\n",
    "# Contar cuántos productos han sido reordenados (reordered == 1) por cada usuario\n",
    "reordered_products_per_user = orders_merged[orders_merged['reordered'] == 1].groupby('user_id').size().reset_index(name='reordered_orders')\n",
    "\n",
    "# Unir ambas tablas\n",
    "user_reorder_ratio = total_products_per_user.merge(reordered_products_per_user, on='user_id', how='left')\n",
    "\n",
    "# Reemplazar valores NaN en reorder_count (usuarios que nunca han reordenado)\n",
    "user_reorder_ratio['reordered_orders'] = user_reorder_ratio['reordered_orders'].fillna(0)\n",
    "\n",
    "# Calcular la proporción de productos reordenados por usuario\n",
    "user_reorder_ratio['reorder_ratio'] = user_reorder_ratio['reordered_orders'] / user_reorder_ratio['total_orders']\n",
    "\n",
    "# Mostrar los primeros registros\n"
   ]
  },
  {
   "cell_type": "code",
   "execution_count": 80,
   "id": "8892e4b4",
   "metadata": {
    "id": "8892e4b4",
    "trusted": false
   },
   "outputs": [
    {
     "name": "stdout",
     "output_type": "stream",
     "text": [
      "    user_id  total_orders  reordered_orders  reorder_ratio\n",
      "0         2            26               1.0       0.038462\n",
      "1         4             2               0.0       0.000000\n",
      "2         5            12               8.0       0.666667\n",
      "3         6             4               0.0       0.000000\n",
      "4         7            14              13.0       0.928571\n",
      "5        11            15               3.0       0.200000\n",
      "6        12            12               3.0       0.250000\n",
      "7        13            23              13.0       0.565217\n",
      "8        14            61              22.0       0.360656\n",
      "9        15            13               7.0       0.538462\n",
      "10       16            32              17.0       0.531250\n",
      "11       17            53              38.0       0.716981\n",
      "12       19            48              14.0       0.291667\n",
      "13       20             4               0.0       0.000000\n",
      "14       21            20               8.0       0.400000\n",
      "15       22             6               6.0       1.000000\n",
      "16       24             2               1.0       0.500000\n",
      "17       26            16               7.0       0.437500\n",
      "18       27            85              56.0       0.658824\n",
      "19       28            44              22.0       0.500000\n"
     ]
    }
   ],
   "source": [
    "print(user_reorder_ratio.head(20))"
   ]
  },
  {
   "cell_type": "code",
   "execution_count": 82,
   "id": "ef157a9d",
   "metadata": {
    "trusted": false
   },
   "outputs": [
    {
     "name": "stdout",
     "output_type": "stream",
     "text": [
      "Porcentaje promedio de la proporcion de productos reordenados 0.4948531736151642\n",
      "Numero promedio de productos reordenados 17.93697619397698\n"
     ]
    }
   ],
   "source": [
    "print(\"Porcentaje promedio de la proporcion de productos reordenados\", user_reorder_ratio[\"reorder_ratio\"].mean())\n",
    "print(\"Numero promedio de productos reordenados\", user_reorder_ratio[\"reordered_orders\"].mean())"
   ]
  },
  {
   "cell_type": "markdown",
   "id": "BgJSvXDsleXz",
   "metadata": {
    "id": "BgJSvXDsleXz"
   },
   "source": [
    "Escribe aquí tus conclusiones \n",
    "En romedio, los usuarios reordenaron 49% de los productos que ordenaron con anterioridad"
   ]
  },
  {
   "cell_type": "markdown",
   "id": "92d35137",
   "metadata": {
    "id": "92d35137"
   },
   "source": [
    "### [C5] ¿Cuáles son los 20 principales artículos que las personas ponen primero en sus carritos?"
   ]
  },
  {
   "cell_type": "code",
   "execution_count": 83,
   "id": "0ae57274",
   "metadata": {
    "id": "0ae57274",
    "scrolled": true,
    "trusted": false
   },
   "outputs": [],
   "source": [
    "# Filtrar solo los productos que fueron añadidos primero en el carrito\n",
    "first_added = df_order_products[df_order_products['add_to_cart_order'] == 1]\n",
    "\n",
    "# Contar cuántas veces cada producto ha sido el primero en un carrito\n",
    "top_first_added = first_added['product_id'].value_counts().reset_index()\n",
    "top_first_added.columns = ['product_id', 'first_added_count']"
   ]
  },
  {
   "cell_type": "code",
   "execution_count": 84,
   "id": "forty-netherlands",
   "metadata": {
    "id": "forty-netherlands",
    "scrolled": true,
    "trusted": false
   },
   "outputs": [],
   "source": [
    "# Unir con el dataframe de productos para obtener los nombres\n",
    "top_first_added = top_first_added.merge(df_products[['product_id', 'product_name']], on='product_id')\n",
    "\n",
    "# Seleccionar los 20 productos más frecuentes\n",
    "top_first_added = top_first_added.head(20)\n"
   ]
  },
  {
   "cell_type": "code",
   "execution_count": 85,
   "id": "08e41ec2",
   "metadata": {
    "id": "08e41ec2",
    "trusted": false
   },
   "outputs": [
    {
     "name": "stdout",
     "output_type": "stream",
     "text": [
      "    product_id  first_added_count                 product_name\n",
      "0        24852              15562                       banana\n",
      "1        13176              11026       bag of organic bananas\n",
      "2        27845               4363           organic whole milk\n",
      "3        21137               3946         organic strawberries\n",
      "4        47209               3390         organic hass avocado\n",
      "5        21903               3336         organic baby spinach\n",
      "6        47766               3044              organic avocado\n",
      "7        19660               2336                 spring water\n",
      "8        16797               2308                 strawberries\n",
      "9        27966               2024          organic raspberries\n",
      "10       44632               1914   sparkling water grapefruit\n",
      "11       49235               1797          organic half & half\n",
      "12       47626               1737                  large lemon\n",
      "13         196               1733                         soda\n",
      "14       38689               1397     organic reduced fat milk\n",
      "15       26209               1370                        limes\n",
      "16       12341               1340                hass avocados\n",
      "17        5785               1310  organic reduced fat 2% milk\n",
      "18       27086               1309                  half & half\n",
      "19       22935               1246         organic yellow onion\n"
     ]
    }
   ],
   "source": [
    "print(top_first_added)\n"
   ]
  },
  {
   "cell_type": "code",
   "execution_count": 87,
   "id": "23d4a769",
   "metadata": {
    "trusted": false
   },
   "outputs": [
    {
     "data": {
      "text/plain": [
       "<AxesSubplot:title={'center':'Top 20 productos añadidos primero'}, xlabel='Productos', ylabel='Numero de veces que fueron añadidos primero'>"
      ]
     },
     "execution_count": 87,
     "metadata": {},
     "output_type": "execute_result"
    },
    {
     "data": {
      "image/png": "[encoded data removed]",
      "text/plain": [
       "<Figure size 1200x600 with 1 Axes>"
      ]
     },
     "metadata": {},
     "output_type": "display_data"
    }
   ],
   "source": [
    "top_first_added.plot.bar(figsize=(12, 6), x= \"product_name\",y=\"first_added_count\" ,color='royalblue', xlabel='Productos', ylabel='Numero de veces que fueron añadidos primero', title='Top 20 productos añadidos primero', rot=60)"
   ]
  },
  {
   "cell_type": "markdown",
   "id": "28ce9872",
   "metadata": {
    "id": "28ce9872"
   },
   "source": [
    "Escribe aquí tus conclusiones\n",
    "La lista sigue siendo muy similar al top 20 de articulos ordenados y articulos reordenados"
   ]
  },
  {
   "cell_type": "markdown",
   "id": "uITbFCEoDosC",
   "metadata": {
    "id": "uITbFCEoDosC"
   },
   "source": [
    "### Conclusion general del proyecto:"
   ]
  },
  {
   "cell_type": "markdown",
   "id": "69afc515",
   "metadata": {
    "id": "Nk-4GS7mDwqY"
   },
   "source": [
    "Los usuarios presentan una clara preferencia por los articulos organicos, dado a la alta tasa de reordenado de los productos, es probable que se encuentren sastisfechos con la calidade de los productos. Asi mismo se a observado un ligero incremento en los pedidos los dias sabados y lunes, con los horarios de mayor numero de pedidos entre las 10:00 am y 3:00 pm. La mayoria de los usuarios compran entre 1 a 10 articulos por pedido, con un pico en el rango de 3 a 5 articulos por pedido. Un gran numero de usurarios realiza un nuevo pedido transcurridos los 30 dias desde el pedido anterior, sin embargo, otra gran cantidad de usuarios los realiza transcurridos 0 dias desde el pedido anterior o 7 dias, posiblemente esto se deba a que son compras semanales como parte de su mandado"
   ]
  }
 ],
 "metadata": {
  "ExecuteTimeLog": [
   {
    "duration": 325,
    "start_time": "2025-03-11T03:49:14.264Z"
   },
   {
    "duration": 2428,
    "start_time": "2025-03-11T03:49:16.535Z"
   },
   {
    "duration": 222,
    "start_time": "2025-03-11T03:49:45.011Z"
   },
   {
    "duration": 23,
    "start_time": "2025-03-11T03:49:51.662Z"
   },
   {
    "duration": 5,
    "start_time": "2025-03-11T03:50:00.050Z"
   },
   {
    "duration": 20,
    "start_time": "2025-03-11T03:50:06.100Z"
   },
   {
    "duration": 5,
    "start_time": "2025-03-11T03:51:28.222Z"
   },
   {
    "duration": 5,
    "start_time": "2025-03-11T03:53:00.596Z"
   },
   {
    "duration": 5,
    "start_time": "2025-03-11T03:53:02.722Z"
   },
   {
    "duration": 4,
    "start_time": "2025-03-11T03:53:03.634Z"
   },
   {
    "duration": 16,
    "start_time": "2025-03-11T03:53:05.633Z"
   },
   {
    "duration": 4,
    "start_time": "2025-03-11T03:56:30.739Z"
   },
   {
    "duration": 936,
    "start_time": "2025-03-11T03:59:20.888Z"
   },
   {
    "duration": 5,
    "start_time": "2025-03-11T03:59:22.581Z"
   },
   {
    "duration": 5,
    "start_time": "2025-03-11T03:59:23.905Z"
   },
   {
    "duration": 4,
    "start_time": "2025-03-11T03:59:25.455Z"
   },
   {
    "duration": 8,
    "start_time": "2025-03-11T03:59:42.668Z"
   },
   {
    "duration": 6,
    "start_time": "2025-03-11T03:59:44.860Z"
   },
   {
    "duration": 13,
    "start_time": "2025-03-11T04:00:28.781Z"
   },
   {
    "duration": 15,
    "start_time": "2025-03-11T04:01:51.409Z"
   },
   {
    "duration": 10,
    "start_time": "2025-03-11T04:01:52.057Z"
   },
   {
    "duration": 10,
    "start_time": "2025-03-11T04:01:52.720Z"
   },
   {
    "duration": 11,
    "start_time": "2025-03-11T04:01:53.397Z"
   },
   {
    "duration": 11,
    "start_time": "2025-03-11T04:21:49.521Z"
   },
   {
    "duration": 9,
    "start_time": "2025-03-11T04:24:40.869Z"
   },
   {
    "duration": 22,
    "start_time": "2025-03-11T04:25:27.239Z"
   },
   {
    "duration": 16,
    "start_time": "2025-03-11T04:27:09.421Z"
   },
   {
    "duration": 17,
    "start_time": "2025-03-11T04:30:12.393Z"
   },
   {
    "duration": 13,
    "start_time": "2025-03-11T04:30:17.232Z"
   },
   {
    "duration": 8,
    "start_time": "2025-03-11T04:30:48.589Z"
   },
   {
    "duration": 8,
    "start_time": "2025-03-11T04:32:16.848Z"
   },
   {
    "duration": 14,
    "start_time": "2025-03-11T04:32:35.160Z"
   },
   {
    "duration": 519,
    "start_time": "2025-03-11T04:34:53.275Z"
   },
   {
    "duration": 48,
    "start_time": "2025-03-11T04:35:53.017Z"
   },
   {
    "duration": 14,
    "start_time": "2025-03-11T04:37:12.115Z"
   },
   {
    "duration": 12,
    "start_time": "2025-03-11T04:37:13.114Z"
   },
   {
    "duration": 15,
    "start_time": "2025-03-11T04:37:14.307Z"
   },
   {
    "duration": 111,
    "start_time": "2025-03-11T04:37:15.376Z"
   },
   {
    "duration": 136,
    "start_time": "2025-03-11T04:39:34.429Z"
   },
   {
    "duration": 127,
    "start_time": "2025-03-11T04:39:38.549Z"
   },
   {
    "duration": 25,
    "start_time": "2025-03-11T04:39:41.560Z"
   },
   {
    "duration": 12,
    "start_time": "2025-03-11T04:42:51.701Z"
   },
   {
    "duration": 367,
    "start_time": "2025-03-11T04:43:59.106Z"
   },
   {
    "duration": 122,
    "start_time": "2025-03-11T04:44:07.410Z"
   },
   {
    "duration": 36,
    "start_time": "2025-03-11T04:45:27.229Z"
   },
   {
    "duration": 35,
    "start_time": "2025-03-11T04:46:20.497Z"
   },
   {
    "duration": 41,
    "start_time": "2025-03-11T04:47:31.405Z"
   },
   {
    "duration": 10,
    "start_time": "2025-03-11T04:47:53.461Z"
   },
   {
    "duration": 12,
    "start_time": "2025-03-11T05:04:30.471Z"
   },
   {
    "duration": 10,
    "start_time": "2025-03-11T05:05:06.643Z"
   },
   {
    "duration": 16,
    "start_time": "2025-03-11T05:07:07.496Z"
   },
   {
    "duration": 25,
    "start_time": "2025-03-11T05:07:27.852Z"
   },
   {
    "duration": 19,
    "start_time": "2025-03-11T05:07:32.514Z"
   },
   {
    "duration": 175,
    "start_time": "2025-03-11T05:07:37.939Z"
   },
   {
    "duration": 21,
    "start_time": "2025-03-11T05:07:38.770Z"
   },
   {
    "duration": 10,
    "start_time": "2025-03-11T05:07:44.613Z"
   },
   {
    "duration": 16,
    "start_time": "2025-03-11T05:07:59.326Z"
   },
   {
    "duration": 16,
    "start_time": "2025-03-11T05:08:59.583Z"
   },
   {
    "duration": 107,
    "start_time": "2025-03-11T05:10:58.790Z"
   },
   {
    "duration": 108,
    "start_time": "2025-03-11T05:11:27.205Z"
   },
   {
    "duration": 869,
    "start_time": "2025-03-11T05:11:56.933Z"
   },
   {
    "duration": 88,
    "start_time": "2025-03-11T05:15:20.129Z"
   },
   {
    "duration": 93,
    "start_time": "2025-03-11T05:21:23.106Z"
   },
   {
    "duration": 3,
    "start_time": "2025-03-11T05:21:25.015Z"
   },
   {
    "duration": 78,
    "start_time": "2025-03-11T05:21:42.488Z"
   },
   {
    "duration": 292,
    "start_time": "2025-03-12T03:55:18.385Z"
   },
   {
    "duration": 1024,
    "start_time": "2025-03-12T03:55:18.929Z"
   },
   {
    "duration": 15,
    "start_time": "2025-03-12T03:55:19.955Z"
   },
   {
    "duration": 12,
    "start_time": "2025-03-12T03:55:20.084Z"
   },
   {
    "duration": 9,
    "start_time": "2025-03-12T03:55:20.972Z"
   },
   {
    "duration": 10,
    "start_time": "2025-03-12T03:55:21.674Z"
   },
   {
    "duration": 9,
    "start_time": "2025-03-12T03:55:22.405Z"
   },
   {
    "duration": 699,
    "start_time": "2025-03-12T03:55:25.770Z"
   },
   {
    "duration": 14,
    "start_time": "2025-03-12T03:55:26.698Z"
   },
   {
    "duration": 50,
    "start_time": "2025-03-12T03:55:34.981Z"
   },
   {
    "duration": 16,
    "start_time": "2025-03-12T03:56:07.445Z"
   },
   {
    "duration": 13,
    "start_time": "2025-03-12T03:56:09.957Z"
   },
   {
    "duration": 17,
    "start_time": "2025-03-12T03:56:10.822Z"
   },
   {
    "duration": 141,
    "start_time": "2025-03-12T03:56:11.649Z"
   },
   {
    "duration": 21,
    "start_time": "2025-03-12T03:56:14.055Z"
   },
   {
    "duration": 935,
    "start_time": "2025-03-12T03:56:17.511Z"
   },
   {
    "duration": 101,
    "start_time": "2025-03-12T03:56:20.279Z"
   },
   {
    "duration": 104,
    "start_time": "2025-03-12T03:56:26.401Z"
   },
   {
    "duration": 84,
    "start_time": "2025-03-12T03:56:27.753Z"
   },
   {
    "duration": 14,
    "start_time": "2025-03-12T03:57:18.709Z"
   },
   {
    "duration": 34,
    "start_time": "2025-03-12T03:57:40.982Z"
   },
   {
    "duration": 3,
    "start_time": "2025-03-12T03:58:56.222Z"
   },
   {
    "duration": 4,
    "start_time": "2025-03-12T03:59:05.465Z"
   },
   {
    "duration": 7,
    "start_time": "2025-03-12T03:59:22.717Z"
   },
   {
    "duration": 93,
    "start_time": "2025-03-12T04:04:02.386Z"
   },
   {
    "duration": 95,
    "start_time": "2025-03-12T04:04:10.138Z"
   },
   {
    "duration": 79,
    "start_time": "2025-03-12T04:04:10.803Z"
   },
   {
    "duration": 4,
    "start_time": "2025-03-12T04:04:12.685Z"
   },
   {
    "duration": 90,
    "start_time": "2025-03-12T04:04:16.263Z"
   },
   {
    "duration": 76,
    "start_time": "2025-03-12T04:04:17.040Z"
   },
   {
    "duration": 26,
    "start_time": "2025-03-12T04:04:17.779Z"
   },
   {
    "duration": 8,
    "start_time": "2025-03-12T04:04:42.219Z"
   },
   {
    "duration": 48,
    "start_time": "2025-03-12T04:05:56.091Z"
   },
   {
    "duration": 73,
    "start_time": "2025-03-12T04:09:34.809Z"
   },
   {
    "duration": 75,
    "start_time": "2025-03-12T04:09:35.829Z"
   },
   {
    "duration": 8,
    "start_time": "2025-03-12T04:22:00.425Z"
   },
   {
    "duration": 4,
    "start_time": "2025-03-12T04:22:27.687Z"
   },
   {
    "duration": 5,
    "start_time": "2025-03-12T04:23:02.164Z"
   },
   {
    "duration": 7,
    "start_time": "2025-03-12T04:27:41.264Z"
   },
   {
    "duration": 510,
    "start_time": "2025-03-12T04:28:18.114Z"
   },
   {
    "duration": 12,
    "start_time": "2025-03-12T04:28:56.433Z"
   },
   {
    "duration": 173,
    "start_time": "2025-03-12T04:29:20.593Z"
   },
   {
    "duration": 1031,
    "start_time": "2025-03-12T04:29:21.408Z"
   },
   {
    "duration": 14,
    "start_time": "2025-03-12T04:29:22.474Z"
   },
   {
    "duration": 12,
    "start_time": "2025-03-12T04:29:23.448Z"
   },
   {
    "duration": 14,
    "start_time": "2025-03-12T04:29:24.307Z"
   },
   {
    "duration": 9,
    "start_time": "2025-03-12T04:29:25.027Z"
   },
   {
    "duration": 10,
    "start_time": "2025-03-12T04:29:25.720Z"
   },
   {
    "duration": 24,
    "start_time": "2025-03-12T04:29:27.619Z"
   },
   {
    "duration": 12,
    "start_time": "2025-03-12T04:29:28.184Z"
   },
   {
    "duration": 17,
    "start_time": "2025-03-12T04:29:28.866Z"
   },
   {
    "duration": 146,
    "start_time": "2025-03-12T04:29:29.479Z"
   },
   {
    "duration": 24,
    "start_time": "2025-03-12T04:29:30.084Z"
   },
   {
    "duration": 88,
    "start_time": "2025-03-12T04:29:32.689Z"
   },
   {
    "duration": 102,
    "start_time": "2025-03-12T04:29:33.321Z"
   },
   {
    "duration": 3,
    "start_time": "2025-03-12T04:29:34.432Z"
   },
   {
    "duration": 117,
    "start_time": "2025-03-12T04:29:35.274Z"
   },
   {
    "duration": 76,
    "start_time": "2025-03-12T04:29:35.716Z"
   },
   {
    "duration": 24,
    "start_time": "2025-03-12T04:29:36.262Z"
   },
   {
    "duration": 16,
    "start_time": "2025-03-12T04:29:37.966Z"
   },
   {
    "duration": 4,
    "start_time": "2025-03-12T04:29:38.551Z"
   },
   {
    "duration": 9,
    "start_time": "2025-03-12T04:29:39.146Z"
   },
   {
    "duration": 3,
    "start_time": "2025-03-12T04:29:39.872Z"
   },
   {
    "duration": 4,
    "start_time": "2025-03-12T04:29:43.818Z"
   },
   {
    "duration": 4,
    "start_time": "2025-03-12T04:29:44.226Z"
   },
   {
    "duration": 3,
    "start_time": "2025-03-12T04:29:45.775Z"
   },
   {
    "duration": 2,
    "start_time": "2025-03-12T04:29:46.196Z"
   },
   {
    "duration": 767,
    "start_time": "2025-03-12T04:29:47.703Z"
   },
   {
    "duration": 39,
    "start_time": "2025-03-12T04:29:48.472Z"
   },
   {
    "duration": 5,
    "start_time": "2025-03-12T04:29:57.857Z"
   },
   {
    "duration": 171,
    "start_time": "2025-03-12T04:32:44.698Z"
   },
   {
    "duration": 11,
    "start_time": "2025-03-12T04:34:50.787Z"
   },
   {
    "duration": 518,
    "start_time": "2025-03-12T04:36:15.722Z"
   },
   {
    "duration": 1058,
    "start_time": "2025-03-12T04:36:16.334Z"
   },
   {
    "duration": 18,
    "start_time": "2025-03-12T04:36:17.394Z"
   },
   {
    "duration": 15,
    "start_time": "2025-03-12T04:36:17.837Z"
   },
   {
    "duration": 10,
    "start_time": "2025-03-12T04:36:18.815Z"
   },
   {
    "duration": 10,
    "start_time": "2025-03-12T04:36:19.605Z"
   },
   {
    "duration": 11,
    "start_time": "2025-03-12T04:36:20.239Z"
   },
   {
    "duration": 20,
    "start_time": "2025-03-12T04:36:23.984Z"
   },
   {
    "duration": 14,
    "start_time": "2025-03-12T04:36:27.587Z"
   },
   {
    "duration": 17,
    "start_time": "2025-03-12T04:36:28.291Z"
   },
   {
    "duration": 139,
    "start_time": "2025-03-12T04:36:30.800Z"
   },
   {
    "duration": 23,
    "start_time": "2025-03-12T04:36:32.295Z"
   },
   {
    "duration": 85,
    "start_time": "2025-03-12T04:36:36.021Z"
   },
   {
    "duration": 99,
    "start_time": "2025-03-12T04:36:38.350Z"
   },
   {
    "duration": 96,
    "start_time": "2025-03-12T04:36:43.543Z"
   },
   {
    "duration": 85,
    "start_time": "2025-03-12T04:36:44.110Z"
   },
   {
    "duration": 24,
    "start_time": "2025-03-12T04:36:45.539Z"
   },
   {
    "duration": 15,
    "start_time": "2025-03-12T04:36:48.852Z"
   },
   {
    "duration": 4,
    "start_time": "2025-03-12T04:36:49.602Z"
   },
   {
    "duration": 9,
    "start_time": "2025-03-12T04:36:50.290Z"
   },
   {
    "duration": 4,
    "start_time": "2025-03-12T04:36:53.941Z"
   },
   {
    "duration": 4,
    "start_time": "2025-03-12T04:36:54.542Z"
   },
   {
    "duration": 4,
    "start_time": "2025-03-12T04:36:57.072Z"
   },
   {
    "duration": 789,
    "start_time": "2025-03-12T04:36:59.341Z"
   },
   {
    "duration": 37,
    "start_time": "2025-03-12T04:37:01.033Z"
   },
   {
    "duration": 9,
    "start_time": "2025-03-12T04:37:09.403Z"
   },
   {
    "duration": 163,
    "start_time": "2025-03-12T04:40:58.619Z"
   },
   {
    "duration": 15,
    "start_time": "2025-03-12T04:41:10.364Z"
   },
   {
    "duration": 496,
    "start_time": "2025-03-12T04:41:14.143Z"
   },
   {
    "duration": 1020,
    "start_time": "2025-03-12T04:41:15.764Z"
   },
   {
    "duration": 19,
    "start_time": "2025-03-12T04:41:16.786Z"
   },
   {
    "duration": 12,
    "start_time": "2025-03-12T04:41:17.234Z"
   },
   {
    "duration": 9,
    "start_time": "2025-03-12T04:41:17.977Z"
   },
   {
    "duration": 9,
    "start_time": "2025-03-12T04:41:18.633Z"
   },
   {
    "duration": 10,
    "start_time": "2025-03-12T04:41:19.234Z"
   },
   {
    "duration": 15,
    "start_time": "2025-03-12T04:41:21.933Z"
   },
   {
    "duration": 13,
    "start_time": "2025-03-12T04:41:22.498Z"
   },
   {
    "duration": 17,
    "start_time": "2025-03-12T04:41:23.083Z"
   },
   {
    "duration": 139,
    "start_time": "2025-03-12T04:41:23.757Z"
   },
   {
    "duration": 23,
    "start_time": "2025-03-12T04:41:24.813Z"
   },
   {
    "duration": 88,
    "start_time": "2025-03-12T04:41:28.325Z"
   },
   {
    "duration": 99,
    "start_time": "2025-03-12T04:41:29.092Z"
   },
   {
    "duration": 101,
    "start_time": "2025-03-12T04:41:33.551Z"
   },
   {
    "duration": 78,
    "start_time": "2025-03-12T04:41:34.162Z"
   },
   {
    "duration": 24,
    "start_time": "2025-03-12T04:41:34.857Z"
   },
   {
    "duration": 14,
    "start_time": "2025-03-12T04:41:38.631Z"
   },
   {
    "duration": 4,
    "start_time": "2025-03-12T04:41:39.271Z"
   },
   {
    "duration": 12,
    "start_time": "2025-03-12T04:41:39.884Z"
   },
   {
    "duration": 2,
    "start_time": "2025-03-12T04:41:40.494Z"
   },
   {
    "duration": 4,
    "start_time": "2025-03-12T04:41:43.343Z"
   },
   {
    "duration": 4,
    "start_time": "2025-03-12T04:41:44.013Z"
   },
   {
    "duration": 6,
    "start_time": "2025-03-12T04:41:46.735Z"
   },
   {
    "duration": 724,
    "start_time": "2025-03-12T04:41:49.900Z"
   },
   {
    "duration": 34,
    "start_time": "2025-03-12T04:41:50.626Z"
   },
   {
    "duration": 6,
    "start_time": "2025-03-12T04:41:58.774Z"
   },
   {
    "duration": 178,
    "start_time": "2025-03-12T04:44:51.630Z"
   },
   {
    "duration": 12,
    "start_time": "2025-03-12T04:44:56.360Z"
   },
   {
    "duration": 2298,
    "start_time": "2025-03-14T04:00:13.574Z"
   },
   {
    "duration": 1083,
    "start_time": "2025-03-14T04:00:15.874Z"
   },
   {
    "duration": 15,
    "start_time": "2025-03-14T04:00:16.958Z"
   },
   {
    "duration": 12,
    "start_time": "2025-03-14T04:00:16.975Z"
   },
   {
    "duration": 11,
    "start_time": "2025-03-14T04:00:16.991Z"
   },
   {
    "duration": 31,
    "start_time": "2025-03-14T04:00:17.003Z"
   },
   {
    "duration": 9,
    "start_time": "2025-03-14T04:00:17.036Z"
   },
   {
    "duration": 15,
    "start_time": "2025-03-14T04:00:17.046Z"
   },
   {
    "duration": 11,
    "start_time": "2025-03-14T04:00:17.064Z"
   },
   {
    "duration": 16,
    "start_time": "2025-03-14T04:00:17.078Z"
   },
   {
    "duration": 167,
    "start_time": "2025-03-14T04:00:17.096Z"
   },
   {
    "duration": 22,
    "start_time": "2025-03-14T04:00:17.265Z"
   },
   {
    "duration": 94,
    "start_time": "2025-03-14T04:00:17.289Z"
   },
   {
    "duration": 101,
    "start_time": "2025-03-14T04:00:17.385Z"
   },
   {
    "duration": 2,
    "start_time": "2025-03-14T04:00:17.488Z"
   },
   {
    "duration": 101,
    "start_time": "2025-03-14T04:00:17.492Z"
   },
   {
    "duration": 99,
    "start_time": "2025-03-14T04:00:17.595Z"
   },
   {
    "duration": 28,
    "start_time": "2025-03-14T04:00:17.700Z"
   },
   {
    "duration": 21,
    "start_time": "2025-03-14T04:00:17.732Z"
   },
   {
    "duration": 3,
    "start_time": "2025-03-14T04:00:17.755Z"
   },
   {
    "duration": 9,
    "start_time": "2025-03-14T04:00:17.760Z"
   },
   {
    "duration": 5,
    "start_time": "2025-03-14T04:00:17.771Z"
   },
   {
    "duration": 5,
    "start_time": "2025-03-14T04:00:17.780Z"
   },
   {
    "duration": 4,
    "start_time": "2025-03-14T04:00:17.787Z"
   },
   {
    "duration": 5,
    "start_time": "2025-03-14T04:00:17.792Z"
   },
   {
    "duration": 3,
    "start_time": "2025-03-14T04:00:17.798Z"
   },
   {
    "duration": 899,
    "start_time": "2025-03-14T04:00:17.832Z"
   },
   {
    "duration": 35,
    "start_time": "2025-03-14T04:00:18.735Z"
   },
   {
    "duration": 3,
    "start_time": "2025-03-14T04:00:18.773Z"
   },
   {
    "duration": 4,
    "start_time": "2025-03-14T04:00:18.778Z"
   },
   {
    "duration": 2,
    "start_time": "2025-03-14T04:00:18.784Z"
   },
   {
    "duration": 2,
    "start_time": "2025-03-14T04:00:18.788Z"
   },
   {
    "duration": 3,
    "start_time": "2025-03-14T04:00:18.792Z"
   },
   {
    "duration": 2,
    "start_time": "2025-03-14T04:00:18.797Z"
   },
   {
    "duration": 32,
    "start_time": "2025-03-14T04:00:18.801Z"
   },
   {
    "duration": 2,
    "start_time": "2025-03-14T04:00:18.836Z"
   },
   {
    "duration": 3,
    "start_time": "2025-03-14T04:00:18.841Z"
   },
   {
    "duration": 3,
    "start_time": "2025-03-14T04:00:18.846Z"
   },
   {
    "duration": 2,
    "start_time": "2025-03-14T04:00:18.851Z"
   },
   {
    "duration": 3,
    "start_time": "2025-03-14T04:00:18.855Z"
   },
   {
    "duration": 6,
    "start_time": "2025-03-14T04:00:18.860Z"
   },
   {
    "duration": 159,
    "start_time": "2025-03-14T04:05:11.693Z"
   },
   {
    "duration": 15,
    "start_time": "2025-03-14T04:05:32.740Z"
   },
   {
    "duration": 466,
    "start_time": "2025-03-14T04:06:14.024Z"
   },
   {
    "duration": 1154,
    "start_time": "2025-03-14T04:06:14.494Z"
   },
   {
    "duration": 13,
    "start_time": "2025-03-14T04:06:15.651Z"
   },
   {
    "duration": 11,
    "start_time": "2025-03-14T04:06:15.666Z"
   },
   {
    "duration": 10,
    "start_time": "2025-03-14T04:06:15.680Z"
   },
   {
    "duration": 10,
    "start_time": "2025-03-14T04:06:15.691Z"
   },
   {
    "duration": 33,
    "start_time": "2025-03-14T04:06:15.703Z"
   },
   {
    "duration": 13,
    "start_time": "2025-03-14T04:06:15.739Z"
   },
   {
    "duration": 11,
    "start_time": "2025-03-14T04:06:15.754Z"
   },
   {
    "duration": 17,
    "start_time": "2025-03-14T04:06:15.766Z"
   },
   {
    "duration": 163,
    "start_time": "2025-03-14T04:06:15.785Z"
   },
   {
    "duration": 25,
    "start_time": "2025-03-14T04:06:15.951Z"
   },
   {
    "duration": 110,
    "start_time": "2025-03-14T04:06:15.977Z"
   },
   {
    "duration": 128,
    "start_time": "2025-03-14T04:06:16.092Z"
   },
   {
    "duration": 2,
    "start_time": "2025-03-14T04:06:16.222Z"
   },
   {
    "duration": 101,
    "start_time": "2025-03-14T04:06:16.230Z"
   },
   {
    "duration": 79,
    "start_time": "2025-03-14T04:06:16.333Z"
   },
   {
    "duration": 36,
    "start_time": "2025-03-14T04:06:16.415Z"
   },
   {
    "duration": 13,
    "start_time": "2025-03-14T04:06:16.452Z"
   },
   {
    "duration": 4,
    "start_time": "2025-03-14T04:06:16.467Z"
   },
   {
    "duration": 8,
    "start_time": "2025-03-14T04:06:16.472Z"
   },
   {
    "duration": 2,
    "start_time": "2025-03-14T04:06:16.482Z"
   },
   {
    "duration": 5,
    "start_time": "2025-03-14T04:06:16.486Z"
   },
   {
    "duration": 4,
    "start_time": "2025-03-14T04:06:16.492Z"
   },
   {
    "duration": 4,
    "start_time": "2025-03-14T04:06:16.530Z"
   },
   {
    "duration": 4,
    "start_time": "2025-03-14T04:06:16.535Z"
   },
   {
    "duration": 778,
    "start_time": "2025-03-14T04:06:16.541Z"
   },
   {
    "duration": 44,
    "start_time": "2025-03-14T04:06:17.321Z"
   },
   {
    "duration": 2,
    "start_time": "2025-03-14T04:06:17.367Z"
   },
   {
    "duration": 3,
    "start_time": "2025-03-14T04:06:17.372Z"
   },
   {
    "duration": 3,
    "start_time": "2025-03-14T04:06:17.377Z"
   },
   {
    "duration": 3,
    "start_time": "2025-03-14T04:06:17.382Z"
   },
   {
    "duration": 2,
    "start_time": "2025-03-14T04:06:17.387Z"
   },
   {
    "duration": 3,
    "start_time": "2025-03-14T04:06:17.391Z"
   },
   {
    "duration": 3,
    "start_time": "2025-03-14T04:06:17.395Z"
   },
   {
    "duration": 31,
    "start_time": "2025-03-14T04:06:17.400Z"
   },
   {
    "duration": 3,
    "start_time": "2025-03-14T04:06:17.432Z"
   },
   {
    "duration": 3,
    "start_time": "2025-03-14T04:06:17.436Z"
   },
   {
    "duration": 4,
    "start_time": "2025-03-14T04:06:17.440Z"
   },
   {
    "duration": 4,
    "start_time": "2025-03-14T04:06:17.445Z"
   },
   {
    "duration": 5,
    "start_time": "2025-03-14T04:06:17.454Z"
   },
   {
    "duration": 252,
    "start_time": "2025-03-14T04:11:32.252Z"
   },
   {
    "duration": 17,
    "start_time": "2025-03-14T04:11:32.793Z"
   },
   {
    "duration": 442,
    "start_time": "2025-03-14T04:11:59.372Z"
   },
   {
    "duration": 1229,
    "start_time": "2025-03-14T04:11:59.816Z"
   },
   {
    "duration": 17,
    "start_time": "2025-03-14T04:12:01.047Z"
   },
   {
    "duration": 13,
    "start_time": "2025-03-14T04:12:01.066Z"
   },
   {
    "duration": 8,
    "start_time": "2025-03-14T04:12:01.083Z"
   },
   {
    "duration": 9,
    "start_time": "2025-03-14T04:12:01.092Z"
   },
   {
    "duration": 33,
    "start_time": "2025-03-14T04:12:01.102Z"
   },
   {
    "duration": 18,
    "start_time": "2025-03-14T04:12:01.137Z"
   },
   {
    "duration": 14,
    "start_time": "2025-03-14T04:12:01.156Z"
   },
   {
    "duration": 18,
    "start_time": "2025-03-14T04:12:01.173Z"
   },
   {
    "duration": 182,
    "start_time": "2025-03-14T04:12:01.192Z"
   },
   {
    "duration": 22,
    "start_time": "2025-03-14T04:12:01.376Z"
   },
   {
    "duration": 112,
    "start_time": "2025-03-14T04:12:01.400Z"
   },
   {
    "duration": 111,
    "start_time": "2025-03-14T04:12:01.514Z"
   },
   {
    "duration": 6,
    "start_time": "2025-03-14T04:12:01.626Z"
   },
   {
    "duration": 111,
    "start_time": "2025-03-14T04:12:01.634Z"
   },
   {
    "duration": 96,
    "start_time": "2025-03-14T04:12:01.747Z"
   },
   {
    "duration": 28,
    "start_time": "2025-03-14T04:12:01.845Z"
   },
   {
    "duration": 13,
    "start_time": "2025-03-14T04:12:01.876Z"
   },
   {
    "duration": 4,
    "start_time": "2025-03-14T04:12:01.890Z"
   },
   {
    "duration": 7,
    "start_time": "2025-03-14T04:12:01.896Z"
   },
   {
    "duration": 28,
    "start_time": "2025-03-14T04:12:01.904Z"
   },
   {
    "duration": 5,
    "start_time": "2025-03-14T04:12:01.933Z"
   },
   {
    "duration": 3,
    "start_time": "2025-03-14T04:12:01.940Z"
   },
   {
    "duration": 8,
    "start_time": "2025-03-14T04:12:01.949Z"
   },
   {
    "duration": 3,
    "start_time": "2025-03-14T04:12:01.959Z"
   },
   {
    "duration": 911,
    "start_time": "2025-03-14T04:12:01.964Z"
   },
   {
    "duration": 35,
    "start_time": "2025-03-14T04:12:02.880Z"
   },
   {
    "duration": 15,
    "start_time": "2025-03-14T04:12:02.916Z"
   },
   {
    "duration": 4,
    "start_time": "2025-03-14T04:12:02.934Z"
   },
   {
    "duration": 3,
    "start_time": "2025-03-14T04:12:02.940Z"
   },
   {
    "duration": 5,
    "start_time": "2025-03-14T04:12:02.944Z"
   },
   {
    "duration": 3,
    "start_time": "2025-03-14T04:12:02.950Z"
   },
   {
    "duration": 3,
    "start_time": "2025-03-14T04:12:02.954Z"
   },
   {
    "duration": 2,
    "start_time": "2025-03-14T04:12:02.959Z"
   },
   {
    "duration": 2,
    "start_time": "2025-03-14T04:12:02.963Z"
   },
   {
    "duration": 2,
    "start_time": "2025-03-14T04:12:02.967Z"
   },
   {
    "duration": 3,
    "start_time": "2025-03-14T04:12:02.971Z"
   },
   {
    "duration": 3,
    "start_time": "2025-03-14T04:12:02.975Z"
   },
   {
    "duration": 3,
    "start_time": "2025-03-14T04:12:02.980Z"
   },
   {
    "duration": 7,
    "start_time": "2025-03-14T04:12:02.984Z"
   },
   {
    "duration": 462,
    "start_time": "2025-03-14T04:25:15.050Z"
   },
   {
    "duration": 1200,
    "start_time": "2025-03-14T04:25:15.656Z"
   },
   {
    "duration": 20,
    "start_time": "2025-03-14T04:25:16.859Z"
   },
   {
    "duration": 16,
    "start_time": "2025-03-14T04:25:16.881Z"
   },
   {
    "duration": 10,
    "start_time": "2025-03-14T04:25:17.357Z"
   },
   {
    "duration": 11,
    "start_time": "2025-03-14T04:25:17.793Z"
   },
   {
    "duration": 10,
    "start_time": "2025-03-14T04:25:20.958Z"
   },
   {
    "duration": 16,
    "start_time": "2025-03-14T04:25:22.400Z"
   },
   {
    "duration": 12,
    "start_time": "2025-03-14T04:25:22.863Z"
   },
   {
    "duration": 23,
    "start_time": "2025-03-14T04:25:23.350Z"
   },
   {
    "duration": 134,
    "start_time": "2025-03-14T04:25:23.875Z"
   },
   {
    "duration": 25,
    "start_time": "2025-03-14T04:25:24.422Z"
   },
   {
    "duration": 88,
    "start_time": "2025-03-14T04:25:26.708Z"
   },
   {
    "duration": 93,
    "start_time": "2025-03-14T04:25:27.215Z"
   },
   {
    "duration": 2,
    "start_time": "2025-03-14T04:25:28.310Z"
   },
   {
    "duration": 107,
    "start_time": "2025-03-14T04:25:29.423Z"
   },
   {
    "duration": 79,
    "start_time": "2025-03-14T04:25:29.961Z"
   },
   {
    "duration": 26,
    "start_time": "2025-03-14T04:25:30.575Z"
   },
   {
    "duration": 13,
    "start_time": "2025-03-14T04:25:32.187Z"
   },
   {
    "duration": 4,
    "start_time": "2025-03-14T04:25:32.660Z"
   },
   {
    "duration": 8,
    "start_time": "2025-03-14T04:25:33.117Z"
   },
   {
    "duration": 2,
    "start_time": "2025-03-14T04:25:33.628Z"
   },
   {
    "duration": 4,
    "start_time": "2025-03-14T04:25:35.229Z"
   },
   {
    "duration": 4,
    "start_time": "2025-03-14T04:25:35.621Z"
   },
   {
    "duration": 6,
    "start_time": "2025-03-14T04:25:37.080Z"
   },
   {
    "duration": 2,
    "start_time": "2025-03-14T04:25:37.430Z"
   },
   {
    "duration": 775,
    "start_time": "2025-03-14T04:25:38.263Z"
   },
   {
    "duration": 31,
    "start_time": "2025-03-14T04:25:39.040Z"
   },
   {
    "duration": 2,
    "start_time": "2025-03-14T04:25:42.483Z"
   },
   {
    "duration": 6,
    "start_time": "2025-03-14T04:25:51.302Z"
   },
   {
    "duration": 172,
    "start_time": "2025-03-14T04:51:17.513Z"
   },
   {
    "duration": 18,
    "start_time": "2025-03-14T04:51:29.147Z"
   },
   {
    "duration": 472,
    "start_time": "2025-03-14T04:51:36.910Z"
   },
   {
    "duration": 1217,
    "start_time": "2025-03-14T04:51:37.454Z"
   },
   {
    "duration": 14,
    "start_time": "2025-03-14T04:51:38.675Z"
   },
   {
    "duration": 11,
    "start_time": "2025-03-14T04:51:38.691Z"
   },
   {
    "duration": 10,
    "start_time": "2025-03-14T04:51:38.738Z"
   },
   {
    "duration": 9,
    "start_time": "2025-03-14T04:51:38.945Z"
   },
   {
    "duration": 9,
    "start_time": "2025-03-14T04:51:39.144Z"
   },
   {
    "duration": 18,
    "start_time": "2025-03-14T04:51:39.691Z"
   },
   {
    "duration": 12,
    "start_time": "2025-03-14T04:51:39.863Z"
   },
   {
    "duration": 16,
    "start_time": "2025-03-14T04:51:40.049Z"
   },
   {
    "duration": 133,
    "start_time": "2025-03-14T04:51:40.225Z"
   },
   {
    "duration": 24,
    "start_time": "2025-03-14T04:51:40.395Z"
   },
   {
    "duration": 84,
    "start_time": "2025-03-14T04:51:41.107Z"
   },
   {
    "duration": 119,
    "start_time": "2025-03-14T04:51:41.552Z"
   },
   {
    "duration": 3,
    "start_time": "2025-03-14T04:51:41.965Z"
   },
   {
    "duration": 98,
    "start_time": "2025-03-14T04:51:42.361Z"
   },
   {
    "duration": 100,
    "start_time": "2025-03-14T04:51:42.548Z"
   },
   {
    "duration": 26,
    "start_time": "2025-03-14T04:51:42.718Z"
   },
   {
    "duration": 19,
    "start_time": "2025-03-14T04:51:43.206Z"
   },
   {
    "duration": 3,
    "start_time": "2025-03-14T04:51:43.390Z"
   },
   {
    "duration": 7,
    "start_time": "2025-03-14T04:51:43.562Z"
   },
   {
    "duration": 3,
    "start_time": "2025-03-14T04:51:43.723Z"
   },
   {
    "duration": 3,
    "start_time": "2025-03-14T04:51:44.231Z"
   },
   {
    "duration": 4,
    "start_time": "2025-03-14T04:51:44.383Z"
   },
   {
    "duration": 4,
    "start_time": "2025-03-14T04:51:44.883Z"
   },
   {
    "duration": 3,
    "start_time": "2025-03-14T04:51:45.040Z"
   },
   {
    "duration": 730,
    "start_time": "2025-03-14T04:51:45.572Z"
   },
   {
    "duration": 36,
    "start_time": "2025-03-14T04:51:46.304Z"
   },
   {
    "duration": 2,
    "start_time": "2025-03-14T04:51:46.561Z"
   },
   {
    "duration": 2,
    "start_time": "2025-03-14T04:51:46.903Z"
   },
   {
    "duration": 2,
    "start_time": "2025-03-14T04:51:47.228Z"
   },
   {
    "duration": 5,
    "start_time": "2025-03-14T04:51:50.939Z"
   },
   {
    "duration": 159,
    "start_time": "2025-03-14T04:57:04.005Z"
   },
   {
    "duration": 12,
    "start_time": "2025-03-14T04:57:05.400Z"
   },
   {
    "duration": 16,
    "start_time": "2025-03-14T05:03:50.369Z"
   },
   {
    "duration": 522,
    "start_time": "2025-03-14T05:03:56.448Z"
   },
   {
    "duration": 1131,
    "start_time": "2025-03-14T05:03:56.972Z"
   },
   {
    "duration": 15,
    "start_time": "2025-03-14T05:03:58.105Z"
   },
   {
    "duration": 18,
    "start_time": "2025-03-14T05:03:58.122Z"
   },
   {
    "duration": 12,
    "start_time": "2025-03-14T05:03:58.142Z"
   },
   {
    "duration": 10,
    "start_time": "2025-03-14T05:03:58.158Z"
   },
   {
    "duration": 14,
    "start_time": "2025-03-14T05:03:58.169Z"
   },
   {
    "duration": 17,
    "start_time": "2025-03-14T05:03:58.225Z"
   },
   {
    "duration": 23,
    "start_time": "2025-03-14T05:03:58.438Z"
   },
   {
    "duration": 16,
    "start_time": "2025-03-14T05:03:58.614Z"
   },
   {
    "duration": 157,
    "start_time": "2025-03-14T05:03:58.815Z"
   },
   {
    "duration": 23,
    "start_time": "2025-03-14T05:03:59.018Z"
   },
   {
    "duration": 94,
    "start_time": "2025-03-14T05:03:59.817Z"
   },
   {
    "duration": 106,
    "start_time": "2025-03-14T05:04:00.012Z"
   },
   {
    "duration": 4,
    "start_time": "2025-03-14T05:04:00.416Z"
   },
   {
    "duration": 102,
    "start_time": "2025-03-14T05:04:00.821Z"
   },
   {
    "duration": 84,
    "start_time": "2025-03-14T05:04:00.992Z"
   },
   {
    "duration": 30,
    "start_time": "2025-03-14T05:04:01.233Z"
   },
   {
    "duration": 14,
    "start_time": "2025-03-14T05:04:01.818Z"
   },
   {
    "duration": 3,
    "start_time": "2025-03-14T05:04:01.993Z"
   },
   {
    "duration": 9,
    "start_time": "2025-03-14T05:04:02.182Z"
   },
   {
    "duration": 4,
    "start_time": "2025-03-14T05:04:02.369Z"
   },
   {
    "duration": 4,
    "start_time": "2025-03-14T05:04:02.986Z"
   },
   {
    "duration": 4,
    "start_time": "2025-03-14T05:04:03.200Z"
   },
   {
    "duration": 6,
    "start_time": "2025-03-14T05:04:03.789Z"
   },
   {
    "duration": 2,
    "start_time": "2025-03-14T05:04:03.998Z"
   },
   {
    "duration": 864,
    "start_time": "2025-03-14T05:04:04.566Z"
   },
   {
    "duration": 37,
    "start_time": "2025-03-14T05:04:05.433Z"
   },
   {
    "duration": 2,
    "start_time": "2025-03-14T05:04:05.562Z"
   },
   {
    "duration": 2,
    "start_time": "2025-03-14T05:04:05.954Z"
   },
   {
    "duration": 4,
    "start_time": "2025-03-14T05:04:06.339Z"
   },
   {
    "duration": 3,
    "start_time": "2025-03-14T05:04:06.676Z"
   },
   {
    "duration": 2,
    "start_time": "2025-03-14T05:04:07.079Z"
   },
   {
    "duration": 2,
    "start_time": "2025-03-14T05:04:07.700Z"
   },
   {
    "duration": 3,
    "start_time": "2025-03-14T05:04:07.886Z"
   },
   {
    "duration": 5,
    "start_time": "2025-03-14T05:04:08.547Z"
   },
   {
    "duration": 3,
    "start_time": "2025-03-14T05:04:08.756Z"
   },
   {
    "duration": 2,
    "start_time": "2025-03-14T05:04:09.182Z"
   },
   {
    "duration": 2,
    "start_time": "2025-03-14T05:04:09.396Z"
   },
   {
    "duration": 3,
    "start_time": "2025-03-14T05:04:09.799Z"
   },
   {
    "duration": 3,
    "start_time": "2025-03-14T05:04:10.635Z"
   },
   {
    "duration": 6,
    "start_time": "2025-03-14T05:04:11.241Z"
   },
   {
    "duration": 700,
    "start_time": "2025-03-15T03:18:01.648Z"
   },
   {
    "duration": 1017,
    "start_time": "2025-03-15T03:18:02.350Z"
   },
   {
    "duration": 15,
    "start_time": "2025-03-15T03:18:03.369Z"
   },
   {
    "duration": 11,
    "start_time": "2025-03-15T03:18:03.387Z"
   },
   {
    "duration": 9,
    "start_time": "2025-03-15T03:18:03.399Z"
   },
   {
    "duration": 11,
    "start_time": "2025-03-15T03:18:03.434Z"
   },
   {
    "duration": 10,
    "start_time": "2025-03-15T03:18:03.447Z"
   },
   {
    "duration": 18,
    "start_time": "2025-03-15T03:18:03.459Z"
   },
   {
    "duration": 12,
    "start_time": "2025-03-15T03:18:03.479Z"
   },
   {
    "duration": 46,
    "start_time": "2025-03-15T03:18:03.494Z"
   },
   {
    "duration": 168,
    "start_time": "2025-03-15T03:18:03.541Z"
   },
   {
    "duration": 33,
    "start_time": "2025-03-15T03:18:03.711Z"
   },
   {
    "duration": 108,
    "start_time": "2025-03-15T03:18:03.746Z"
   },
   {
    "duration": 110,
    "start_time": "2025-03-15T03:18:03.856Z"
   },
   {
    "duration": 3,
    "start_time": "2025-03-15T03:18:03.968Z"
   },
   {
    "duration": 119,
    "start_time": "2025-03-15T03:18:03.973Z"
   },
   {
    "duration": 98,
    "start_time": "2025-03-15T03:18:04.094Z"
   },
   {
    "duration": 22,
    "start_time": "2025-03-15T03:18:04.194Z"
   },
   {
    "duration": 28,
    "start_time": "2025-03-15T03:18:04.217Z"
   },
   {
    "duration": 8,
    "start_time": "2025-03-15T03:18:04.246Z"
   },
   {
    "duration": 11,
    "start_time": "2025-03-15T03:18:04.256Z"
   },
   {
    "duration": 3,
    "start_time": "2025-03-15T03:18:04.269Z"
   },
   {
    "duration": 6,
    "start_time": "2025-03-15T03:18:04.273Z"
   },
   {
    "duration": 3,
    "start_time": "2025-03-15T03:18:04.281Z"
   },
   {
    "duration": 4,
    "start_time": "2025-03-15T03:18:04.286Z"
   },
   {
    "duration": 3,
    "start_time": "2025-03-15T03:18:04.292Z"
   },
   {
    "duration": 776,
    "start_time": "2025-03-15T03:18:04.297Z"
   },
   {
    "duration": 31,
    "start_time": "2025-03-15T03:18:05.077Z"
   },
   {
    "duration": 2,
    "start_time": "2025-03-15T03:18:05.110Z"
   },
   {
    "duration": 17,
    "start_time": "2025-03-15T03:18:05.114Z"
   },
   {
    "duration": 6,
    "start_time": "2025-03-15T03:18:05.133Z"
   },
   {
    "duration": 5,
    "start_time": "2025-03-15T03:18:05.140Z"
   },
   {
    "duration": 2,
    "start_time": "2025-03-15T03:18:05.147Z"
   },
   {
    "duration": 3,
    "start_time": "2025-03-15T03:18:05.153Z"
   },
   {
    "duration": 7,
    "start_time": "2025-03-15T03:18:05.157Z"
   },
   {
    "duration": 3,
    "start_time": "2025-03-15T03:18:05.166Z"
   },
   {
    "duration": 3,
    "start_time": "2025-03-15T03:18:05.171Z"
   },
   {
    "duration": 3,
    "start_time": "2025-03-15T03:18:05.176Z"
   },
   {
    "duration": 3,
    "start_time": "2025-03-15T03:18:05.180Z"
   },
   {
    "duration": 2,
    "start_time": "2025-03-15T03:18:05.185Z"
   },
   {
    "duration": 3,
    "start_time": "2025-03-15T03:18:05.189Z"
   },
   {
    "duration": 38,
    "start_time": "2025-03-15T03:18:05.194Z"
   },
   {
    "duration": 2179,
    "start_time": "2025-03-16T04:53:40.675Z"
   },
   {
    "duration": 1025,
    "start_time": "2025-03-16T04:53:42.856Z"
   },
   {
    "duration": 23,
    "start_time": "2025-03-16T04:53:43.883Z"
   },
   {
    "duration": 10,
    "start_time": "2025-03-16T04:53:43.908Z"
   },
   {
    "duration": 10,
    "start_time": "2025-03-16T04:53:44.058Z"
   },
   {
    "duration": 10,
    "start_time": "2025-03-16T04:53:44.937Z"
   },
   {
    "duration": 25,
    "start_time": "2025-03-16T04:53:45.674Z"
   },
   {
    "duration": 11,
    "start_time": "2025-03-16T04:53:50.668Z"
   },
   {
    "duration": 18,
    "start_time": "2025-03-16T04:53:53.013Z"
   },
   {
    "duration": 10,
    "start_time": "2025-03-16T04:53:54.642Z"
   },
   {
    "duration": 4,
    "start_time": "2025-03-16T04:53:55.692Z"
   },
   {
    "duration": 2,
    "start_time": "2025-03-16T04:53:56.243Z"
   },
   {
    "duration": 16,
    "start_time": "2025-03-16T04:53:59.058Z"
   },
   {
    "duration": 25,
    "start_time": "2025-03-16T04:53:59.918Z"
   },
   {
    "duration": 7,
    "start_time": "2025-03-16T04:54:03.549Z"
   },
   {
    "duration": 32,
    "start_time": "2025-03-16T04:54:06.284Z"
   },
   {
    "duration": 20,
    "start_time": "2025-03-16T04:54:18.024Z"
   },
   {
    "duration": 84,
    "start_time": "2025-03-16T04:54:27.014Z"
   },
   {
    "duration": 93,
    "start_time": "2025-03-16T04:54:27.769Z"
   },
   {
    "duration": 11,
    "start_time": "2025-03-16T04:54:30.804Z"
   },
   {
    "duration": 101,
    "start_time": "2025-03-16T04:56:08.154Z"
   },
   {
    "duration": 78,
    "start_time": "2025-03-16T04:56:12.206Z"
   },
   {
    "duration": 24,
    "start_time": "2025-03-16T04:56:12.921Z"
   },
   {
    "duration": 13,
    "start_time": "2025-03-16T04:57:38.444Z"
   },
   {
    "duration": 4,
    "start_time": "2025-03-16T04:57:39.088Z"
   },
   {
    "duration": 6,
    "start_time": "2025-03-16T04:57:39.580Z"
   },
   {
    "duration": 12,
    "start_time": "2025-03-16T05:04:21.161Z"
   },
   {
    "duration": 14,
    "start_time": "2025-03-16T05:05:51.377Z"
   },
   {
    "duration": 12,
    "start_time": "2025-03-16T05:05:58.285Z"
   },
   {
    "duration": 95,
    "start_time": "2025-03-16T05:12:06.750Z"
   },
   {
    "duration": 4,
    "start_time": "2025-03-16T05:12:09.636Z"
   },
   {
    "duration": 12,
    "start_time": "2025-03-16T05:12:10.776Z"
   },
   {
    "duration": 4,
    "start_time": "2025-03-16T05:12:28.152Z"
   },
   {
    "duration": 7,
    "start_time": "2025-03-16T05:15:03.375Z"
   },
   {
    "duration": 5,
    "start_time": "2025-03-16T05:23:12.820Z"
   },
   {
    "duration": 164,
    "start_time": "2025-03-16T05:23:37.326Z"
   },
   {
    "duration": 17,
    "start_time": "2025-03-16T05:24:07.395Z"
   },
   {
    "duration": 15,
    "start_time": "2025-03-16T05:24:51.412Z"
   },
   {
    "duration": 16,
    "start_time": "2025-03-16T05:25:31.469Z"
   },
   {
    "duration": 414,
    "start_time": "2025-03-16T05:27:09.282Z"
   },
   {
    "duration": 5,
    "start_time": "2025-03-16T05:27:36.014Z"
   },
   {
    "duration": 16,
    "start_time": "2025-03-16T05:27:39.625Z"
   },
   {
    "duration": 16,
    "start_time": "2025-03-16T05:28:03.405Z"
   },
   {
    "duration": 15,
    "start_time": "2025-03-16T05:28:38.835Z"
   },
   {
    "duration": 15,
    "start_time": "2025-03-16T05:30:04.844Z"
   },
   {
    "duration": 8,
    "start_time": "2025-03-16T05:31:54.193Z"
   },
   {
    "duration": 6,
    "start_time": "2025-03-16T05:32:22.827Z"
   },
   {
    "duration": 6,
    "start_time": "2025-03-16T05:33:14.574Z"
   },
   {
    "duration": 11,
    "start_time": "2025-03-16T05:33:26.697Z"
   },
   {
    "duration": 7,
    "start_time": "2025-03-16T05:35:17.848Z"
   },
   {
    "duration": 6,
    "start_time": "2025-03-16T05:39:22.152Z"
   },
   {
    "duration": 6,
    "start_time": "2025-03-16T05:40:52.939Z"
   },
   {
    "duration": 5,
    "start_time": "2025-03-16T05:42:01.118Z"
   },
   {
    "duration": 18,
    "start_time": "2025-03-16T05:42:42.777Z"
   },
   {
    "duration": 8,
    "start_time": "2025-03-16T05:42:52.309Z"
   },
   {
    "duration": 5,
    "start_time": "2025-03-16T05:46:54.151Z"
   },
   {
    "duration": 8,
    "start_time": "2025-03-16T05:47:43.691Z"
   },
   {
    "duration": 6,
    "start_time": "2025-03-16T05:48:51.659Z"
   },
   {
    "duration": 14,
    "start_time": "2025-03-16T06:05:13.962Z"
   },
   {
    "duration": 9,
    "start_time": "2025-03-16T06:07:55.339Z"
   },
   {
    "duration": 2220,
    "start_time": "2025-03-16T22:57:26.626Z"
   },
   {
    "duration": 1037,
    "start_time": "2025-03-16T22:57:28.848Z"
   },
   {
    "duration": 16,
    "start_time": "2025-03-16T22:57:29.887Z"
   },
   {
    "duration": 11,
    "start_time": "2025-03-16T22:57:29.906Z"
   },
   {
    "duration": 8,
    "start_time": "2025-03-16T22:57:29.919Z"
   },
   {
    "duration": 8,
    "start_time": "2025-03-16T22:57:29.929Z"
   },
   {
    "duration": 25,
    "start_time": "2025-03-16T22:57:30.240Z"
   },
   {
    "duration": 12,
    "start_time": "2025-03-16T22:57:41.545Z"
   },
   {
    "duration": 18,
    "start_time": "2025-03-16T22:57:42.068Z"
   },
   {
    "duration": 10,
    "start_time": "2025-03-16T22:57:43.112Z"
   },
   {
    "duration": 3,
    "start_time": "2025-03-16T22:57:43.645Z"
   },
   {
    "duration": 1,
    "start_time": "2025-03-16T22:57:44.195Z"
   },
   {
    "duration": 17,
    "start_time": "2025-03-16T22:57:45.734Z"
   },
   {
    "duration": 34,
    "start_time": "2025-03-16T22:57:46.372Z"
   },
   {
    "duration": 8,
    "start_time": "2025-03-16T22:57:49.752Z"
   },
   {
    "duration": 749,
    "start_time": "2025-03-16T22:57:54.913Z"
   },
   {
    "duration": 48,
    "start_time": "2025-03-16T22:57:58.097Z"
   },
   {
    "duration": 2,
    "start_time": "2025-03-16T23:00:34.580Z"
   },
   {
    "duration": 105,
    "start_time": "2025-03-16T23:00:37.506Z"
   },
   {
    "duration": 117,
    "start_time": "2025-03-16T23:00:38.410Z"
   },
   {
    "duration": 18,
    "start_time": "2025-03-16T23:00:39.865Z"
   },
   {
    "duration": 132,
    "start_time": "2025-03-16T23:00:43.356Z"
   },
   {
    "duration": 94,
    "start_time": "2025-03-16T23:00:43.835Z"
   },
   {
    "duration": 26,
    "start_time": "2025-03-16T23:00:44.349Z"
   },
   {
    "duration": 16,
    "start_time": "2025-03-16T23:00:47.969Z"
   },
   {
    "duration": 3,
    "start_time": "2025-03-16T23:00:48.500Z"
   },
   {
    "duration": 9,
    "start_time": "2025-03-16T23:00:49.074Z"
   },
   {
    "duration": 25,
    "start_time": "2025-03-16T23:00:51.589Z"
   },
   {
    "duration": 4,
    "start_time": "2025-03-16T23:00:54.368Z"
   },
   {
    "duration": 8,
    "start_time": "2025-03-16T23:00:55.364Z"
   },
   {
    "duration": 4,
    "start_time": "2025-03-16T23:00:58.201Z"
   },
   {
    "duration": 3,
    "start_time": "2025-03-16T23:00:58.783Z"
   },
   {
    "duration": 1065,
    "start_time": "2025-03-16T23:01:01.119Z"
   },
   {
    "duration": 51,
    "start_time": "2025-03-16T23:01:02.535Z"
   },
   {
    "duration": 6,
    "start_time": "2025-03-16T23:01:16.116Z"
   },
   {
    "duration": 8,
    "start_time": "2025-03-16T23:01:18.892Z"
   },
   {
    "duration": 11,
    "start_time": "2025-03-16T23:01:22.757Z"
   },
   {
    "duration": 8,
    "start_time": "2025-03-16T23:01:25.655Z"
   },
   {
    "duration": 16,
    "start_time": "2025-03-16T23:01:28.828Z"
   },
   {
    "duration": 8,
    "start_time": "2025-03-16T23:01:34.482Z"
   },
   {
    "duration": 23,
    "start_time": "2025-03-16T23:01:41.303Z"
   },
   {
    "duration": 41,
    "start_time": "2025-03-16T23:01:43.049Z"
   },
   {
    "duration": 46,
    "start_time": "2025-03-16T23:01:48.647Z"
   },
   {
    "duration": 25,
    "start_time": "2025-03-16T23:01:49.701Z"
   },
   {
    "duration": 17,
    "start_time": "2025-03-16T23:07:26.525Z"
   },
   {
    "duration": 61,
    "start_time": "2025-03-16T23:07:51.874Z"
   },
   {
    "duration": 5,
    "start_time": "2025-03-16T23:07:54.690Z"
   },
   {
    "duration": 11,
    "start_time": "2025-03-16T23:08:27.482Z"
   },
   {
    "duration": 4,
    "start_time": "2025-03-16T23:08:36.520Z"
   },
   {
    "duration": 5,
    "start_time": "2025-03-16T23:09:20.601Z"
   },
   {
    "duration": 8,
    "start_time": "2025-03-16T23:09:27.682Z"
   },
   {
    "duration": 53,
    "start_time": "2025-03-16T23:10:59.266Z"
   },
   {
    "duration": 18,
    "start_time": "2025-03-16T23:11:07.341Z"
   },
   {
    "duration": 17,
    "start_time": "2025-03-16T23:11:26.350Z"
   },
   {
    "duration": 8,
    "start_time": "2025-03-16T23:12:17.144Z"
   },
   {
    "duration": 8,
    "start_time": "2025-03-16T23:12:27.649Z"
   },
   {
    "duration": 648,
    "start_time": "2025-03-16T23:13:13.943Z"
   },
   {
    "duration": 39,
    "start_time": "2025-03-16T23:13:29.882Z"
   },
   {
    "duration": 3,
    "start_time": "2025-03-16T23:14:07.271Z"
   },
   {
    "duration": 852,
    "start_time": "2025-03-16T23:14:07.777Z"
   },
   {
    "duration": 13,
    "start_time": "2025-03-16T23:14:08.633Z"
   },
   {
    "duration": 11,
    "start_time": "2025-03-16T23:14:08.892Z"
   },
   {
    "duration": 10,
    "start_time": "2025-03-16T23:14:09.303Z"
   },
   {
    "duration": 10,
    "start_time": "2025-03-16T23:14:09.819Z"
   },
   {
    "duration": 24,
    "start_time": "2025-03-16T23:14:10.318Z"
   },
   {
    "duration": 12,
    "start_time": "2025-03-16T23:14:13.533Z"
   },
   {
    "duration": 25,
    "start_time": "2025-03-16T23:14:14.025Z"
   },
   {
    "duration": 24,
    "start_time": "2025-03-16T23:14:15.366Z"
   },
   {
    "duration": 9,
    "start_time": "2025-03-16T23:14:16.326Z"
   },
   {
    "duration": 2,
    "start_time": "2025-03-16T23:14:16.965Z"
   },
   {
    "duration": 19,
    "start_time": "2025-03-16T23:14:19.701Z"
   },
   {
    "duration": 24,
    "start_time": "2025-03-16T23:14:20.624Z"
   },
   {
    "duration": 7,
    "start_time": "2025-03-16T23:14:21.467Z"
   },
   {
    "duration": 79,
    "start_time": "2025-03-16T23:14:26.644Z"
   },
   {
    "duration": 100,
    "start_time": "2025-03-16T23:14:27.272Z"
   },
   {
    "duration": 10,
    "start_time": "2025-03-16T23:14:29.149Z"
   },
   {
    "duration": 92,
    "start_time": "2025-03-16T23:14:34.454Z"
   },
   {
    "duration": 91,
    "start_time": "2025-03-16T23:14:35.018Z"
   },
   {
    "duration": 25,
    "start_time": "2025-03-16T23:14:35.633Z"
   },
   {
    "duration": 18,
    "start_time": "2025-03-16T23:14:39.012Z"
   },
   {
    "duration": 4,
    "start_time": "2025-03-16T23:14:39.560Z"
   },
   {
    "duration": 7,
    "start_time": "2025-03-16T23:14:40.230Z"
   },
   {
    "duration": 14,
    "start_time": "2025-03-16T23:14:42.939Z"
   },
   {
    "duration": 3,
    "start_time": "2025-03-16T23:14:45.608Z"
   },
   {
    "duration": 4,
    "start_time": "2025-03-16T23:14:46.121Z"
   },
   {
    "duration": 4,
    "start_time": "2025-03-16T23:14:48.919Z"
   },
   {
    "duration": 4,
    "start_time": "2025-03-16T23:14:49.385Z"
   },
   {
    "duration": 816,
    "start_time": "2025-03-16T23:14:51.692Z"
   },
   {
    "duration": 36,
    "start_time": "2025-03-16T23:14:52.510Z"
   },
   {
    "duration": 6,
    "start_time": "2025-03-16T23:14:55.961Z"
   },
   {
    "duration": 7,
    "start_time": "2025-03-16T23:14:58.811Z"
   },
   {
    "duration": 7,
    "start_time": "2025-03-16T23:15:00.966Z"
   },
   {
    "duration": 9,
    "start_time": "2025-03-16T23:15:04.330Z"
   },
   {
    "duration": 8,
    "start_time": "2025-03-16T23:15:08.800Z"
   },
   {
    "duration": 7,
    "start_time": "2025-03-16T23:15:11.269Z"
   },
   {
    "duration": 16,
    "start_time": "2025-03-16T23:15:15.343Z"
   },
   {
    "duration": 29,
    "start_time": "2025-03-16T23:15:19.240Z"
   },
   {
    "duration": 6,
    "start_time": "2025-03-16T23:15:22.662Z"
   },
   {
    "duration": 18,
    "start_time": "2025-03-16T23:17:18.985Z"
   },
   {
    "duration": 24,
    "start_time": "2025-03-16T23:21:20.469Z"
   },
   {
    "duration": 14,
    "start_time": "2025-03-16T23:23:13.903Z"
   },
   {
    "duration": 14,
    "start_time": "2025-03-16T23:25:55.384Z"
   },
   {
    "duration": 13,
    "start_time": "2025-03-16T23:27:52.665Z"
   },
   {
    "duration": 13,
    "start_time": "2025-03-16T23:28:34.523Z"
   },
   {
    "duration": 39,
    "start_time": "2025-03-16T23:29:33.598Z"
   },
   {
    "duration": 19,
    "start_time": "2025-03-16T23:29:35.355Z"
   },
   {
    "duration": 8,
    "start_time": "2025-03-16T23:36:37.338Z"
   },
   {
    "duration": 9,
    "start_time": "2025-03-16T23:37:55.153Z"
   },
   {
    "duration": 15,
    "start_time": "2025-03-16T23:43:18.803Z"
   },
   {
    "duration": 256,
    "start_time": "2025-03-16T23:43:44.982Z"
   },
   {
    "duration": 6,
    "start_time": "2025-03-16T23:46:41.424Z"
   },
   {
    "duration": 5,
    "start_time": "2025-03-16T23:46:52.860Z"
   },
   {
    "duration": 4,
    "start_time": "2025-03-16T23:47:04.424Z"
   },
   {
    "duration": 4,
    "start_time": "2025-03-16T23:48:10.599Z"
   },
   {
    "duration": 4,
    "start_time": "2025-03-16T23:48:14.091Z"
   },
   {
    "duration": 6,
    "start_time": "2025-03-16T23:50:27.899Z"
   },
   {
    "duration": 4,
    "start_time": "2025-03-16T23:50:33.345Z"
   },
   {
    "duration": 7,
    "start_time": "2025-03-16T23:50:38.898Z"
   },
   {
    "duration": 4,
    "start_time": "2025-03-16T23:50:50.651Z"
   },
   {
    "duration": 398,
    "start_time": "2025-03-17T00:01:39.246Z"
   },
   {
    "duration": 425,
    "start_time": "2025-03-17T00:02:52.933Z"
   },
   {
    "duration": 315,
    "start_time": "2025-03-17T00:05:18.082Z"
   },
   {
    "duration": 406,
    "start_time": "2025-03-17T00:08:31.623Z"
   },
   {
    "duration": 4,
    "start_time": "2025-03-17T00:19:01.982Z"
   },
   {
    "duration": 9,
    "start_time": "2025-03-17T00:31:02.769Z"
   },
   {
    "duration": 277,
    "start_time": "2025-03-17T00:31:04.174Z"
   },
   {
    "duration": 189,
    "start_time": "2025-03-17T00:32:04.757Z"
   },
   {
    "duration": 184,
    "start_time": "2025-03-17T00:32:57.747Z"
   },
   {
    "duration": 186,
    "start_time": "2025-03-17T00:33:11.775Z"
   },
   {
    "duration": 1051,
    "start_time": "2025-03-17T00:39:27.558Z"
   },
   {
    "duration": 4,
    "start_time": "2025-03-17T00:40:29.503Z"
   },
   {
    "duration": 722,
    "start_time": "2025-03-17T00:42:14.465Z"
   },
   {
    "duration": 201,
    "start_time": "2025-03-17T00:43:22.372Z"
   },
   {
    "duration": 225,
    "start_time": "2025-03-17T00:44:11.765Z"
   },
   {
    "duration": 426,
    "start_time": "2025-03-17T00:45:13.865Z"
   },
   {
    "duration": 335,
    "start_time": "2025-03-17T00:46:31.548Z"
   },
   {
    "duration": 234,
    "start_time": "2025-03-17T00:51:02.557Z"
   },
   {
    "duration": 274,
    "start_time": "2025-03-17T00:51:36.667Z"
   },
   {
    "duration": 254,
    "start_time": "2025-03-17T00:51:47.665Z"
   },
   {
    "duration": 233,
    "start_time": "2025-03-17T00:51:58.622Z"
   },
   {
    "duration": 391,
    "start_time": "2025-03-17T00:54:26.495Z"
   },
   {
    "duration": 258,
    "start_time": "2025-03-17T00:58:24.582Z"
   },
   {
    "duration": 43,
    "start_time": "2025-03-17T01:00:56.761Z"
   },
   {
    "duration": 13,
    "start_time": "2025-03-17T01:02:06.724Z"
   },
   {
    "duration": 155,
    "start_time": "2025-03-17T01:02:15.281Z"
   },
   {
    "duration": 263,
    "start_time": "2025-03-17T01:04:59.856Z"
   },
   {
    "duration": 1863,
    "start_time": "2025-03-17T01:09:23.952Z"
   },
   {
    "duration": 2,
    "start_time": "2025-03-17T01:09:26.038Z"
   },
   {
    "duration": 1702,
    "start_time": "2025-03-17T01:09:50.235Z"
   },
   {
    "duration": 2,
    "start_time": "2025-03-17T01:09:51.939Z"
   },
   {
    "duration": 160,
    "start_time": "2025-03-17T03:53:21.826Z"
   },
   {
    "duration": 2108,
    "start_time": "2025-03-17T03:53:32.901Z"
   },
   {
    "duration": 1010,
    "start_time": "2025-03-17T03:53:35.011Z"
   },
   {
    "duration": 19,
    "start_time": "2025-03-17T03:53:36.023Z"
   },
   {
    "duration": 10,
    "start_time": "2025-03-17T03:53:36.045Z"
   },
   {
    "duration": 8,
    "start_time": "2025-03-17T03:53:36.057Z"
   },
   {
    "duration": 8,
    "start_time": "2025-03-17T03:53:36.067Z"
   },
   {
    "duration": 24,
    "start_time": "2025-03-17T03:53:36.077Z"
   },
   {
    "duration": 40,
    "start_time": "2025-03-17T03:53:36.103Z"
   },
   {
    "duration": 13,
    "start_time": "2025-03-17T03:53:36.145Z"
   },
   {
    "duration": 11,
    "start_time": "2025-03-17T03:53:36.526Z"
   },
   {
    "duration": 3,
    "start_time": "2025-03-17T03:53:36.734Z"
   },
   {
    "duration": 2,
    "start_time": "2025-03-17T03:53:36.946Z"
   },
   {
    "duration": 16,
    "start_time": "2025-03-17T03:53:37.328Z"
   },
   {
    "duration": 30,
    "start_time": "2025-03-17T03:53:37.556Z"
   },
   {
    "duration": 8,
    "start_time": "2025-03-17T03:53:37.727Z"
   },
   {
    "duration": 2,
    "start_time": "2025-03-17T03:53:38.371Z"
   },
   {
    "duration": 85,
    "start_time": "2025-03-17T03:53:39.251Z"
   },
   {
    "duration": 89,
    "start_time": "2025-03-17T03:53:39.465Z"
   },
   {
    "duration": 10,
    "start_time": "2025-03-17T03:53:39.913Z"
   },
   {
    "duration": 101,
    "start_time": "2025-03-17T03:53:40.581Z"
   },
   {
    "duration": 80,
    "start_time": "2025-03-17T03:53:40.807Z"
   },
   {
    "duration": 23,
    "start_time": "2025-03-17T03:53:41.075Z"
   },
   {
    "duration": 13,
    "start_time": "2025-03-17T03:53:41.846Z"
   },
   {
    "duration": 3,
    "start_time": "2025-03-17T03:53:42.088Z"
   },
   {
    "duration": 6,
    "start_time": "2025-03-17T03:53:42.319Z"
   },
   {
    "duration": 16,
    "start_time": "2025-03-17T03:53:42.708Z"
   },
   {
    "duration": 3,
    "start_time": "2025-03-17T03:53:43.587Z"
   },
   {
    "duration": 3,
    "start_time": "2025-03-17T03:53:43.794Z"
   },
   {
    "duration": 4,
    "start_time": "2025-03-17T03:53:44.636Z"
   },
   {
    "duration": 3,
    "start_time": "2025-03-17T03:53:44.900Z"
   },
   {
    "duration": 722,
    "start_time": "2025-03-17T03:53:45.692Z"
   },
   {
    "duration": 35,
    "start_time": "2025-03-17T03:53:46.416Z"
   },
   {
    "duration": 5,
    "start_time": "2025-03-17T03:53:46.963Z"
   },
   {
    "duration": 7,
    "start_time": "2025-03-17T03:53:47.406Z"
   },
   {
    "duration": 7,
    "start_time": "2025-03-17T03:53:47.823Z"
   },
   {
    "duration": 8,
    "start_time": "2025-03-17T03:53:48.243Z"
   },
   {
    "duration": 9,
    "start_time": "2025-03-17T03:53:48.678Z"
   },
   {
    "duration": 5,
    "start_time": "2025-03-17T03:53:49.420Z"
   },
   {
    "duration": 2,
    "start_time": "2025-03-17T03:53:49.638Z"
   },
   {
    "duration": 15,
    "start_time": "2025-03-17T03:53:50.251Z"
   },
   {
    "duration": 33,
    "start_time": "2025-03-17T03:53:50.463Z"
   },
   {
    "duration": 7,
    "start_time": "2025-03-17T03:53:50.920Z"
   },
   {
    "duration": 17,
    "start_time": "2025-03-17T03:53:51.147Z"
   },
   {
    "duration": 29,
    "start_time": "2025-03-17T03:53:52.286Z"
   },
   {
    "duration": 18,
    "start_time": "2025-03-17T03:53:52.818Z"
   },
   {
    "duration": 10,
    "start_time": "2025-03-17T03:53:59.191Z"
   },
   {
    "duration": 317,
    "start_time": "2025-03-17T03:54:02.258Z"
   },
   {
    "duration": 191,
    "start_time": "2025-03-17T03:54:04.507Z"
   },
   {
    "duration": 273,
    "start_time": "2025-03-17T03:54:06.144Z"
   },
   {
    "duration": 4,
    "start_time": "2025-03-17T03:54:06.633Z"
   },
   {
    "duration": 9,
    "start_time": "2025-03-17T03:54:08.644Z"
   },
   {
    "duration": 189,
    "start_time": "2025-03-17T03:54:09.311Z"
   },
   {
    "duration": 187,
    "start_time": "2025-03-17T03:54:10.082Z"
   },
   {
    "duration": 262,
    "start_time": "2025-03-17T03:54:15.602Z"
   },
   {
    "duration": 381,
    "start_time": "2025-03-17T03:54:21.751Z"
   },
   {
    "duration": 248,
    "start_time": "2025-03-17T03:54:26.422Z"
   },
   {
    "duration": 2,
    "start_time": "2025-03-17T03:54:30.004Z"
   },
   {
    "duration": 242,
    "start_time": "2025-03-17T03:56:32.225Z"
   },
   {
    "duration": 174,
    "start_time": "2025-03-17T03:58:55.508Z"
   },
   {
    "duration": 1168,
    "start_time": "2025-03-17T03:59:08.204Z"
   },
   {
    "duration": 177,
    "start_time": "2025-03-17T03:59:17.719Z"
   },
   {
    "duration": 417,
    "start_time": "2025-03-17T04:04:26.197Z"
   },
   {
    "duration": 1046,
    "start_time": "2025-03-17T04:04:26.616Z"
   },
   {
    "duration": 14,
    "start_time": "2025-03-17T04:04:27.664Z"
   },
   {
    "duration": 11,
    "start_time": "2025-03-17T04:04:27.680Z"
   },
   {
    "duration": 9,
    "start_time": "2025-03-17T04:04:27.693Z"
   },
   {
    "duration": 8,
    "start_time": "2025-03-17T04:04:27.704Z"
   },
   {
    "duration": 23,
    "start_time": "2025-03-17T04:04:27.742Z"
   },
   {
    "duration": 11,
    "start_time": "2025-03-17T04:04:28.044Z"
   },
   {
    "duration": 15,
    "start_time": "2025-03-17T04:04:28.190Z"
   },
   {
    "duration": 9,
    "start_time": "2025-03-17T04:04:28.508Z"
   },
   {
    "duration": 4,
    "start_time": "2025-03-17T04:04:28.677Z"
   },
   {
    "duration": 3,
    "start_time": "2025-03-17T04:04:28.846Z"
   },
   {
    "duration": 17,
    "start_time": "2025-03-17T04:04:29.128Z"
   },
   {
    "duration": 25,
    "start_time": "2025-03-17T04:04:29.273Z"
   },
   {
    "duration": 7,
    "start_time": "2025-03-17T04:04:29.432Z"
   },
   {
    "duration": 2,
    "start_time": "2025-03-17T04:04:29.891Z"
   },
   {
    "duration": 90,
    "start_time": "2025-03-17T04:04:30.443Z"
   },
   {
    "duration": 93,
    "start_time": "2025-03-17T04:04:30.731Z"
   },
   {
    "duration": 10,
    "start_time": "2025-03-17T04:04:31.073Z"
   },
   {
    "duration": 93,
    "start_time": "2025-03-17T04:04:31.532Z"
   },
   {
    "duration": 72,
    "start_time": "2025-03-17T04:04:31.685Z"
   },
   {
    "duration": 22,
    "start_time": "2025-03-17T04:04:31.843Z"
   },
   {
    "duration": 12,
    "start_time": "2025-03-17T04:04:32.469Z"
   },
   {
    "duration": 3,
    "start_time": "2025-03-17T04:04:32.638Z"
   },
   {
    "duration": 6,
    "start_time": "2025-03-17T04:04:32.776Z"
   },
   {
    "duration": 13,
    "start_time": "2025-03-17T04:04:33.105Z"
   },
   {
    "duration": 3,
    "start_time": "2025-03-17T04:04:33.771Z"
   },
   {
    "duration": 4,
    "start_time": "2025-03-17T04:04:33.932Z"
   },
   {
    "duration": 4,
    "start_time": "2025-03-17T04:04:34.702Z"
   },
   {
    "duration": 3,
    "start_time": "2025-03-17T04:04:34.866Z"
   },
   {
    "duration": 729,
    "start_time": "2025-03-17T04:04:35.720Z"
   },
   {
    "duration": 32,
    "start_time": "2025-03-17T04:04:36.451Z"
   },
   {
    "duration": 5,
    "start_time": "2025-03-17T04:04:36.849Z"
   },
   {
    "duration": 6,
    "start_time": "2025-03-17T04:04:37.222Z"
   },
   {
    "duration": 6,
    "start_time": "2025-03-17T04:04:37.570Z"
   },
   {
    "duration": 8,
    "start_time": "2025-03-17T04:04:37.989Z"
   },
   {
    "duration": 10,
    "start_time": "2025-03-17T04:04:38.406Z"
   },
   {
    "duration": 6,
    "start_time": "2025-03-17T04:04:38.986Z"
   },
   {
    "duration": 2,
    "start_time": "2025-03-17T04:04:39.312Z"
   },
   {
    "duration": 15,
    "start_time": "2025-03-17T04:04:39.944Z"
   },
   {
    "duration": 32,
    "start_time": "2025-03-17T04:04:40.134Z"
   },
   {
    "duration": 7,
    "start_time": "2025-03-17T04:04:40.622Z"
   },
   {
    "duration": 17,
    "start_time": "2025-03-17T04:04:40.833Z"
   },
   {
    "duration": 35,
    "start_time": "2025-03-17T04:04:41.237Z"
   },
   {
    "duration": 23,
    "start_time": "2025-03-17T04:04:41.418Z"
   },
   {
    "duration": 3,
    "start_time": "2025-03-17T04:04:42.210Z"
   },
   {
    "duration": 10,
    "start_time": "2025-03-17T04:04:43.271Z"
   },
   {
    "duration": 262,
    "start_time": "2025-03-17T04:04:47.181Z"
   },
   {
    "duration": 185,
    "start_time": "2025-03-17T04:04:50.153Z"
   },
   {
    "duration": 267,
    "start_time": "2025-03-17T04:04:53.337Z"
   },
   {
    "duration": 4,
    "start_time": "2025-03-17T04:04:56.602Z"
   },
   {
    "duration": 9,
    "start_time": "2025-03-17T04:04:59.499Z"
   },
   {
    "duration": 187,
    "start_time": "2025-03-17T04:05:00.115Z"
   },
   {
    "duration": 195,
    "start_time": "2025-03-17T04:05:00.565Z"
   },
   {
    "duration": 268,
    "start_time": "2025-03-17T04:05:02.059Z"
   },
   {
    "duration": 3,
    "start_time": "2025-03-17T04:05:02.329Z"
   },
   {
    "duration": 515,
    "start_time": "2025-03-17T04:05:08.217Z"
   },
   {
    "duration": 228,
    "start_time": "2025-03-17T04:05:13.973Z"
   },
   {
    "duration": 192,
    "start_time": "2025-03-17T04:05:15.172Z"
   },
   {
    "duration": 76,
    "start_time": "2025-03-17T04:05:19.023Z"
   },
   {
    "duration": 15,
    "start_time": "2025-03-17T04:05:19.447Z"
   },
   {
    "duration": 12,
    "start_time": "2025-03-17T04:05:20.286Z"
   },
   {
    "duration": 12,
    "start_time": "2025-03-17T04:10:10.665Z"
   },
   {
    "duration": 13,
    "start_time": "2025-03-17T04:10:23.118Z"
   },
   {
    "duration": 106,
    "start_time": "2025-03-17T04:10:28.765Z"
   },
   {
    "duration": 46,
    "start_time": "2025-03-17T04:10:32.639Z"
   },
   {
    "duration": 13,
    "start_time": "2025-03-17T04:10:34.389Z"
   },
   {
    "duration": 12,
    "start_time": "2025-03-17T04:10:43.457Z"
   },
   {
    "duration": 4,
    "start_time": "2025-03-17T04:10:44.504Z"
   },
   {
    "duration": 15,
    "start_time": "2025-03-17T04:14:32.541Z"
   },
   {
    "duration": 92,
    "start_time": "2025-03-17T04:14:38.748Z"
   },
   {
    "duration": 14,
    "start_time": "2025-03-17T04:14:39.833Z"
   },
   {
    "duration": 14,
    "start_time": "2025-03-17T04:14:46.021Z"
   },
   {
    "duration": 92,
    "start_time": "2025-03-17T04:16:03.152Z"
   },
   {
    "duration": 14,
    "start_time": "2025-03-17T04:16:04.309Z"
   },
   {
    "duration": 89,
    "start_time": "2025-03-17T04:24:06.525Z"
   },
   {
    "duration": 119,
    "start_time": "2025-03-17T04:24:07.349Z"
   },
   {
    "duration": 114,
    "start_time": "2025-03-17T04:24:29.476Z"
   },
   {
    "duration": 6,
    "start_time": "2025-03-17T04:24:31.817Z"
   },
   {
    "duration": 807,
    "start_time": "2025-03-17T04:26:32.068Z"
   },
   {
    "duration": 6,
    "start_time": "2025-03-17T04:26:33.481Z"
   },
   {
    "duration": 29,
    "start_time": "2025-03-17T04:33:28.007Z"
   },
   {
    "duration": 11,
    "start_time": "2025-03-17T04:33:28.523Z"
   },
   {
    "duration": 4,
    "start_time": "2025-03-17T04:33:28.982Z"
   },
   {
    "duration": 8,
    "start_time": "2025-03-17T18:47:56.453Z"
   },
   {
    "duration": 5,
    "start_time": "2025-03-17T18:49:53.301Z"
   },
   {
    "duration": 4,
    "start_time": "2025-03-17T18:50:02.400Z"
   },
   {
    "duration": 2688,
    "start_time": "2025-03-20T04:49:29.662Z"
   },
   {
    "duration": 1121,
    "start_time": "2025-03-20T04:49:32.352Z"
   },
   {
    "duration": 14,
    "start_time": "2025-03-20T04:49:33.475Z"
   },
   {
    "duration": 10,
    "start_time": "2025-03-20T04:49:33.491Z"
   },
   {
    "duration": 27,
    "start_time": "2025-03-20T04:49:33.503Z"
   },
   {
    "duration": 15,
    "start_time": "2025-03-20T04:49:33.532Z"
   },
   {
    "duration": 34,
    "start_time": "2025-03-20T04:49:33.549Z"
   },
   {
    "duration": 13,
    "start_time": "2025-03-20T04:49:40.313Z"
   },
   {
    "duration": 11,
    "start_time": "2025-03-20T04:49:46.514Z"
   },
   {
    "duration": 4,
    "start_time": "2025-03-20T04:49:48.959Z"
   },
   {
    "duration": 24,
    "start_time": "2025-03-20T04:49:56.625Z"
   },
   {
    "duration": 35,
    "start_time": "2025-03-20T04:49:57.537Z"
   },
   {
    "duration": 12,
    "start_time": "2025-03-20T04:49:58.142Z"
   },
   {
    "duration": 100,
    "start_time": "2025-03-20T04:50:02.610Z"
   },
   {
    "duration": 105,
    "start_time": "2025-03-20T04:50:03.320Z"
   },
   {
    "duration": 28,
    "start_time": "2025-03-20T04:50:07.523Z"
   },
   {
    "duration": 118,
    "start_time": "2025-03-20T04:50:10.670Z"
   },
   {
    "duration": 117,
    "start_time": "2025-03-20T04:50:11.106Z"
   },
   {
    "duration": 39,
    "start_time": "2025-03-20T04:50:11.618Z"
   },
   {
    "duration": 17,
    "start_time": "2025-03-20T04:50:14.524Z"
   },
   {
    "duration": 3,
    "start_time": "2025-03-20T04:50:15.049Z"
   },
   {
    "duration": 8,
    "start_time": "2025-03-20T04:50:15.549Z"
   },
   {
    "duration": 12,
    "start_time": "2025-03-20T04:50:24.976Z"
   },
   {
    "duration": 4,
    "start_time": "2025-03-20T04:50:27.704Z"
   },
   {
    "duration": 3,
    "start_time": "2025-03-20T04:50:28.205Z"
   },
   {
    "duration": 4,
    "start_time": "2025-03-20T04:50:30.785Z"
   },
   {
    "duration": 5,
    "start_time": "2025-03-20T04:50:31.458Z"
   },
   {
    "duration": 1094,
    "start_time": "2025-03-20T04:50:38.122Z"
   },
   {
    "duration": 61,
    "start_time": "2025-03-20T04:50:39.218Z"
   },
   {
    "duration": 6,
    "start_time": "2025-03-20T04:50:41.640Z"
   },
   {
    "duration": 10,
    "start_time": "2025-03-20T04:50:42.861Z"
   },
   {
    "duration": 10,
    "start_time": "2025-03-20T04:50:44.916Z"
   },
   {
    "duration": 14,
    "start_time": "2025-03-20T04:50:47.641Z"
   },
   {
    "duration": 11,
    "start_time": "2025-03-20T04:50:53.152Z"
   },
   {
    "duration": 5,
    "start_time": "2025-03-20T04:51:02.298Z"
   },
   {
    "duration": 11,
    "start_time": "2025-03-20T04:52:30.491Z"
   },
   {
    "duration": 20,
    "start_time": "2025-03-20T04:56:16.135Z"
   },
   {
    "duration": 17,
    "start_time": "2025-03-20T04:56:20.075Z"
   },
   {
    "duration": 38,
    "start_time": "2025-03-20T04:56:20.641Z"
   },
   {
    "duration": 24,
    "start_time": "2025-03-20T05:03:18.426Z"
   },
   {
    "duration": 37,
    "start_time": "2025-03-20T05:03:19.146Z"
   },
   {
    "duration": 10,
    "start_time": "2025-03-20T05:03:21.933Z"
   },
   {
    "duration": 27,
    "start_time": "2025-03-20T05:03:30.980Z"
   },
   {
    "duration": 26,
    "start_time": "2025-03-20T05:05:39.947Z"
   },
   {
    "duration": 21,
    "start_time": "2025-03-20T05:06:40.397Z"
   },
   {
    "duration": 109,
    "start_time": "2025-03-20T05:11:14.190Z"
   },
   {
    "duration": 12,
    "start_time": "2025-03-20T05:11:26.699Z"
   },
   {
    "duration": 13,
    "start_time": "2025-03-20T05:20:20.169Z"
   },
   {
    "duration": 16,
    "start_time": "2025-03-20T05:44:16.046Z"
   },
   {
    "duration": 229,
    "start_time": "2025-03-20T05:44:16.808Z"
   },
   {
    "duration": 187,
    "start_time": "2025-03-20T05:44:19.834Z"
   },
   {
    "duration": 115,
    "start_time": "2025-03-20T05:44:59.642Z"
   },
   {
    "duration": 10,
    "start_time": "2025-03-20T05:45:43.329Z"
   },
   {
    "duration": 192,
    "start_time": "2025-03-20T05:45:43.989Z"
   },
   {
    "duration": 195,
    "start_time": "2025-03-20T05:45:44.582Z"
   },
   {
    "duration": 18,
    "start_time": "2025-03-20T05:45:45.278Z"
   },
   {
    "duration": 101,
    "start_time": "2025-03-20T05:48:43.270Z"
   },
   {
    "duration": 83,
    "start_time": "2025-03-20T05:48:49.845Z"
   },
   {
    "duration": 361,
    "start_time": "2025-03-20T05:49:26.609Z"
   },
   {
    "duration": 229,
    "start_time": "2025-03-20T05:50:15.087Z"
   },
   {
    "duration": 87,
    "start_time": "2025-03-20T05:54:03.195Z"
   },
   {
    "duration": 27,
    "start_time": "2025-03-20T05:54:03.936Z"
   },
   {
    "duration": 508,
    "start_time": "2025-03-20T05:54:13.588Z"
   },
   {
    "duration": 12,
    "start_time": "2025-03-20T05:54:34.101Z"
   },
   {
    "duration": 214,
    "start_time": "2025-03-20T05:55:23.018Z"
   },
   {
    "duration": 273,
    "start_time": "2025-03-20T05:55:33.255Z"
   },
   {
    "duration": 13,
    "start_time": "2025-03-20T05:57:07.467Z"
   },
   {
    "duration": 251,
    "start_time": "2025-03-20T05:57:20.948Z"
   },
   {
    "duration": 177,
    "start_time": "2025-03-20T05:57:22.284Z"
   },
   {
    "duration": 2,
    "start_time": "2025-03-20T05:57:24.727Z"
   },
   {
    "duration": 158,
    "start_time": "2025-03-20T05:57:26.581Z"
   },
   {
    "duration": 14,
    "start_time": "2025-03-20T05:59:46.241Z"
   },
   {
    "duration": 67,
    "start_time": "2025-03-20T05:59:50.494Z"
   },
   {
    "duration": 47,
    "start_time": "2025-03-20T05:59:51.002Z"
   },
   {
    "duration": 15,
    "start_time": "2025-03-20T05:59:51.481Z"
   },
   {
    "duration": 5,
    "start_time": "2025-03-20T05:59:52.085Z"
   },
   {
    "duration": 71,
    "start_time": "2025-03-20T05:59:52.790Z"
   },
   {
    "duration": 294,
    "start_time": "2025-03-20T06:00:12.688Z"
   },
   {
    "duration": 1033,
    "start_time": "2025-03-20T06:05:54.976Z"
   },
   {
    "duration": 5,
    "start_time": "2025-03-20T06:05:56.011Z"
   },
   {
    "duration": 7,
    "start_time": "2025-03-20T06:05:57.146Z"
   },
   {
    "duration": 4,
    "start_time": "2025-03-20T06:06:11.486Z"
   },
   {
    "duration": 35,
    "start_time": "2025-03-20T06:08:28.640Z"
   },
   {
    "duration": 12,
    "start_time": "2025-03-20T06:08:29.115Z"
   },
   {
    "duration": 5,
    "start_time": "2025-03-20T06:08:29.701Z"
   },
   {
    "duration": 56,
    "start_time": "2025-03-20T06:08:30.626Z"
   },
   {
    "duration": 305,
    "start_time": "2025-03-20T06:08:54.124Z"
   }
  ],
  "colab": {
   "provenance": []
  },
  "kernelspec": {
   "display_name": "Python 3 (ipykernel)",
   "language": "python",
   "name": "python3"
  },
  "language_info": {
   "codemirror_mode": {
    "name": "ipython",
    "version": 3
   },
   "file_extension": ".py",
   "mimetype": "text/x-python",
   "name": "python",
   "nbconvert_exporter": "python",
   "pygments_lexer": "ipython3",
   "version": "3.9.19"
  },
  "toc": {
   "base_numbering": 1,
   "nav_menu": {},
   "number_sections": true,
   "sideBar": true,
   "skip_h1_title": true,
   "title_cell": "Table of Contents",
   "title_sidebar": "Contents",
   "toc_cell": false,
   "toc_position": {},
   "toc_section_display": true,
   "toc_window_display": false
  },
  "vscode": {
   "interpreter": {
    "hash": "01a7be9ec63e704a62cefc5fe7a4756944464ee731be31632bdf42a4cb4688cf"
   }
  }
 },
 "nbformat": 4,
 "nbformat_minor": 5
}
