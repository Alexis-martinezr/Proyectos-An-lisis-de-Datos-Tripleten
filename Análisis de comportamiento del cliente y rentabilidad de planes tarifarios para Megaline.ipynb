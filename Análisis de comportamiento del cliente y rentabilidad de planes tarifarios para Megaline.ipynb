{
 "cells": [
  {
   "cell_type": "markdown",
   "metadata": {
    "id": "3rYiDeEH0q0f"
   },
   "source": [
    "# ¿Cuál es la mejor tarifa?\n",
    "\n",
    "Trabajas como analista para el operador de telecomunicaciones Megaline. La empresa ofrece a sus clientes dos tarifas de prepago, Surf y Ultimate. El departamento comercial quiere saber cuál de las tarifas genera más ingresos para poder ajustar el presupuesto de publicidad.\n",
    "\n",
    "Vas a realizar un análisis preliminar de las tarifas basado en una selección de clientes relativamente pequeña. Tendrás los datos de 500 clientes de Megaline: quiénes son los clientes, de dónde son, qué tarifa usan, así como la cantidad de llamadas que hicieron y los mensajes de texto que enviaron en 2018. Tu trabajo es analizar el comportamiento de los clientes y determinar qué tarifa de prepago genera más ingresos."
   ]
  },
  {
   "cell_type": "markdown",
   "metadata": {
    "id": "VNddPNRQ0q0w"
   },
   "source": [
    "[Te proporcionamos algunos comentarios para orientarte mientras completas este proyecto. Pero debes asegurarte de eliminar todos los comentarios entre corchetes antes de entregar tu proyecto.]\n",
    "\n",
    "[Antes de sumergirte en el análisis de datos, explica por tu propia cuenta el propósito del proyecto y las acciones que planeas realizar.]\n",
    "\n",
    "[Ten en cuenta que estudiar, modificar y analizar datos es un proceso iterativo. Es normal volver a los pasos anteriores y corregirlos/ampliarlos para permitir nuevos pasos.]"
   ]
  },
  {
   "cell_type": "markdown",
   "metadata": {
    "id": "MQi4IPy70q0y"
   },
   "source": [
    "## Inicialización"
   ]
  },
  {
   "cell_type": "code",
   "execution_count": 1,
   "metadata": {
    "id": "MtYIuBxu0q0z",
    "trusted": true
   },
   "outputs": [],
   "source": [
    "# Cargar todas las librerías\n",
    "from scipy import stats as st\n",
    "import numpy as np\n",
    "import pandas as pd\n",
    "import matplotlib.pyplot as plt\n",
    "import seaborn as sns\n",
    "import math as mt"
   ]
  },
  {
   "cell_type": "markdown",
   "metadata": {
    "id": "4ysWWC5i0q00"
   },
   "source": [
    "## Cargar datos"
   ]
  },
  {
   "cell_type": "code",
   "execution_count": 2,
   "metadata": {
    "id": "CCqPW7rS0q01",
    "trusted": true
   },
   "outputs": [],
   "source": [
    "# Carga los archivos de datos en diferentes DataFrames\n",
    "\n",
    "datos_de_usuario= pd.read_csv(\"/datasets/megaline_users.csv\")\n",
    "llamadas= pd.read_csv(\"/datasets/megaline_calls.csv\")\n",
    "sms= pd.read_csv(\"/datasets/megaline_messages.csv\")\n",
    "web= pd.read_csv(\"/datasets/megaline_internet.csv\")\n",
    "tarifas= pd.read_csv(\"/datasets/megaline_plans.csv\")"
   ]
  },
  {
   "cell_type": "markdown",
   "metadata": {
    "id": "69qqoJ3r0q01"
   },
   "source": [
    "## Preparar los datos"
   ]
  },
  {
   "cell_type": "markdown",
   "metadata": {
    "id": "vUuZw80S0q01"
   },
   "source": [
    "[Los datos para este proyecto se dividen en varias tablas. Explora cada una para tener una comprensión inicial de los datos. Si es necesario, haz las correcciones requeridas en cada tabla.]"
   ]
  },
  {
   "cell_type": "markdown",
   "metadata": {
    "id": "ohBhimvH0q01"
   },
   "source": [
    "## Tarifas"
   ]
  },
  {
   "cell_type": "code",
   "execution_count": 3,
   "metadata": {
    "id": "GptqP3Q40q02",
    "trusted": true
   },
   "outputs": [
    {
     "name": "stdout",
     "output_type": "stream",
     "text": [
      "<class 'pandas.core.frame.DataFrame'>\n",
      "RangeIndex: 2 entries, 0 to 1\n",
      "Data columns (total 8 columns):\n",
      " #   Column                 Non-Null Count  Dtype  \n",
      "---  ------                 --------------  -----  \n",
      " 0   messages_included      2 non-null      int64  \n",
      " 1   mb_per_month_included  2 non-null      int64  \n",
      " 2   minutes_included       2 non-null      int64  \n",
      " 3   usd_monthly_pay        2 non-null      int64  \n",
      " 4   usd_per_gb             2 non-null      int64  \n",
      " 5   usd_per_message        2 non-null      float64\n",
      " 6   usd_per_minute         2 non-null      float64\n",
      " 7   plan_name              2 non-null      object \n",
      "dtypes: float64(2), int64(5), object(1)\n",
      "memory usage: 256.0+ bytes\n",
      "None\n"
     ]
    }
   ],
   "source": [
    "# Imprime la información general/resumida sobre el DataFrame de las tarifas\n",
    "\n",
    "\n",
    "print(tarifas.info())"
   ]
  },
  {
   "cell_type": "code",
   "execution_count": 4,
   "metadata": {
    "id": "64xzjwL70q02",
    "trusted": true
   },
   "outputs": [
    {
     "name": "stdout",
     "output_type": "stream",
     "text": [
      "   messages_included  mb_per_month_included  minutes_included  \\\n",
      "0                 50                  15360               500   \n",
      "1               1000                  30720              3000   \n",
      "\n",
      "   usd_monthly_pay  usd_per_gb  usd_per_message  usd_per_minute plan_name  \n",
      "0               20          10             0.03            0.03      surf  \n",
      "1               70           7             0.01            0.01  ultimate  \n"
     ]
    }
   ],
   "source": [
    "# Imprime una muestra de los datos para las tarifas\n",
    "\n",
    "print(tarifas.head())"
   ]
  },
  {
   "cell_type": "code",
   "execution_count": 5,
   "metadata": {
    "trusted": true
   },
   "outputs": [
    {
     "name": "stdout",
     "output_type": "stream",
     "text": [
      "  plan_name  mb_per_month_included  gb_per_month_included\n",
      "0      surf                  15360                   15.0\n",
      "1  ultimate                  30720                   30.0\n"
     ]
    }
   ],
   "source": [
    "tarifas['gb_per_month_included'] = (tarifas['mb_per_month_included'] / 1024).round()\n",
    "\n",
    "print(tarifas[['plan_name', 'mb_per_month_included', 'gb_per_month_included']])"
   ]
  },
  {
   "cell_type": "markdown",
   "metadata": {
    "id": "eqADpCfg0q04"
   },
   "source": [
    "[Los megabytes utilizados y proporcionados por el plan fueron convertidos a Gb mas adelante en el proyecto y se redondearon hacia arriba.]"
   ]
  },
  {
   "cell_type": "markdown",
   "metadata": {
    "id": "1n2X6WXf0q04"
   },
   "source": [
    "## Usuarios/as"
   ]
  },
  {
   "cell_type": "code",
   "execution_count": 6,
   "metadata": {
    "id": "2NgjWFqx0q05",
    "trusted": true
   },
   "outputs": [
    {
     "name": "stdout",
     "output_type": "stream",
     "text": [
      "<class 'pandas.core.frame.DataFrame'>\n",
      "RangeIndex: 500 entries, 0 to 499\n",
      "Data columns (total 8 columns):\n",
      " #   Column      Non-Null Count  Dtype \n",
      "---  ------      --------------  ----- \n",
      " 0   user_id     500 non-null    int64 \n",
      " 1   first_name  500 non-null    object\n",
      " 2   last_name   500 non-null    object\n",
      " 3   age         500 non-null    int64 \n",
      " 4   city        500 non-null    object\n",
      " 5   reg_date    500 non-null    object\n",
      " 6   plan        500 non-null    object\n",
      " 7   churn_date  34 non-null     object\n",
      "dtypes: int64(2), object(6)\n",
      "memory usage: 31.4+ KB\n",
      "None\n"
     ]
    }
   ],
   "source": [
    "# Imprime la información general/resumida sobre el DataFrame de usuarios\n",
    "\n",
    "print(datos_de_usuario.info())"
   ]
  },
  {
   "cell_type": "code",
   "execution_count": 7,
   "metadata": {
    "id": "1IN1L9uh0q05",
    "trusted": true
   },
   "outputs": [
    {
     "name": "stdout",
     "output_type": "stream",
     "text": [
      "   user_id first_name  last_name  age                                   city  \\\n",
      "0     1000   Anamaria      Bauer   45  Atlanta-Sandy Springs-Roswell, GA MSA   \n",
      "1     1001     Mickey  Wilkerson   28        Seattle-Tacoma-Bellevue, WA MSA   \n",
      "2     1002     Carlee    Hoffman   36   Las Vegas-Henderson-Paradise, NV MSA   \n",
      "3     1003   Reynaldo    Jenkins   52                          Tulsa, OK MSA   \n",
      "4     1004    Leonila   Thompson   40        Seattle-Tacoma-Bellevue, WA MSA   \n",
      "\n",
      "     reg_date      plan churn_date  \n",
      "0  2018-12-24  ultimate        NaN  \n",
      "1  2018-08-13      surf        NaN  \n",
      "2  2018-10-21      surf        NaN  \n",
      "3  2018-01-28      surf        NaN  \n",
      "4  2018-05-23      surf        NaN  \n",
      "user_id         0\n",
      "first_name      0\n",
      "last_name       0\n",
      "age             0\n",
      "city            0\n",
      "reg_date        0\n",
      "plan            0\n",
      "churn_date    466\n",
      "dtype: int64\n"
     ]
    }
   ],
   "source": [
    "# Imprime una muestra de datos para usuarios\n",
    "print(datos_de_usuario.head())\n",
    "print(datos_de_usuario.isna().sum())"
   ]
  },
  {
   "cell_type": "markdown",
   "metadata": {
    "id": "dCZoUq4f0q06"
   },
   "source": [
    "[Describe lo que ves y observas en la información general y en la muestra de datos impresa para el precio de datos anterior. ¿Hay algún problema (tipos de datos no adecuados, datos ausentes, etc.) que pudieran necesitar investigación y cambios adicionales? ¿Cómo se puede arreglar?]"
   ]
  },
  {
   "cell_type": "markdown",
   "metadata": {
    "id": "BX5FQh_I0q06"
   },
   "source": [
    "### Corregir los datos"
   ]
  },
  {
   "cell_type": "markdown",
   "metadata": {
    "id": "8OdKMwJv0q06"
   },
   "source": [
    "[Corrige los problemas obvios con los datos basándote en las observaciones iniciales.]"
   ]
  },
  {
   "cell_type": "code",
   "execution_count": 8,
   "metadata": {
    "id": "yUqX-K0C0q07",
    "trusted": true
   },
   "outputs": [
    {
     "name": "stdout",
     "output_type": "stream",
     "text": [
      "user_id                int64\n",
      "first_name            object\n",
      "last_name             object\n",
      "age                    int64\n",
      "city                  object\n",
      "reg_date      datetime64[ns]\n",
      "plan                  object\n",
      "churn_date    datetime64[ns]\n",
      "dtype: object\n"
     ]
    }
   ],
   "source": [
    "datos_de_usuario['reg_date'] = pd.to_datetime(datos_de_usuario['reg_date'], dayfirst=True, format='%Y-%m-%d') \n",
    "datos_de_usuario['churn_date'] = pd.to_datetime(datos_de_usuario['churn_date'], dayfirst=True, errors='coerce', format='%Y-%m-%d')\n",
    "print(datos_de_usuario.dtypes)"
   ]
  },
  {
   "cell_type": "markdown",
   "metadata": {
    "id": "ycwuARJp0q07"
   },
   "source": [
    "### Enriquecer los datos"
   ]
  },
  {
   "cell_type": "markdown",
   "metadata": {
    "id": "96NIh4CJ0q08"
   },
   "source": [
    "[Agrega factores adicionales a los datos si crees que pudieran ser útiles.]"
   ]
  },
  {
   "cell_type": "markdown",
   "metadata": {
    "id": "o7MeKCid0q08"
   },
   "source": [
    "## Llamadas"
   ]
  },
  {
   "cell_type": "code",
   "execution_count": 9,
   "metadata": {
    "id": "6dDlnoDm0q08",
    "trusted": true
   },
   "outputs": [
    {
     "name": "stdout",
     "output_type": "stream",
     "text": [
      "<class 'pandas.core.frame.DataFrame'>\n",
      "RangeIndex: 137735 entries, 0 to 137734\n",
      "Data columns (total 4 columns):\n",
      " #   Column     Non-Null Count   Dtype  \n",
      "---  ------     --------------   -----  \n",
      " 0   id         137735 non-null  object \n",
      " 1   user_id    137735 non-null  int64  \n",
      " 2   call_date  137735 non-null  object \n",
      " 3   duration   137735 non-null  float64\n",
      "dtypes: float64(1), int64(1), object(2)\n",
      "memory usage: 4.2+ MB\n",
      "None\n",
      "id           0\n",
      "user_id      0\n",
      "call_date    0\n",
      "duration     0\n",
      "dtype: int64\n"
     ]
    }
   ],
   "source": [
    "# Imprime la información general/resumida sobre el DataFrame de las llamadas\n",
    "\n",
    "print(llamadas.info())\n",
    "print(llamadas.isna().sum())"
   ]
  },
  {
   "cell_type": "code",
   "execution_count": 10,
   "metadata": {
    "id": "kuh1vlNB0q09",
    "trusted": true
   },
   "outputs": [
    {
     "name": "stdout",
     "output_type": "stream",
     "text": [
      "         id  user_id   call_date  duration\n",
      "0   1000_93     1000  2018-12-27      8.52\n",
      "1  1000_145     1000  2018-12-27     13.66\n",
      "2  1000_247     1000  2018-12-27     14.48\n",
      "3  1000_309     1000  2018-12-28      5.76\n",
      "4  1000_380     1000  2018-12-30      4.22\n"
     ]
    }
   ],
   "source": [
    "# Imprime una muestra de datos para las llamadas\n",
    "\n",
    "print(llamadas.head())"
   ]
  },
  {
   "cell_type": "code",
   "execution_count": 11,
   "metadata": {
    "trusted": true
   },
   "outputs": [
    {
     "name": "stdout",
     "output_type": "stream",
     "text": [
      "id             1000_145\n",
      "user_id            1000\n",
      "call_date    2018-01-15\n",
      "duration            0.0\n",
      "dtype: object\n"
     ]
    }
   ],
   "source": [
    "print(llamadas.min())"
   ]
  },
  {
   "cell_type": "code",
   "execution_count": 12,
   "metadata": {
    "trusted": true
   },
   "outputs": [
    {
     "name": "stdout",
     "output_type": "stream",
     "text": [
      "         id  user_id   call_date  duration\n",
      "0   1000_93     1000  2018-12-27         9\n",
      "1  1000_145     1000  2018-12-27        14\n",
      "2  1000_247     1000  2018-12-27        15\n",
      "3  1000_309     1000  2018-12-28         6\n",
      "4  1000_380     1000  2018-12-30         5\n"
     ]
    }
   ],
   "source": [
    "llamadas[\"duration\"]= np.ceil(llamadas[\"duration\"]).astype(int)\n",
    "print(llamadas.head())"
   ]
  },
  {
   "cell_type": "markdown",
   "metadata": {
    "id": "DOAxYJSx0q09"
   },
   "source": [
    "[La duracion se encuentra como un dato flotante en lugar de entero, ademas algunas filas presentan llamadas de duracion de cero segundos, puede que se esten contando las llamadas ]"
   ]
  },
  {
   "cell_type": "markdown",
   "metadata": {
    "id": "S7hzxmbX0q0-"
   },
   "source": [
    "### Corregir los datos"
   ]
  },
  {
   "cell_type": "markdown",
   "metadata": {
    "id": "YxWyAjD20q0-"
   },
   "source": [
    "[Corrige los problemas obvios con los datos basándote en las observaciones iniciales.]"
   ]
  },
  {
   "cell_type": "code",
   "execution_count": 13,
   "metadata": {
    "id": "S2r8xA4f0q0-",
    "trusted": true
   },
   "outputs": [
    {
     "name": "stdout",
     "output_type": "stream",
     "text": [
      "id                   object\n",
      "user_id               int64\n",
      "call_date    datetime64[ns]\n",
      "duration              int64\n",
      "dtype: object\n"
     ]
    }
   ],
   "source": [
    "llamadas['call_date'] = pd.to_datetime(llamadas['call_date'], dayfirst=True, format='%Y-%m-%d') \n",
    "print(llamadas.dtypes)"
   ]
  },
  {
   "cell_type": "code",
   "execution_count": 14,
   "metadata": {
    "trusted": true
   },
   "outputs": [
    {
     "name": "stdout",
     "output_type": "stream",
     "text": [
      "0\n"
     ]
    }
   ],
   "source": [
    "print(llamadas[\"duration\"].min())"
   ]
  },
  {
   "cell_type": "markdown",
   "metadata": {
    "id": "KrMgTrlG0q0_"
   },
   "source": [
    "### Enriquecer los datos"
   ]
  },
  {
   "cell_type": "markdown",
   "metadata": {
    "id": "a9MbmEvE0q0_"
   },
   "source": [
    "[Se presentaron llamadas con duracion cero, podrian tratarse de llamadas no contestadas, que no se como procese la compañoa, o de llamadas con duracion de pocos segundos que fueron redondeadas a cero]"
   ]
  },
  {
   "cell_type": "markdown",
   "metadata": {
    "id": "mOUZSi180q0_"
   },
   "source": [
    "## Mensajes"
   ]
  },
  {
   "cell_type": "code",
   "execution_count": 15,
   "metadata": {
    "id": "R-bYJpdV0q1A",
    "trusted": true
   },
   "outputs": [
    {
     "name": "stdout",
     "output_type": "stream",
     "text": [
      "<class 'pandas.core.frame.DataFrame'>\n",
      "RangeIndex: 76051 entries, 0 to 76050\n",
      "Data columns (total 3 columns):\n",
      " #   Column        Non-Null Count  Dtype \n",
      "---  ------        --------------  ----- \n",
      " 0   id            76051 non-null  object\n",
      " 1   user_id       76051 non-null  int64 \n",
      " 2   message_date  76051 non-null  object\n",
      "dtypes: int64(1), object(2)\n",
      "memory usage: 1.7+ MB\n",
      "None\n",
      "id              0\n",
      "user_id         0\n",
      "message_date    0\n",
      "dtype: int64\n"
     ]
    }
   ],
   "source": [
    "# Imprime la información general/resumida sobre el DataFrame de los mensajes\n",
    "\n",
    "print(sms.info())\n",
    "print(sms.isna().sum())"
   ]
  },
  {
   "cell_type": "code",
   "execution_count": 16,
   "metadata": {
    "id": "mCEl2iGE0q1A",
    "trusted": true
   },
   "outputs": [
    {
     "name": "stdout",
     "output_type": "stream",
     "text": [
      "         id  user_id message_date\n",
      "0  1000_125     1000   2018-12-27\n",
      "1  1000_160     1000   2018-12-31\n",
      "2  1000_223     1000   2018-12-31\n",
      "3  1000_251     1000   2018-12-27\n",
      "4  1000_255     1000   2018-12-26\n"
     ]
    }
   ],
   "source": [
    "# Imprime una muestra de datos para los mensajes\n",
    "\n",
    "print(sms.head())"
   ]
  },
  {
   "cell_type": "markdown",
   "metadata": {
    "id": "04xDj7KH0q1A"
   },
   "source": [
    "[Si bien no hay datos ausentes las fechas tienen un tipo de formato distito al adecuado]"
   ]
  },
  {
   "cell_type": "markdown",
   "metadata": {
    "id": "Sprfak900q1B"
   },
   "source": [
    "### Corregir los datos"
   ]
  },
  {
   "cell_type": "markdown",
   "metadata": {
    "id": "eGw7d9j10q1B"
   },
   "source": [
    "[Corrige los problemas obvios con los datos basándote en las observaciones iniciales.]"
   ]
  },
  {
   "cell_type": "code",
   "execution_count": 17,
   "metadata": {
    "id": "vsllvkoa0q1B",
    "trusted": true
   },
   "outputs": [
    {
     "name": "stdout",
     "output_type": "stream",
     "text": [
      "id                      object\n",
      "user_id                  int64\n",
      "message_date    datetime64[ns]\n",
      "dtype: object\n"
     ]
    }
   ],
   "source": [
    "sms['message_date'] = pd.to_datetime(sms['message_date'], dayfirst=True, format='%Y-%m-%d') \n",
    "print(sms.dtypes)"
   ]
  },
  {
   "cell_type": "markdown",
   "metadata": {
    "id": "bStkaxn40q1C"
   },
   "source": [
    "## Internet"
   ]
  },
  {
   "cell_type": "code",
   "execution_count": 18,
   "metadata": {
    "id": "e-Uz5qyn0q1C",
    "trusted": true
   },
   "outputs": [
    {
     "name": "stdout",
     "output_type": "stream",
     "text": [
      "<class 'pandas.core.frame.DataFrame'>\n",
      "RangeIndex: 104825 entries, 0 to 104824\n",
      "Data columns (total 4 columns):\n",
      " #   Column        Non-Null Count   Dtype  \n",
      "---  ------        --------------   -----  \n",
      " 0   id            104825 non-null  object \n",
      " 1   user_id       104825 non-null  int64  \n",
      " 2   session_date  104825 non-null  object \n",
      " 3   mb_used       104825 non-null  float64\n",
      "dtypes: float64(1), int64(1), object(2)\n",
      "memory usage: 3.2+ MB\n",
      "None\n",
      "id              0\n",
      "user_id         0\n",
      "session_date    0\n",
      "mb_used         0\n",
      "dtype: int64\n"
     ]
    }
   ],
   "source": [
    "# Imprime la información general/resumida sobre el DataFrame de internet\n",
    "\n",
    "print(web.info())\n",
    "print(web.isna().sum())"
   ]
  },
  {
   "cell_type": "code",
   "execution_count": 19,
   "metadata": {
    "id": "9r3x_XLw0q1C",
    "trusted": true
   },
   "outputs": [
    {
     "name": "stdout",
     "output_type": "stream",
     "text": [
      "         id  user_id session_date  mb_used\n",
      "0   1000_13     1000   2018-12-29    89.86\n",
      "1  1000_204     1000   2018-12-31     0.00\n",
      "2  1000_379     1000   2018-12-28   660.40\n",
      "3  1000_413     1000   2018-12-26   270.99\n",
      "4  1000_442     1000   2018-12-27   880.22\n"
     ]
    }
   ],
   "source": [
    "# Imprime una muestra de datos para el tráfico de internet\n",
    "\n",
    "print(web.head())"
   ]
  },
  {
   "cell_type": "markdown",
   "metadata": {
    "id": "yA0tkPFg0q1D"
   },
   "source": [
    "### Corregir los datos"
   ]
  },
  {
   "cell_type": "markdown",
   "metadata": {
    "id": "zlZMuIEK0q1D"
   },
   "source": [
    "[Corrige los problemas obvios con los datos basándote en las observaciones iniciales.]"
   ]
  },
  {
   "cell_type": "code",
   "execution_count": 20,
   "metadata": {
    "id": "zVeanzdd0q1E",
    "trusted": true
   },
   "outputs": [
    {
     "name": "stdout",
     "output_type": "stream",
     "text": [
      "id                      object\n",
      "user_id                  int64\n",
      "session_date    datetime64[ns]\n",
      "mb_used                float64\n",
      "dtype: object\n"
     ]
    }
   ],
   "source": [
    "web['session_date'] = pd.to_datetime(web['session_date'], dayfirst=True, format='%Y-%m-%d') \n",
    "print(web.dtypes)"
   ]
  },
  {
   "cell_type": "markdown",
   "metadata": {
    "id": "3UA2cqIW0q1E"
   },
   "source": [
    "## Estudiar las condiciones de las tarifas"
   ]
  },
  {
   "cell_type": "markdown",
   "metadata": {
    "id": "T86Sqltq0q1F"
   },
   "source": [
    "[Es sumamente importante entender cómo funcionan las tarifas, cómo se les cobra a los usuarios en función de su plan de suscripción. Así que te sugerimos imprimir la información de la tarifa para ver una vez más sus condiciones.]"
   ]
  },
  {
   "cell_type": "code",
   "execution_count": 21,
   "metadata": {
    "id": "i409op8p0q1F",
    "trusted": true
   },
   "outputs": [
    {
     "name": "stdout",
     "output_type": "stream",
     "text": [
      "   messages_included  mb_per_month_included  minutes_included  \\\n",
      "0                 50                  15360               500   \n",
      "1               1000                  30720              3000   \n",
      "\n",
      "   usd_monthly_pay  usd_per_gb  usd_per_message  usd_per_minute plan_name  \\\n",
      "0               20          10             0.03            0.03      surf   \n",
      "1               70           7             0.01            0.01  ultimate   \n",
      "\n",
      "   gb_per_month_included  \n",
      "0                   15.0  \n",
      "1                   30.0  \n"
     ]
    }
   ],
   "source": [
    "# Imprime las condiciones de la tarifa y asegúrate de que te quedan claras\n",
    "\n",
    "print(tarifas.head())"
   ]
  },
  {
   "cell_type": "markdown",
   "metadata": {
    "id": "hMR1tP5d0q1F"
   },
   "source": [
    "## Agregar datos por usuario\n",
    "\n",
    "[Ahora que los datos están limpios, agrega los datos por usuario y por periodo para que solo haya un registro por usuario y por periodo. Esto facilitará mucho el análisis posterior.]"
   ]
  },
  {
   "cell_type": "code",
   "execution_count": 22,
   "metadata": {
    "id": "A332cedB0q1G",
    "trusted": true
   },
   "outputs": [
    {
     "name": "stdout",
     "output_type": "stream",
     "text": [
      "<class 'pandas.core.frame.DataFrame'>\n",
      "RangeIndex: 500 entries, 0 to 499\n",
      "Data columns (total 8 columns):\n",
      " #   Column      Non-Null Count  Dtype         \n",
      "---  ------      --------------  -----         \n",
      " 0   user_id     500 non-null    int64         \n",
      " 1   first_name  500 non-null    object        \n",
      " 2   last_name   500 non-null    object        \n",
      " 3   age         500 non-null    int64         \n",
      " 4   city        500 non-null    object        \n",
      " 5   reg_date    500 non-null    datetime64[ns]\n",
      " 6   plan        500 non-null    object        \n",
      " 7   churn_date  34 non-null     datetime64[ns]\n",
      "dtypes: datetime64[ns](2), int64(2), object(4)\n",
      "memory usage: 31.4+ KB\n",
      "None\n"
     ]
    }
   ],
   "source": [
    "print(datos_de_usuario.info())\n"
   ]
  },
  {
   "cell_type": "code",
   "execution_count": 23,
   "metadata": {
    "trusted": true
   },
   "outputs": [
    {
     "name": "stdout",
     "output_type": "stream",
     "text": [
      "      user_id year_month  id_count\n",
      "0        1000    2018-12        16\n",
      "1        1001    2018-08        27\n",
      "2        1001    2018-09        49\n",
      "3        1001    2018-10        65\n",
      "4        1001    2018-11        64\n",
      "...       ...        ...       ...\n",
      "2253     1498    2018-12        39\n",
      "2254     1499    2018-09        41\n",
      "2255     1499    2018-10        53\n",
      "2256     1499    2018-11        45\n",
      "2257     1499    2018-12        65\n",
      "\n",
      "[2258 rows x 3 columns]\n"
     ]
    }
   ],
   "source": [
    "# Calcula el numero de llamadas realizadas por cada usuario al mes. Guarda el resultado.\n",
    "llamadas['year_month'] = llamadas[\"call_date\"].dt.to_period('M')\n",
    "usuarios_llamadas= llamadas.groupby([\"user_id\", \"year_month\"]).size().reset_index(name='id_count')\n",
    "print(usuarios_llamadas)"
   ]
  },
  {
   "cell_type": "code",
   "execution_count": 24,
   "metadata": {
    "id": "aw2cmuql0q1G",
    "trusted": true
   },
   "outputs": [
    {
     "name": "stdout",
     "output_type": "stream",
     "text": [
      "      user_id year_month  duration_sum\n",
      "0        1000    2018-12           124\n",
      "1        1001    2018-08           182\n",
      "2        1001    2018-09           315\n",
      "3        1001    2018-10           393\n",
      "4        1001    2018-11           426\n",
      "...       ...        ...           ...\n",
      "2253     1498    2018-12           339\n",
      "2254     1499    2018-09           346\n",
      "2255     1499    2018-10           385\n",
      "2256     1499    2018-11           308\n",
      "2257     1499    2018-12           496\n",
      "\n",
      "[2258 rows x 3 columns]\n"
     ]
    }
   ],
   "source": [
    "# Calcula la cantidad de minutos usados por cada usuario al mes. Guarda el resultado.\n",
    "llamadas['year_month'] = llamadas[\"call_date\"].dt.to_period('M')\n",
    "usuarios_minutos= llamadas.groupby([\"user_id\", \"year_month\"])[\"duration\"].sum().reset_index(name='duration_sum')\n",
    "print(usuarios_minutos)"
   ]
  },
  {
   "cell_type": "code",
   "execution_count": 25,
   "metadata": {
    "id": "CcQvNHn60q1G",
    "trusted": true
   },
   "outputs": [
    {
     "name": "stdout",
     "output_type": "stream",
     "text": [
      "      user_id year_month  message_count\n",
      "0        1000    2018-12             11\n",
      "1        1001    2018-08             30\n",
      "2        1001    2018-09             44\n",
      "3        1001    2018-10             53\n",
      "4        1001    2018-11             36\n",
      "...       ...        ...            ...\n",
      "1801     1496    2018-09             21\n",
      "1802     1496    2018-10             18\n",
      "1803     1496    2018-11             13\n",
      "1804     1496    2018-12             11\n",
      "1805     1497    2018-12             50\n",
      "\n",
      "[1806 rows x 3 columns]\n"
     ]
    }
   ],
   "source": [
    "# Calcula el número de mensajes enviados por cada usuario al mes. Guarda el resultado.\n",
    "sms['year_month'] = sms['message_date'].dt.to_period('M')\n",
    "usuarios_sms= sms.groupby([\"user_id\", \"year_month\"]).size().reset_index(name='message_count')\n",
    "print(usuarios_sms)"
   ]
  },
  {
   "cell_type": "code",
   "execution_count": 26,
   "metadata": {
    "id": "H1AqN2eG0q1H",
    "trusted": true
   },
   "outputs": [
    {
     "name": "stdout",
     "output_type": "stream",
     "text": [
      "      user_id year_month  mb_used_sum\n",
      "0        1000    2018-12      1901.47\n",
      "1        1001    2018-08      6919.15\n",
      "2        1001    2018-09     13314.82\n",
      "3        1001    2018-10     22330.49\n",
      "4        1001    2018-11     18504.30\n",
      "...       ...        ...          ...\n",
      "2272     1498    2018-12     23137.69\n",
      "2273     1499    2018-09     12984.76\n",
      "2274     1499    2018-10     19492.43\n",
      "2275     1499    2018-11     16813.83\n",
      "2276     1499    2018-12     22059.21\n",
      "\n",
      "[2277 rows x 3 columns]\n"
     ]
    }
   ],
   "source": [
    "# Calcula el volumen del tráfico de Internet usado por cada usuario al mes. Guarda el resultado.\n",
    "web['year_month'] = web['session_date'].dt.to_period('M')\n",
    "usuarios_web= web.groupby([\"user_id\", 'year_month'])[\"mb_used\"].sum().reset_index(name='mb_used_sum')\n",
    "\n",
    "print(usuarios_web)\n"
   ]
  },
  {
   "cell_type": "markdown",
   "metadata": {
    "id": "VDfYXnj80q1H"
   },
   "source": [
    "[Junta los datos agregados en un DataFrame para que haya un registro que represente lo que consumió un usuario único en un mes determinado.]"
   ]
  },
  {
   "cell_type": "code",
   "execution_count": 27,
   "metadata": {
    "id": "FW99ykyf0q1H",
    "trusted": true
   },
   "outputs": [],
   "source": [
    "# Fusiona los datos de llamadas, minutos, mensajes e Internet con base en user_id y month\n",
    "monthly_stats = pd.merge(usuarios_llamadas, usuarios_minutos,  on=['user_id', 'year_month'], how='outer')\n",
    "monthly_stats = pd.merge(monthly_stats, usuarios_sms,  on=['user_id', 'year_month'], how='outer')\n",
    "monthly_stats = pd.merge(monthly_stats, usuarios_web,  on=['user_id', 'year_month'], how='outer')\n"
   ]
  },
  {
   "cell_type": "code",
   "execution_count": 28,
   "metadata": {
    "id": "0dNOXHag0q1H",
    "trusted": true
   },
   "outputs": [
    {
     "name": "stdout",
     "output_type": "stream",
     "text": [
      "   user_id year_month  id_count  duration_sum  message_count  mb_used_sum  \\\n",
      "0     1000    2018-12      16.0         124.0           11.0      1901.47   \n",
      "1     1001    2018-08      27.0         182.0           30.0      6919.15   \n",
      "2     1001    2018-09      49.0         315.0           44.0     13314.82   \n",
      "3     1001    2018-10      65.0         393.0           53.0     22330.49   \n",
      "4     1001    2018-11      64.0         426.0           36.0     18504.30   \n",
      "\n",
      "  plan_name  \n",
      "0  ultimate  \n",
      "1      surf  \n",
      "2      surf  \n",
      "3      surf  \n",
      "4      surf  \n"
     ]
    }
   ],
   "source": [
    "# Añade la información de la tarifa\n",
    "monthly_stats = pd.merge(monthly_stats, datos_de_usuario[['user_id', 'plan']], on='user_id', how='left')\n",
    "monthly_stats.rename(columns={'plan': 'plan_name'}, inplace=True)\n",
    "\n",
    "print(monthly_stats.head())"
   ]
  },
  {
   "cell_type": "code",
   "execution_count": 30,
   "metadata": {
    "trusted": true
   },
   "outputs": [],
   "source": [
    "monthly_stats = monthly_stats.dropna(subset=[\"duration_sum\"])\n",
    "monthly_stats[\"duration_sum\"] =monthly_stats[\"duration_sum\"].astype(int)\n"
   ]
  },
  {
   "cell_type": "code",
   "execution_count": 34,
   "metadata": {
    "trusted": true
   },
   "outputs": [
    {
     "name": "stdout",
     "output_type": "stream",
     "text": [
      "user_id            0\n",
      "year_month         0\n",
      "id_count          35\n",
      "duration_sum      35\n",
      "message_count    487\n",
      "mb_used_sum       16\n",
      "plan_name          0\n",
      "dtype: int64\n"
     ]
    }
   ],
   "source": [
    "print(monthly_stats.isna().sum())"
   ]
  },
  {
   "cell_type": "code",
   "execution_count": 35,
   "metadata": {
    "trusted": true
   },
   "outputs": [
    {
     "name": "stdout",
     "output_type": "stream",
     "text": [
      "      user_id year_month  id_count  duration_sum  message_count  mb_used_sum  \\\n",
      "29       1009    2018-05      71.0         534.0            NaN     20389.40   \n",
      "30       1009    2018-06     110.0         823.0            NaN     18845.90   \n",
      "31       1009    2018-07     124.0         880.0            NaN     30421.65   \n",
      "32       1009    2018-08     109.0         731.0            NaN     24557.52   \n",
      "33       1009    2018-09     116.0         776.0            NaN     20962.40   \n",
      "...       ...        ...       ...           ...            ...          ...   \n",
      "2288     1349    2018-12       NaN           NaN           61.0     13039.91   \n",
      "2289     1361    2018-05       NaN           NaN            2.0      1519.69   \n",
      "2290     1482    2018-10       NaN           NaN            2.0          NaN   \n",
      "2291     1108    2018-12       NaN           NaN            NaN       233.17   \n",
      "2292     1311    2018-06       NaN           NaN            NaN      1498.83   \n",
      "\n",
      "     plan_name  \n",
      "29        surf  \n",
      "30        surf  \n",
      "31        surf  \n",
      "32        surf  \n",
      "33        surf  \n",
      "...        ...  \n",
      "2288      surf  \n",
      "2289      surf  \n",
      "2290  ultimate  \n",
      "2291  ultimate  \n",
      "2292  ultimate  \n",
      "\n",
      "[534 rows x 7 columns]\n"
     ]
    }
   ],
   "source": [
    "monthly_stats_nan = monthly_stats[monthly_stats.isna().any(axis=1)]\n",
    "print(monthly_stats_nan)"
   ]
  },
  {
   "cell_type": "code",
   "execution_count": 36,
   "metadata": {
    "trusted": true
   },
   "outputs": [
    {
     "name": "stdout",
     "output_type": "stream",
     "text": [
      "user_id          0\n",
      "year_month       0\n",
      "id_count         0\n",
      "duration_sum     0\n",
      "message_count    0\n",
      "mb_used_sum      0\n",
      "plan_name        0\n",
      "dtype: int64\n",
      "   user_id year_month  id_count  duration_sum  message_count  mb_used_sum  \\\n",
      "0     1000    2018-12      16.0         124.0           11.0      1901.47   \n",
      "1     1001    2018-08      27.0         182.0           30.0      6919.15   \n",
      "2     1001    2018-09      49.0         315.0           44.0     13314.82   \n",
      "3     1001    2018-10      65.0         393.0           53.0     22330.49   \n",
      "4     1001    2018-11      64.0         426.0           36.0     18504.30   \n",
      "5     1001    2018-12      56.0         412.0           44.0     19369.18   \n",
      "6     1002    2018-10      11.0          59.0           15.0      6552.01   \n",
      "7     1002    2018-11      55.0         386.0           32.0     19345.08   \n",
      "8     1002    2018-12      47.0         384.0           41.0     14396.24   \n",
      "9     1003    2018-12     149.0        1104.0           50.0     27044.14   \n",
      "\n",
      "  plan_name  \n",
      "0  ultimate  \n",
      "1      surf  \n",
      "2      surf  \n",
      "3      surf  \n",
      "4      surf  \n",
      "5      surf  \n",
      "6      surf  \n",
      "7      surf  \n",
      "8      surf  \n",
      "9      surf  \n"
     ]
    }
   ],
   "source": [
    "monthly_stats=monthly_stats.fillna(0)\n",
    "print(monthly_stats.isna().sum())\n",
    "print(monthly_stats.head(10))"
   ]
  },
  {
   "cell_type": "markdown",
   "metadata": {
    "id": "1IwGo4wg0q1I"
   },
   "source": [
    "[Calcula los ingresos mensuales por usuario (resta el límite del paquete gratuito del número total de llamadas, mensajes de texto y datos; multiplica el resultado por el valor del plan de llamadas; añade la tarifa mensual en función del plan de llamadas). Nota: Dadas las condiciones del plan, ¡esto podría no ser tan trivial como un par de líneas! Así que no pasa nada si dedicas algo de tiempo a ello.]"
   ]
  },
  {
   "cell_type": "code",
   "execution_count": 37,
   "metadata": {
    "trusted": true
   },
   "outputs": [
    {
     "name": "stdout",
     "output_type": "stream",
     "text": [
      "   user_id year_month  id_count  duration_sum  message_count  mb_used_sum  \\\n",
      "0     1000    2018-12      16.0         124.0           11.0      1901.47   \n",
      "1     1006    2018-11       2.0          10.0           15.0      2068.37   \n",
      "2     1006    2018-12       9.0          59.0          139.0     32118.82   \n",
      "3     1008    2018-10      71.0         476.0           21.0     17106.99   \n",
      "4     1008    2018-11      63.0         446.0           37.0     23676.72   \n",
      "\n",
      "  plan_name  messages_included  mb_per_month_included  minutes_included  \\\n",
      "0  ultimate               1000                  30720              3000   \n",
      "1  ultimate               1000                  30720              3000   \n",
      "2  ultimate               1000                  30720              3000   \n",
      "3  ultimate               1000                  30720              3000   \n",
      "4  ultimate               1000                  30720              3000   \n",
      "\n",
      "   usd_monthly_pay  usd_per_gb  usd_per_message  usd_per_minute  \\\n",
      "0               70           7             0.01            0.01   \n",
      "1               70           7             0.01            0.01   \n",
      "2               70           7             0.01            0.01   \n",
      "3               70           7             0.01            0.01   \n",
      "4               70           7             0.01            0.01   \n",
      "\n",
      "   gb_per_month_included  \n",
      "0                   30.0  \n",
      "1                   30.0  \n",
      "2                   30.0  \n",
      "3                   30.0  \n",
      "4                   30.0  \n"
     ]
    }
   ],
   "source": [
    "monthly_stats = pd.merge(monthly_stats, tarifas, on='plan_name', how='outer')\n",
    "print(monthly_stats.head())\n"
   ]
  },
  {
   "cell_type": "code",
   "execution_count": 38,
   "metadata": {
    "id": "5FGCf_c60q1I",
    "trusted": true
   },
   "outputs": [],
   "source": [
    "monthly_stats['extra_minutes'] = monthly_stats['duration_sum'] - monthly_stats['minutes_included']\n",
    "monthly_stats['extra_minutes'] = monthly_stats['extra_minutes'].clip(lower=0)  # Si es negativo, ponerlo en 0\n",
    "monthly_stats['cost_extra_minutes'] = monthly_stats['extra_minutes'] * monthly_stats['usd_per_minute']\n",
    "\n",
    "# Calcular SMS extra (si message_count supera los SMS incluidos)\n",
    "monthly_stats['extra_messages'] = monthly_stats['message_count'] - monthly_stats['messages_included']\n",
    "monthly_stats['extra_messages'] = monthly_stats['extra_messages'].clip(lower=0)\n",
    "monthly_stats['cost_extra_messages'] = monthly_stats['extra_messages'] * monthly_stats['usd_per_message']\n",
    "\n",
    "# Calcular datos extra en GB (si mb_used_sum supera los MB incluidos)\n",
    "monthly_stats['extra_mb'] = monthly_stats['mb_used_sum'] - monthly_stats['mb_per_month_included']\n",
    "monthly_stats['extra_mb'] = monthly_stats['extra_mb'].clip(lower=0)\n"
   ]
  },
  {
   "cell_type": "code",
   "execution_count": 39,
   "metadata": {
    "trusted": true
   },
   "outputs": [
    {
     "name": "stdout",
     "output_type": "stream",
     "text": [
      "0\n"
     ]
    }
   ],
   "source": [
    "print(monthly_stats['extra_mb'].isna().sum())"
   ]
  },
  {
   "cell_type": "code",
   "execution_count": 40,
   "metadata": {
    "trusted": true
   },
   "outputs": [
    {
     "name": "stdout",
     "output_type": "stream",
     "text": [
      "0\n"
     ]
    }
   ],
   "source": [
    "monthly_stats['extra_mb']=monthly_stats['extra_mb'].fillna(0)\n",
    "print(monthly_stats['extra_mb'].isna().sum())"
   ]
  },
  {
   "cell_type": "code",
   "execution_count": 41,
   "metadata": {
    "trusted": true
   },
   "outputs": [],
   "source": [
    "monthly_stats['extra_gb'] = (monthly_stats['extra_mb'] / 1024).apply(lambda x: int(x) if x == int(x) else int(x) + 1)  # Redondeo hacia arriba\n",
    "monthly_stats['cost_extra_data'] = monthly_stats['extra_gb'] * monthly_stats['usd_per_gb']\n",
    "\n",
    "# Calcular el total de costos extra\n",
    "monthly_stats['total_extra_cost'] = (\n",
    "    monthly_stats['cost_extra_minutes'] +\n",
    "    monthly_stats['cost_extra_messages'] +\n",
    "    monthly_stats['cost_extra_data'])"
   ]
  },
  {
   "cell_type": "code",
   "execution_count": 42,
   "metadata": {
    "trusted": true
   },
   "outputs": [
    {
     "name": "stdout",
     "output_type": "stream",
     "text": [
      "   user_id year_month  id_count  duration_sum  message_count  mb_used_sum  \\\n",
      "0     1000    2018-12      16.0         124.0           11.0      1901.47   \n",
      "1     1006    2018-11       2.0          10.0           15.0      2068.37   \n",
      "2     1006    2018-12       9.0          59.0          139.0     32118.82   \n",
      "3     1008    2018-10      71.0         476.0           21.0     17106.99   \n",
      "4     1008    2018-11      63.0         446.0           37.0     23676.72   \n",
      "5     1008    2018-12      85.0         634.0           26.0     14689.33   \n",
      "6     1011    2018-06      19.0         118.0           21.0      6685.11   \n",
      "7     1011    2018-07      63.0         499.0           53.0     21046.41   \n",
      "8     1011    2018-08      61.0         486.0           54.0     21099.37   \n",
      "9     1011    2018-09      73.0         484.0           60.0     16638.46   \n",
      "\n",
      "  plan_name  messages_included  mb_per_month_included  minutes_included  ...  \\\n",
      "0  ultimate               1000                  30720              3000  ...   \n",
      "1  ultimate               1000                  30720              3000  ...   \n",
      "2  ultimate               1000                  30720              3000  ...   \n",
      "3  ultimate               1000                  30720              3000  ...   \n",
      "4  ultimate               1000                  30720              3000  ...   \n",
      "5  ultimate               1000                  30720              3000  ...   \n",
      "6  ultimate               1000                  30720              3000  ...   \n",
      "7  ultimate               1000                  30720              3000  ...   \n",
      "8  ultimate               1000                  30720              3000  ...   \n",
      "9  ultimate               1000                  30720              3000  ...   \n",
      "\n",
      "   gb_per_month_included  extra_minutes  cost_extra_minutes  extra_messages  \\\n",
      "0                   30.0            0.0                 0.0             0.0   \n",
      "1                   30.0            0.0                 0.0             0.0   \n",
      "2                   30.0            0.0                 0.0             0.0   \n",
      "3                   30.0            0.0                 0.0             0.0   \n",
      "4                   30.0            0.0                 0.0             0.0   \n",
      "5                   30.0            0.0                 0.0             0.0   \n",
      "6                   30.0            0.0                 0.0             0.0   \n",
      "7                   30.0            0.0                 0.0             0.0   \n",
      "8                   30.0            0.0                 0.0             0.0   \n",
      "9                   30.0            0.0                 0.0             0.0   \n",
      "\n",
      "   cost_extra_messages  extra_mb  extra_gb  cost_extra_data  total_extra_cost  \\\n",
      "0                  0.0      0.00         0                0               0.0   \n",
      "1                  0.0      0.00         0                0               0.0   \n",
      "2                  0.0   1398.82         2               14              14.0   \n",
      "3                  0.0      0.00         0                0               0.0   \n",
      "4                  0.0      0.00         0                0               0.0   \n",
      "5                  0.0      0.00         0                0               0.0   \n",
      "6                  0.0      0.00         0                0               0.0   \n",
      "7                  0.0      0.00         0                0               0.0   \n",
      "8                  0.0      0.00         0                0               0.0   \n",
      "9                  0.0      0.00         0                0               0.0   \n",
      "\n",
      "   total_payment  \n",
      "0           70.0  \n",
      "1           70.0  \n",
      "2           84.0  \n",
      "3           70.0  \n",
      "4           70.0  \n",
      "5           70.0  \n",
      "6           70.0  \n",
      "7           70.0  \n",
      "8           70.0  \n",
      "9           70.0  \n",
      "\n",
      "[10 rows x 24 columns]\n"
     ]
    }
   ],
   "source": [
    "monthly_stats['total_payment'] = monthly_stats['usd_monthly_pay'] + monthly_stats['total_extra_cost']\n",
    "print(monthly_stats.head(10))"
   ]
  },
  {
   "cell_type": "code",
   "execution_count": 43,
   "metadata": {
    "trusted": true
   },
   "outputs": [
    {
     "name": "stdout",
     "output_type": "stream",
     "text": [
      "user_id                  0\n",
      "year_month               0\n",
      "id_count                 0\n",
      "duration_sum             0\n",
      "message_count            0\n",
      "mb_used_sum              0\n",
      "plan_name                0\n",
      "messages_included        0\n",
      "mb_per_month_included    0\n",
      "minutes_included         0\n",
      "usd_monthly_pay          0\n",
      "usd_per_gb               0\n",
      "usd_per_message          0\n",
      "usd_per_minute           0\n",
      "gb_per_month_included    0\n",
      "extra_minutes            0\n",
      "cost_extra_minutes       0\n",
      "extra_messages           0\n",
      "cost_extra_messages      0\n",
      "extra_mb                 0\n",
      "extra_gb                 0\n",
      "cost_extra_data          0\n",
      "total_extra_cost         0\n",
      "total_payment            0\n",
      "dtype: int64\n"
     ]
    }
   ],
   "source": [
    "\n",
    "print(monthly_stats.isna().sum())"
   ]
  },
  {
   "cell_type": "markdown",
   "metadata": {
    "id": "-jtyHzJb0q1I"
   },
   "source": [
    "## Estudia el comportamiento de usuario"
   ]
  },
  {
   "cell_type": "markdown",
   "metadata": {
    "id": "AxU3Y0N70q1J"
   },
   "source": [
    "[Calcula algunas estadísticas descriptivas para los datos agregados y fusionados que nos sean útiles y que muestren un panorama general captado por los datos. Dibuja gráficos útiles para facilitar la comprensión. Dado que la tarea principal es comparar las tarifas y decidir cuál es más rentable, las estadísticas y gráficas deben calcularse por tarifa.]\n",
    "\n",
    "[En los comentarios hallarás pistas relevantes para las llamadas, pero no las hay para los mensajes e Internet. Sin embargo, el principio del estudio estadístico que se aplica para ellos es el mismo que para las llamadas.]"
   ]
  },
  {
   "cell_type": "markdown",
   "metadata": {
    "id": "vtW4CJEe0q1J"
   },
   "source": [
    "### Llamadas"
   ]
  },
  {
   "cell_type": "code",
   "execution_count": 44,
   "metadata": {
    "id": "Jf5v5--k0q1J",
    "trusted": true
   },
   "outputs": [],
   "source": [
    "# Compara la duración promedio de llamadas por cada plan y por cada mes. Traza un gráfico de barras para visualizarla.\n",
    "\n",
    "\n",
    "llamadas_surf = monthly_stats[monthly_stats['plan_name'] == 'surf']\n",
    "plan_surf = llamadas_surf.groupby([\"year_month\", \"plan_name\"])['id_count'].mean().reset_index()\n",
    "llamadas_ultimate = monthly_stats[monthly_stats['plan_name'] == 'ultimate']\n",
    "plan_ultimate = llamadas_ultimate.groupby([\"year_month\", \"plan_name\"])['id_count'].mean().reset_index()\n"
   ]
  },
  {
   "cell_type": "code",
   "execution_count": null,
   "metadata": {
    "trusted": true
   },
   "outputs": [],
   "source": []
  },
  {
   "cell_type": "code",
   "execution_count": 45,
   "metadata": {
    "trusted": true
   },
   "outputs": [
    {
     "data": {
      "image/png": "[encoded data removed]",
      "text/plain": [
       "<Figure size 1200x600 with 1 Axes>"
      ]
     },
     "metadata": {},
     "output_type": "display_data"
    }
   ],
   "source": [
    "fig, ax = plt.subplots(figsize=(12, 6))\n",
    "plan_surf.plot.bar(ax=ax, color='royalblue', xlabel='Mes', ylabel='Numero de llamadas', title='Número de llamadas por plan mensuales', rot=0, alpha=0.7, align='center')\n",
    "plan_ultimate.plot.bar(ax=ax, color='orange', xlabel='Mes', ylabel='Numero de llamadas', title='Número de llamadas por plan mensuales', rot=0, alpha=0.7, align='edge')\n",
    "plt.grid(axis='y', linestyle='--', alpha=0.7)\n",
    "plt.legend(\"Surf\" \"Ultimate\")\n",
    "plt.show()"
   ]
  },
  {
   "cell_type": "code",
   "execution_count": 46,
   "metadata": {
    "id": "QoLqW1S_0q1J",
    "trusted": true
   },
   "outputs": [],
   "source": [
    "# Compara el número de minutos mensuales que necesitan los usuarios de cada plan. Traza un histograma.\n",
    "\n",
    "plan_surf_min = monthly_stats[monthly_stats['plan_name'] == 'surf']\n",
    "minutos_llamadas_surf = plan_surf_min.groupby(\"year_month\")['duration_sum'].mean().reset_index()\n",
    "plan_ultimate_min = monthly_stats[monthly_stats['plan_name'] == 'ultimate']\n",
    "minutos_llamadas_ultimate = plan_ultimate_min.groupby(\"year_month\")['duration_sum'].mean().reset_index()\n",
    "\n"
   ]
  },
  {
   "cell_type": "code",
   "execution_count": 47,
   "metadata": {
    "trusted": true
   },
   "outputs": [
    {
     "data": {
      "image/png": "[encoded data removed]",
      "text/plain": [
       "<Figure size 1200x600 with 1 Axes>"
      ]
     },
     "metadata": {},
     "output_type": "display_data"
    }
   ],
   "source": [
    "fig, ax = plt.subplots(figsize=(12, 6))\n",
    "minutos_llamadas_surf.plot.bar(ax=ax, color='royalblue', xlabel='Mes', ylabel='Numero de minutos', title='Número de minutos usados por plan mensuales', rot=0, alpha=0.7, align='center', label=\"Surf\")\n",
    "minutos_llamadas_ultimate.plot.bar(ax=ax, color='orange', xlabel='Mes', ylabel='Numero de minutos', title='Número de minutos usados por plan mensuales', rot=0, alpha=0.7, align='edge', label=\"Ultimate\")\n",
    "plt.grid(axis='y', linestyle='--', alpha=0.7)\n",
    "plt.legend(\"surf\" \"Ultimate\")\n",
    "plt.show()"
   ]
  },
  {
   "cell_type": "markdown",
   "metadata": {
    "id": "bLS9T8OH0q1K"
   },
   "source": [
    "[Calcula la media y la variable de la duración de las llamadas para averiguar si los usuarios de los distintos planes se comportan de forma diferente al realizar sus llamadas.]"
   ]
  },
  {
   "cell_type": "code",
   "execution_count": 48,
   "metadata": {
    "id": "oSndbAnt0q1K",
    "trusted": true
   },
   "outputs": [
    {
     "name": "stdout",
     "output_type": "stream",
     "text": [
      "year_month\n",
      "2018-01    196.666667\n",
      "2018-02    343.437500\n",
      "2018-03    321.171429\n",
      "2018-04    347.197183\n",
      "2018-05    401.405660\n",
      "2018-06    411.604167\n",
      "2018-07    442.472222\n",
      "2018-08    413.562232\n",
      "2018-09    421.378571\n",
      "2018-10    436.221574\n",
      "2018-11    430.100000\n",
      "2018-12    469.091684\n",
      "Freq: M, Name: duration_sum, dtype: float64\n",
      "year_month\n",
      "2018-01    13135.866667\n",
      "2018-02    61567.329167\n",
      "2018-03    43378.499160\n",
      "2018-04    45620.531992\n",
      "2018-05    54950.510063\n",
      "2018-06    45086.240822\n",
      "2018-07    64525.781347\n",
      "2018-08    53926.747188\n",
      "2018-09    49735.899181\n",
      "2018-10    52829.190527\n",
      "2018-11    54351.738142\n",
      "2018-12    63180.258670\n",
      "Freq: M, Name: duration_sum, dtype: float64\n"
     ]
    }
   ],
   "source": [
    "# Calcula la media y la varianza de la duración mensual de llamadas.\n",
    "\n",
    "llamadas_mensuales= monthly_stats.groupby(\"year_month\")['duration_sum']\n",
    "media= llamadas_mensuales.mean()\n",
    "print(media)\n",
    "varianza= llamadas_mensuales.var()\n",
    "print(varianza)"
   ]
  },
  {
   "cell_type": "code",
   "execution_count": 49,
   "metadata": {
    "id": "nZzoRUKc0q1K",
    "trusted": true
   },
   "outputs": [
    {
     "data": {
      "image/png": "[encoded data removed]",
      "text/plain": [
       "<Figure size 640x480 with 1 Axes>"
      ]
     },
     "metadata": {},
     "output_type": "display_data"
    }
   ],
   "source": [
    "# Traza un diagrama de caja para visualizar la distribución de la duración mensual de llamadas\n",
    "sns.boxplot(data=monthly_stats, x='year_month', y='duration_sum')\n",
    "plt.title('Diagrama de caja: duración de llamadas por mes')\n",
    "plt.xlabel('Mes')\n",
    "plt.ylabel('Duración total de llamadas (minutos)')\n",
    "plt.xticks(rotation=45)\n",
    "plt.tight_layout()\n",
    "plt.show()"
   ]
  },
  {
   "cell_type": "markdown",
   "metadata": {
    "id": "r627zBO50q1K"
   },
   "source": [
    "[Elabora las conclusiones sobre el comportamiento de los usuarios con respecto a las llamadas. ¿Su comportamiento varía en función del plan?]"
   ]
  },
  {
   "cell_type": "markdown",
   "metadata": {
    "id": "8idKy8Wh0q1L"
   },
   "source": [
    "### Mensajes"
   ]
  },
  {
   "cell_type": "code",
   "execution_count": 50,
   "metadata": {
    "id": "NXLxiTit0q1L",
    "trusted": true
   },
   "outputs": [
    {
     "data": {
      "image/png": "[encoded data removed]",
      "text/plain": [
       "<Figure size 1200x600 with 1 Axes>"
      ]
     },
     "metadata": {},
     "output_type": "display_data"
    }
   ],
   "source": [
    "# Comprara el número de mensajes que tienden a enviar cada mes los usuarios de cada plan\n",
    "plan_surf_sms = monthly_stats[monthly_stats['plan_name'] == 'surf']\n",
    "mensajes_surf =plan_surf_sms.groupby(\"year_month\")['message_count'].mean().reset_index()\n",
    "plan_ultimate_sms = monthly_stats[monthly_stats['plan_name'] == 'ultimate']\n",
    "mensajes_ultimate = plan_ultimate_sms.groupby(\"year_month\")['message_count'].mean().reset_index()\n",
    "\n",
    "\n",
    "fig, ax = plt.subplots(figsize=(12, 6))\n",
    "mensajes_surf.plot.bar(ax=ax, color='royalblue', xlabel='Mes', ylabel='Numero de mensajes', title='Número de mensajes enviados por plan mensuales', rot=0, alpha=0.7, align='center', label=\"Surf\")\n",
    "mensajes_ultimate.plot.bar(ax=ax, color='orange', xlabel='Mes', ylabel='Numero de mensajes', title='Número de mensajes enviados por plan mensuales', rot=0, alpha=0.7, align='edge', label=\"Ultimate\")\n",
    "plt.legend(\"surf\" \"Ultimate\")\n",
    "plt.show()"
   ]
  },
  {
   "cell_type": "code",
   "execution_count": 51,
   "metadata": {
    "trusted": true
   },
   "outputs": [
    {
     "name": "stdout",
     "output_type": "stream",
     "text": [
      "     plan_name  mb_used_sum  gb_used_sum\n",
      "0     ultimate      1901.47          2.0\n",
      "1     ultimate      2068.37          2.0\n",
      "2     ultimate     32118.82         31.0\n",
      "3     ultimate     17106.99         17.0\n",
      "4     ultimate     23676.72         23.0\n",
      "...        ...          ...          ...\n",
      "2288      surf     31088.49         30.0\n",
      "2289      surf     13093.55         13.0\n",
      "2290      surf     17128.26         17.0\n",
      "2291      surf     13039.91         13.0\n",
      "2292      surf      1519.69          1.0\n",
      "\n",
      "[2293 rows x 3 columns]\n"
     ]
    }
   ],
   "source": [
    "monthly_stats['gb_used_sum'] = (monthly_stats['mb_used_sum'] / 1024).round()\n",
    "\n",
    "print(monthly_stats[['plan_name', 'mb_used_sum', 'gb_used_sum']])"
   ]
  },
  {
   "cell_type": "code",
   "execution_count": 52,
   "metadata": {
    "id": "GRI_R7xF0q1L",
    "trusted": true
   },
   "outputs": [
    {
     "data": {
      "image/png": "[encoded data removed]",
      "text/plain": [
       "<Figure size 1200x600 with 1 Axes>"
      ]
     },
     "metadata": {},
     "output_type": "display_data"
    }
   ],
   "source": [
    "# Compara la cantidad de tráfico de Internet consumido por usuarios por plan\n",
    "\n",
    "plan_surf_mb = monthly_stats[monthly_stats['plan_name'] == 'surf']\n",
    "mb_surf =plan_surf_mb.groupby(\"year_month\")['gb_used_sum'].mean().reset_index()\n",
    "plan_ultimate_mb = monthly_stats[monthly_stats['plan_name'] == 'ultimate']\n",
    "mb_ultimate = plan_ultimate_mb.groupby(\"year_month\")['gb_used_sum'].mean().reset_index()\n",
    "\n",
    "\n",
    "fig, ax = plt.subplots(figsize=(12, 6))\n",
    "mb_surf.plot.bar(ax=ax, color='royalblue', xlabel='Mes', ylabel='Numero de gb', title='GB usados por plan mensuales', rot=0, alpha=0.7, align='center', label=\"Surf\")\n",
    "mb_ultimate.plot.bar(ax=ax, color='orange', xlabel='Mes', ylabel='Numero de gb', title='GB usados por plan mensuales', rot=0, alpha=0.7, align='edge', label=\"Ultimate\")\n",
    "plt.legend(\"surf\" \"Ultimate\")\n",
    "plt.show()"
   ]
  },
  {
   "cell_type": "markdown",
   "metadata": {
    "id": "UN9zwuMP0q1N"
   },
   "source": [
    "[Elabora las conclusiones sobre cómo los usuarios tienden a consumir el tráfico de Internet. ¿Su comportamiento varía en función del plan?]"
   ]
  },
  {
   "cell_type": "markdown",
   "metadata": {
    "id": "tCijq3260q1N"
   },
   "source": [
    "## Ingreso"
   ]
  },
  {
   "cell_type": "markdown",
   "metadata": {
    "id": "9nq5IAcy0q1O"
   },
   "source": [
    "[Del mismo modo que has estudiado el comportamiento de los usuarios, describe estadísticamente los ingresos de los planes.]"
   ]
  },
  {
   "cell_type": "code",
   "execution_count": 53,
   "metadata": {
    "id": "tz-dq_V00q1O",
    "trusted": true
   },
   "outputs": [
    {
     "data": {
      "image/png": "[encoded data removed]",
      "text/plain": [
       "<Figure size 1200x600 with 1 Axes>"
      ]
     },
     "metadata": {},
     "output_type": "display_data"
    }
   ],
   "source": [
    "plan_surf_ingresos = monthly_stats[monthly_stats['plan_name'] == 'surf']\n",
    "ingresos_surf =plan_surf_ingresos.groupby(\"year_month\")['total_payment'].sum()\n",
    "plan_ultimate_ingresos = monthly_stats[monthly_stats['plan_name'] == 'ultimate']\n",
    "ingresos_ultimate = plan_ultimate_ingresos.groupby(\"year_month\")['total_payment'].sum()\n",
    "\n",
    "\n",
    "fig, ax = plt.subplots(figsize=(12, 6))\n",
    "ingresos_surf.plot.bar(ax=ax, color='royalblue', xlabel='Mes', ylabel='Ingresos', title='Ingresos generados por plan mensuales', rot=0, alpha=0.7, align='center', label=\"Surf\")\n",
    "ingresos_ultimate.plot.bar(ax=ax, color='orange', xlabel='Mes', ylabel='Ingresos', title='Ingresos generados por plan mensuales', rot=0, alpha=0.7, align='edge', label=\"Ultimate\")\n",
    "plt.legend(\"surf\" \"Ultimate\")\n",
    "plt.show()"
   ]
  },
  {
   "cell_type": "code",
   "execution_count": 54,
   "metadata": {
    "trusted": true
   },
   "outputs": [
    {
     "data": {
      "image/png": "[encoded data removed]",
      "text/plain": [
       "<Figure size 1200x600 with 1 Axes>"
      ]
     },
     "metadata": {},
     "output_type": "display_data"
    }
   ],
   "source": [
    "plan_surf_ingresos = monthly_stats[monthly_stats['plan_name'] == 'surf']\n",
    "ingresos_surf =plan_surf_ingresos.groupby(\"year_month\")['total_payment'].mean().reset_index()\n",
    "plan_ultimate_ingresos = monthly_stats[monthly_stats['plan_name'] == 'ultimate']\n",
    "ingresos_ultimate = plan_ultimate_ingresos.groupby(\"year_month\")['total_payment'].mean().reset_index()\n",
    "\n",
    "\n",
    "fig, ax = plt.subplots(figsize=(12, 6))\n",
    "ingresos_surf.plot.bar(ax=ax, color='royalblue', xlabel='Mes', ylabel='Ingresos', title='Ingresos generados por plan mensuales', rot=0, alpha=0.7, align='center', label=\"Surf\")\n",
    "ingresos_ultimate.plot.bar(ax=ax, color='orange', xlabel='Mes', ylabel='Ingresos', title='Ingresos generados por plan mensuales', rot=0, alpha=0.7, align='edge', label=\"Ultimate\")\n",
    "plt.legend(\"surf\" \"Ultimate\")\n",
    "plt.show()"
   ]
  },
  {
   "cell_type": "code",
   "execution_count": 55,
   "metadata": {
    "id": "0Y1v8ZUz0q1P",
    "trusted": true
   },
   "outputs": [
    {
     "name": "stdout",
     "output_type": "stream",
     "text": [
      "1573\n"
     ]
    }
   ],
   "source": [
    "print(plan_surf_ingresos[\"user_id\"].count())"
   ]
  },
  {
   "cell_type": "code",
   "execution_count": 56,
   "metadata": {
    "id": "bYmwxyVh0q1P",
    "trusted": true
   },
   "outputs": [
    {
     "name": "stdout",
     "output_type": "stream",
     "text": [
      "720\n"
     ]
    }
   ],
   "source": [
    "print(plan_ultimate_ingresos[\"user_id\"].count())"
   ]
  },
  {
   "cell_type": "markdown",
   "metadata": {
    "id": "KAFidcXZ0q1P"
   },
   "source": [
    "[Si bien se observa un ingreso promedio mensual por usuario mayor en el plan Ultimate, el ingreso total obtenido por el plan surf es aproximadamente el doble que el ingreso total obtenido del plan ultimate, esto debido a que el plan surf tiene mas del doble de usuarios que el plan ultimate, tambien se observo una tendencia al alza de ingresos promedio en el plan surf conforme avanzamos en el año obteniendo su mayor pico de ingresos en el mes de diciembre, lo que refleja un mayor consumo de ya sea de Mb, llamadas o sms que genera la cantidad de cargos adicionales suficientes como para generar un ingreso promedio comparable al plan ultimate.]"
   ]
  },
  {
   "cell_type": "markdown",
   "metadata": {
    "id": "ajJ7VKeI0q1Q"
   },
   "source": [
    "## Prueba las hipótesis estadísticas"
   ]
  },
  {
   "cell_type": "markdown",
   "metadata": {
    "id": "AdXAZ-yL0q1Q"
   },
   "source": [
    "[Prueba la hipótesis de que son diferentes los ingresos promedio procedentes de los usuarios de los planes de llamada Ultimate y Surf.]"
   ]
  },
  {
   "cell_type": "markdown",
   "metadata": {
    "id": "IQwa_hsh0q1Q"
   },
   "source": [
    "[Hipótesis nula: No hay diferencia entre los ingresos promedio procedentes de cada plan \n",
    "Hipotesis alternativa: Los ingresos promedios procedentes de cada plan]"
   ]
  },
  {
   "cell_type": "code",
   "execution_count": 57,
   "metadata": {
    "id": "nFoPNlPq0q1R",
    "trusted": true
   },
   "outputs": [
    {
     "name": "stdout",
     "output_type": "stream",
     "text": [
      "valor p:  3.1703905481135734e-15\n",
      "Rechazamos la hipótesis nula\n"
     ]
    }
   ],
   "source": [
    "# Prueba las hipótesis\n",
    "alpha = 0.05  \n",
    "ingresos_surf = plan_surf_ingresos[\"total_payment\"]\n",
    "ingresos_ultimate = plan_ultimate_ingresos[\"total_payment\"]\n",
    "results = st.ttest_ind(ingresos_surf, ingresos_ultimate, equal_var = False) # realizar una prueba\n",
    "\n",
    "print('valor p: ', results.pvalue) # extraer el valor p\n",
    "\n",
    "if results.pvalue != alpha: # comparar el valor p con el umbral\n",
    "    print(\"Rechazamos la hipótesis nula\")\n",
    "else:\n",
    "    print(\"No podemos rechazar la hipótesis nula\")\n",
    "\n"
   ]
  },
  {
   "cell_type": "markdown",
   "metadata": {
    "id": "tCcAruM60q1R"
   },
   "source": [
    "[Prueba la hipótesis de que el ingreso promedio de los usuarios del área NY-NJ es diferente al de los usuarios de otras regiones.]"
   ]
  },
  {
   "cell_type": "markdown",
   "metadata": {
    "id": "LsBgitqj0q1R"
   },
   "source": [
    "[Hipotesis nula: o hay diferencia entre los ingresos promedios generados por las areas NY y NJ con las del resto de areas\n",
    "Hipotesis alternativa: Los ingresos promedios procedentes de las areas NY y NJ es diferente al del resto de areas ]"
   ]
  },
  {
   "cell_type": "code",
   "execution_count": 58,
   "metadata": {
    "trusted": true
   },
   "outputs": [],
   "source": [
    "split_1 = datos_de_usuario['city'].str.split(',', expand=True)\n",
    "\n",
    "\n",
    "split_2 = split_1[1].str.strip().str.split(' ', expand=True)\n",
    "\n",
    "datos_de_usuario['city'] = split_1[0]\n",
    "datos_de_usuario['area'] = split_2[0]\n",
    "datos_de_usuario['zone_type'] = split_2[1]\n"
   ]
  },
  {
   "cell_type": "code",
   "execution_count": 59,
   "metadata": {
    "trusted": true
   },
   "outputs": [
    {
     "name": "stdout",
     "output_type": "stream",
     "text": [
      "   user_id first_name  last_name  age                           city  \\\n",
      "0     1000   Anamaria      Bauer   45  Atlanta-Sandy Springs-Roswell   \n",
      "1     1001     Mickey  Wilkerson   28        Seattle-Tacoma-Bellevue   \n",
      "2     1002     Carlee    Hoffman   36   Las Vegas-Henderson-Paradise   \n",
      "3     1003   Reynaldo    Jenkins   52                          Tulsa   \n",
      "4     1004    Leonila   Thompson   40        Seattle-Tacoma-Bellevue   \n",
      "\n",
      "    reg_date      plan churn_date area zone_type  \n",
      "0 2018-12-24  ultimate        NaT   GA       MSA  \n",
      "1 2018-08-13      surf        NaT   WA       MSA  \n",
      "2 2018-10-21      surf        NaT   NV       MSA  \n",
      "3 2018-01-28      surf        NaT   OK       MSA  \n",
      "4 2018-05-23      surf        NaT   WA       MSA  \n"
     ]
    }
   ],
   "source": [
    "print(datos_de_usuario.head())"
   ]
  },
  {
   "cell_type": "code",
   "execution_count": 60,
   "metadata": {
    "id": "Cqcj7wrZ0q1S",
    "trusted": true
   },
   "outputs": [
    {
     "name": "stdout",
     "output_type": "stream",
     "text": [
      "   user_id year_month  id_count  duration_sum  message_count  mb_used_sum  \\\n",
      "0     1000    2018-12      16.0         124.0           11.0      1901.47   \n",
      "1     1006    2018-11       2.0          10.0           15.0      2068.37   \n",
      "2     1006    2018-12       9.0          59.0          139.0     32118.82   \n",
      "3     1008    2018-10      71.0         476.0           21.0     17106.99   \n",
      "4     1008    2018-11      63.0         446.0           37.0     23676.72   \n",
      "\n",
      "  plan_name  messages_included  mb_per_month_included  minutes_included  ...  \\\n",
      "0  ultimate             1000.0                30720.0            3000.0  ...   \n",
      "1  ultimate             1000.0                30720.0            3000.0  ...   \n",
      "2  ultimate             1000.0                30720.0            3000.0  ...   \n",
      "3  ultimate             1000.0                30720.0            3000.0  ...   \n",
      "4  ultimate             1000.0                30720.0            3000.0  ...   \n",
      "\n",
      "   cost_extra_minutes  extra_messages  cost_extra_messages  extra_mb  \\\n",
      "0                 0.0             0.0                  0.0      0.00   \n",
      "1                 0.0             0.0                  0.0      0.00   \n",
      "2                 0.0             0.0                  0.0   1398.82   \n",
      "3                 0.0             0.0                  0.0      0.00   \n",
      "4                 0.0             0.0                  0.0      0.00   \n",
      "\n",
      "   extra_gb  cost_extra_data  total_extra_cost  total_payment  gb_used_sum  \\\n",
      "0       0.0              0.0               0.0           70.0          2.0   \n",
      "1       0.0              0.0               0.0           70.0          2.0   \n",
      "2       2.0             14.0              14.0           84.0         31.0   \n",
      "3       0.0              0.0               0.0           70.0         17.0   \n",
      "4       0.0              0.0               0.0           70.0         23.0   \n",
      "\n",
      "   area  \n",
      "0    GA  \n",
      "1    CA  \n",
      "2    CA  \n",
      "3    FL  \n",
      "4    FL  \n",
      "\n",
      "[5 rows x 26 columns]\n"
     ]
    }
   ],
   "source": [
    "# Prueba las hipótesis\n",
    "monthly_stats = monthly_stats.merge( datos_de_usuario[['user_id', 'area']], on='user_id', how='outer')\n",
    "print(monthly_stats.head())\n",
    "\n"
   ]
  },
  {
   "cell_type": "code",
   "execution_count": 61,
   "metadata": {
    "trusted": true
   },
   "outputs": [
    {
     "name": "stdout",
     "output_type": "stream",
     "text": [
      "['GA' 'CA' 'FL' 'OH' 'TN' 'TX' 'PA-NJ-DE-MD' 'IL-IN-WI' 'NY-NJ-PA' 'AL'\n",
      " 'OK' 'CO' 'WA' 'NV' 'IN' 'SC' 'NC-SC' 'AZ' 'MI' 'CT' 'OH-KY-IN' 'VA-NC'\n",
      " 'KY-IN' 'VA' 'MO-IL' 'MN-WI' 'LA' 'TN-MS-AR' 'PA' 'DC-VA-MD-WV' 'UT'\n",
      " 'OR-WA' 'MA-NH' 'NE-IA' 'NM' 'NY' 'RI-MA' 'HI' 'MD' 'WI' 'MO-KS' 'NC']\n"
     ]
    }
   ],
   "source": [
    "print(monthly_stats[\"area\"].unique())"
   ]
  },
  {
   "cell_type": "code",
   "execution_count": 62,
   "metadata": {
    "trusted": true
   },
   "outputs": [
    {
     "name": "stdout",
     "output_type": "stream",
     "text": [
      "Ingresos promedio NY y NJ 60.90492610837439\n",
      "Ingresos promedio del resto de areas 65.09262321144674\n",
      "30    70.0\n",
      "31    70.0\n",
      "32    70.0\n",
      "33    70.0\n",
      "34    70.0\n",
      "Name: total_payment, dtype: float64\n",
      "0    70.0\n",
      "1    70.0\n",
      "2    84.0\n",
      "3    70.0\n",
      "4    70.0\n",
      "Name: total_payment, dtype: float64\n"
     ]
    }
   ],
   "source": [
    "areas=[\"NY\",\"NJ\", 'NY-NJ-PA']\n",
    "plan_surf_ingresos = monthly_stats[monthly_stats['area'].isin(areas)]\n",
    "\n",
    "\n",
    "ingresos_surf_NY_NJ = plan_surf_ingresos[\"total_payment\"]\n",
    "\n",
    "ingresos_surf_promedio= ingresos_surf_NY_NJ.mean()\n",
    "# Filtrar los datos para plan_ultimate (todas las áreas que NO sean NY o NJ)\n",
    "plan_ultimate_ingresos = monthly_stats[~monthly_stats['area'].isin(areas)]\n",
    "\n",
    "# Calcular el ingreso promedio para esas otras áreas\n",
    "ingresos_ultimate_Re = plan_ultimate_ingresos[\"total_payment\"]\n",
    "ingresos_ultimate_promedio= ingresos_ultimate_Re.mean()\n",
    "print(\"Ingresos promedio NY y NJ\", ingresos_surf_promedio)\n",
    "print(\"Ingresos promedio del resto de areas\", ingresos_ultimate_promedio)\n",
    "print(ingresos_surf_NY_NJ.head())\n",
    "print(ingresos_ultimate_Re.head())"
   ]
  },
  {
   "cell_type": "code",
   "execution_count": 63,
   "metadata": {
    "trusted": true
   },
   "outputs": [
    {
     "name": "stdout",
     "output_type": "stream",
     "text": [
      "Valores ausentes en Ny y Nj 1\n",
      "Valores ausentes en el resto del pais 9\n",
      "0\n"
     ]
    }
   ],
   "source": [
    "print(\"Valores ausentes en Ny y Nj\", ingresos_surf_NY_NJ.isna().sum())\n",
    "print(\"Valores ausentes en el resto del pais\",ingresos_ultimate_Re.isna().sum())\n",
    "ingresos_surf_NY_NJ= ingresos_surf_NY_NJ.dropna()\n",
    "ingresos_ultimate_Re= ingresos_ultimate_Re.dropna()\n",
    "print(ingresos_ultimate_Re.isna().sum())"
   ]
  },
  {
   "cell_type": "code",
   "execution_count": 64,
   "metadata": {
    "trusted": true
   },
   "outputs": [
    {
     "name": "stdout",
     "output_type": "stream",
     "text": [
      "406\n",
      "1887\n"
     ]
    }
   ],
   "source": [
    "print(ingresos_surf_NY_NJ.count())\n",
    "print(ingresos_ultimate_Re.count())"
   ]
  },
  {
   "cell_type": "code",
   "execution_count": 65,
   "metadata": {
    "trusted": true
   },
   "outputs": [
    {
     "name": "stdout",
     "output_type": "stream",
     "text": [
      "valor p:  0.0902061652931304\n",
      "Rechazamos la hipótesis nula\n"
     ]
    }
   ],
   "source": [
    "alpha = 0.05  \n",
    "results_area = st.ttest_ind(ingresos_surf_NY_NJ, ingresos_ultimate_Re, equal_var = False) # realizar una prueba\n",
    "\n",
    "print('valor p: ', results_area.pvalue) # extraer el valor p\n",
    "\n",
    "if results_area.pvalue != alpha: # comparar el valor p con el umbral\n",
    "    print(\"Rechazamos la hipótesis nula\")\n",
    "else:\n",
    "    print(\"No podemos rechazar la hipótesis nula\")\n"
   ]
  },
  {
   "cell_type": "markdown",
   "metadata": {
    "id": "bbTR8UQO0q1T"
   },
   "source": [
    "## Conclusión general\n",
    "Se observo que independientemente del plan, la cantidad de Mb, llamadas y SMS eran similares, lo que producia bastantes cargos adicionales en el plan Surf, si bien se observo un mayor ingreso promedio en el plan Ultimate, y la prueba de hipotesis demostro que los ingresos promedio son significativamente diferente, la considerable cantidad de cargos extra y la gran cantidad de usuarios del plan Surf, que duplica la cantidad de usurarios con el plan Ultimate, fue suficiete como para obtener un ingreso total con el plan Surf de aproximadamente el doble de los ingresos del plan Ultimate, sugiero promocionar el plan Surf, ya que el bajo costo del plan sera mas atractivo para los potenciales clientes, y los cargos extras generados por el consumo de servicios extra en el plan Surf hara casi tan reditualble el plan Sur como el plan Ultimat, adicionalmente se observo una diferencia significativa en los ingresos promedios por mes generados en las areas de NY y NJ (60.9 dolares) en comparacion al resto de las areas (65 dolares) "
   ]
  }
 ],
 "metadata": {
  "ExecuteTimeLog": [
   {
    "duration": 828,
    "start_time": "2021-11-16T09:21:11.304Z"
   },
   {
    "duration": 893,
    "start_time": "2021-11-16T09:21:17.728Z"
   },
   {
    "duration": 1150,
    "start_time": "2021-11-16T09:21:29.568Z"
   },
   {
    "duration": 3,
    "start_time": "2021-11-16T09:24:14.495Z"
   },
   {
    "duration": 120,
    "start_time": "2021-11-16T09:24:46.630Z"
   },
   {
    "duration": 3,
    "start_time": "2021-11-16T09:28:27.882Z"
   },
   {
    "duration": 4,
    "start_time": "2021-11-16T09:29:54.281Z"
   },
   {
    "duration": 3,
    "start_time": "2021-11-16T09:30:45.936Z"
   },
   {
    "duration": 4,
    "start_time": "2021-11-16T09:31:06.300Z"
   },
   {
    "duration": 113,
    "start_time": "2021-11-16T09:31:37.208Z"
   },
   {
    "duration": 143,
    "start_time": "2021-11-16T09:31:48.656Z"
   },
   {
    "duration": 98,
    "start_time": "2021-11-16T09:31:55.678Z"
   },
   {
    "duration": 3,
    "start_time": "2021-11-16T09:32:08.535Z"
   },
   {
    "duration": 111,
    "start_time": "2021-11-16T09:32:10.120Z"
   },
   {
    "duration": 3,
    "start_time": "2021-11-16T09:32:15.732Z"
   },
   {
    "duration": 4,
    "start_time": "2021-11-16T09:32:29.423Z"
   },
   {
    "duration": 3,
    "start_time": "2021-11-16T10:03:03.074Z"
   },
   {
    "duration": 3,
    "start_time": "2021-11-16T10:10:01.288Z"
   },
   {
    "duration": 3,
    "start_time": "2021-11-16T10:10:46.923Z"
   },
   {
    "duration": 121,
    "start_time": "2021-11-16T10:37:46.494Z"
   },
   {
    "duration": 125,
    "start_time": "2021-11-16T10:38:20.632Z"
   },
   {
    "duration": 112,
    "start_time": "2021-11-16T10:46:53.001Z"
   },
   {
    "duration": 110,
    "start_time": "2021-11-16T10:48:25.775Z"
   },
   {
    "duration": 3,
    "start_time": "2021-11-16T10:50:18.720Z"
   },
   {
    "duration": 4,
    "start_time": "2021-11-16T10:50:37.649Z"
   },
   {
    "duration": 2,
    "start_time": "2021-11-16T10:50:51.884Z"
   },
   {
    "duration": 3,
    "start_time": "2021-11-16T10:51:56.237Z"
   },
   {
    "duration": 101,
    "start_time": "2021-11-16T10:53:13.791Z"
   },
   {
    "duration": 3,
    "start_time": "2021-11-16T10:55:59.186Z"
   },
   {
    "duration": 3,
    "start_time": "2021-11-16T10:56:10.751Z"
   },
   {
    "duration": 3,
    "start_time": "2021-11-16T10:56:49.038Z"
   },
   {
    "duration": 3,
    "start_time": "2021-11-16T10:56:49.174Z"
   },
   {
    "duration": 4,
    "start_time": "2021-11-16T10:56:49.414Z"
   },
   {
    "duration": 3,
    "start_time": "2021-11-16T10:56:49.680Z"
   },
   {
    "duration": 3,
    "start_time": "2021-11-16T10:56:50.370Z"
   },
   {
    "duration": 114,
    "start_time": "2021-11-16T10:59:34.518Z"
   },
   {
    "duration": 3,
    "start_time": "2021-11-16T11:01:41.201Z"
   },
   {
    "duration": 116,
    "start_time": "2021-11-16T11:01:48.754Z"
   },
   {
    "duration": 3,
    "start_time": "2021-11-16T11:02:16.685Z"
   },
   {
    "duration": 3,
    "start_time": "2021-11-16T11:02:19.479Z"
   },
   {
    "duration": 3,
    "start_time": "2021-11-16T11:02:47.067Z"
   },
   {
    "duration": 3,
    "start_time": "2021-11-16T11:02:49.353Z"
   },
   {
    "duration": 3,
    "start_time": "2021-11-16T11:03:07.835Z"
   },
   {
    "duration": 3,
    "start_time": "2021-11-16T11:03:07.953Z"
   },
   {
    "duration": 112,
    "start_time": "2021-11-16T11:07:52.072Z"
   },
   {
    "duration": 187,
    "start_time": "2021-11-16T11:09:23.468Z"
   },
   {
    "duration": 4,
    "start_time": "2021-11-16T11:10:01.455Z"
   },
   {
    "duration": 3,
    "start_time": "2021-11-16T11:10:05.069Z"
   },
   {
    "duration": 4,
    "start_time": "2021-11-16T11:10:13.376Z"
   },
   {
    "duration": 3,
    "start_time": "2021-11-16T11:10:14.434Z"
   },
   {
    "duration": 3,
    "start_time": "2021-11-16T11:10:22.853Z"
   },
   {
    "duration": 4,
    "start_time": "2021-11-16T11:27:29.279Z"
   },
   {
    "duration": 4,
    "start_time": "2021-11-16T11:29:08.919Z"
   },
   {
    "duration": 118,
    "start_time": "2021-11-16T11:29:46.703Z"
   },
   {
    "duration": 437,
    "start_time": "2021-11-16T11:36:02.181Z"
   },
   {
    "duration": 157,
    "start_time": "2021-11-16T11:36:14.388Z"
   },
   {
    "duration": 207,
    "start_time": "2021-11-16T11:47:15.898Z"
   },
   {
    "duration": 3,
    "start_time": "2021-11-16T11:53:52.092Z"
   },
   {
    "duration": 3,
    "start_time": "2021-11-16T11:53:52.236Z"
   },
   {
    "duration": 3,
    "start_time": "2021-11-16T11:59:12.005Z"
   },
   {
    "duration": 112,
    "start_time": "2021-11-16T12:00:33.446Z"
   },
   {
    "duration": 3,
    "start_time": "2021-11-16T12:02:14.453Z"
   },
   {
    "duration": 3,
    "start_time": "2021-11-16T12:02:39.512Z"
   },
   {
    "duration": 106,
    "start_time": "2021-11-16T12:03:03.460Z"
   },
   {
    "duration": 3,
    "start_time": "2021-11-17T20:37:21.139Z"
   },
   {
    "duration": 3,
    "start_time": "2021-11-17T20:37:22.229Z"
   },
   {
    "duration": 3,
    "start_time": "2021-11-17T20:38:38.806Z"
   },
   {
    "duration": 3,
    "start_time": "2021-11-17T20:38:41.958Z"
   },
   {
    "duration": 3,
    "start_time": "2021-11-17T20:43:46.551Z"
   },
   {
    "duration": 4,
    "start_time": "2021-11-17T20:58:21.835Z"
   },
   {
    "duration": 3,
    "start_time": "2021-11-17T20:59:21.872Z"
   },
   {
    "duration": 4,
    "start_time": "2021-11-17T20:59:45.352Z"
   },
   {
    "duration": 4,
    "start_time": "2021-11-17T20:59:49.646Z"
   },
   {
    "duration": 159,
    "start_time": "2021-11-17T21:02:26.949Z"
   },
   {
    "duration": 3,
    "start_time": "2021-11-17T21:03:53.461Z"
   },
   {
    "duration": 3,
    "start_time": "2021-11-17T21:03:53.694Z"
   },
   {
    "duration": 3,
    "start_time": "2021-11-17T21:05:28.145Z"
   },
   {
    "duration": 116,
    "start_time": "2021-11-17T21:05:57.787Z"
   },
   {
    "duration": 3,
    "start_time": "2021-11-17T21:06:37.993Z"
   },
   {
    "duration": 3,
    "start_time": "2021-11-17T21:06:38.261Z"
   },
   {
    "duration": 3,
    "start_time": "2021-11-17T21:11:54.358Z"
   },
   {
    "duration": 3,
    "start_time": "2021-11-17T21:12:43.846Z"
   },
   {
    "duration": 4,
    "start_time": "2021-11-17T21:13:08.773Z"
   },
   {
    "duration": 3,
    "start_time": "2021-11-17T21:14:44.441Z"
   },
   {
    "duration": 3,
    "start_time": "2021-11-17T21:15:42.059Z"
   },
   {
    "duration": 4,
    "start_time": "2021-11-17T21:15:51.995Z"
   },
   {
    "duration": 3,
    "start_time": "2021-11-17T21:15:53.923Z"
   },
   {
    "duration": 3,
    "start_time": "2021-11-17T21:15:55.282Z"
   },
   {
    "duration": 3,
    "start_time": "2021-11-17T21:16:28.492Z"
   },
   {
    "duration": 3,
    "start_time": "2021-11-17T21:16:32.603Z"
   },
   {
    "duration": 3,
    "start_time": "2021-11-17T21:17:06.941Z"
   },
   {
    "duration": 98,
    "start_time": "2021-11-17T21:18:05.733Z"
   },
   {
    "duration": 4,
    "start_time": "2021-11-17T21:21:35.255Z"
   },
   {
    "duration": 3,
    "start_time": "2021-11-17T21:21:37.804Z"
   },
   {
    "duration": 4,
    "start_time": "2021-11-17T21:23:06.071Z"
   },
   {
    "duration": 3,
    "start_time": "2021-11-17T21:23:24.799Z"
   },
   {
    "duration": 3,
    "start_time": "2021-11-17T21:23:32.591Z"
   },
   {
    "duration": 98,
    "start_time": "2021-11-17T21:28:31.559Z"
   },
   {
    "duration": 3,
    "start_time": "2021-11-17T21:28:45.448Z"
   },
   {
    "duration": 3,
    "start_time": "2021-11-17T21:29:17.303Z"
   },
   {
    "duration": 3,
    "start_time": "2021-11-17T21:29:29.617Z"
   },
   {
    "duration": 3,
    "start_time": "2021-11-17T21:29:32.681Z"
   },
   {
    "duration": 3,
    "start_time": "2021-11-17T21:36:11.474Z"
   },
   {
    "duration": 3,
    "start_time": "2021-11-17T21:36:14.791Z"
   },
   {
    "duration": 3,
    "start_time": "2021-11-17T21:36:53.943Z"
   },
   {
    "duration": 3,
    "start_time": "2021-11-17T21:36:56.165Z"
   },
   {
    "duration": 4,
    "start_time": "2021-11-17T21:37:16.590Z"
   },
   {
    "duration": 3,
    "start_time": "2021-11-17T21:37:22.702Z"
   },
   {
    "duration": 4,
    "start_time": "2021-11-17T21:38:03.479Z"
   },
   {
    "duration": 3,
    "start_time": "2021-11-17T21:38:08.601Z"
   },
   {
    "duration": 3,
    "start_time": "2021-11-17T21:38:12.928Z"
   },
   {
    "duration": 3,
    "start_time": "2021-11-17T21:38:48.896Z"
   },
   {
    "duration": 2,
    "start_time": "2021-11-17T21:38:49.171Z"
   },
   {
    "duration": 4,
    "start_time": "2021-11-17T21:39:57.889Z"
   },
   {
    "duration": 3,
    "start_time": "2021-11-17T21:39:58.057Z"
   },
   {
    "duration": 3,
    "start_time": "2021-11-17T21:41:20.108Z"
   },
   {
    "duration": 3,
    "start_time": "2021-11-17T21:41:20.629Z"
   },
   {
    "duration": 3,
    "start_time": "2021-11-17T21:42:49.136Z"
   },
   {
    "duration": 3,
    "start_time": "2021-11-17T21:43:15.137Z"
   },
   {
    "duration": 4,
    "start_time": "2021-11-17T21:43:16.766Z"
   },
   {
    "duration": 4,
    "start_time": "2021-11-17T21:43:31.711Z"
   },
   {
    "duration": 3,
    "start_time": "2021-11-17T21:43:36.312Z"
   },
   {
    "duration": 4,
    "start_time": "2021-11-17T21:45:08.825Z"
   },
   {
    "duration": 4,
    "start_time": "2021-11-17T21:45:10.119Z"
   },
   {
    "duration": 4,
    "start_time": "2021-11-17T21:45:13.748Z"
   },
   {
    "duration": 3,
    "start_time": "2021-11-17T21:45:22.219Z"
   },
   {
    "duration": 3,
    "start_time": "2021-11-17T21:45:33.412Z"
   },
   {
    "duration": 2,
    "start_time": "2021-11-17T21:46:01.885Z"
   },
   {
    "duration": 3,
    "start_time": "2021-11-17T21:46:03.628Z"
   },
   {
    "duration": 107,
    "start_time": "2021-11-17T21:47:32.512Z"
   },
   {
    "duration": 103,
    "start_time": "2021-11-17T21:50:36.243Z"
   },
   {
    "duration": 3,
    "start_time": "2021-11-18T06:28:31.440Z"
   },
   {
    "duration": 3,
    "start_time": "2021-11-18T06:29:00.168Z"
   },
   {
    "duration": 3,
    "start_time": "2021-11-18T06:31:27.008Z"
   },
   {
    "duration": 2,
    "start_time": "2021-11-18T06:35:34.288Z"
   },
   {
    "duration": 2,
    "start_time": "2021-11-18T06:38:04.527Z"
   },
   {
    "duration": 593,
    "start_time": "2025-04-01T04:13:14.877Z"
   },
   {
    "duration": 251,
    "start_time": "2025-04-01T04:13:17.239Z"
   },
   {
    "duration": 334,
    "start_time": "2025-04-01T04:13:51.662Z"
   },
   {
    "duration": 76,
    "start_time": "2025-04-01T04:15:00.199Z"
   },
   {
    "duration": 176,
    "start_time": "2025-04-01T04:16:11.749Z"
   },
   {
    "duration": 9,
    "start_time": "2025-04-01T04:16:57.222Z"
   },
   {
    "duration": 6,
    "start_time": "2025-04-01T04:18:19.874Z"
   },
   {
    "duration": 5,
    "start_time": "2025-04-01T04:19:17.493Z"
   },
   {
    "duration": 5,
    "start_time": "2025-04-01T04:19:18.407Z"
   },
   {
    "duration": 4,
    "start_time": "2025-04-01T04:19:19.287Z"
   },
   {
    "duration": 197,
    "start_time": "2025-04-01T04:19:41.087Z"
   },
   {
    "duration": 6,
    "start_time": "2025-04-01T04:19:45.303Z"
   },
   {
    "duration": 11,
    "start_time": "2025-04-01T04:20:11.486Z"
   },
   {
    "duration": 20,
    "start_time": "2025-04-01T04:21:29.416Z"
   },
   {
    "duration": 14,
    "start_time": "2025-04-01T04:21:30.070Z"
   },
   {
    "duration": 18,
    "start_time": "2025-04-01T04:21:30.508Z"
   },
   {
    "duration": 14,
    "start_time": "2025-04-01T04:21:32.083Z"
   },
   {
    "duration": 9,
    "start_time": "2025-04-01T04:36:54.421Z"
   },
   {
    "duration": 6,
    "start_time": "2025-04-01T04:36:55.214Z"
   },
   {
    "duration": 6,
    "start_time": "2025-04-01T04:42:19.519Z"
   },
   {
    "duration": 16,
    "start_time": "2025-04-01T04:43:24.510Z"
   },
   {
    "duration": 5,
    "start_time": "2025-04-01T04:43:25.355Z"
   },
   {
    "duration": 17,
    "start_time": "2025-04-01T04:44:55.645Z"
   },
   {
    "duration": 12,
    "start_time": "2025-04-01T04:45:37.305Z"
   },
   {
    "duration": 5,
    "start_time": "2025-04-01T04:45:37.842Z"
   },
   {
    "duration": 12,
    "start_time": "2025-04-01T04:46:13.284Z"
   },
   {
    "duration": 14,
    "start_time": "2025-04-01T04:46:51.346Z"
   },
   {
    "duration": 4,
    "start_time": "2025-04-01T04:46:51.821Z"
   },
   {
    "duration": 22,
    "start_time": "2025-04-01T04:47:33.191Z"
   },
   {
    "duration": 13,
    "start_time": "2025-04-01T04:53:21.170Z"
   },
   {
    "duration": 5,
    "start_time": "2025-04-01T04:53:25.861Z"
   },
   {
    "duration": 11,
    "start_time": "2025-04-01T05:00:32.169Z"
   },
   {
    "duration": 9,
    "start_time": "2025-04-01T05:01:28.370Z"
   },
   {
    "duration": 5,
    "start_time": "2025-04-01T05:02:33.707Z"
   },
   {
    "duration": 12,
    "start_time": "2025-04-01T05:04:33.133Z"
   },
   {
    "duration": 162,
    "start_time": "2025-04-01T05:06:35.073Z"
   },
   {
    "duration": 7,
    "start_time": "2025-04-01T05:06:44.395Z"
   },
   {
    "duration": 6,
    "start_time": "2025-04-01T05:11:45.016Z"
   },
   {
    "duration": 14,
    "start_time": "2025-04-01T05:12:20.602Z"
   },
   {
    "duration": 13,
    "start_time": "2025-04-01T05:12:40.924Z"
   },
   {
    "duration": 12,
    "start_time": "2025-04-01T05:12:56.301Z"
   },
   {
    "duration": 12,
    "start_time": "2025-04-01T05:13:00.177Z"
   },
   {
    "duration": 16,
    "start_time": "2025-04-01T05:15:27.604Z"
   },
   {
    "duration": 19,
    "start_time": "2025-04-01T05:15:50.223Z"
   },
   {
    "duration": 14,
    "start_time": "2025-04-01T05:16:44.580Z"
   },
   {
    "duration": 433,
    "start_time": "2025-04-01T05:20:23.811Z"
   },
   {
    "duration": 18,
    "start_time": "2025-04-01T05:20:30.342Z"
   },
   {
    "duration": 604,
    "start_time": "2025-04-02T04:30:27.968Z"
   },
   {
    "duration": 224,
    "start_time": "2025-04-02T04:30:28.971Z"
   },
   {
    "duration": 11,
    "start_time": "2025-04-02T04:30:34.676Z"
   },
   {
    "duration": 7,
    "start_time": "2025-04-02T04:30:35.174Z"
   },
   {
    "duration": 10,
    "start_time": "2025-04-02T04:30:38.341Z"
   },
   {
    "duration": 5,
    "start_time": "2025-04-02T04:30:39.073Z"
   },
   {
    "duration": 7,
    "start_time": "2025-04-02T04:30:41.101Z"
   },
   {
    "duration": 18,
    "start_time": "2025-04-02T04:30:43.113Z"
   },
   {
    "duration": 5,
    "start_time": "2025-04-02T04:30:43.674Z"
   },
   {
    "duration": 18,
    "start_time": "2025-04-02T04:30:45.633Z"
   },
   {
    "duration": 16,
    "start_time": "2025-04-02T04:30:47.132Z"
   },
   {
    "duration": 4,
    "start_time": "2025-04-02T04:30:47.372Z"
   },
   {
    "duration": 14,
    "start_time": "2025-04-02T04:30:48.651Z"
   },
   {
    "duration": 19,
    "start_time": "2025-04-02T04:30:51.299Z"
   },
   {
    "duration": 7,
    "start_time": "2025-04-02T04:30:51.586Z"
   },
   {
    "duration": 15,
    "start_time": "2025-04-02T04:30:52.676Z"
   },
   {
    "duration": 5,
    "start_time": "2025-04-02T04:30:54.187Z"
   },
   {
    "duration": 659,
    "start_time": "2025-04-02T04:30:54.685Z"
   },
   {
    "duration": 0,
    "start_time": "2025-04-02T04:30:55.348Z"
   },
   {
    "duration": 18,
    "start_time": "2025-04-02T04:30:55.366Z"
   },
   {
    "duration": 25,
    "start_time": "2025-04-02T04:30:55.943Z"
   },
   {
    "duration": 22,
    "start_time": "2025-04-02T04:31:06.598Z"
   },
   {
    "duration": 59,
    "start_time": "2025-04-02T04:31:13.999Z"
   },
   {
    "duration": 19,
    "start_time": "2025-04-02T04:31:23.863Z"
   },
   {
    "duration": 15,
    "start_time": "2025-04-02T04:31:48.662Z"
   },
   {
    "duration": 14,
    "start_time": "2025-04-02T04:43:36.967Z"
   },
   {
    "duration": 28,
    "start_time": "2025-04-02T04:44:01.347Z"
   },
   {
    "duration": 20,
    "start_time": "2025-04-02T04:44:36.446Z"
   },
   {
    "duration": 29,
    "start_time": "2025-04-02T04:45:25.701Z"
   },
   {
    "duration": 32,
    "start_time": "2025-04-02T04:46:55.487Z"
   },
   {
    "duration": 20,
    "start_time": "2025-04-02T04:50:28.592Z"
   },
   {
    "duration": 18,
    "start_time": "2025-04-02T04:51:13.174Z"
   },
   {
    "duration": 20,
    "start_time": "2025-04-02T04:57:50.992Z"
   },
   {
    "duration": 23,
    "start_time": "2025-04-02T04:57:51.775Z"
   },
   {
    "duration": 15,
    "start_time": "2025-04-02T04:57:52.668Z"
   },
   {
    "duration": 17,
    "start_time": "2025-04-02T04:57:53.324Z"
   },
   {
    "duration": 14,
    "start_time": "2025-04-02T04:57:54.489Z"
   },
   {
    "duration": 14,
    "start_time": "2025-04-02T04:59:04.572Z"
   },
   {
    "duration": 12,
    "start_time": "2025-04-02T05:01:12.891Z"
   },
   {
    "duration": 6,
    "start_time": "2025-04-02T05:04:05.917Z"
   },
   {
    "duration": 7,
    "start_time": "2025-04-02T05:04:10.588Z"
   },
   {
    "duration": 11,
    "start_time": "2025-04-02T05:05:26.153Z"
   },
   {
    "duration": 6,
    "start_time": "2025-04-02T05:05:46.089Z"
   },
   {
    "duration": 5,
    "start_time": "2025-04-02T05:12:04.712Z"
   },
   {
    "duration": 11,
    "start_time": "2025-04-02T05:12:34.035Z"
   },
   {
    "duration": 10,
    "start_time": "2025-04-02T05:17:13.474Z"
   },
   {
    "duration": 11,
    "start_time": "2025-04-02T05:18:40.958Z"
   },
   {
    "duration": 132,
    "start_time": "2025-04-02T05:19:23.845Z"
   },
   {
    "duration": 10,
    "start_time": "2025-04-02T05:20:26.099Z"
   },
   {
    "duration": 2,
    "start_time": "2025-04-02T05:20:54.432Z"
   },
   {
    "duration": 162,
    "start_time": "2025-04-02T05:20:55.345Z"
   },
   {
    "duration": 8,
    "start_time": "2025-04-02T05:20:56.904Z"
   },
   {
    "duration": 4,
    "start_time": "2025-04-02T05:20:57.088Z"
   },
   {
    "duration": 9,
    "start_time": "2025-04-02T05:20:58.725Z"
   },
   {
    "duration": 5,
    "start_time": "2025-04-02T05:20:58.924Z"
   },
   {
    "duration": 5,
    "start_time": "2025-04-02T05:20:59.593Z"
   },
   {
    "duration": 16,
    "start_time": "2025-04-02T05:21:00.824Z"
   },
   {
    "duration": 5,
    "start_time": "2025-04-02T05:21:01.022Z"
   },
   {
    "duration": 17,
    "start_time": "2025-04-02T05:21:01.828Z"
   },
   {
    "duration": 13,
    "start_time": "2025-04-02T05:21:02.839Z"
   },
   {
    "duration": 5,
    "start_time": "2025-04-02T05:21:03.044Z"
   },
   {
    "duration": 11,
    "start_time": "2025-04-02T05:21:03.864Z"
   },
   {
    "duration": 13,
    "start_time": "2025-04-02T05:21:05.395Z"
   },
   {
    "duration": 4,
    "start_time": "2025-04-02T05:21:05.672Z"
   },
   {
    "duration": 14,
    "start_time": "2025-04-02T05:21:07.230Z"
   },
   {
    "duration": 5,
    "start_time": "2025-04-02T05:21:09.170Z"
   },
   {
    "duration": 11,
    "start_time": "2025-04-02T05:21:10.476Z"
   },
   {
    "duration": 20,
    "start_time": "2025-04-02T05:21:10.752Z"
   },
   {
    "duration": 21,
    "start_time": "2025-04-02T05:21:10.948Z"
   },
   {
    "duration": 15,
    "start_time": "2025-04-02T05:21:11.164Z"
   },
   {
    "duration": 17,
    "start_time": "2025-04-02T05:21:11.635Z"
   },
   {
    "duration": 12,
    "start_time": "2025-04-02T05:21:12.657Z"
   },
   {
    "duration": 10,
    "start_time": "2025-04-02T05:21:12.909Z"
   },
   {
    "duration": 11,
    "start_time": "2025-04-02T05:21:13.771Z"
   },
   {
    "duration": 45,
    "start_time": "2025-04-02T05:31:37.049Z"
   },
   {
    "duration": 670,
    "start_time": "2025-04-03T04:02:06.522Z"
   },
   {
    "duration": 256,
    "start_time": "2025-04-03T04:02:07.600Z"
   },
   {
    "duration": 11,
    "start_time": "2025-04-03T04:02:09.300Z"
   },
   {
    "duration": 7,
    "start_time": "2025-04-03T04:02:09.953Z"
   },
   {
    "duration": 9,
    "start_time": "2025-04-03T04:02:13.501Z"
   },
   {
    "duration": 6,
    "start_time": "2025-04-03T04:02:13.701Z"
   },
   {
    "duration": 6,
    "start_time": "2025-04-03T04:02:15.061Z"
   },
   {
    "duration": 18,
    "start_time": "2025-04-03T04:02:16.595Z"
   },
   {
    "duration": 5,
    "start_time": "2025-04-03T04:02:16.784Z"
   },
   {
    "duration": 19,
    "start_time": "2025-04-03T04:02:17.706Z"
   },
   {
    "duration": 12,
    "start_time": "2025-04-03T04:02:18.824Z"
   },
   {
    "duration": 4,
    "start_time": "2025-04-03T04:02:19.040Z"
   },
   {
    "duration": 13,
    "start_time": "2025-04-03T04:02:20.490Z"
   },
   {
    "duration": 15,
    "start_time": "2025-04-03T04:02:21.623Z"
   },
   {
    "duration": 7,
    "start_time": "2025-04-03T04:02:21.884Z"
   },
   {
    "duration": 14,
    "start_time": "2025-04-03T04:02:23.206Z"
   },
   {
    "duration": 5,
    "start_time": "2025-04-03T04:02:25.376Z"
   },
   {
    "duration": 9,
    "start_time": "2025-04-03T04:02:25.885Z"
   },
   {
    "duration": 21,
    "start_time": "2025-04-03T04:02:26.150Z"
   },
   {
    "duration": 21,
    "start_time": "2025-04-03T04:02:27.532Z"
   },
   {
    "duration": 19,
    "start_time": "2025-04-03T04:02:28.361Z"
   },
   {
    "duration": 17,
    "start_time": "2025-04-03T04:02:30.710Z"
   },
   {
    "duration": 13,
    "start_time": "2025-04-03T04:02:32.330Z"
   },
   {
    "duration": 10,
    "start_time": "2025-04-03T04:02:33.937Z"
   },
   {
    "duration": 10,
    "start_time": "2025-04-03T04:02:47.419Z"
   },
   {
    "duration": 13,
    "start_time": "2025-04-03T04:04:12.228Z"
   },
   {
    "duration": 358,
    "start_time": "2025-04-03T04:59:17.058Z"
   },
   {
    "duration": 10,
    "start_time": "2025-04-03T05:07:32.947Z"
   },
   {
    "duration": 3,
    "start_time": "2025-04-03T05:10:40.819Z"
   },
   {
    "duration": 4,
    "start_time": "2025-04-03T05:11:40.342Z"
   },
   {
    "duration": 8,
    "start_time": "2025-04-03T05:11:44.001Z"
   },
   {
    "duration": 401,
    "start_time": "2025-04-03T05:11:58.295Z"
   },
   {
    "duration": 13,
    "start_time": "2025-04-03T05:12:40.422Z"
   },
   {
    "duration": 43,
    "start_time": "2025-04-03T05:16:33.466Z"
   },
   {
    "duration": 3,
    "start_time": "2025-04-03T05:17:15.065Z"
   },
   {
    "duration": 15,
    "start_time": "2025-04-03T05:17:38.352Z"
   },
   {
    "duration": 13,
    "start_time": "2025-04-03T05:18:10.213Z"
   },
   {
    "duration": 13,
    "start_time": "2025-04-03T05:18:19.251Z"
   },
   {
    "duration": 8,
    "start_time": "2025-04-03T05:19:27.662Z"
   },
   {
    "duration": 7,
    "start_time": "2025-04-03T05:20:11.819Z"
   },
   {
    "duration": 27,
    "start_time": "2025-04-03T05:21:12.124Z"
   },
   {
    "duration": 19,
    "start_time": "2025-04-03T05:21:18.982Z"
   },
   {
    "duration": 17,
    "start_time": "2025-04-03T05:21:44.598Z"
   },
   {
    "duration": 12,
    "start_time": "2025-04-03T05:22:10.105Z"
   },
   {
    "duration": 20,
    "start_time": "2025-04-03T05:22:32.302Z"
   },
   {
    "duration": 11,
    "start_time": "2025-04-03T05:22:45.574Z"
   },
   {
    "duration": 6,
    "start_time": "2025-04-03T05:24:01.842Z"
   },
   {
    "duration": 2,
    "start_time": "2025-04-03T05:24:48.876Z"
   },
   {
    "duration": 179,
    "start_time": "2025-04-03T05:24:50.324Z"
   },
   {
    "duration": 11,
    "start_time": "2025-04-03T05:24:51.114Z"
   },
   {
    "duration": 5,
    "start_time": "2025-04-03T05:24:51.294Z"
   },
   {
    "duration": 12,
    "start_time": "2025-04-03T05:24:53.009Z"
   },
   {
    "duration": 9,
    "start_time": "2025-04-03T05:24:53.205Z"
   },
   {
    "duration": 6,
    "start_time": "2025-04-03T05:24:54.005Z"
   },
   {
    "duration": 29,
    "start_time": "2025-04-03T05:24:54.971Z"
   },
   {
    "duration": 7,
    "start_time": "2025-04-03T05:24:55.189Z"
   },
   {
    "duration": 20,
    "start_time": "2025-04-03T05:24:55.992Z"
   },
   {
    "duration": 22,
    "start_time": "2025-04-03T05:24:56.999Z"
   },
   {
    "duration": 5,
    "start_time": "2025-04-03T05:24:57.199Z"
   },
   {
    "duration": 13,
    "start_time": "2025-04-03T05:24:58.709Z"
   },
   {
    "duration": 23,
    "start_time": "2025-04-03T05:25:00.042Z"
   },
   {
    "duration": 7,
    "start_time": "2025-04-03T05:25:00.262Z"
   },
   {
    "duration": 17,
    "start_time": "2025-04-03T05:25:01.626Z"
   },
   {
    "duration": 6,
    "start_time": "2025-04-03T05:25:03.104Z"
   },
   {
    "duration": 19,
    "start_time": "2025-04-03T05:25:03.872Z"
   },
   {
    "duration": 29,
    "start_time": "2025-04-03T05:25:04.656Z"
   },
   {
    "duration": 20,
    "start_time": "2025-04-03T05:25:05.571Z"
   },
   {
    "duration": 23,
    "start_time": "2025-04-03T05:25:07.755Z"
   },
   {
    "duration": 19,
    "start_time": "2025-04-03T05:25:08.539Z"
   },
   {
    "duration": 13,
    "start_time": "2025-04-03T05:25:13.566Z"
   },
   {
    "duration": 11,
    "start_time": "2025-04-03T05:25:17.609Z"
   },
   {
    "duration": 6,
    "start_time": "2025-04-03T05:25:20.792Z"
   },
   {
    "duration": 9,
    "start_time": "2025-04-03T05:26:57.748Z"
   },
   {
    "duration": 9,
    "start_time": "2025-04-03T05:28:02.940Z"
   },
   {
    "duration": 11,
    "start_time": "2025-04-03T05:28:19.301Z"
   },
   {
    "duration": 12,
    "start_time": "2025-04-03T05:28:19.985Z"
   },
   {
    "duration": 4,
    "start_time": "2025-04-03T05:28:20.605Z"
   },
   {
    "duration": 5,
    "start_time": "2025-04-03T05:28:21.066Z"
   },
   {
    "duration": 9,
    "start_time": "2025-04-03T05:28:21.687Z"
   },
   {
    "duration": 20,
    "start_time": "2025-04-03T05:28:23.822Z"
   },
   {
    "duration": 6,
    "start_time": "2025-04-03T05:28:27.333Z"
   },
   {
    "duration": 2,
    "start_time": "2025-04-03T05:35:52.915Z"
   },
   {
    "duration": 162,
    "start_time": "2025-04-03T05:35:53.938Z"
   },
   {
    "duration": 8,
    "start_time": "2025-04-03T05:35:54.648Z"
   },
   {
    "duration": 6,
    "start_time": "2025-04-03T05:35:54.830Z"
   },
   {
    "duration": 9,
    "start_time": "2025-04-03T05:35:56.574Z"
   },
   {
    "duration": 6,
    "start_time": "2025-04-03T05:35:56.753Z"
   },
   {
    "duration": 6,
    "start_time": "2025-04-03T05:35:57.550Z"
   },
   {
    "duration": 24,
    "start_time": "2025-04-03T05:35:59.042Z"
   },
   {
    "duration": 4,
    "start_time": "2025-04-03T05:35:59.255Z"
   },
   {
    "duration": 20,
    "start_time": "2025-04-03T05:36:00.113Z"
   },
   {
    "duration": 18,
    "start_time": "2025-04-03T05:36:01.208Z"
   },
   {
    "duration": 4,
    "start_time": "2025-04-03T05:36:01.435Z"
   },
   {
    "duration": 12,
    "start_time": "2025-04-03T05:36:03.118Z"
   },
   {
    "duration": 21,
    "start_time": "2025-04-03T05:36:04.329Z"
   },
   {
    "duration": 4,
    "start_time": "2025-04-03T05:36:04.571Z"
   },
   {
    "duration": 14,
    "start_time": "2025-04-03T05:36:06.424Z"
   },
   {
    "duration": 6,
    "start_time": "2025-04-03T05:36:09.118Z"
   },
   {
    "duration": 10,
    "start_time": "2025-04-03T05:36:10.772Z"
   },
   {
    "duration": 22,
    "start_time": "2025-04-03T05:36:11.386Z"
   },
   {
    "duration": 18,
    "start_time": "2025-04-03T05:36:12.349Z"
   },
   {
    "duration": 15,
    "start_time": "2025-04-03T05:36:13.166Z"
   },
   {
    "duration": 17,
    "start_time": "2025-04-03T05:36:13.706Z"
   },
   {
    "duration": 13,
    "start_time": "2025-04-03T05:36:14.761Z"
   },
   {
    "duration": 11,
    "start_time": "2025-04-03T05:36:15.527Z"
   },
   {
    "duration": 6,
    "start_time": "2025-04-03T05:36:16.092Z"
   },
   {
    "duration": 9,
    "start_time": "2025-04-03T05:36:17.062Z"
   },
   {
    "duration": 10,
    "start_time": "2025-04-03T05:36:17.958Z"
   },
   {
    "duration": 10,
    "start_time": "2025-04-03T05:36:20.060Z"
   },
   {
    "duration": 9,
    "start_time": "2025-04-03T05:36:21.089Z"
   },
   {
    "duration": 4,
    "start_time": "2025-04-03T05:36:21.983Z"
   },
   {
    "duration": 5,
    "start_time": "2025-04-03T05:36:22.375Z"
   },
   {
    "duration": 9,
    "start_time": "2025-04-03T05:36:22.773Z"
   },
   {
    "duration": 14,
    "start_time": "2025-04-03T05:36:23.613Z"
   },
   {
    "duration": 7,
    "start_time": "2025-04-03T05:36:24.354Z"
   },
   {
    "duration": 2144,
    "start_time": "2025-04-03T05:48:38.159Z"
   },
   {
    "duration": 3,
    "start_time": "2025-04-03T05:49:05.118Z"
   },
   {
    "duration": 161,
    "start_time": "2025-04-03T05:49:06.129Z"
   },
   {
    "duration": 9,
    "start_time": "2025-04-03T05:49:06.962Z"
   },
   {
    "duration": 5,
    "start_time": "2025-04-03T05:49:07.159Z"
   },
   {
    "duration": 9,
    "start_time": "2025-04-03T05:49:08.937Z"
   },
   {
    "duration": 7,
    "start_time": "2025-04-03T05:49:09.132Z"
   },
   {
    "duration": 6,
    "start_time": "2025-04-03T05:49:10.248Z"
   },
   {
    "duration": 24,
    "start_time": "2025-04-03T05:49:11.424Z"
   },
   {
    "duration": 4,
    "start_time": "2025-04-03T05:49:11.628Z"
   },
   {
    "duration": 17,
    "start_time": "2025-04-03T05:49:12.413Z"
   },
   {
    "duration": 20,
    "start_time": "2025-04-03T05:49:13.395Z"
   },
   {
    "duration": 7,
    "start_time": "2025-04-03T05:49:13.609Z"
   },
   {
    "duration": 12,
    "start_time": "2025-04-03T05:49:14.400Z"
   },
   {
    "duration": 21,
    "start_time": "2025-04-03T05:49:15.359Z"
   },
   {
    "duration": 5,
    "start_time": "2025-04-03T05:49:15.725Z"
   },
   {
    "duration": 14,
    "start_time": "2025-04-03T05:49:16.559Z"
   },
   {
    "duration": 5,
    "start_time": "2025-04-03T05:49:17.818Z"
   },
   {
    "duration": 10,
    "start_time": "2025-04-03T05:49:20.125Z"
   },
   {
    "duration": 18,
    "start_time": "2025-04-03T05:49:20.330Z"
   },
   {
    "duration": 16,
    "start_time": "2025-04-03T05:49:20.554Z"
   },
   {
    "duration": 15,
    "start_time": "2025-04-03T05:49:20.765Z"
   },
   {
    "duration": 15,
    "start_time": "2025-04-03T05:49:20.962Z"
   },
   {
    "duration": 14,
    "start_time": "2025-04-03T05:49:21.347Z"
   },
   {
    "duration": 9,
    "start_time": "2025-04-03T05:49:21.570Z"
   },
   {
    "duration": 5,
    "start_time": "2025-04-03T05:49:21.778Z"
   },
   {
    "duration": 10,
    "start_time": "2025-04-03T05:49:22.020Z"
   },
   {
    "duration": 9,
    "start_time": "2025-04-03T05:49:22.247Z"
   },
   {
    "duration": 10,
    "start_time": "2025-04-03T05:49:23.522Z"
   },
   {
    "duration": 9,
    "start_time": "2025-04-03T05:49:24.832Z"
   },
   {
    "duration": 4,
    "start_time": "2025-04-03T05:49:25.274Z"
   },
   {
    "duration": 4,
    "start_time": "2025-04-03T05:49:25.545Z"
   },
   {
    "duration": 8,
    "start_time": "2025-04-03T05:49:26.071Z"
   },
   {
    "duration": 15,
    "start_time": "2025-04-03T05:49:26.569Z"
   },
   {
    "duration": 7,
    "start_time": "2025-04-03T05:49:26.928Z"
   },
   {
    "duration": 198,
    "start_time": "2025-04-03T05:49:32.982Z"
   },
   {
    "duration": 191,
    "start_time": "2025-04-03T05:50:28.786Z"
   },
   {
    "duration": 184,
    "start_time": "2025-04-03T05:52:18.828Z"
   },
   {
    "duration": 2566,
    "start_time": "2025-04-04T04:05:12.995Z"
   },
   {
    "duration": 217,
    "start_time": "2025-04-04T04:05:15.564Z"
   },
   {
    "duration": 9,
    "start_time": "2025-04-04T04:05:15.782Z"
   },
   {
    "duration": 7,
    "start_time": "2025-04-04T04:05:15.793Z"
   },
   {
    "duration": 8,
    "start_time": "2025-04-04T04:05:15.802Z"
   },
   {
    "duration": 6,
    "start_time": "2025-04-04T04:05:15.995Z"
   },
   {
    "duration": 6,
    "start_time": "2025-04-04T04:05:16.900Z"
   },
   {
    "duration": 23,
    "start_time": "2025-04-04T04:05:17.880Z"
   },
   {
    "duration": 5,
    "start_time": "2025-04-04T04:05:18.091Z"
   },
   {
    "duration": 19,
    "start_time": "2025-04-04T04:05:18.937Z"
   },
   {
    "duration": 17,
    "start_time": "2025-04-04T04:05:20.030Z"
   },
   {
    "duration": 4,
    "start_time": "2025-04-04T04:05:20.253Z"
   },
   {
    "duration": 11,
    "start_time": "2025-04-04T04:05:21.112Z"
   },
   {
    "duration": 21,
    "start_time": "2025-04-04T04:05:22.175Z"
   },
   {
    "duration": 5,
    "start_time": "2025-04-04T04:05:22.376Z"
   },
   {
    "duration": 13,
    "start_time": "2025-04-04T04:05:23.215Z"
   },
   {
    "duration": 5,
    "start_time": "2025-04-04T04:05:24.595Z"
   },
   {
    "duration": 11,
    "start_time": "2025-04-04T04:05:25.057Z"
   },
   {
    "duration": 21,
    "start_time": "2025-04-04T04:05:25.288Z"
   },
   {
    "duration": 20,
    "start_time": "2025-04-04T04:05:25.521Z"
   },
   {
    "duration": 15,
    "start_time": "2025-04-04T04:05:25.759Z"
   },
   {
    "duration": 16,
    "start_time": "2025-04-04T04:05:26.007Z"
   },
   {
    "duration": 12,
    "start_time": "2025-04-04T04:05:26.425Z"
   },
   {
    "duration": 10,
    "start_time": "2025-04-04T04:05:26.652Z"
   },
   {
    "duration": 5,
    "start_time": "2025-04-04T04:05:27.740Z"
   },
   {
    "duration": 9,
    "start_time": "2025-04-04T04:05:28.839Z"
   },
   {
    "duration": 9,
    "start_time": "2025-04-04T04:05:29.051Z"
   },
   {
    "duration": 10,
    "start_time": "2025-04-04T04:05:29.780Z"
   },
   {
    "duration": 12,
    "start_time": "2025-04-04T04:05:30.062Z"
   },
   {
    "duration": 4,
    "start_time": "2025-04-04T04:05:30.294Z"
   },
   {
    "duration": 4,
    "start_time": "2025-04-04T04:05:30.584Z"
   },
   {
    "duration": 7,
    "start_time": "2025-04-04T04:05:30.866Z"
   },
   {
    "duration": 13,
    "start_time": "2025-04-04T04:05:31.495Z"
   },
   {
    "duration": 6,
    "start_time": "2025-04-04T04:05:32.167Z"
   },
   {
    "duration": 200,
    "start_time": "2025-04-04T04:15:52.695Z"
   },
   {
    "duration": 224,
    "start_time": "2025-04-04T04:15:55.782Z"
   },
   {
    "duration": 400,
    "start_time": "2025-04-04T04:17:06.582Z"
   },
   {
    "duration": 412,
    "start_time": "2025-04-04T04:23:39.527Z"
   },
   {
    "duration": 337,
    "start_time": "2025-04-04T04:25:11.439Z"
   },
   {
    "duration": 317,
    "start_time": "2025-04-04T04:25:21.177Z"
   },
   {
    "duration": 2,
    "start_time": "2025-04-04T04:28:41.633Z"
   },
   {
    "duration": 156,
    "start_time": "2025-04-04T04:28:42.011Z"
   },
   {
    "duration": 8,
    "start_time": "2025-04-04T04:28:42.716Z"
   },
   {
    "duration": 6,
    "start_time": "2025-04-04T04:28:42.892Z"
   },
   {
    "duration": 10,
    "start_time": "2025-04-04T04:28:44.505Z"
   },
   {
    "duration": 6,
    "start_time": "2025-04-04T04:28:44.672Z"
   },
   {
    "duration": 6,
    "start_time": "2025-04-04T04:28:45.415Z"
   },
   {
    "duration": 24,
    "start_time": "2025-04-04T04:28:46.405Z"
   },
   {
    "duration": 5,
    "start_time": "2025-04-04T04:28:46.559Z"
   },
   {
    "duration": 17,
    "start_time": "2025-04-04T04:28:47.390Z"
   },
   {
    "duration": 17,
    "start_time": "2025-04-04T04:28:48.438Z"
   },
   {
    "duration": 5,
    "start_time": "2025-04-04T04:28:48.596Z"
   },
   {
    "duration": 11,
    "start_time": "2025-04-04T04:28:49.562Z"
   },
   {
    "duration": 21,
    "start_time": "2025-04-04T04:28:51.162Z"
   },
   {
    "duration": 7,
    "start_time": "2025-04-04T04:28:51.370Z"
   },
   {
    "duration": 14,
    "start_time": "2025-04-04T04:28:52.188Z"
   },
   {
    "duration": 5,
    "start_time": "2025-04-04T04:28:53.471Z"
   },
   {
    "duration": 9,
    "start_time": "2025-04-04T04:28:53.877Z"
   },
   {
    "duration": 19,
    "start_time": "2025-04-04T04:28:54.104Z"
   },
   {
    "duration": 25,
    "start_time": "2025-04-04T04:28:54.310Z"
   },
   {
    "duration": 13,
    "start_time": "2025-04-04T04:28:54.519Z"
   },
   {
    "duration": 19,
    "start_time": "2025-04-04T04:28:54.707Z"
   },
   {
    "duration": 12,
    "start_time": "2025-04-04T04:28:55.554Z"
   },
   {
    "duration": 10,
    "start_time": "2025-04-04T04:28:55.833Z"
   },
   {
    "duration": 5,
    "start_time": "2025-04-04T04:28:56.008Z"
   },
   {
    "duration": 9,
    "start_time": "2025-04-04T04:28:56.236Z"
   },
   {
    "duration": 9,
    "start_time": "2025-04-04T04:28:56.466Z"
   },
   {
    "duration": 11,
    "start_time": "2025-04-04T04:28:57.000Z"
   },
   {
    "duration": 9,
    "start_time": "2025-04-04T04:28:57.274Z"
   },
   {
    "duration": 3,
    "start_time": "2025-04-04T04:28:57.651Z"
   },
   {
    "duration": 4,
    "start_time": "2025-04-04T04:28:57.875Z"
   },
   {
    "duration": 7,
    "start_time": "2025-04-04T04:28:58.120Z"
   },
   {
    "duration": 13,
    "start_time": "2025-04-04T04:28:58.332Z"
   },
   {
    "duration": 6,
    "start_time": "2025-04-04T04:28:58.569Z"
   },
   {
    "duration": 217,
    "start_time": "2025-04-04T04:29:04.247Z"
   },
   {
    "duration": 322,
    "start_time": "2025-04-04T04:29:26.330Z"
   },
   {
    "duration": 188,
    "start_time": "2025-04-04T04:32:36.065Z"
   },
   {
    "duration": 7,
    "start_time": "2025-04-04T04:33:18.231Z"
   },
   {
    "duration": 193,
    "start_time": "2025-04-04T04:33:20.904Z"
   },
   {
    "duration": 16,
    "start_time": "2025-04-04T04:35:00.478Z"
   },
   {
    "duration": 7,
    "start_time": "2025-04-04T04:35:07.456Z"
   },
   {
    "duration": 19,
    "start_time": "2025-04-04T04:38:50.994Z"
   },
   {
    "duration": 8,
    "start_time": "2025-04-04T04:38:57.294Z"
   },
   {
    "duration": 186,
    "start_time": "2025-04-04T04:39:49.497Z"
   },
   {
    "duration": 190,
    "start_time": "2025-04-04T04:40:53.807Z"
   },
   {
    "duration": 285,
    "start_time": "2025-04-04T04:41:29.765Z"
   },
   {
    "duration": 188,
    "start_time": "2025-04-04T04:43:20.350Z"
   },
   {
    "duration": 185,
    "start_time": "2025-04-04T04:45:04.593Z"
   },
   {
    "duration": 169,
    "start_time": "2025-04-04T04:45:13.854Z"
   },
   {
    "duration": 195,
    "start_time": "2025-04-04T04:45:17.802Z"
   },
   {
    "duration": 183,
    "start_time": "2025-04-04T04:45:44.408Z"
   },
   {
    "duration": 189,
    "start_time": "2025-04-04T04:45:51.402Z"
   },
   {
    "duration": 5,
    "start_time": "2025-04-04T04:47:29.073Z"
   },
   {
    "duration": 8,
    "start_time": "2025-04-04T04:48:10.138Z"
   },
   {
    "duration": 4,
    "start_time": "2025-04-04T04:48:41.089Z"
   },
   {
    "duration": 7,
    "start_time": "2025-04-04T04:49:01.733Z"
   },
   {
    "duration": 1804,
    "start_time": "2025-04-04T04:49:53.755Z"
   },
   {
    "duration": 1803,
    "start_time": "2025-04-04T04:50:00.372Z"
   },
   {
    "duration": 6,
    "start_time": "2025-04-04T04:50:15.786Z"
   },
   {
    "duration": 53,
    "start_time": "2025-04-04T04:51:20.616Z"
   },
   {
    "duration": 24,
    "start_time": "2025-04-04T04:53:06.501Z"
   },
   {
    "duration": 25,
    "start_time": "2025-04-04T04:54:29.210Z"
   },
   {
    "duration": 4,
    "start_time": "2025-04-04T04:55:23.838Z"
   },
   {
    "duration": 6,
    "start_time": "2025-04-04T04:55:30.766Z"
   },
   {
    "duration": 10,
    "start_time": "2025-04-04T04:57:37.360Z"
   },
   {
    "duration": 198,
    "start_time": "2025-04-04T04:57:39.582Z"
   },
   {
    "duration": 19,
    "start_time": "2025-04-04T05:00:16.564Z"
   },
   {
    "duration": 79,
    "start_time": "2025-04-04T05:00:54.351Z"
   },
   {
    "duration": 343,
    "start_time": "2025-04-04T05:01:00.426Z"
   },
   {
    "duration": 131,
    "start_time": "2025-04-04T05:04:25.744Z"
   },
   {
    "duration": 211,
    "start_time": "2025-04-04T05:05:51.588Z"
   },
   {
    "duration": 319,
    "start_time": "2025-04-04T05:06:15.570Z"
   },
   {
    "duration": 2625,
    "start_time": "2025-04-05T03:20:58.918Z"
   },
   {
    "duration": 289,
    "start_time": "2025-04-05T03:21:01.545Z"
   },
   {
    "duration": 14,
    "start_time": "2025-04-05T03:21:01.836Z"
   },
   {
    "duration": 6,
    "start_time": "2025-04-05T03:21:01.853Z"
   },
   {
    "duration": 10,
    "start_time": "2025-04-05T03:21:01.861Z"
   },
   {
    "duration": 8,
    "start_time": "2025-04-05T03:21:01.873Z"
   },
   {
    "duration": 7,
    "start_time": "2025-04-05T03:21:02.641Z"
   },
   {
    "duration": 25,
    "start_time": "2025-04-05T03:21:03.600Z"
   },
   {
    "duration": 5,
    "start_time": "2025-04-05T03:21:03.811Z"
   },
   {
    "duration": 18,
    "start_time": "2025-04-05T03:21:04.578Z"
   },
   {
    "duration": 19,
    "start_time": "2025-04-05T03:21:05.593Z"
   },
   {
    "duration": 7,
    "start_time": "2025-04-05T03:21:05.799Z"
   },
   {
    "duration": 11,
    "start_time": "2025-04-05T03:21:06.639Z"
   },
   {
    "duration": 20,
    "start_time": "2025-04-05T03:21:07.660Z"
   },
   {
    "duration": 5,
    "start_time": "2025-04-05T03:21:07.871Z"
   },
   {
    "duration": 21,
    "start_time": "2025-04-05T03:21:08.698Z"
   },
   {
    "duration": 8,
    "start_time": "2025-04-05T03:21:09.947Z"
   },
   {
    "duration": 10,
    "start_time": "2025-04-05T03:21:10.352Z"
   },
   {
    "duration": 25,
    "start_time": "2025-04-05T03:21:10.592Z"
   },
   {
    "duration": 21,
    "start_time": "2025-04-05T03:21:10.796Z"
   },
   {
    "duration": 17,
    "start_time": "2025-04-05T03:21:11.009Z"
   },
   {
    "duration": 19,
    "start_time": "2025-04-05T03:21:11.215Z"
   },
   {
    "duration": 13,
    "start_time": "2025-04-05T03:21:11.617Z"
   },
   {
    "duration": 11,
    "start_time": "2025-04-05T03:21:11.824Z"
   },
   {
    "duration": 5,
    "start_time": "2025-04-05T03:21:12.035Z"
   },
   {
    "duration": 11,
    "start_time": "2025-04-05T03:21:12.260Z"
   },
   {
    "duration": 8,
    "start_time": "2025-04-05T03:21:12.502Z"
   },
   {
    "duration": 12,
    "start_time": "2025-04-05T03:21:12.892Z"
   },
   {
    "duration": 9,
    "start_time": "2025-04-05T03:21:13.106Z"
   },
   {
    "duration": 4,
    "start_time": "2025-04-05T03:21:13.298Z"
   },
   {
    "duration": 4,
    "start_time": "2025-04-05T03:21:13.504Z"
   },
   {
    "duration": 9,
    "start_time": "2025-04-05T03:21:13.719Z"
   },
   {
    "duration": 18,
    "start_time": "2025-04-05T03:21:13.931Z"
   },
   {
    "duration": 7,
    "start_time": "2025-04-05T03:21:14.145Z"
   },
   {
    "duration": 13,
    "start_time": "2025-04-05T03:21:15.077Z"
   },
   {
    "duration": 217,
    "start_time": "2025-04-05T03:21:15.490Z"
   },
   {
    "duration": 8,
    "start_time": "2025-04-05T03:21:15.709Z"
   },
   {
    "duration": 197,
    "start_time": "2025-04-05T03:21:16.388Z"
   },
   {
    "duration": 7,
    "start_time": "2025-04-05T03:21:17.971Z"
   },
   {
    "duration": 351,
    "start_time": "2025-04-05T03:21:18.771Z"
   },
   {
    "duration": 180,
    "start_time": "2025-04-05T03:21:20.623Z"
   },
   {
    "duration": 179,
    "start_time": "2025-04-05T03:22:29.358Z"
   },
   {
    "duration": 254,
    "start_time": "2025-04-05T03:27:37.835Z"
   },
   {
    "duration": 328,
    "start_time": "2025-04-05T03:30:52.232Z"
   },
   {
    "duration": 190,
    "start_time": "2025-04-05T03:31:08.076Z"
   },
   {
    "duration": 187,
    "start_time": "2025-04-05T03:32:23.869Z"
   },
   {
    "duration": 3,
    "start_time": "2025-04-05T03:35:46.119Z"
   },
   {
    "duration": 3,
    "start_time": "2025-04-05T03:35:55.668Z"
   },
   {
    "duration": 181,
    "start_time": "2025-04-05T03:37:12.757Z"
   },
   {
    "duration": 262,
    "start_time": "2025-04-05T03:38:59.459Z"
   },
   {
    "duration": 4,
    "start_time": "2025-04-05T03:52:00.546Z"
   },
   {
    "duration": 4,
    "start_time": "2025-04-05T03:52:48.498Z"
   },
   {
    "duration": 4,
    "start_time": "2025-04-05T03:56:35.314Z"
   },
   {
    "duration": 15,
    "start_time": "2025-04-05T04:05:03.929Z"
   },
   {
    "duration": 15,
    "start_time": "2025-04-05T04:12:38.000Z"
   },
   {
    "duration": 17,
    "start_time": "2025-04-05T04:12:57.440Z"
   },
   {
    "duration": 7,
    "start_time": "2025-04-05T04:13:13.116Z"
   },
   {
    "duration": 227,
    "start_time": "2025-04-05T04:13:29.636Z"
   },
   {
    "duration": 8,
    "start_time": "2025-04-05T04:13:54.756Z"
   },
   {
    "duration": 16,
    "start_time": "2025-04-05T04:14:13.524Z"
   },
   {
    "duration": 216,
    "start_time": "2025-04-05T04:18:07.854Z"
   },
   {
    "duration": 7,
    "start_time": "2025-04-05T04:19:16.442Z"
   },
   {
    "duration": 6,
    "start_time": "2025-04-05T04:20:05.501Z"
   },
   {
    "duration": 7,
    "start_time": "2025-04-05T04:21:22.186Z"
   },
   {
    "duration": 7,
    "start_time": "2025-04-05T04:24:02.504Z"
   },
   {
    "duration": 4,
    "start_time": "2025-04-05T04:24:17.572Z"
   },
   {
    "duration": 4,
    "start_time": "2025-04-05T04:26:27.320Z"
   },
   {
    "duration": 4,
    "start_time": "2025-04-05T04:28:37.909Z"
   },
   {
    "duration": 18,
    "start_time": "2025-04-05T04:29:50.235Z"
   },
   {
    "duration": 8,
    "start_time": "2025-04-05T04:30:12.582Z"
   },
   {
    "duration": 8,
    "start_time": "2025-04-05T04:31:09.805Z"
   },
   {
    "duration": 2523,
    "start_time": "2025-04-06T01:32:01.489Z"
   },
   {
    "duration": 242,
    "start_time": "2025-04-06T01:32:04.014Z"
   },
   {
    "duration": 9,
    "start_time": "2025-04-06T01:32:04.865Z"
   },
   {
    "duration": 6,
    "start_time": "2025-04-06T01:32:05.389Z"
   },
   {
    "duration": 161,
    "start_time": "2025-04-06T01:34:52.601Z"
   },
   {
    "duration": 9,
    "start_time": "2025-04-06T01:34:54.454Z"
   },
   {
    "duration": 5,
    "start_time": "2025-04-06T01:34:54.867Z"
   },
   {
    "duration": 12,
    "start_time": "2025-04-06T01:34:55.630Z"
   },
   {
    "duration": 6,
    "start_time": "2025-04-06T01:35:06.178Z"
   },
   {
    "duration": 3,
    "start_time": "2025-04-06T01:41:57.101Z"
   },
   {
    "duration": 154,
    "start_time": "2025-04-06T01:41:58.331Z"
   },
   {
    "duration": 9,
    "start_time": "2025-04-06T01:42:00.075Z"
   },
   {
    "duration": 5,
    "start_time": "2025-04-06T01:42:00.366Z"
   },
   {
    "duration": 5,
    "start_time": "2025-04-06T01:42:00.641Z"
   },
   {
    "duration": 9,
    "start_time": "2025-04-06T01:42:16.362Z"
   },
   {
    "duration": 7,
    "start_time": "2025-04-06T01:42:16.689Z"
   },
   {
    "duration": 6,
    "start_time": "2025-04-06T01:42:18.077Z"
   },
   {
    "duration": 24,
    "start_time": "2025-04-06T01:42:19.690Z"
   },
   {
    "duration": 5,
    "start_time": "2025-04-06T01:42:21.190Z"
   },
   {
    "duration": 17,
    "start_time": "2025-04-06T01:42:23.272Z"
   },
   {
    "duration": 17,
    "start_time": "2025-04-06T01:42:28.080Z"
   },
   {
    "duration": 4,
    "start_time": "2025-04-06T01:42:28.586Z"
   },
   {
    "duration": 12,
    "start_time": "2025-04-06T01:42:29.330Z"
   },
   {
    "duration": 21,
    "start_time": "2025-04-06T01:42:30.314Z"
   },
   {
    "duration": 5,
    "start_time": "2025-04-06T01:42:30.521Z"
   },
   {
    "duration": 8,
    "start_time": "2025-04-06T01:42:42.242Z"
   },
   {
    "duration": 8,
    "start_time": "2025-04-06T01:44:45.790Z"
   },
   {
    "duration": 6,
    "start_time": "2025-04-06T01:54:54.946Z"
   },
   {
    "duration": 6,
    "start_time": "2025-04-06T01:57:24.914Z"
   },
   {
    "duration": 155,
    "start_time": "2025-04-06T02:02:00.868Z"
   },
   {
    "duration": 12,
    "start_time": "2025-04-06T02:02:01.542Z"
   },
   {
    "duration": 5,
    "start_time": "2025-04-06T02:02:01.712Z"
   },
   {
    "duration": 7,
    "start_time": "2025-04-06T02:02:01.857Z"
   },
   {
    "duration": 8,
    "start_time": "2025-04-06T02:02:03.466Z"
   },
   {
    "duration": 7,
    "start_time": "2025-04-06T02:02:03.630Z"
   },
   {
    "duration": 6,
    "start_time": "2025-04-06T02:02:04.298Z"
   },
   {
    "duration": 22,
    "start_time": "2025-04-06T02:02:05.272Z"
   },
   {
    "duration": 4,
    "start_time": "2025-04-06T02:02:05.466Z"
   },
   {
    "duration": 6,
    "start_time": "2025-04-06T02:02:05.623Z"
   },
   {
    "duration": 16,
    "start_time": "2025-04-06T02:02:06.387Z"
   },
   {
    "duration": 17,
    "start_time": "2025-04-06T02:02:07.298Z"
   },
   {
    "duration": 5,
    "start_time": "2025-04-06T02:02:07.498Z"
   },
   {
    "duration": 11,
    "start_time": "2025-04-06T02:02:08.303Z"
   },
   {
    "duration": 21,
    "start_time": "2025-04-06T02:02:09.289Z"
   },
   {
    "duration": 6,
    "start_time": "2025-04-06T02:02:09.491Z"
   },
   {
    "duration": 13,
    "start_time": "2025-04-06T02:02:10.430Z"
   },
   {
    "duration": 5,
    "start_time": "2025-04-06T02:02:11.598Z"
   },
   {
    "duration": 9,
    "start_time": "2025-04-06T02:02:12.006Z"
   },
   {
    "duration": 17,
    "start_time": "2025-04-06T02:02:12.189Z"
   },
   {
    "duration": 17,
    "start_time": "2025-04-06T02:02:12.544Z"
   },
   {
    "duration": 13,
    "start_time": "2025-04-06T02:02:12.696Z"
   },
   {
    "duration": 15,
    "start_time": "2025-04-06T02:02:12.906Z"
   },
   {
    "duration": 12,
    "start_time": "2025-04-06T02:02:13.330Z"
   },
   {
    "duration": 10,
    "start_time": "2025-04-06T02:02:13.502Z"
   },
   {
    "duration": 5,
    "start_time": "2025-04-06T02:02:13.868Z"
   },
   {
    "duration": 11,
    "start_time": "2025-04-06T02:02:14.068Z"
   },
   {
    "duration": 8,
    "start_time": "2025-04-06T02:02:14.248Z"
   },
   {
    "duration": 10,
    "start_time": "2025-04-06T02:02:14.615Z"
   },
   {
    "duration": 9,
    "start_time": "2025-04-06T02:02:14.819Z"
   },
   {
    "duration": 3,
    "start_time": "2025-04-06T02:02:15.006Z"
   },
   {
    "duration": 4,
    "start_time": "2025-04-06T02:02:15.187Z"
   },
   {
    "duration": 7,
    "start_time": "2025-04-06T02:02:15.378Z"
   },
   {
    "duration": 14,
    "start_time": "2025-04-06T02:02:15.581Z"
   },
   {
    "duration": 6,
    "start_time": "2025-04-06T02:02:15.781Z"
   },
   {
    "duration": 11,
    "start_time": "2025-04-06T02:02:16.765Z"
   },
   {
    "duration": 208,
    "start_time": "2025-04-06T02:02:17.184Z"
   },
   {
    "duration": 9,
    "start_time": "2025-04-06T02:02:17.944Z"
   },
   {
    "duration": 190,
    "start_time": "2025-04-06T02:02:18.284Z"
   },
   {
    "duration": 7,
    "start_time": "2025-04-06T02:02:18.913Z"
   },
   {
    "duration": 333,
    "start_time": "2025-04-06T02:02:19.153Z"
   },
   {
    "duration": 176,
    "start_time": "2025-04-06T02:02:19.756Z"
   },
   {
    "duration": 508,
    "start_time": "2025-04-06T02:02:19.954Z"
   },
   {
    "duration": 191,
    "start_time": "2025-04-06T02:02:20.746Z"
   },
   {
    "duration": 7,
    "start_time": "2025-04-06T02:02:42.208Z"
   },
   {
    "duration": 176,
    "start_time": "2025-04-06T02:03:01.496Z"
   },
   {
    "duration": 3,
    "start_time": "2025-04-06T02:03:50.678Z"
   },
   {
    "duration": 152,
    "start_time": "2025-04-06T02:03:51.194Z"
   },
   {
    "duration": 9,
    "start_time": "2025-04-06T02:03:52.018Z"
   },
   {
    "duration": 4,
    "start_time": "2025-04-06T02:03:52.227Z"
   },
   {
    "duration": 6,
    "start_time": "2025-04-06T02:03:52.427Z"
   },
   {
    "duration": 12,
    "start_time": "2025-04-06T02:03:54.351Z"
   },
   {
    "duration": 7,
    "start_time": "2025-04-06T02:03:54.568Z"
   },
   {
    "duration": 6,
    "start_time": "2025-04-06T02:03:55.398Z"
   },
   {
    "duration": 24,
    "start_time": "2025-04-06T02:03:56.715Z"
   },
   {
    "duration": 5,
    "start_time": "2025-04-06T02:03:56.938Z"
   },
   {
    "duration": 6,
    "start_time": "2025-04-06T02:03:57.162Z"
   },
   {
    "duration": 17,
    "start_time": "2025-04-06T02:03:58.070Z"
   },
   {
    "duration": 17,
    "start_time": "2025-04-06T02:03:59.151Z"
   },
   {
    "duration": 4,
    "start_time": "2025-04-06T02:03:59.384Z"
   },
   {
    "duration": 12,
    "start_time": "2025-04-06T02:04:00.278Z"
   },
   {
    "duration": 20,
    "start_time": "2025-04-06T02:04:01.393Z"
   },
   {
    "duration": 4,
    "start_time": "2025-04-06T02:04:01.621Z"
   },
   {
    "duration": 14,
    "start_time": "2025-04-06T02:04:02.654Z"
   },
   {
    "duration": 5,
    "start_time": "2025-04-06T02:04:03.912Z"
   },
   {
    "duration": 9,
    "start_time": "2025-04-06T02:04:04.528Z"
   },
   {
    "duration": 17,
    "start_time": "2025-04-06T02:04:04.742Z"
   },
   {
    "duration": 17,
    "start_time": "2025-04-06T02:04:05.187Z"
   },
   {
    "duration": 12,
    "start_time": "2025-04-06T02:04:05.401Z"
   },
   {
    "duration": 15,
    "start_time": "2025-04-06T02:04:05.614Z"
   },
   {
    "duration": 14,
    "start_time": "2025-04-06T02:04:06.023Z"
   },
   {
    "duration": 11,
    "start_time": "2025-04-06T02:04:06.236Z"
   },
   {
    "duration": 5,
    "start_time": "2025-04-06T02:04:07.157Z"
   },
   {
    "duration": 9,
    "start_time": "2025-04-06T02:04:07.639Z"
   },
   {
    "duration": 9,
    "start_time": "2025-04-06T02:04:07.904Z"
   },
   {
    "duration": 10,
    "start_time": "2025-04-06T02:04:08.644Z"
   },
   {
    "duration": 9,
    "start_time": "2025-04-06T02:04:08.880Z"
   },
   {
    "duration": 3,
    "start_time": "2025-04-06T02:04:09.092Z"
   },
   {
    "duration": 6,
    "start_time": "2025-04-06T02:04:09.308Z"
   },
   {
    "duration": 7,
    "start_time": "2025-04-06T02:04:09.514Z"
   },
   {
    "duration": 12,
    "start_time": "2025-04-06T02:04:09.742Z"
   },
   {
    "duration": 6,
    "start_time": "2025-04-06T02:04:09.949Z"
   },
   {
    "duration": 10,
    "start_time": "2025-04-06T02:04:33.460Z"
   },
   {
    "duration": 188,
    "start_time": "2025-04-06T02:04:35.698Z"
   },
   {
    "duration": 9,
    "start_time": "2025-04-06T02:04:36.148Z"
   },
   {
    "duration": 184,
    "start_time": "2025-04-06T02:04:36.668Z"
   },
   {
    "duration": 6,
    "start_time": "2025-04-06T02:04:37.761Z"
   },
   {
    "duration": 306,
    "start_time": "2025-04-06T02:04:38.583Z"
   },
   {
    "duration": 193,
    "start_time": "2025-04-06T02:04:46.053Z"
   },
   {
    "duration": 8,
    "start_time": "2025-04-06T02:04:51.304Z"
   },
   {
    "duration": 180,
    "start_time": "2025-04-06T02:04:53.071Z"
   },
   {
    "duration": 12,
    "start_time": "2025-04-06T02:07:05.259Z"
   },
   {
    "duration": 7,
    "start_time": "2025-04-06T02:08:36.271Z"
   },
   {
    "duration": 7,
    "start_time": "2025-04-06T02:08:51.670Z"
   },
   {
    "duration": 303,
    "start_time": "2025-04-06T02:09:07.807Z"
   },
   {
    "duration": 833,
    "start_time": "2025-04-06T02:10:22.012Z"
   },
   {
    "duration": 154,
    "start_time": "2025-04-06T02:10:22.848Z"
   },
   {
    "duration": 9,
    "start_time": "2025-04-06T02:10:23.004Z"
   },
   {
    "duration": 6,
    "start_time": "2025-04-06T02:10:23.017Z"
   },
   {
    "duration": 6,
    "start_time": "2025-04-06T02:10:23.024Z"
   },
   {
    "duration": 8,
    "start_time": "2025-04-06T02:10:23.031Z"
   },
   {
    "duration": 6,
    "start_time": "2025-04-06T02:10:23.041Z"
   },
   {
    "duration": 6,
    "start_time": "2025-04-06T02:10:23.049Z"
   },
   {
    "duration": 60,
    "start_time": "2025-04-06T02:10:23.056Z"
   },
   {
    "duration": 4,
    "start_time": "2025-04-06T02:10:23.120Z"
   },
   {
    "duration": 6,
    "start_time": "2025-04-06T02:10:23.125Z"
   },
   {
    "duration": 17,
    "start_time": "2025-04-06T02:10:23.132Z"
   },
   {
    "duration": 16,
    "start_time": "2025-04-06T02:10:23.150Z"
   },
   {
    "duration": 4,
    "start_time": "2025-04-06T02:10:23.168Z"
   },
   {
    "duration": 41,
    "start_time": "2025-04-06T02:10:23.173Z"
   },
   {
    "duration": 20,
    "start_time": "2025-04-06T02:10:23.215Z"
   },
   {
    "duration": 4,
    "start_time": "2025-04-06T02:10:23.236Z"
   },
   {
    "duration": 13,
    "start_time": "2025-04-06T02:10:23.242Z"
   },
   {
    "duration": 5,
    "start_time": "2025-04-06T02:10:23.257Z"
   },
   {
    "duration": 40,
    "start_time": "2025-04-06T02:10:23.265Z"
   },
   {
    "duration": 20,
    "start_time": "2025-04-06T02:10:23.307Z"
   },
   {
    "duration": 19,
    "start_time": "2025-04-06T02:10:23.328Z"
   },
   {
    "duration": 15,
    "start_time": "2025-04-06T02:10:23.349Z"
   },
   {
    "duration": 46,
    "start_time": "2025-04-06T02:10:23.366Z"
   },
   {
    "duration": 14,
    "start_time": "2025-04-06T02:10:23.416Z"
   },
   {
    "duration": 13,
    "start_time": "2025-04-06T02:10:23.432Z"
   },
   {
    "duration": 852,
    "start_time": "2025-04-06T02:10:23.447Z"
   },
   {
    "duration": 0,
    "start_time": "2025-04-06T02:10:24.305Z"
   },
   {
    "duration": 0,
    "start_time": "2025-04-06T02:10:24.306Z"
   },
   {
    "duration": 0,
    "start_time": "2025-04-06T02:10:24.306Z"
   },
   {
    "duration": 0,
    "start_time": "2025-04-06T02:10:24.308Z"
   },
   {
    "duration": 0,
    "start_time": "2025-04-06T02:10:24.309Z"
   },
   {
    "duration": 0,
    "start_time": "2025-04-06T02:10:24.310Z"
   },
   {
    "duration": 0,
    "start_time": "2025-04-06T02:10:24.311Z"
   },
   {
    "duration": 0,
    "start_time": "2025-04-06T02:10:24.312Z"
   },
   {
    "duration": 0,
    "start_time": "2025-04-06T02:10:24.313Z"
   },
   {
    "duration": 0,
    "start_time": "2025-04-06T02:10:24.314Z"
   },
   {
    "duration": 0,
    "start_time": "2025-04-06T02:10:24.315Z"
   },
   {
    "duration": 0,
    "start_time": "2025-04-06T02:10:24.316Z"
   },
   {
    "duration": 0,
    "start_time": "2025-04-06T02:10:24.317Z"
   },
   {
    "duration": 0,
    "start_time": "2025-04-06T02:10:24.318Z"
   },
   {
    "duration": 0,
    "start_time": "2025-04-06T02:10:24.319Z"
   },
   {
    "duration": 0,
    "start_time": "2025-04-06T02:10:24.319Z"
   },
   {
    "duration": 0,
    "start_time": "2025-04-06T02:10:24.320Z"
   },
   {
    "duration": 0,
    "start_time": "2025-04-06T02:10:24.321Z"
   },
   {
    "duration": 0,
    "start_time": "2025-04-06T02:10:24.322Z"
   },
   {
    "duration": 0,
    "start_time": "2025-04-06T02:10:24.322Z"
   },
   {
    "duration": 0,
    "start_time": "2025-04-06T02:10:24.323Z"
   },
   {
    "duration": 0,
    "start_time": "2025-04-06T02:10:24.324Z"
   },
   {
    "duration": 0,
    "start_time": "2025-04-06T02:10:24.325Z"
   },
   {
    "duration": 0,
    "start_time": "2025-04-06T02:10:24.326Z"
   },
   {
    "duration": 0,
    "start_time": "2025-04-06T02:10:24.327Z"
   },
   {
    "duration": 0,
    "start_time": "2025-04-06T02:10:24.328Z"
   },
   {
    "duration": 0,
    "start_time": "2025-04-06T02:10:24.328Z"
   },
   {
    "duration": 0,
    "start_time": "2025-04-06T02:10:24.329Z"
   },
   {
    "duration": 0,
    "start_time": "2025-04-06T02:10:24.330Z"
   },
   {
    "duration": 3,
    "start_time": "2025-04-06T02:10:50.050Z"
   },
   {
    "duration": 172,
    "start_time": "2025-04-06T02:10:50.546Z"
   },
   {
    "duration": 8,
    "start_time": "2025-04-06T02:10:51.245Z"
   },
   {
    "duration": 4,
    "start_time": "2025-04-06T02:10:51.421Z"
   },
   {
    "duration": 6,
    "start_time": "2025-04-06T02:10:51.594Z"
   },
   {
    "duration": 8,
    "start_time": "2025-04-06T02:10:53.209Z"
   },
   {
    "duration": 6,
    "start_time": "2025-04-06T02:10:53.370Z"
   },
   {
    "duration": 7,
    "start_time": "2025-04-06T02:10:54.057Z"
   },
   {
    "duration": 23,
    "start_time": "2025-04-06T02:10:55.087Z"
   },
   {
    "duration": 5,
    "start_time": "2025-04-06T02:10:55.264Z"
   },
   {
    "duration": 6,
    "start_time": "2025-04-06T02:10:55.413Z"
   },
   {
    "duration": 17,
    "start_time": "2025-04-06T02:10:56.101Z"
   },
   {
    "duration": 19,
    "start_time": "2025-04-06T02:10:57.003Z"
   },
   {
    "duration": 5,
    "start_time": "2025-04-06T02:10:57.160Z"
   },
   {
    "duration": 11,
    "start_time": "2025-04-06T02:10:57.920Z"
   },
   {
    "duration": 20,
    "start_time": "2025-04-06T02:10:59.036Z"
   },
   {
    "duration": 5,
    "start_time": "2025-04-06T02:10:59.241Z"
   },
   {
    "duration": 13,
    "start_time": "2025-04-06T02:11:00.191Z"
   },
   {
    "duration": 7,
    "start_time": "2025-04-06T02:11:01.268Z"
   },
   {
    "duration": 9,
    "start_time": "2025-04-06T02:11:01.593Z"
   },
   {
    "duration": 18,
    "start_time": "2025-04-06T02:11:01.792Z"
   },
   {
    "duration": 19,
    "start_time": "2025-04-06T02:11:02.182Z"
   },
   {
    "duration": 14,
    "start_time": "2025-04-06T02:11:02.372Z"
   },
   {
    "duration": 15,
    "start_time": "2025-04-06T02:11:02.551Z"
   },
   {
    "duration": 12,
    "start_time": "2025-04-06T02:11:02.945Z"
   },
   {
    "duration": 10,
    "start_time": "2025-04-06T02:11:03.146Z"
   },
   {
    "duration": 48,
    "start_time": "2025-04-06T02:11:03.345Z"
   },
   {
    "duration": 6,
    "start_time": "2025-04-06T02:11:03.741Z"
   },
   {
    "duration": 9,
    "start_time": "2025-04-06T02:11:03.953Z"
   },
   {
    "duration": 10,
    "start_time": "2025-04-06T02:11:04.123Z"
   },
   {
    "duration": 12,
    "start_time": "2025-04-06T02:11:04.502Z"
   },
   {
    "duration": 13,
    "start_time": "2025-04-06T02:11:04.702Z"
   },
   {
    "duration": 3,
    "start_time": "2025-04-06T02:11:04.844Z"
   },
   {
    "duration": 4,
    "start_time": "2025-04-06T02:11:05.042Z"
   },
   {
    "duration": 6,
    "start_time": "2025-04-06T02:11:05.226Z"
   },
   {
    "duration": 13,
    "start_time": "2025-04-06T02:11:05.448Z"
   },
   {
    "duration": 6,
    "start_time": "2025-04-06T02:11:05.652Z"
   },
   {
    "duration": 10,
    "start_time": "2025-04-06T02:11:06.610Z"
   },
   {
    "duration": 207,
    "start_time": "2025-04-06T02:11:07.037Z"
   },
   {
    "duration": 9,
    "start_time": "2025-04-06T02:11:07.247Z"
   },
   {
    "duration": 195,
    "start_time": "2025-04-06T02:11:07.425Z"
   },
   {
    "duration": 6,
    "start_time": "2025-04-06T02:11:07.799Z"
   },
   {
    "duration": 328,
    "start_time": "2025-04-06T02:11:08.017Z"
   },
   {
    "duration": 181,
    "start_time": "2025-04-06T02:11:08.631Z"
   },
   {
    "duration": 8,
    "start_time": "2025-04-06T02:11:08.851Z"
   },
   {
    "duration": 188,
    "start_time": "2025-04-06T02:11:09.037Z"
   },
   {
    "duration": 176,
    "start_time": "2025-04-06T02:11:12.083Z"
   },
   {
    "duration": 184,
    "start_time": "2025-04-06T02:11:13.129Z"
   },
   {
    "duration": 4,
    "start_time": "2025-04-06T02:11:13.810Z"
   },
   {
    "duration": 4,
    "start_time": "2025-04-06T02:11:15.222Z"
   },
   {
    "duration": 5,
    "start_time": "2025-04-06T02:11:17.201Z"
   },
   {
    "duration": 103,
    "start_time": "2025-04-06T02:11:20.137Z"
   },
   {
    "duration": 6,
    "start_time": "2025-04-06T02:11:22.072Z"
   },
   {
    "duration": 15,
    "start_time": "2025-04-06T02:11:27.111Z"
   },
   {
    "duration": 8,
    "start_time": "2025-04-06T02:11:34.750Z"
   },
   {
    "duration": 5,
    "start_time": "2025-04-06T02:11:53.201Z"
   },
   {
    "duration": 4,
    "start_time": "2025-04-06T02:12:53.282Z"
   },
   {
    "duration": 4,
    "start_time": "2025-04-06T02:13:19.015Z"
   },
   {
    "duration": 23,
    "start_time": "2025-04-06T02:15:14.770Z"
   },
   {
    "duration": 19,
    "start_time": "2025-04-06T02:15:24.071Z"
   },
   {
    "duration": 19,
    "start_time": "2025-04-06T02:16:42.808Z"
   },
   {
    "duration": 21,
    "start_time": "2025-04-06T02:17:25.665Z"
   },
   {
    "duration": 277,
    "start_time": "2025-04-06T02:17:40.345Z"
   },
   {
    "duration": 4,
    "start_time": "2025-04-06T02:18:00.338Z"
   },
   {
    "duration": 14,
    "start_time": "2025-04-06T02:19:03.472Z"
   },
   {
    "duration": 20,
    "start_time": "2025-04-06T02:19:13.287Z"
   },
   {
    "duration": 53,
    "start_time": "2025-04-06T02:19:19.884Z"
   },
   {
    "duration": 42,
    "start_time": "2025-04-06T02:19:26.459Z"
   },
   {
    "duration": 5,
    "start_time": "2025-04-06T02:22:37.015Z"
   },
   {
    "duration": 63,
    "start_time": "2025-04-06T02:23:11.049Z"
   },
   {
    "duration": 297,
    "start_time": "2025-04-06T02:23:31.761Z"
   },
   {
    "duration": 12,
    "start_time": "2025-04-06T02:24:29.097Z"
   },
   {
    "duration": 20,
    "start_time": "2025-04-06T02:25:08.332Z"
   },
   {
    "duration": 3,
    "start_time": "2025-04-06T02:26:14.377Z"
   },
   {
    "duration": 12,
    "start_time": "2025-04-06T02:27:50.403Z"
   },
   {
    "duration": 3,
    "start_time": "2025-04-06T02:28:03.710Z"
   },
   {
    "duration": 8,
    "start_time": "2025-04-06T02:29:05.943Z"
   },
   {
    "duration": 4,
    "start_time": "2025-04-06T02:29:08.892Z"
   },
   {
    "duration": 5,
    "start_time": "2025-04-06T02:29:52.490Z"
   },
   {
    "duration": 4,
    "start_time": "2025-04-06T02:30:01.555Z"
   },
   {
    "duration": 58,
    "start_time": "2025-04-06T02:30:06.565Z"
   },
   {
    "duration": 4,
    "start_time": "2025-04-06T02:32:11.207Z"
   },
   {
    "duration": 6,
    "start_time": "2025-04-06T02:45:17.729Z"
   },
   {
    "duration": 7,
    "start_time": "2025-04-06T02:45:46.815Z"
   },
   {
    "duration": 13,
    "start_time": "2025-04-06T02:46:05.256Z"
   },
   {
    "duration": 11,
    "start_time": "2025-04-06T02:46:15.841Z"
   },
   {
    "duration": 11,
    "start_time": "2025-04-06T02:46:26.177Z"
   },
   {
    "duration": 47,
    "start_time": "2025-04-06T02:46:50.256Z"
   },
   {
    "duration": 868,
    "start_time": "2025-04-06T02:47:08.123Z"
   },
   {
    "duration": 156,
    "start_time": "2025-04-06T02:47:08.992Z"
   },
   {
    "duration": 9,
    "start_time": "2025-04-06T02:47:09.150Z"
   },
   {
    "duration": 5,
    "start_time": "2025-04-06T02:47:09.162Z"
   },
   {
    "duration": 6,
    "start_time": "2025-04-06T02:47:09.169Z"
   },
   {
    "duration": 8,
    "start_time": "2025-04-06T02:47:09.177Z"
   },
   {
    "duration": 26,
    "start_time": "2025-04-06T02:47:09.186Z"
   },
   {
    "duration": 7,
    "start_time": "2025-04-06T02:47:09.214Z"
   },
   {
    "duration": 23,
    "start_time": "2025-04-06T02:47:09.223Z"
   },
   {
    "duration": 4,
    "start_time": "2025-04-06T02:47:09.249Z"
   },
   {
    "duration": 5,
    "start_time": "2025-04-06T02:47:09.255Z"
   },
   {
    "duration": 50,
    "start_time": "2025-04-06T02:47:09.261Z"
   },
   {
    "duration": 16,
    "start_time": "2025-04-06T02:47:09.314Z"
   },
   {
    "duration": 4,
    "start_time": "2025-04-06T02:47:09.333Z"
   },
   {
    "duration": 12,
    "start_time": "2025-04-06T02:47:09.339Z"
   },
   {
    "duration": 20,
    "start_time": "2025-04-06T02:47:09.352Z"
   },
   {
    "duration": 32,
    "start_time": "2025-04-06T02:47:09.374Z"
   },
   {
    "duration": 15,
    "start_time": "2025-04-06T02:47:09.408Z"
   },
   {
    "duration": 5,
    "start_time": "2025-04-06T02:47:09.425Z"
   },
   {
    "duration": 10,
    "start_time": "2025-04-06T02:47:09.432Z"
   },
   {
    "duration": 21,
    "start_time": "2025-04-06T02:47:09.444Z"
   },
   {
    "duration": 50,
    "start_time": "2025-04-06T02:47:09.467Z"
   },
   {
    "duration": 14,
    "start_time": "2025-04-06T02:47:09.519Z"
   },
   {
    "duration": 15,
    "start_time": "2025-04-06T02:47:09.534Z"
   },
   {
    "duration": 12,
    "start_time": "2025-04-06T02:47:09.551Z"
   },
   {
    "duration": 41,
    "start_time": "2025-04-06T02:47:09.564Z"
   },
   {
    "duration": 798,
    "start_time": "2025-04-06T02:47:09.609Z"
   },
   {
    "duration": 0,
    "start_time": "2025-04-06T02:47:10.410Z"
   },
   {
    "duration": 0,
    "start_time": "2025-04-06T02:47:10.412Z"
   },
   {
    "duration": 0,
    "start_time": "2025-04-06T02:47:10.413Z"
   },
   {
    "duration": 0,
    "start_time": "2025-04-06T02:47:10.415Z"
   },
   {
    "duration": 0,
    "start_time": "2025-04-06T02:47:10.416Z"
   },
   {
    "duration": 0,
    "start_time": "2025-04-06T02:47:10.418Z"
   },
   {
    "duration": 0,
    "start_time": "2025-04-06T02:47:10.419Z"
   },
   {
    "duration": 0,
    "start_time": "2025-04-06T02:47:10.421Z"
   },
   {
    "duration": 0,
    "start_time": "2025-04-06T02:47:10.422Z"
   },
   {
    "duration": 0,
    "start_time": "2025-04-06T02:47:10.424Z"
   },
   {
    "duration": 0,
    "start_time": "2025-04-06T02:47:10.425Z"
   },
   {
    "duration": 0,
    "start_time": "2025-04-06T02:47:10.426Z"
   },
   {
    "duration": 0,
    "start_time": "2025-04-06T02:47:10.428Z"
   },
   {
    "duration": 0,
    "start_time": "2025-04-06T02:47:10.429Z"
   },
   {
    "duration": 0,
    "start_time": "2025-04-06T02:47:10.430Z"
   },
   {
    "duration": 0,
    "start_time": "2025-04-06T02:47:10.431Z"
   },
   {
    "duration": 0,
    "start_time": "2025-04-06T02:47:10.431Z"
   },
   {
    "duration": 0,
    "start_time": "2025-04-06T02:47:10.432Z"
   },
   {
    "duration": 0,
    "start_time": "2025-04-06T02:47:10.434Z"
   },
   {
    "duration": 0,
    "start_time": "2025-04-06T02:47:10.435Z"
   },
   {
    "duration": 0,
    "start_time": "2025-04-06T02:47:10.436Z"
   },
   {
    "duration": 0,
    "start_time": "2025-04-06T02:47:10.437Z"
   },
   {
    "duration": 0,
    "start_time": "2025-04-06T02:47:10.439Z"
   },
   {
    "duration": 0,
    "start_time": "2025-04-06T02:47:10.440Z"
   },
   {
    "duration": 0,
    "start_time": "2025-04-06T02:47:10.442Z"
   },
   {
    "duration": 0,
    "start_time": "2025-04-06T02:47:10.443Z"
   },
   {
    "duration": 0,
    "start_time": "2025-04-06T02:47:10.444Z"
   },
   {
    "duration": 0,
    "start_time": "2025-04-06T02:47:10.446Z"
   },
   {
    "duration": 0,
    "start_time": "2025-04-06T02:47:10.447Z"
   },
   {
    "duration": 0,
    "start_time": "2025-04-06T02:47:10.506Z"
   },
   {
    "duration": 0,
    "start_time": "2025-04-06T02:47:10.507Z"
   },
   {
    "duration": 0,
    "start_time": "2025-04-06T02:47:10.508Z"
   },
   {
    "duration": 157,
    "start_time": "2025-04-06T02:48:16.724Z"
   },
   {
    "duration": 9,
    "start_time": "2025-04-06T02:48:17.392Z"
   },
   {
    "duration": 5,
    "start_time": "2025-04-06T02:48:17.568Z"
   },
   {
    "duration": 6,
    "start_time": "2025-04-06T02:48:17.786Z"
   },
   {
    "duration": 8,
    "start_time": "2025-04-06T02:48:19.316Z"
   },
   {
    "duration": 7,
    "start_time": "2025-04-06T02:48:19.494Z"
   },
   {
    "duration": 6,
    "start_time": "2025-04-06T02:48:20.287Z"
   },
   {
    "duration": 23,
    "start_time": "2025-04-06T02:48:21.432Z"
   },
   {
    "duration": 5,
    "start_time": "2025-04-06T02:48:21.619Z"
   },
   {
    "duration": 6,
    "start_time": "2025-04-06T02:48:21.808Z"
   },
   {
    "duration": 16,
    "start_time": "2025-04-06T02:48:22.594Z"
   },
   {
    "duration": 18,
    "start_time": "2025-04-06T02:48:23.602Z"
   },
   {
    "duration": 6,
    "start_time": "2025-04-06T02:48:23.812Z"
   },
   {
    "duration": 12,
    "start_time": "2025-04-06T02:48:24.620Z"
   },
   {
    "duration": 20,
    "start_time": "2025-04-06T02:48:25.647Z"
   },
   {
    "duration": 4,
    "start_time": "2025-04-06T02:48:25.832Z"
   },
   {
    "duration": 14,
    "start_time": "2025-04-06T02:48:26.855Z"
   },
   {
    "duration": 6,
    "start_time": "2025-04-06T02:48:28.417Z"
   },
   {
    "duration": 10,
    "start_time": "2025-04-06T02:48:28.837Z"
   },
   {
    "duration": 20,
    "start_time": "2025-04-06T02:48:29.045Z"
   },
   {
    "duration": 19,
    "start_time": "2025-04-06T02:48:29.482Z"
   },
   {
    "duration": 14,
    "start_time": "2025-04-06T02:48:29.691Z"
   },
   {
    "duration": 18,
    "start_time": "2025-04-06T02:48:29.910Z"
   },
   {
    "duration": 12,
    "start_time": "2025-04-06T02:48:30.310Z"
   },
   {
    "duration": 10,
    "start_time": "2025-04-06T02:48:30.506Z"
   },
   {
    "duration": 50,
    "start_time": "2025-04-06T02:48:30.707Z"
   },
   {
    "duration": 5,
    "start_time": "2025-04-06T02:48:31.141Z"
   },
   {
    "duration": 9,
    "start_time": "2025-04-06T02:48:31.360Z"
   },
   {
    "duration": 8,
    "start_time": "2025-04-06T02:48:31.561Z"
   },
   {
    "duration": 9,
    "start_time": "2025-04-06T02:48:31.982Z"
   },
   {
    "duration": 8,
    "start_time": "2025-04-06T02:48:32.211Z"
   },
   {
    "duration": 3,
    "start_time": "2025-04-06T02:48:32.425Z"
   },
   {
    "duration": 6,
    "start_time": "2025-04-06T02:48:32.633Z"
   },
   {
    "duration": 7,
    "start_time": "2025-04-06T02:48:32.837Z"
   },
   {
    "duration": 12,
    "start_time": "2025-04-06T02:48:33.049Z"
   },
   {
    "duration": 6,
    "start_time": "2025-04-06T02:48:33.259Z"
   },
   {
    "duration": 11,
    "start_time": "2025-04-06T02:48:34.241Z"
   },
   {
    "duration": 208,
    "start_time": "2025-04-06T02:48:34.707Z"
   },
   {
    "duration": 9,
    "start_time": "2025-04-06T02:48:34.968Z"
   },
   {
    "duration": 196,
    "start_time": "2025-04-06T02:48:35.215Z"
   },
   {
    "duration": 6,
    "start_time": "2025-04-06T02:48:35.703Z"
   },
   {
    "duration": 332,
    "start_time": "2025-04-06T02:48:35.946Z"
   },
   {
    "duration": 182,
    "start_time": "2025-04-06T02:48:36.652Z"
   },
   {
    "duration": 8,
    "start_time": "2025-04-06T02:48:36.883Z"
   },
   {
    "duration": 197,
    "start_time": "2025-04-06T02:48:37.100Z"
   },
   {
    "duration": 187,
    "start_time": "2025-04-06T02:48:39.988Z"
   },
   {
    "duration": 190,
    "start_time": "2025-04-06T02:48:40.187Z"
   },
   {
    "duration": 3,
    "start_time": "2025-04-06T02:48:40.397Z"
   },
   {
    "duration": 3,
    "start_time": "2025-04-06T02:48:40.603Z"
   },
   {
    "duration": 4,
    "start_time": "2025-04-06T02:48:41.904Z"
   },
   {
    "duration": 95,
    "start_time": "2025-04-06T02:48:42.722Z"
   },
   {
    "duration": 7,
    "start_time": "2025-04-06T02:48:43.128Z"
   },
   {
    "duration": 15,
    "start_time": "2025-04-06T02:48:43.324Z"
   },
   {
    "duration": 3,
    "start_time": "2025-04-06T02:48:43.521Z"
   },
   {
    "duration": 8,
    "start_time": "2025-04-06T02:48:43.722Z"
   },
   {
    "duration": 5,
    "start_time": "2025-04-06T02:48:43.890Z"
   },
   {
    "duration": 3,
    "start_time": "2025-04-06T02:48:44.080Z"
   },
   {
    "duration": 5,
    "start_time": "2025-04-06T02:48:44.276Z"
   },
   {
    "duration": 197,
    "start_time": "2025-04-10T04:17:27.765Z"
   },
   {
    "duration": 15,
    "start_time": "2025-04-10T04:18:01.017Z"
   },
   {
    "duration": 2829,
    "start_time": "2025-04-10T04:18:06.945Z"
   },
   {
    "duration": 262,
    "start_time": "2025-04-10T04:18:09.779Z"
   },
   {
    "duration": 12,
    "start_time": "2025-04-10T04:18:10.043Z"
   },
   {
    "duration": 9,
    "start_time": "2025-04-10T04:18:10.057Z"
   },
   {
    "duration": 8,
    "start_time": "2025-04-10T04:18:10.068Z"
   },
   {
    "duration": 10,
    "start_time": "2025-04-10T04:18:10.563Z"
   },
   {
    "duration": 7,
    "start_time": "2025-04-10T04:18:10.765Z"
   },
   {
    "duration": 9,
    "start_time": "2025-04-10T04:18:11.548Z"
   },
   {
    "duration": 26,
    "start_time": "2025-04-10T04:18:13.836Z"
   },
   {
    "duration": 5,
    "start_time": "2025-04-10T04:18:14.080Z"
   },
   {
    "duration": 7,
    "start_time": "2025-04-10T04:18:15.451Z"
   },
   {
    "duration": 28,
    "start_time": "2025-04-10T04:18:18.475Z"
   },
   {
    "duration": 4,
    "start_time": "2025-04-10T04:18:19.307Z"
   },
   {
    "duration": 20,
    "start_time": "2025-04-10T04:21:51.238Z"
   },
   {
    "duration": 5,
    "start_time": "2025-04-10T04:21:51.633Z"
   },
   {
    "duration": 15,
    "start_time": "2025-04-10T04:21:52.943Z"
   },
   {
    "duration": 22,
    "start_time": "2025-04-10T04:21:54.615Z"
   },
   {
    "duration": 5,
    "start_time": "2025-04-10T04:21:55.047Z"
   },
   {
    "duration": 28,
    "start_time": "2025-04-10T04:21:56.574Z"
   },
   {
    "duration": 8,
    "start_time": "2025-04-10T04:22:57.917Z"
   },
   {
    "duration": 10,
    "start_time": "2025-04-10T04:22:59.352Z"
   },
   {
    "duration": 37,
    "start_time": "2025-04-10T04:22:59.999Z"
   },
   {
    "duration": 21,
    "start_time": "2025-04-10T04:23:02.850Z"
   },
   {
    "duration": 18,
    "start_time": "2025-04-10T04:23:03.563Z"
   },
   {
    "duration": 19,
    "start_time": "2025-04-10T04:23:04.219Z"
   },
   {
    "duration": 15,
    "start_time": "2025-04-10T04:23:05.422Z"
   },
   {
    "duration": 12,
    "start_time": "2025-04-10T04:23:05.917Z"
   },
   {
    "duration": 782,
    "start_time": "2025-04-10T04:23:06.770Z"
   },
   {
    "duration": 78,
    "start_time": "2025-04-10T04:23:34.443Z"
   },
   {
    "duration": 89,
    "start_time": "2025-04-10T04:24:04.351Z"
   },
   {
    "duration": 7,
    "start_time": "2025-04-10T04:24:15.030Z"
   },
   {
    "duration": 13,
    "start_time": "2025-04-10T04:24:47.512Z"
   },
   {
    "duration": 9,
    "start_time": "2025-04-10T04:24:47.933Z"
   },
   {
    "duration": 17,
    "start_time": "2025-04-10T04:24:48.378Z"
   },
   {
    "duration": 13,
    "start_time": "2025-04-10T04:24:49.549Z"
   },
   {
    "duration": 10,
    "start_time": "2025-04-10T04:24:50.153Z"
   },
   {
    "duration": 3,
    "start_time": "2025-04-10T04:24:50.845Z"
   },
   {
    "duration": 7,
    "start_time": "2025-04-10T04:24:51.411Z"
   },
   {
    "duration": 11,
    "start_time": "2025-04-10T04:24:52.055Z"
   },
   {
    "duration": 16,
    "start_time": "2025-04-10T04:24:52.951Z"
   },
   {
    "duration": 14,
    "start_time": "2025-04-10T04:24:53.680Z"
   },
   {
    "duration": 18,
    "start_time": "2025-04-10T04:24:59.107Z"
   },
   {
    "duration": 282,
    "start_time": "2025-04-10T04:25:00.043Z"
   },
   {
    "duration": 19,
    "start_time": "2025-04-10T04:25:00.399Z"
   },
   {
    "duration": 406,
    "start_time": "2025-04-10T04:25:00.762Z"
   },
   {
    "duration": 15,
    "start_time": "2025-04-10T04:25:01.403Z"
   },
   {
    "duration": 414,
    "start_time": "2025-04-10T04:25:01.770Z"
   },
   {
    "duration": 242,
    "start_time": "2025-04-10T04:25:03.855Z"
   },
   {
    "duration": 14,
    "start_time": "2025-04-10T04:25:04.706Z"
   },
   {
    "duration": 239,
    "start_time": "2025-04-10T04:25:05.246Z"
   },
   {
    "duration": 232,
    "start_time": "2025-04-10T04:25:09.364Z"
   },
   {
    "duration": 331,
    "start_time": "2025-04-10T04:25:10.450Z"
   },
   {
    "duration": 4,
    "start_time": "2025-04-10T04:25:13.651Z"
   },
   {
    "duration": 4,
    "start_time": "2025-04-10T04:25:14.261Z"
   },
   {
    "duration": 5,
    "start_time": "2025-04-10T04:25:18.422Z"
   },
   {
    "duration": 8,
    "start_time": "2025-04-10T04:25:24.552Z"
   },
   {
    "duration": 8,
    "start_time": "2025-04-10T04:25:27.035Z"
   },
   {
    "duration": 18,
    "start_time": "2025-04-10T04:25:28.523Z"
   },
   {
    "duration": 5,
    "start_time": "2025-04-10T04:25:29.167Z"
   },
   {
    "duration": 11,
    "start_time": "2025-04-10T04:25:29.957Z"
   },
   {
    "duration": 5,
    "start_time": "2025-04-10T04:25:30.540Z"
   },
   {
    "duration": 4,
    "start_time": "2025-04-10T04:25:31.280Z"
   },
   {
    "duration": 5,
    "start_time": "2025-04-10T04:25:31.828Z"
   },
   {
    "duration": 82,
    "start_time": "2025-04-10T04:26:55.316Z"
   },
   {
    "duration": 92,
    "start_time": "2025-04-10T04:28:10.375Z"
   },
   {
    "duration": 2588,
    "start_time": "2025-04-12T02:59:56.764Z"
   },
   {
    "duration": 237,
    "start_time": "2025-04-12T02:59:59.851Z"
   },
   {
    "duration": 10,
    "start_time": "2025-04-12T03:00:01.715Z"
   },
   {
    "duration": 8,
    "start_time": "2025-04-12T03:00:02.406Z"
   },
   {
    "duration": 8,
    "start_time": "2025-04-12T03:00:03.068Z"
   },
   {
    "duration": 9,
    "start_time": "2025-04-12T03:00:08.108Z"
   },
   {
    "duration": 6,
    "start_time": "2025-04-12T03:00:10.438Z"
   },
   {
    "duration": 6,
    "start_time": "2025-04-12T03:00:12.272Z"
   },
   {
    "duration": 24,
    "start_time": "2025-04-12T03:00:15.700Z"
   },
   {
    "duration": 5,
    "start_time": "2025-04-12T03:00:20.541Z"
   },
   {
    "duration": 17,
    "start_time": "2025-04-12T03:00:41.354Z"
   },
   {
    "duration": 2573,
    "start_time": "2025-04-12T18:16:57.936Z"
   },
   {
    "duration": 219,
    "start_time": "2025-04-12T18:17:00.511Z"
   },
   {
    "duration": 9,
    "start_time": "2025-04-12T18:17:00.732Z"
   },
   {
    "duration": 6,
    "start_time": "2025-04-12T18:17:00.743Z"
   },
   {
    "duration": 6,
    "start_time": "2025-04-12T18:17:00.751Z"
   },
   {
    "duration": 7,
    "start_time": "2025-04-12T18:17:00.760Z"
   },
   {
    "duration": 6,
    "start_time": "2025-04-12T18:17:00.769Z"
   },
   {
    "duration": 35,
    "start_time": "2025-04-12T18:17:00.777Z"
   },
   {
    "duration": 23,
    "start_time": "2025-04-12T18:17:00.814Z"
   },
   {
    "duration": 4,
    "start_time": "2025-04-12T18:17:00.839Z"
   },
   {
    "duration": 17,
    "start_time": "2025-04-12T18:17:00.844Z"
   },
   {
    "duration": 6,
    "start_time": "2025-04-12T18:17:00.862Z"
   },
   {
    "duration": 46,
    "start_time": "2025-04-12T18:17:00.870Z"
   },
   {
    "duration": 3,
    "start_time": "2025-04-12T18:17:00.920Z"
   },
   {
    "duration": 16,
    "start_time": "2025-04-12T18:17:00.925Z"
   },
   {
    "duration": 4,
    "start_time": "2025-04-12T18:17:00.943Z"
   },
   {
    "duration": 11,
    "start_time": "2025-04-12T18:17:00.948Z"
   },
   {
    "duration": 52,
    "start_time": "2025-04-12T18:17:00.961Z"
   },
   {
    "duration": 4,
    "start_time": "2025-04-12T18:17:01.014Z"
   },
   {
    "duration": 13,
    "start_time": "2025-04-12T18:17:01.020Z"
   },
   {
    "duration": 6,
    "start_time": "2025-04-12T18:17:01.035Z"
   },
   {
    "duration": 8,
    "start_time": "2025-04-12T18:17:01.043Z"
   },
   {
    "duration": 20,
    "start_time": "2025-04-12T18:17:01.053Z"
   },
   {
    "duration": 52,
    "start_time": "2025-04-12T18:17:01.074Z"
   },
   {
    "duration": 14,
    "start_time": "2025-04-12T18:17:01.128Z"
   },
   {
    "duration": 14,
    "start_time": "2025-04-12T18:17:01.144Z"
   },
   {
    "duration": 12,
    "start_time": "2025-04-12T18:17:01.160Z"
   },
   {
    "duration": 39,
    "start_time": "2025-04-12T18:17:01.173Z"
   },
   {
    "duration": 797,
    "start_time": "2025-04-12T18:17:08.782Z"
   },
   {
    "duration": 6,
    "start_time": "2025-04-12T18:18:07.396Z"
   }
  ],
  "colab": {
   "provenance": []
  },
  "kernelspec": {
   "display_name": "Python 3 (ipykernel)",
   "language": "python",
   "name": "python3"
  },
  "language_info": {
   "codemirror_mode": {
    "name": "ipython",
    "version": 3
   },
   "file_extension": ".py",
   "mimetype": "text/x-python",
   "name": "python",
   "nbconvert_exporter": "python",
   "pygments_lexer": "ipython3",
   "version": "3.9.19"
  },
  "toc": {
   "base_numbering": 1,
   "nav_menu": {},
   "number_sections": true,
   "sideBar": true,
   "skip_h1_title": false,
   "title_cell": "Table of Contents",
   "title_sidebar": "Contents",
   "toc_cell": false,
   "toc_position": {
    "height": "calc(100% - 180px)",
    "left": "10px",
    "top": "150px",
    "width": "378.797px"
   },
   "toc_section_display": true,
   "toc_window_display": true
  }
 },
 "nbformat": 4,
 "nbformat_minor": 1
}
