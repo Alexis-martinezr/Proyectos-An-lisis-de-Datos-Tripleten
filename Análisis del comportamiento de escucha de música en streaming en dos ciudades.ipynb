{
 "cells": [
  {
   "cell_type": "markdown",
   "metadata": {
    "id": "E0vqbgi9ay0H"
   },
   "source": [
    "# Déjame escuchar la música"
   ]
  },
  {
   "cell_type": "markdown",
   "metadata": {
    "id": "fhq_eyov_Zcs"
   },
   "source": [
    "# Contenido <a id='back'></a>\n",
    "\n",
    "* [Introducción](#intro)\n",
    "* [Etapa 1. Descripción de los datos](#data_review)\n",
    "    * [Conclusiones](#data_review_conclusions)\n",
    "* [Etapa 2. Preprocesamiento de datos](#data_preprocessing)\n",
    "    * [2.1 Estilo del encabezado](#header_style)\n",
    "    * [2.2 Valores ausentes](#missing_values)\n",
    "    * [2.3 Duplicados](#duplicates)\n",
    "    * [2.4 Conclusiones](#data_preprocessing_conclusions)\n",
    "* [Etapa 3. Prueba de hipótesis](#hypothesis)\n",
    "    * [3.1 Hipótesis 1: actividad de los usuarios y las usuarias en las dos ciudades](#activity)\n",
    "* [Conclusiones](#end)"
   ]
  },
  {
   "cell_type": "markdown",
   "metadata": {
    "id": "VUC88oWjTJw2"
   },
   "source": [
    "## Introducción <a id='intro'></a>\n",
    "Como analista de datos, tu trabajo consiste en analizar datos para extraer información valiosa y tomar decisiones basadas en ellos. Esto implica diferentes etapas, como la descripción general de los datos, el preprocesamiento y la prueba de hipótesis.\n",
    "\n",
    "Siempre que investigamos, necesitamos formular hipótesis que después podamos probar. A veces aceptamos estas hipótesis; otras veces, las rechazamos. Para tomar las decisiones correctas, una empresa debe ser capaz de entender si está haciendo las suposiciones correctas.\n",
    "\n",
    "En este proyecto, compararás las preferencias musicales de las ciudades de Springfield y Shelbyville. Estudiarás datos reales de transmisión de música online para probar la hipótesis a continuación y comparar el comportamiento de los usuarios y las usuarias de estas dos ciudades.\n",
    "\n",
    "### Objetivo:\n",
    "Prueba la hipótesis:\n",
    "1. La actividad de los usuarios y las usuarias difiere según el día de la semana y dependiendo de la ciudad.\n",
    "\n",
    "\n",
    "### Etapas\n",
    "Los datos del comportamiento del usuario se almacenan en el archivo `/datasets/music_project_en.csv`. No hay ninguna información sobre la calidad de los datos, así que necesitarás examinarlos antes de probar la hipótesis.\n",
    "\n",
    "Primero, evaluarás la calidad de los datos y verás si los problemas son significativos. Entonces, durante el preprocesamiento de datos, tomarás en cuenta los problemas más críticos.\n",
    "\n",
    "Tu proyecto consistirá en tres etapas:\n",
    " 1. Descripción de los datos.\n",
    " 2. Preprocesamiento de datos.\n",
    " 3. Prueba de hipótesis.\n",
    "\n",
    "\n",
    "\n",
    "\n",
    "\n",
    "\n"
   ]
  },
  {
   "cell_type": "markdown",
   "metadata": {
    "id": "hDt6pg-Rw-1U"
   },
   "source": [
    "[Volver a Contenidos](#back)"
   ]
  },
  {
   "cell_type": "markdown",
   "metadata": {
    "id": "Ml1hmfXC_Zcs"
   },
   "source": [
    "## Etapa 1. Descripción de los datos <a id='data_review'></a>\n",
    "\n",
    "Abre los datos y examínalos."
   ]
  },
  {
   "cell_type": "markdown",
   "metadata": {
    "id": "57eAOGIz_Zcs"
   },
   "source": [
    "Necesitarás `pandas`, así que impórtalo."
   ]
  },
  {
   "cell_type": "code",
   "execution_count": 2,
   "metadata": {
    "id": "AXN7PHPN_Zcs",
    "trusted": true
   },
   "outputs": [],
   "source": [
    "# Importar pandas\n",
    "import pandas as pd"
   ]
  },
  {
   "cell_type": "markdown",
   "metadata": {
    "id": "SG23P8tt_Zcs"
   },
   "source": [
    "Lee el archivo `music_project_en.csv` de la carpeta `/datasets/` y guárdalo en la variable `df`:"
   ]
  },
  {
   "cell_type": "code",
   "execution_count": 3,
   "metadata": {
    "id": "fFVu7vqh_Zct",
    "trusted": true
   },
   "outputs": [],
   "source": [
    "# Leer el archivo y almacenarlo en df\n",
    "df = pd.read_csv(\"/datasets/music_project_en.csv\")"
   ]
  },
  {
   "cell_type": "markdown",
   "metadata": {
    "id": "rDoOMd3uTqnZ"
   },
   "source": [
    "Muestra las 10 primeras filas de la tabla:"
   ]
  },
  {
   "cell_type": "code",
   "execution_count": 4,
   "metadata": {
    "id": "oWTVX3gW_Zct",
    "trusted": true
   },
   "outputs": [
    {
     "name": "stdout",
     "output_type": "stream",
     "text": [
      "     userID                        Track            artist   genre  \\\n",
      "0  FFB692EC            Kamigata To Boots  The Mass Missile    rock   \n",
      "1  55204538  Delayed Because of Accident  Andreas Rönnberg    rock   \n",
      "2    20EC38            Funiculì funiculà       Mario Lanza     pop   \n",
      "3  A3DD03C9        Dragons in the Sunset        Fire + Ice    folk   \n",
      "4  E2DC1FAE                  Soul People        Space Echo   dance   \n",
      "5  842029A1                       Chains          Obladaet  rusrap   \n",
      "6  4CB90AA5                         True      Roman Messer   dance   \n",
      "7  F03E1C1F             Feeling This Way   Polina Griffith   dance   \n",
      "8  8FA1D3BE                     L’estate       Julia Dalia  ruspop   \n",
      "9  E772D5C0                    Pessimist               NaN   dance   \n",
      "\n",
      "        City        time        Day  \n",
      "0  Shelbyville  20:28:33  Wednesday  \n",
      "1  Springfield  14:07:09     Friday  \n",
      "2  Shelbyville  20:58:07  Wednesday  \n",
      "3  Shelbyville  08:37:09     Monday  \n",
      "4  Springfield  08:34:34     Monday  \n",
      "5  Shelbyville  13:09:41     Friday  \n",
      "6  Springfield  13:00:07  Wednesday  \n",
      "7  Springfield  20:47:49  Wednesday  \n",
      "8  Springfield  09:17:40     Friday  \n",
      "9  Shelbyville  21:20:49  Wednesday  \n"
     ]
    }
   ],
   "source": [
    "# Obtener las 10 primeras filas de la tabla df\n",
    "print(df.head(10))"
   ]
  },
  {
   "cell_type": "markdown",
   "metadata": {
    "id": "EO73Kwic_Zct"
   },
   "source": [
    "Obtén la información general sobre la tabla con un comando. Conoces el método que muestra la información general que necesitamos."
   ]
  },
  {
   "cell_type": "code",
   "execution_count": 5,
   "metadata": {
    "id": "DSf2kIb-_Zct",
    "trusted": true
   },
   "outputs": [
    {
     "name": "stdout",
     "output_type": "stream",
     "text": [
      "<class 'pandas.core.frame.DataFrame'>\n",
      "RangeIndex: 65079 entries, 0 to 65078\n",
      "Data columns (total 7 columns):\n",
      " #   Column    Non-Null Count  Dtype \n",
      "---  ------    --------------  ----- \n",
      " 0     userID  65079 non-null  object\n",
      " 1   Track     63736 non-null  object\n",
      " 2   artist    57512 non-null  object\n",
      " 3   genre     63881 non-null  object\n",
      " 4     City    65079 non-null  object\n",
      " 5   time      65079 non-null  object\n",
      " 6   Day       65079 non-null  object\n",
      "dtypes: object(7)\n",
      "memory usage: 3.5+ MB\n",
      "None\n"
     ]
    }
   ],
   "source": [
    "# Obtener la información general sobre nuestros datos\n",
    "print(df.info())"
   ]
  },
  {
   "cell_type": "markdown",
   "metadata": {
    "id": "TaQ2Iwbr_Zct"
   },
   "source": [
    "Estas son nuestras observaciones sobre la tabla. Contiene siete columnas. Almacenan los mismos tipos de datos: `object`.\n",
    "\n",
    "Según la documentación:\n",
    "- `' userID'`: identificador del usuario o la usuaria;\n",
    "- `'Track'`: título de la canción;\n",
    "- `'artist'`: nombre del artista;\n",
    "- `'genre'`: género de la pista;\n",
    "- `'City'`: ciudad del usuario o la usuaria;\n",
    "- `'time'`: la hora exacta en la que se reprodujo la canción;\n",
    "- `'Day'`: día de la semana.\n",
    "\n",
    "Podemos ver tres problemas con el estilo en los encabezados de la tabla:\n",
    "1. Algunos encabezados están en mayúsculas, otros en minúsculas.\n",
    "2. Hay espacios en algunos encabezados.\n",
    "3. `Detecta el tercer problema por tu cuenta y descríbelo aquí, \n",
    "que userID esta pegado en lugar de separado por un guion bajo`.\n",
    "\n",
    "\n"
   ]
  },
  {
   "cell_type": "markdown",
   "metadata": {
    "id": "MCB6-dXG_Zct"
   },
   "source": [
    "### Escribe observaciones de tu parte. Estas son algunas de las preguntas que pueden ser útiles: <a id='data_review_conclusions'></a>\n",
    "\n",
    "`1.   ¿Qué tipo de datos tenemos a nuestra disposición en las filas? ¿Y cómo podemos entender lo que almacenan las columnas? Almancenan principalmente datos cualitativos, excepto time que almacena un dato cuantitativo`\n",
    "\n",
    "`2.   ¿Hay suficientes datos para proporcionar respuestas a nuestra hipótesis o necesitamos más información? hay suficientes`\n",
    "\n",
    "`3.   ¿Notaste algún problema en los datos, como valores ausentes, duplicados o tipos de datos incorrectos hay datos ausentes?`\n",
    "si, hay datos ausentes "
   ]
  },
  {
   "cell_type": "markdown",
   "metadata": {
    "id": "3eL__vcwViOi"
   },
   "source": [
    "[Volver a Contenidos](#back)"
   ]
  },
  {
   "cell_type": "markdown",
   "metadata": {
    "id": "SjYF6Ub9_Zct"
   },
   "source": [
    "## Etapa 2. Preprocesamiento de datos <a id='data_preprocessing'></a>\n",
    "\n",
    "El objetivo aquí es preparar los datos para que sean analizados.\n",
    "El primer paso es resolver cualquier problema con los encabezados. Luego podemos avanzar a los valores ausentes y duplicados. Empecemos.\n",
    "\n",
    "Corrige el formato en los encabezados de la tabla.\n"
   ]
  },
  {
   "cell_type": "markdown",
   "metadata": {
    "id": "dIaKXr29_Zct"
   },
   "source": [
    "### Estilo del encabezado <a id='header_style'></a>\n",
    "Muestra los encabezados de la tabla (los nombres de las columnas):"
   ]
  },
  {
   "cell_type": "code",
   "execution_count": 6,
   "metadata": {
    "id": "oKOTdF_Q_Zct",
    "trusted": true
   },
   "outputs": [
    {
     "name": "stdout",
     "output_type": "stream",
     "text": [
      "Index(['  userID', 'Track', 'artist', 'genre', '  City  ', 'time', 'Day'], dtype='object')\n"
     ]
    }
   ],
   "source": [
    "# Muestra los nombres de las columnas\n",
    "print(df.columns)"
   ]
  },
  {
   "cell_type": "markdown",
   "metadata": {
    "id": "zj5534cv_Zct"
   },
   "source": [
    "Cambia los encabezados de la tabla de acuerdo con las reglas del buen estilo:\n",
    "* Todos los caracteres deben ser minúsculas.\n",
    "* Elimina los espacios.\n",
    "* Si el nombre tiene varias palabras, utiliza snake_case."
   ]
  },
  {
   "cell_type": "markdown",
   "metadata": {
    "id": "Xu0zkfe5zNJe"
   },
   "source": [
    "Anteriormente, aprendiste acerca de la forma automática de cambiar el nombre de las columnas. Vamos a aplicarla ahora. Utiliza el bucle for para iterar sobre los nombres de las columnas y poner todos los caracteres en minúsculas. Cuando hayas terminado, vuelve a mostrar los encabezados de la tabla:"
   ]
  },
  {
   "cell_type": "code",
   "execution_count": 7,
   "metadata": {
    "id": "6I_RwwMhzM4e",
    "trusted": true
   },
   "outputs": [
    {
     "name": "stdout",
     "output_type": "stream",
     "text": [
      "Index(['user_id', 'track', 'artist', 'genre', 'city', 'time', 'day'], dtype='object')\n"
     ]
    }
   ],
   "source": [
    "# Bucle en los encabezados poniendo todo en minúsculas\n",
    "new_columns = []\n",
    "for column in df.columns:\n",
    "    column = column.strip().lower().replace(\" \", \"_\")  # Eliminar espacios y convertir a minúsculas\n",
    "    if column == \"userid\":  # Caso especial para userID\n",
    "        column = \"user_id\"\n",
    "    new_columns.append(column)\n",
    "\n",
    "df.columns = new_columns\n",
    "print(df.columns)"
   ]
  },
  {
   "cell_type": "markdown",
   "metadata": {
    "id": "pweIRxjSzPYW"
   },
   "source": [
    "Ahora, utilizando el mismo método, elimina los espacios al principio y al final de los nombres de las columnas e imprime los nombres de las columnas nuevamente:"
   ]
  },
  {
   "cell_type": "markdown",
   "metadata": {
    "id": "yCb8MW1JzURd"
   },
   "source": [
    "Necesitamos aplicar la regla de snake_case a la columna `userid`. Debe ser `user_id`. Cambia el nombre de esta columna y muestra los nombres de todas las columnas cuando hayas terminado."
   ]
  },
  {
   "cell_type": "markdown",
   "metadata": {
    "id": "1dqbh00J_Zct"
   },
   "source": [
    "Comprueba el resultado. Muestra los encabezados una vez más:"
   ]
  },
  {
   "cell_type": "markdown",
   "metadata": {
    "id": "xYJk6ksJVpOl"
   },
   "source": [
    "[Volver a Contenidos](#back)"
   ]
  },
  {
   "cell_type": "markdown",
   "metadata": {
    "id": "5ISfbcfY_Zct"
   },
   "source": [
    "### Valores ausentes <a id='missing_values'></a>\n",
    " Primero, encuentra el número de valores ausentes en la tabla. Debes utilizar dos métodos en una secuencia para obtener el número de valores ausentes."
   ]
  },
  {
   "cell_type": "code",
   "execution_count": 8,
   "metadata": {
    "id": "RskX29qr_Zct",
    "trusted": true
   },
   "outputs": [
    {
     "name": "stdout",
     "output_type": "stream",
     "text": [
      "user_id       0\n",
      "track      1343\n",
      "artist     7567\n",
      "genre      1198\n",
      "city          0\n",
      "time          0\n",
      "day           0\n",
      "dtype: int64\n"
     ]
    }
   ],
   "source": [
    "# Calcular el número de valores ausentes\n",
    "\n",
    "print(df.isna().sum())"
   ]
  },
  {
   "cell_type": "markdown",
   "metadata": {
    "id": "qubhgnlO_Zct"
   },
   "source": [
    "No todos los valores ausentes afectan a la investigación. Por ejemplo, los valores ausentes en `track` y `artist` no son cruciales. Simplemente puedes reemplazarlos con valores predeterminados como el string `'unknown'` (desconocido).\n",
    "\n",
    "Pero los valores ausentes en `'genre'` pueden afectar la comparación entre las preferencias musicales de Springfield y Shelbyville. En la vida real, sería útil saber las razones por las cuales hay datos ausentes e intentar recuperarlos. Pero no tenemos esa oportunidad en este proyecto. Así que tendrás que:\n",
    "* rellenar estos valores ausentes con un valor predeterminado;\n",
    "* evaluar cuánto podrían afectar los valores ausentes a tus cómputos;"
   ]
  },
  {
   "cell_type": "markdown",
   "metadata": {
    "id": "fSv2laPA_Zct"
   },
   "source": [
    "Reemplazar los valores ausentes en las columnas `'track'`, `'artist'` y `'genre'` con el string `'unknown'`. Como mostramos anteriormente en las lecciones, la mejor forma de hacerlo es crear una lista que almacene los nombres de las columnas donde se necesita el reemplazo. Luego, utiliza esta lista e itera sobre las columnas donde se necesita el reemplazo haciendo el propio reemplazo."
   ]
  },
  {
   "cell_type": "code",
   "execution_count": 9,
   "metadata": {
    "id": "KplB5qWs_Zct",
    "trusted": true
   },
   "outputs": [
    {
     "name": "stdout",
     "output_type": "stream",
     "text": [
      "user_id    0\n",
      "track      0\n",
      "artist     0\n",
      "genre      0\n",
      "city       0\n",
      "time       0\n",
      "day        0\n",
      "dtype: int64\n"
     ]
    }
   ],
   "source": [
    "# Bucle en los encabezados reemplazando los valores ausentes con 'unknown'\n",
    "remplazo= [\"track\", \"artist\", \"genre\"]\n",
    "df[remplazo]= df[remplazo].fillna(\"unkown\")\n",
    "print(df.isna().sum())"
   ]
  },
  {
   "cell_type": "markdown",
   "metadata": {
    "id": "Ilsm-MZo_Zct"
   },
   "source": [
    "Ahora comprueba el resultado para asegurarte de que después del reemplazo no haya valores ausentes en el conjunto de datos. Para hacer esto, cuenta los valores ausentes nuevamente."
   ]
  },
  {
   "cell_type": "code",
   "execution_count": 10,
   "metadata": {
    "id": "Tq4nYRX4_Zct",
    "trusted": true
   },
   "outputs": [
    {
     "name": "stdout",
     "output_type": "stream",
     "text": [
      "user_id    0\n",
      "track      0\n",
      "artist     0\n",
      "genre      0\n",
      "city       0\n",
      "time       0\n",
      "day        0\n",
      "dtype: int64\n"
     ]
    }
   ],
   "source": [
    "# Contar valores ausentes\n",
    "print(df.isna().sum())"
   ]
  },
  {
   "cell_type": "markdown",
   "metadata": {
    "id": "74ZIBmq9VrsK"
   },
   "source": [
    "[Volver a Contenidos](#back)"
   ]
  },
  {
   "cell_type": "markdown",
   "metadata": {
    "id": "BWKRtBJ3_Zct"
   },
   "source": [
    "### Duplicados <a id='duplicates'></a>\n",
    "Encuentra el número de duplicados explícitos en la tabla. Una vez más, debes aplicar dos métodos en una secuencia para obtener la cantidad de duplicados explícitos."
   ]
  },
  {
   "cell_type": "code",
   "execution_count": 11,
   "metadata": {
    "id": "36eES_S0_Zct",
    "trusted": true
   },
   "outputs": [
    {
     "name": "stdout",
     "output_type": "stream",
     "text": [
      "3826\n"
     ]
    }
   ],
   "source": [
    "# Contar duplicados explícitos\n",
    "print(df.duplicated().sum())"
   ]
  },
  {
   "cell_type": "markdown",
   "metadata": {
    "id": "Ot25h6XR_Zct"
   },
   "source": [
    "Ahora, elimina todos los duplicados. Para ello, llama al método que hace exactamente esto."
   ]
  },
  {
   "cell_type": "code",
   "execution_count": 12,
   "metadata": {
    "id": "exFHq6tt_Zct",
    "trusted": true
   },
   "outputs": [],
   "source": [
    "# Eliminar duplicados explícitos\n",
    "df= df.drop_duplicates().reset_index(drop=True)"
   ]
  },
  {
   "cell_type": "markdown",
   "metadata": {
    "id": "Im2YwBEG_Zct"
   },
   "source": [
    "Comprobemos ahora si eliminamos con éxito todos los duplicados. Cuenta los duplicados explícitos una vez más para asegurarte de haberlos eliminado todos:"
   ]
  },
  {
   "cell_type": "code",
   "execution_count": 13,
   "metadata": {
    "id": "-8PuNWQ0_Zct",
    "trusted": true
   },
   "outputs": [
    {
     "name": "stdout",
     "output_type": "stream",
     "text": [
      "0\n"
     ]
    }
   ],
   "source": [
    "# Comprobar de nuevo si hay duplicados\n",
    "\n",
    "print(df.duplicated().sum())"
   ]
  },
  {
   "cell_type": "markdown",
   "metadata": {
    "id": "QlFBsxAr_Zct"
   },
   "source": [
    "Ahora queremos deshacernos de los duplicados implícitos en la columna `genre`. Por ejemplo, el nombre de un género se puede escribir de varias formas. Dichos errores también pueden afectar al resultado."
   ]
  },
  {
   "cell_type": "markdown",
   "metadata": {
    "id": "eSjWwsOh_Zct"
   },
   "source": [
    "Para hacerlo, primero mostremos una lista de nombres de género únicos, ordenados en orden alfabético. Para ello:\n",
    "* Extrae la columna `genre` del DataFrame.\n",
    "* Llama al método que devolverá todos los valores únicos en la columna extraída.\n"
   ]
  },
  {
   "cell_type": "code",
   "execution_count": 14,
   "metadata": {
    "id": "JIUcqzZN_Zct",
    "trusted": true
   },
   "outputs": [
    {
     "name": "stdout",
     "output_type": "stream",
     "text": [
      "['rock' 'pop' 'folk' 'dance' 'rusrap' 'ruspop' 'world' 'electronic'\n",
      " 'unkown' 'alternative' 'children' 'rnb' 'hip' 'jazz' 'postrock' 'latin'\n",
      " 'classical' 'metal' 'reggae' 'triphop' 'blues' 'instrumental' 'rusrock'\n",
      " 'dnb' 'türk' 'post' 'country' 'psychedelic' 'conjazz' 'indie'\n",
      " 'posthardcore' 'local' 'avantgarde' 'punk' 'videogame' 'techno' 'house'\n",
      " 'christmas' 'melodic' 'caucasian' 'reggaeton' 'soundtrack' 'singer' 'ska'\n",
      " 'salsa' 'ambient' 'film' 'western' 'rap' 'beats' \"hard'n'heavy\"\n",
      " 'progmetal' 'minimal' 'tropical' 'contemporary' 'new' 'soul' 'holiday'\n",
      " 'german' 'jpop' 'spiritual' 'urban' 'gospel' 'nujazz' 'folkmetal'\n",
      " 'trance' 'miscellaneous' 'anime' 'hardcore' 'progressive' 'korean'\n",
      " 'numetal' 'vocal' 'estrada' 'tango' 'loungeelectronic' 'classicmetal'\n",
      " 'dubstep' 'club' 'deep' 'southern' 'black' 'folkrock' 'fitness' 'french'\n",
      " 'disco' 'religious' 'hiphop' 'drum' 'extrememetal' 'türkçe'\n",
      " 'experimental' 'easy' 'metalcore' 'modern' 'argentinetango' 'old' 'swing'\n",
      " 'breaks' 'eurofolk' 'stonerrock' 'industrial' 'funk' 'middle' 'variété'\n",
      " 'other' 'adult' 'christian' 'thrash' 'gothic' 'international' 'muslim'\n",
      " 'relax' 'schlager' 'caribbean' 'nu' 'breakbeat' 'comedy' 'chill' 'newage'\n",
      " 'specialty' 'uzbek' 'k-pop' 'balkan' 'chinese' 'meditative' 'dub' 'power'\n",
      " 'death' 'grime' 'arabesk' 'romance' 'flamenco' 'leftfield' 'european'\n",
      " 'tech' 'newwave' 'dancehall' 'mpb' 'piano' 'top' 'bigroom' 'opera'\n",
      " 'celtic' 'tradjazz' 'acoustic' 'epicmetal' 'hip-hop' 'historisch'\n",
      " 'downbeat' 'downtempo' 'africa' 'audiobook' 'jewish' 'sängerportrait'\n",
      " 'deutschrock' 'eastern' 'action' 'future' 'electropop' 'folklore'\n",
      " 'bollywood' 'marschmusik' 'rnr' 'karaoke' 'indian' 'rancheras'\n",
      " 'afrikaans' 'rhythm' 'sound' 'deutschspr' 'trip' 'lovers' 'choral'\n",
      " 'dancepop' 'retro' 'smooth' 'mexican' 'brazilian' 'ïîï' 'mood' 'surf'\n",
      " 'gangsta' 'inspirational' 'idm' 'ethnic' 'bluegrass' 'broadway'\n",
      " 'animated' 'americana' 'karadeniz' 'rockabilly' 'colombian' 'self' 'hop'\n",
      " 'sertanejo' 'japanese' 'canzone' 'lounge' 'sport' 'ragga' 'traditional'\n",
      " 'gitarre' 'frankreich' 'emo' 'laiko' 'cantopop' 'glitch' 'documentary'\n",
      " 'oceania' 'popeurodance' 'dark' 'vi' 'grunge' 'hardstyle' 'samba'\n",
      " 'garage' 'art' 'folktronica' 'entehno' 'mediterranean' 'chamber' 'cuban'\n",
      " 'taraftar' 'gypsy' 'hardtechno' 'shoegazing' 'bossa' 'latino' 'worldbeat'\n",
      " 'malaysian' 'baile' 'ghazal' 'arabic' 'popelectronic' 'acid' 'kayokyoku'\n",
      " 'neoklassik' 'tribal' 'tanzorchester' 'native' 'independent' 'cantautori'\n",
      " 'handsup' 'punjabi' 'synthpop' 'rave' 'französisch' 'quebecois' 'speech'\n",
      " 'soulful' 'jam' 'ram' 'horror' 'orchestral' 'neue' 'roots' 'slow'\n",
      " 'jungle' 'indipop' 'axé' 'fado' 'showtunes' 'arena' 'irish' 'mandopop'\n",
      " 'forró' 'dirty' 'regional']\n"
     ]
    }
   ],
   "source": [
    "# Inspeccionar los nombres de géneros únicos\n",
    "print(df[\"genre\"].unique())"
   ]
  },
  {
   "cell_type": "markdown",
   "metadata": {
    "id": "qej-Qmuo_Zct"
   },
   "source": [
    "Busca en la lista para encontrar duplicados implícitos del género `hiphop`. Estos pueden ser nombres escritos incorrectamente o nombres alternativos para el mismo género.\n",
    "\n",
    "Verás los siguientes duplicados implícitos:\n",
    "* `hip`\n",
    "* `hop`\n",
    "* `hip-hop`\n",
    "\n",
    "Para deshacerte de ellos, crea una función llamada `replace_wrong_genres()` con dos parámetros:\n",
    "* `wrong_genres=`: esta es una lista que contiene todos los valores que necesitas reemplazar.\n",
    "* `correct_genre=`: este es un string que vas a utilizar como reemplazo.\n",
    "\n",
    "Como resultado, la función debería corregir los nombres en la columna `'genre'` de la tabla `df`, es decir, remplazar cada valor de la lista `wrong_genres` por el valor en `correct_genre`.\n",
    "\n",
    "Dentro del cuerpo de la función, utiliza un bucle `'for'` para iterar sobre la lista de géneros incorrectos, extrae la columna `'genre'` y aplica el método `replace` para hacer correcciones."
   ]
  },
  {
   "cell_type": "code",
   "execution_count": 15,
   "metadata": {
    "id": "ErNDkmns_Zct",
    "trusted": true
   },
   "outputs": [],
   "source": [
    "# Función para reemplazar duplicados implícitos\n",
    "def replace_wrong_values(df, column, wrong_values, correct_value):\n",
    "    for wrong_value in wrong_values:\n",
    "        df[column] = df[column].replace(wrong_value, correct_value)\n",
    "    return df\n",
    "duplicates =[\"hip\", \"hop\"]\n",
    "name= \"hip-hop\"\n"
   ]
  },
  {
   "cell_type": "markdown",
   "metadata": {
    "id": "aDoBJxbA_Zct"
   },
   "source": [
    "Ahora, llama a `replace_wrong_genres()` y pásale tales argumentos para que retire los duplicados implícitos (`hip`, `hop` y `hip-hop`) y los reemplace por `hiphop`:"
   ]
  },
  {
   "cell_type": "code",
   "execution_count": 16,
   "metadata": {
    "id": "YN5i2hpmSo09",
    "trusted": true
   },
   "outputs": [
    {
     "name": "stdout",
     "output_type": "stream",
     "text": [
      "        user_id                              track            artist  \\\n",
      "0      FFB692EC                  Kamigata To Boots  The Mass Missile   \n",
      "1      55204538        Delayed Because of Accident  Andreas Rönnberg   \n",
      "2        20EC38                  Funiculì funiculà       Mario Lanza   \n",
      "3      A3DD03C9              Dragons in the Sunset        Fire + Ice   \n",
      "4      E2DC1FAE                        Soul People        Space Echo   \n",
      "...         ...                                ...               ...   \n",
      "61248  729CBB09                            My Name            McLean   \n",
      "61249  D08D4A55  Maybe One Day (feat. Black Spade)       Blu & Exile   \n",
      "61250  C5E3A0D5                          Jalopiina            unkown   \n",
      "61251  321D0506                      Freight Train     Chas McDevitt   \n",
      "61252  3A64EF84          Tell Me Sweet Little Lies      Monica Lopez   \n",
      "\n",
      "            genre         city      time        day  \n",
      "0            rock  Shelbyville  20:28:33  Wednesday  \n",
      "1            rock  Springfield  14:07:09     Friday  \n",
      "2             pop  Shelbyville  20:58:07  Wednesday  \n",
      "3            folk  Shelbyville  08:37:09     Monday  \n",
      "4           dance  Springfield  08:34:34     Monday  \n",
      "...           ...          ...       ...        ...  \n",
      "61248         rnb  Springfield  13:32:28  Wednesday  \n",
      "61249     hip-hop  Shelbyville  10:00:00     Monday  \n",
      "61250  industrial  Springfield  20:09:26     Friday  \n",
      "61251        rock  Springfield  21:43:59     Friday  \n",
      "61252     country  Springfield  21:59:46     Friday  \n",
      "\n",
      "[61253 rows x 7 columns]\n"
     ]
    }
   ],
   "source": [
    "# Eliminar duplicados implícitos\n",
    "coregido = replace_wrong_values(df, \"genre\", duplicates, name)\n",
    "print(coregido)"
   ]
  },
  {
   "cell_type": "markdown",
   "metadata": {
    "id": "zQKF16_RG15m"
   },
   "source": [
    "Asegúrate de que los nombres duplicados han sido eliminados. Muestra la lista de valores únicos de la columna `'genre'` una vez más:"
   ]
  },
  {
   "cell_type": "code",
   "execution_count": 17,
   "metadata": {
    "id": "wvixALnFG15m",
    "trusted": true
   },
   "outputs": [
    {
     "name": "stdout",
     "output_type": "stream",
     "text": [
      "['rock' 'pop' 'folk' 'dance' 'rusrap' 'ruspop' 'world' 'electronic'\n",
      " 'unkown' 'alternative' 'children' 'rnb' 'hip-hop' 'jazz' 'postrock'\n",
      " 'latin' 'classical' 'metal' 'reggae' 'triphop' 'blues' 'instrumental'\n",
      " 'rusrock' 'dnb' 'türk' 'post' 'country' 'psychedelic' 'conjazz' 'indie'\n",
      " 'posthardcore' 'local' 'avantgarde' 'punk' 'videogame' 'techno' 'house'\n",
      " 'christmas' 'melodic' 'caucasian' 'reggaeton' 'soundtrack' 'singer' 'ska'\n",
      " 'salsa' 'ambient' 'film' 'western' 'rap' 'beats' \"hard'n'heavy\"\n",
      " 'progmetal' 'minimal' 'tropical' 'contemporary' 'new' 'soul' 'holiday'\n",
      " 'german' 'jpop' 'spiritual' 'urban' 'gospel' 'nujazz' 'folkmetal'\n",
      " 'trance' 'miscellaneous' 'anime' 'hardcore' 'progressive' 'korean'\n",
      " 'numetal' 'vocal' 'estrada' 'tango' 'loungeelectronic' 'classicmetal'\n",
      " 'dubstep' 'club' 'deep' 'southern' 'black' 'folkrock' 'fitness' 'french'\n",
      " 'disco' 'religious' 'hiphop' 'drum' 'extrememetal' 'türkçe'\n",
      " 'experimental' 'easy' 'metalcore' 'modern' 'argentinetango' 'old' 'swing'\n",
      " 'breaks' 'eurofolk' 'stonerrock' 'industrial' 'funk' 'middle' 'variété'\n",
      " 'other' 'adult' 'christian' 'thrash' 'gothic' 'international' 'muslim'\n",
      " 'relax' 'schlager' 'caribbean' 'nu' 'breakbeat' 'comedy' 'chill' 'newage'\n",
      " 'specialty' 'uzbek' 'k-pop' 'balkan' 'chinese' 'meditative' 'dub' 'power'\n",
      " 'death' 'grime' 'arabesk' 'romance' 'flamenco' 'leftfield' 'european'\n",
      " 'tech' 'newwave' 'dancehall' 'mpb' 'piano' 'top' 'bigroom' 'opera'\n",
      " 'celtic' 'tradjazz' 'acoustic' 'epicmetal' 'historisch' 'downbeat'\n",
      " 'downtempo' 'africa' 'audiobook' 'jewish' 'sängerportrait' 'deutschrock'\n",
      " 'eastern' 'action' 'future' 'electropop' 'folklore' 'bollywood'\n",
      " 'marschmusik' 'rnr' 'karaoke' 'indian' 'rancheras' 'afrikaans' 'rhythm'\n",
      " 'sound' 'deutschspr' 'trip' 'lovers' 'choral' 'dancepop' 'retro' 'smooth'\n",
      " 'mexican' 'brazilian' 'ïîï' 'mood' 'surf' 'gangsta' 'inspirational' 'idm'\n",
      " 'ethnic' 'bluegrass' 'broadway' 'animated' 'americana' 'karadeniz'\n",
      " 'rockabilly' 'colombian' 'self' 'sertanejo' 'japanese' 'canzone' 'lounge'\n",
      " 'sport' 'ragga' 'traditional' 'gitarre' 'frankreich' 'emo' 'laiko'\n",
      " 'cantopop' 'glitch' 'documentary' 'oceania' 'popeurodance' 'dark' 'vi'\n",
      " 'grunge' 'hardstyle' 'samba' 'garage' 'art' 'folktronica' 'entehno'\n",
      " 'mediterranean' 'chamber' 'cuban' 'taraftar' 'gypsy' 'hardtechno'\n",
      " 'shoegazing' 'bossa' 'latino' 'worldbeat' 'malaysian' 'baile' 'ghazal'\n",
      " 'arabic' 'popelectronic' 'acid' 'kayokyoku' 'neoklassik' 'tribal'\n",
      " 'tanzorchester' 'native' 'independent' 'cantautori' 'handsup' 'punjabi'\n",
      " 'synthpop' 'rave' 'französisch' 'quebecois' 'speech' 'soulful' 'jam'\n",
      " 'ram' 'horror' 'orchestral' 'neue' 'roots' 'slow' 'jungle' 'indipop'\n",
      " 'axé' 'fado' 'showtunes' 'arena' 'irish' 'mandopop' 'forró' 'dirty'\n",
      " 'regional']\n"
     ]
    }
   ],
   "source": [
    "# Comprobación de duplicados implícitos\n",
    "print(df[\"genre\"].unique())"
   ]
  },
  {
   "cell_type": "markdown",
   "metadata": {
    "id": "ALgNbvF3VtPA"
   },
   "source": [
    "[Volver a Contenidos](#back)"
   ]
  },
  {
   "cell_type": "markdown",
   "metadata": {
    "id": "jz6a9-7HQUDd"
   },
   "source": [
    "### Tus observaciones <a id='data_preprocessing_conclusions'></a>\n",
    "\n",
    "`Describe brevemente lo que has notado al analizar duplicados, cómo abordaste sus eliminaciones y qué resultados obtuviste.`"
   ]
  },
  {
   "cell_type": "markdown",
   "metadata": {
    "id": "eK1es74rVujj"
   },
   "source": [
    "[Volver a Contenidos](#back)"
   ]
  },
  {
   "cell_type": "markdown",
   "metadata": {
    "id": "WttZHXH0SqKk"
   },
   "source": [
    "## Etapa 3. Prueba de hipótesis <a id='hypothesis'></a>"
   ]
  },
  {
   "cell_type": "markdown",
   "metadata": {
    "id": "Im936VVi_Zcu"
   },
   "source": [
    "### Hipótesis: comparar el comportamiento del usuario o la usuaria en las dos ciudades <a id='activity'></a>"
   ]
  },
  {
   "cell_type": "markdown",
   "metadata": {
    "id": "nwt_MuaL_Zcu"
   },
   "source": [
    "La hipótesis afirma que existen diferencias en la forma en que los usuarios y las usuarias de Springfield y Shelbyville consumen música. Para comprobar esto, usa los datos de tres días de la semana: lunes, miércoles y viernes.\n",
    "\n",
    "* Agrupa a los usuarios y las usuarias por ciudad.\n",
    "* Compara el número de canciones que cada grupo reprodujo el lunes, el miércoles y el viernes.\n"
   ]
  },
  {
   "cell_type": "markdown",
   "metadata": {
    "id": "8Dw_YMmT_Zcu"
   },
   "source": [
    "Realiza cada cálculo por separado.\n",
    "\n",
    "El primer paso es evaluar la actividad del usuario en cada ciudad. Recuerda las etapas dividir-aplicar-combinar de las que hablamos anteriormente en la lección. Tu objetivo ahora es agrupar los datos por ciudad, aplicar el método apropiado para contar durante la etapa de aplicación y luego encontrar la cantidad de canciones reproducidas en cada grupo especificando la columna para obtener el recuento.\n",
    "\n",
    "A continuación se muestra un ejemplo de cómo debería verse el resultado final:\n",
    "`df.groupby(by='....')['column'].method()`Realiza cada cálculo por separado.\n",
    "\n",
    "Para evaluar la actividad de los usuarios y las usuarias en cada ciudad, agrupa los datos por ciudad y encuentra la cantidad de canciones reproducidas en cada grupo.\n",
    "\n"
   ]
  },
  {
   "cell_type": "code",
   "execution_count": 18,
   "metadata": {
    "id": "0_Qs96oh_Zcu",
    "trusted": true
   },
   "outputs": [
    {
     "name": "stdout",
     "output_type": "stream",
     "text": [
      "Numero de canciones escuchadas en las ciudades city\n",
      "Shelbyville    18512\n",
      "Springfield    42741\n",
      "Name: track, dtype: int64\n"
     ]
    }
   ],
   "source": [
    "# Contar las canciones reproducidas en cada ciudad\n",
    "\n",
    "print(\"Numero de canciones escuchadas en las ciudades\", df.groupby(\"city\")[\"track\"].count())\n"
   ]
  },
  {
   "cell_type": "markdown",
   "metadata": {
    "id": "t_Qx-3NewAnK"
   },
   "source": [
    "`Comenta tus observaciones aquí` Se observa que en Springfield se consume una mayor cantidad de musica que en Shelbyville, sin embargo, esto por si mismo no nos dice mucho, ya que esta diferencia podria deberse al tamaño poblacional y no tanto a sus habitos de consumo"
   ]
  },
  {
   "cell_type": "markdown",
   "metadata": {
    "id": "dzli3w8o_Zcu"
   },
   "source": [
    "Ahora agrupemos los datos por día de la semana y encontremos el número de canciones reproducidas el lunes, miércoles y viernes. Utiliza el mismo método que antes, pero ahora necesitamos una agrupación diferente.\n"
   ]
  },
  {
   "cell_type": "code",
   "execution_count": 19,
   "metadata": {
    "id": "uZMKjiJz_Zcu",
    "trusted": true
   },
   "outputs": [
    {
     "name": "stdout",
     "output_type": "stream",
     "text": [
      "Numero de canciones escuchadas en los dias day\n",
      "Friday       21840\n",
      "Monday       21354\n",
      "Wednesday    18059\n",
      "Name: track, dtype: int64\n"
     ]
    }
   ],
   "source": [
    "# Calcular las canciones reproducidas en cada uno de los tres días\n",
    "\n",
    "print(\"Numero de canciones escuchadas en los dias\", df.groupby(\"day\")[\"track\"].count())\n"
   ]
  },
  {
   "cell_type": "markdown",
   "metadata": {
    "id": "cC2tNrlL_Zcu"
   },
   "source": [
    "`Comenta tus observaciones aquí`Se obser un consumo de musica similar tanto en viernes y lunes, mientras que se obserba un menor consumo los miercoles, sin embargo, al encontrarse aun combinados los datos de ambas ciudades, no nos dice demasiado del comportamiento del consumo de musica real, dado que la posible diferencia de poblacion entra ambas ciudades, o del tamaño de los datos, podria sesgar nuestros "
   ]
  },
  {
   "cell_type": "markdown",
   "metadata": {
    "id": "POzs8bGa_Zcu"
   },
   "source": [
    "Ya sabes cómo contar entradas agrupándolas por ciudad o día. Ahora necesitas escribir una función que pueda contar entradas según ambos criterios simultáneamente.\n",
    "\n",
    "Crea la función `number_tracks()` para calcular el número de canciones reproducidas en un determinado día **y** ciudad. La función debe aceptar dos parámetros:\n",
    "\n",
    "- `day`: un día de la semana para filtrar. Por ejemplo, `'Monday'` (lunes).\n",
    "- `city`: una ciudad para filtrar. Por ejemplo, `'Springfield'`.\n",
    "\n",
    "Dentro de la función, aplicarás un filtrado consecutivo con indexación lógica.\n",
    "\n",
    "Primero filtra los datos por día y luego filtra la tabla resultante por ciudad.\n",
    "\n",
    "Después de filtrar los datos por dos criterios, cuenta el número de valores de la columna 'user_id' en la tabla resultante. Este recuento representa el número de entradas que estás buscando. Guarda el resultado en una nueva variable y devuélvelo desde la función."
   ]
  },
  {
   "cell_type": "code",
   "execution_count": 20,
   "metadata": {
    "id": "Nz3GdQB1_Zcu",
    "trusted": true
   },
   "outputs": [
    {
     "name": "stdout",
     "output_type": "stream",
     "text": [
      "Numero de canciones escuchadas en Shelbyville day\n",
      "Friday       5895\n",
      "Monday       5614\n",
      "Wednesday    7003\n",
      "Name: track, dtype: int64\n",
      "Numero de canciones escuchadas en Springfield day\n",
      "Friday       15945\n",
      "Monday       15740\n",
      "Wednesday    11056\n",
      "Name: track, dtype: int64\n"
     ]
    }
   ],
   "source": [
    "# Declara la función number_tracks() con dos parámetros: day= y city=.\n",
    "df_Shelbyville= df[df[\"city\"] == \"Shelbyville\"]\n",
    "df_Springfield= df[df[\"city\"] == \"Springfield\"]\n",
    "print(\"Numero de canciones escuchadas en Shelbyville\", df_Shelbyville.groupby(\"day\")[\"track\"].count())\n",
    "print(\"Numero de canciones escuchadas en Springfield\",df_Springfield.groupby(\"day\")[\"track\"].count())"
   ]
  },
  {
   "cell_type": "markdown",
   "metadata": {
    "id": "ytf7xFrFJQ2r"
   },
   "source": [
    "Llama a `number_tracks()` seis veces, cambiando los valores de los parámetros para que recuperes los datos de ambas ciudades para cada uno de los tres días."
   ]
  },
  {
   "cell_type": "code",
   "execution_count": 27,
   "metadata": {
    "id": "_NTy2VPU_Zcu",
    "trusted": true
   },
   "outputs": [
    {
     "name": "stdout",
     "output_type": "stream",
     "text": [
      "Springfield\n",
      "Monday 15740\n",
      "Wednesday 11056\n",
      "Friday 15945\n",
      "Shelbyville\n",
      "Monday 5614\n",
      "Wednesday 7003\n",
      "Friday 5895\n"
     ]
    }
   ],
   "source": [
    "\n",
    "def number_tracks(df, day, city):\n",
    "    df_filtrado=df[df[\"day\"] == day]  # Asegúrate de que sea \"Day\" con mayúscula\n",
    "\n",
    "    # Filtrar por ciudad\n",
    "    df_filtrado = df_filtrado[df_filtrado[\"city\"] == city]  # Asegúrate de que sea \"City\" con mayúscula\n",
    "\n",
    "    # Contar el número de canciones en la columna 'Track'\n",
    "    conteo = df_filtrado[\"user_id\"].count()  # Asegúrate de que sea \"Track\" con mayúscula\n",
    "\n",
    "    return conteo\n",
    "\n",
    "# Llamar correctamente a la función con valores reales\n",
    "\n",
    "tracks_1=number_tracks(df, \"Monday\",\"Springfield\" ) \n",
    "tracks_2=number_tracks(df, \"Wednesday\",\"Springfield\" )\n",
    "tracks_3=number_tracks(df, \"Friday\",\"Springfield\")\n",
    "tracks_4=number_tracks(df, \"Monday\",\"Shelbyville\" )\n",
    "tracks_5=number_tracks(df, \"Wednesday\",\"Shelbyville\" )\n",
    "tracks_6=number_tracks(df, \"Friday\",\"Shelbyville\")\n",
    "print(\"Springfield\")\n",
    "print(\"Monday\", tracks_1)\n",
    "print(\"Wednesday\", tracks_2)\n",
    "print(\"Friday\", tracks_3)\n",
    "print( \"Shelbyville\")\n",
    "print(\"Monday\", tracks_4)\n",
    "print(\"Wednesday\", tracks_5)\n",
    "print(\"Friday\", tracks_6)\n",
    "      "
   ]
  },
  {
   "cell_type": "markdown",
   "metadata": {
    "id": "-EgPIHYu_Zcu"
   },
   "source": [
    "**Conclusiones**\n",
    "\n",
    "`Comenta si la hipótesis es correcta o se debe rechazar. Explica tu razonamiento.`La hipotesis podria conciderarse parcialmente correcta, ya que el dia que los habitantes de Shelbyville escuchan un mayor numero de canciones son los miercoles, mientas que los habitantes de Sprinfield escuchan menos musica los miercoles, sin embargo, tanto en Shelbyville como Springfield, los dias lunes y viernes presentan un comportamiento similar, ya que el numero de canciones escuchadas en lunes y viernes son muy semejantes"
   ]
  },
  {
   "cell_type": "markdown",
   "metadata": {
    "id": "p7nFQajCVw5B"
   },
   "source": [
    "[Volver a Contenidos](#back)"
   ]
  },
  {
   "cell_type": "markdown",
   "metadata": {
    "id": "ykKQ0N65_Zcv"
   },
   "source": [
    "# Conclusiones <a id='end'></a>"
   ]
  },
  {
   "cell_type": "markdown",
   "metadata": {
    "id": "tjUwbHb3_Zcv"
   },
   "source": [
    " La hipotesis es parcialmente correcta, dado que ambas ciudades presentan comportamientos similares los lunes en comparacion a los viernes, ya que en ambas ciudades esos dos dias presentan niveles de consumo de musica similares, sin embargo, cada ciudad presenta picos de cosumo en diferentes dias, siendo en Shelbyville los miercoles cuando consumen mas musica, mientros los lunes y viernes los dias que menos escuchan musica, y en Springfield para lo contrario, consumen mas musica los lunes y viernes, y los miercoles decae el consumo de musica"
   ]
  },
  {
   "cell_type": "markdown",
   "metadata": {
    "id": "azLHu64yOIp7"
   },
   "source": [
    "### Nota\n",
    "En proyectos de investigación reales, la prueba de hipótesis estadística es más precisa y cuantitativa. También ten en cuenta que no siempre se pueden sacar conclusiones sobre una ciudad entera a partir de datos de una sola fuente.\n",
    "\n",
    "Aprenderás más sobre la prueba de hipótesis en el sprint de análisis estadístico de datos."
   ]
  },
  {
   "cell_type": "markdown",
   "metadata": {
    "id": "Ju4AHDSgV1FE"
   },
   "source": [
    "[Volver a Contenidos](#back)"
   ]
  }
 ],
 "metadata": {
  "ExecuteTimeLog": [
   {
    "duration": 297,
    "start_time": "2025-02-25T04:28:26.679Z"
   },
   {
    "duration": 108,
    "start_time": "2025-02-25T04:30:02.799Z"
   },
   {
    "duration": 7,
    "start_time": "2025-02-25T04:30:21.412Z"
   },
   {
    "duration": 180,
    "start_time": "2025-02-25T04:31:40.361Z"
   },
   {
    "duration": 17,
    "start_time": "2025-02-25T04:31:45.015Z"
   },
   {
    "duration": 21,
    "start_time": "2025-02-25T04:31:51.808Z"
   },
   {
    "duration": 14,
    "start_time": "2025-02-25T04:41:58.672Z"
   },
   {
    "duration": 11,
    "start_time": "2025-02-25T04:42:02.646Z"
   },
   {
    "duration": 2,
    "start_time": "2025-02-25T04:42:24.059Z"
   },
   {
    "duration": 11,
    "start_time": "2025-02-25T04:55:07.494Z"
   },
   {
    "duration": 3,
    "start_time": "2025-02-25T04:55:38.250Z"
   },
   {
    "duration": 2,
    "start_time": "2025-02-25T04:55:41.676Z"
   },
   {
    "duration": 4,
    "start_time": "2025-02-25T04:56:28.437Z"
   },
   {
    "duration": 4,
    "start_time": "2025-02-25T05:07:54.531Z"
   },
   {
    "duration": 19,
    "start_time": "2025-02-25T05:11:54.566Z"
   },
   {
    "duration": 3,
    "start_time": "2025-02-25T05:19:46.429Z"
   },
   {
    "duration": 23,
    "start_time": "2025-02-25T05:20:07.266Z"
   },
   {
    "duration": 7,
    "start_time": "2025-02-25T05:21:22.490Z"
   },
   {
    "duration": 27,
    "start_time": "2025-02-25T05:21:30.822Z"
   },
   {
    "duration": 17,
    "start_time": "2025-02-25T05:23:46.950Z"
   },
   {
    "duration": 10,
    "start_time": "2025-02-25T05:24:29.247Z"
   },
   {
    "duration": 46,
    "start_time": "2025-02-25T05:25:13.334Z"
   },
   {
    "duration": 47,
    "start_time": "2025-02-25T05:26:24.729Z"
   },
   {
    "duration": 47,
    "start_time": "2025-02-25T05:26:26.964Z"
   },
   {
    "duration": 6,
    "start_time": "2025-02-25T05:27:28.282Z"
   },
   {
    "duration": 13,
    "start_time": "2025-02-25T05:39:24.303Z"
   },
   {
    "duration": 12,
    "start_time": "2025-02-25T05:39:40.376Z"
   },
   {
    "duration": 9,
    "start_time": "2025-02-25T05:41:58.958Z"
   },
   {
    "duration": 7,
    "start_time": "2025-02-25T05:42:27.632Z"
   },
   {
    "duration": 168,
    "start_time": "2025-02-26T04:14:05.321Z"
   },
   {
    "duration": 281,
    "start_time": "2025-02-26T04:14:19.364Z"
   },
   {
    "duration": 114,
    "start_time": "2025-02-26T04:14:21.465Z"
   },
   {
    "duration": 7,
    "start_time": "2025-02-26T04:14:23.774Z"
   },
   {
    "duration": 21,
    "start_time": "2025-02-26T04:14:28.984Z"
   },
   {
    "duration": 3,
    "start_time": "2025-02-26T04:14:34.854Z"
   },
   {
    "duration": 4,
    "start_time": "2025-02-26T04:14:37.286Z"
   },
   {
    "duration": 3,
    "start_time": "2025-02-26T04:15:17.720Z"
   },
   {
    "duration": 4,
    "start_time": "2025-02-26T04:20:07.203Z"
   },
   {
    "duration": 3,
    "start_time": "2025-02-26T04:20:12.184Z"
   },
   {
    "duration": 4,
    "start_time": "2025-02-26T04:20:41.749Z"
   },
   {
    "duration": 3,
    "start_time": "2025-02-26T04:20:48.239Z"
   },
   {
    "duration": 4,
    "start_time": "2025-02-26T04:20:50.329Z"
   },
   {
    "duration": 2,
    "start_time": "2025-02-26T04:21:29.399Z"
   },
   {
    "duration": 96,
    "start_time": "2025-02-26T04:21:31.339Z"
   },
   {
    "duration": 6,
    "start_time": "2025-02-26T04:21:33.246Z"
   },
   {
    "duration": 21,
    "start_time": "2025-02-26T04:21:41.750Z"
   },
   {
    "duration": 3,
    "start_time": "2025-02-26T04:21:45.342Z"
   },
   {
    "duration": 4,
    "start_time": "2025-02-26T04:21:48.194Z"
   },
   {
    "duration": 35,
    "start_time": "2025-02-26T04:28:10.200Z"
   },
   {
    "duration": 17,
    "start_time": "2025-02-26T04:28:30.391Z"
   },
   {
    "duration": 30,
    "start_time": "2025-02-26T04:28:34.573Z"
   },
   {
    "duration": 17,
    "start_time": "2025-02-26T04:28:37.277Z"
   },
   {
    "duration": 44,
    "start_time": "2025-02-26T04:28:39.936Z"
   },
   {
    "duration": 46,
    "start_time": "2025-02-26T04:28:43.596Z"
   },
   {
    "duration": 40,
    "start_time": "2025-02-26T04:28:45.510Z"
   },
   {
    "duration": 6,
    "start_time": "2025-02-26T04:28:47.917Z"
   },
   {
    "duration": 3,
    "start_time": "2025-02-26T04:28:51.415Z"
   },
   {
    "duration": 3,
    "start_time": "2025-02-26T04:28:55.173Z"
   },
   {
    "duration": 10,
    "start_time": "2025-02-26T04:28:58.895Z"
   },
   {
    "duration": 6,
    "start_time": "2025-02-26T04:29:02.586Z"
   },
   {
    "duration": 13,
    "start_time": "2025-02-26T04:29:06.587Z"
   },
   {
    "duration": 13,
    "start_time": "2025-02-26T04:29:45.967Z"
   },
   {
    "duration": 11,
    "start_time": "2025-02-26T04:29:55.395Z"
   },
   {
    "duration": 8,
    "start_time": "2025-02-26T04:30:05.439Z"
   },
   {
    "duration": 173,
    "start_time": "2025-02-26T04:30:26.083Z"
   },
   {
    "duration": 104,
    "start_time": "2025-02-26T04:31:00.846Z"
   },
   {
    "duration": 18,
    "start_time": "2025-02-26T04:32:06.188Z"
   },
   {
    "duration": 3,
    "start_time": "2025-02-26T04:33:15.537Z"
   },
   {
    "duration": 13,
    "start_time": "2025-02-26T04:36:45.173Z"
   },
   {
    "duration": 555,
    "start_time": "2025-02-26T04:36:58.545Z"
   },
   {
    "duration": 9,
    "start_time": "2025-02-26T04:37:15.767Z"
   },
   {
    "duration": 318,
    "start_time": "2025-02-26T04:42:30.105Z"
   },
   {
    "duration": 320,
    "start_time": "2025-02-26T04:43:52.884Z"
   },
   {
    "duration": 29,
    "start_time": "2025-02-26T04:45:27.495Z"
   },
   {
    "duration": 24,
    "start_time": "2025-02-26T04:46:21.594Z"
   },
   {
    "duration": 11,
    "start_time": "2025-02-26T04:53:08.853Z"
   },
   {
    "duration": 22,
    "start_time": "2025-02-26T04:53:21.508Z"
   },
   {
    "duration": 10,
    "start_time": "2025-02-26T04:56:08.293Z"
   },
   {
    "duration": 22,
    "start_time": "2025-02-26T04:56:56.236Z"
   },
   {
    "duration": 14,
    "start_time": "2025-02-26T04:57:15.116Z"
   },
   {
    "duration": 8,
    "start_time": "2025-02-26T04:57:38.290Z"
   },
   {
    "duration": 9,
    "start_time": "2025-02-26T04:57:48.671Z"
   },
   {
    "duration": 156,
    "start_time": "2025-02-27T04:14:02.531Z"
   },
   {
    "duration": 331,
    "start_time": "2025-02-27T04:14:10.941Z"
   },
   {
    "duration": 108,
    "start_time": "2025-02-27T04:14:12.265Z"
   },
   {
    "duration": 6,
    "start_time": "2025-02-27T04:14:14.405Z"
   },
   {
    "duration": 20,
    "start_time": "2025-02-27T04:14:16.850Z"
   },
   {
    "duration": 3,
    "start_time": "2025-02-27T04:14:21.805Z"
   },
   {
    "duration": 3,
    "start_time": "2025-02-27T04:14:24.028Z"
   },
   {
    "duration": 17,
    "start_time": "2025-02-27T04:14:27.954Z"
   },
   {
    "duration": 27,
    "start_time": "2025-02-27T04:14:30.584Z"
   },
   {
    "duration": 17,
    "start_time": "2025-02-27T04:14:32.772Z"
   },
   {
    "duration": 53,
    "start_time": "2025-02-27T04:14:35.243Z"
   },
   {
    "duration": 49,
    "start_time": "2025-02-27T04:14:37.386Z"
   },
   {
    "duration": 40,
    "start_time": "2025-02-27T04:14:39.221Z"
   },
   {
    "duration": 5,
    "start_time": "2025-02-27T04:14:42.373Z"
   },
   {
    "duration": 3,
    "start_time": "2025-02-27T04:14:45.798Z"
   },
   {
    "duration": 11,
    "start_time": "2025-02-27T04:14:48.077Z"
   },
   {
    "duration": 7,
    "start_time": "2025-02-27T04:14:50.875Z"
   },
   {
    "duration": 8,
    "start_time": "2025-02-27T04:14:54.983Z"
   },
   {
    "duration": 9,
    "start_time": "2025-02-27T04:14:57.085Z"
   },
   {
    "duration": 21,
    "start_time": "2025-02-27T04:14:59.909Z"
   },
   {
    "duration": 7,
    "start_time": "2025-02-27T04:15:02.218Z"
   },
   {
    "duration": 7,
    "start_time": "2025-02-27T04:15:48.356Z"
   },
   {
    "duration": 6,
    "start_time": "2025-02-27T04:20:10.134Z"
   },
   {
    "duration": 3,
    "start_time": "2025-02-27T04:20:54.825Z"
   },
   {
    "duration": 3,
    "start_time": "2025-02-27T04:20:56.883Z"
   },
   {
    "duration": 56,
    "start_time": "2025-02-27T04:22:57.797Z"
   },
   {
    "duration": 20,
    "start_time": "2025-02-27T04:23:36.151Z"
   },
   {
    "duration": 17,
    "start_time": "2025-02-27T04:23:48.400Z"
   },
   {
    "duration": 17,
    "start_time": "2025-02-27T04:24:03.104Z"
   },
   {
    "duration": 17,
    "start_time": "2025-02-27T04:24:29.095Z"
   },
   {
    "duration": 3,
    "start_time": "2025-02-27T04:27:15.264Z"
   },
   {
    "duration": 3,
    "start_time": "2025-02-27T04:27:28.846Z"
   },
   {
    "duration": 3,
    "start_time": "2025-02-27T04:27:36.965Z"
   },
   {
    "duration": 3,
    "start_time": "2025-02-27T04:27:58.221Z"
   },
   {
    "duration": 8,
    "start_time": "2025-02-27T04:28:44.495Z"
   },
   {
    "duration": 389,
    "start_time": "2025-02-27T04:29:02.841Z"
   },
   {
    "duration": 8,
    "start_time": "2025-02-27T04:29:40.878Z"
   },
   {
    "duration": 7,
    "start_time": "2025-02-27T04:29:57.480Z"
   },
   {
    "duration": 7,
    "start_time": "2025-02-27T04:31:02.995Z"
   },
   {
    "duration": 7,
    "start_time": "2025-02-27T04:31:44.446Z"
   },
   {
    "duration": 7,
    "start_time": "2025-02-27T04:31:55.040Z"
   },
   {
    "duration": 22,
    "start_time": "2025-02-27T04:35:38.828Z"
   },
   {
    "duration": 21,
    "start_time": "2025-02-27T04:35:59.535Z"
   },
   {
    "duration": 23,
    "start_time": "2025-02-27T04:36:44.404Z"
   },
   {
    "duration": 7,
    "start_time": "2025-02-27T04:38:37.442Z"
   },
   {
    "duration": 5,
    "start_time": "2025-02-27T04:40:24.338Z"
   },
   {
    "duration": 6,
    "start_time": "2025-02-27T04:40:52.649Z"
   },
   {
    "duration": 4,
    "start_time": "2025-02-27T04:41:13.978Z"
   },
   {
    "duration": 14,
    "start_time": "2025-02-27T04:42:11.026Z"
   },
   {
    "duration": 13,
    "start_time": "2025-02-27T04:42:29.265Z"
   },
   {
    "duration": 19,
    "start_time": "2025-02-27T04:43:23.433Z"
   },
   {
    "duration": 7,
    "start_time": "2025-02-27T04:43:36.985Z"
   },
   {
    "duration": 20,
    "start_time": "2025-02-27T04:44:42.453Z"
   },
   {
    "duration": 20,
    "start_time": "2025-02-27T04:45:09.855Z"
   },
   {
    "duration": 20,
    "start_time": "2025-02-27T04:45:53.846Z"
   },
   {
    "duration": 8,
    "start_time": "2025-02-27T04:46:08.619Z"
   },
   {
    "duration": 44,
    "start_time": "2025-02-27T04:46:19.906Z"
   },
   {
    "duration": 8,
    "start_time": "2025-02-27T04:47:44.369Z"
   },
   {
    "duration": 7,
    "start_time": "2025-02-27T04:47:50.285Z"
   },
   {
    "duration": 13,
    "start_time": "2025-02-27T04:48:06.084Z"
   },
   {
    "duration": 44,
    "start_time": "2025-02-27T04:51:52.328Z"
   },
   {
    "duration": 39,
    "start_time": "2025-02-27T04:51:54.061Z"
   },
   {
    "duration": 9,
    "start_time": "2025-02-27T04:52:20.781Z"
   },
   {
    "duration": 9,
    "start_time": "2025-02-27T04:52:42.890Z"
   },
   {
    "duration": 5,
    "start_time": "2025-02-27T04:55:34.789Z"
   },
   {
    "duration": 4,
    "start_time": "2025-02-27T04:56:15.899Z"
   },
   {
    "duration": 4,
    "start_time": "2025-02-27T04:56:27.969Z"
   },
   {
    "duration": 9,
    "start_time": "2025-02-27T04:56:58.394Z"
   },
   {
    "duration": 8,
    "start_time": "2025-02-27T04:58:35.638Z"
   },
   {
    "duration": 14,
    "start_time": "2025-02-27T04:59:13.268Z"
   },
   {
    "duration": 40,
    "start_time": "2025-02-27T05:00:28.239Z"
   },
   {
    "duration": 53,
    "start_time": "2025-02-27T05:00:47.087Z"
   },
   {
    "duration": 53,
    "start_time": "2025-02-27T05:01:02.553Z"
   },
   {
    "duration": 52,
    "start_time": "2025-02-27T05:01:29.542Z"
   },
   {
    "duration": 7,
    "start_time": "2025-02-27T05:02:13.911Z"
   },
   {
    "duration": 8,
    "start_time": "2025-02-28T03:52:11.520Z"
   },
   {
    "duration": 348,
    "start_time": "2025-02-28T03:57:07.953Z"
   },
   {
    "duration": 123,
    "start_time": "2025-02-28T03:57:09.629Z"
   },
   {
    "duration": 8,
    "start_time": "2025-02-28T03:57:11.658Z"
   },
   {
    "duration": 22,
    "start_time": "2025-02-28T03:57:14.906Z"
   },
   {
    "duration": 3,
    "start_time": "2025-02-28T03:57:19.453Z"
   },
   {
    "duration": 5,
    "start_time": "2025-02-28T03:57:21.362Z"
   },
   {
    "duration": 25,
    "start_time": "2025-02-28T03:57:24.584Z"
   },
   {
    "duration": 54,
    "start_time": "2025-02-28T03:57:26.855Z"
   },
   {
    "duration": 16,
    "start_time": "2025-02-28T03:57:29.146Z"
   },
   {
    "duration": 44,
    "start_time": "2025-02-28T03:57:31.210Z"
   },
   {
    "duration": 59,
    "start_time": "2025-02-28T03:57:32.752Z"
   },
   {
    "duration": 56,
    "start_time": "2025-02-28T03:57:34.516Z"
   },
   {
    "duration": 10,
    "start_time": "2025-02-28T03:57:36.996Z"
   },
   {
    "duration": 12,
    "start_time": "2025-02-28T03:57:40.880Z"
   },
   {
    "duration": 14,
    "start_time": "2025-02-28T03:57:43.236Z"
   },
   {
    "duration": 11,
    "start_time": "2025-02-28T03:57:45.782Z"
   },
   {
    "duration": 15,
    "start_time": "2025-02-28T03:57:51.484Z"
   },
   {
    "duration": 14,
    "start_time": "2025-02-28T03:57:53.896Z"
   },
   {
    "duration": 36,
    "start_time": "2025-02-28T03:57:57.202Z"
   },
   {
    "duration": 6,
    "start_time": "2025-02-28T03:58:06.853Z"
   },
   {
    "duration": 10,
    "start_time": "2025-02-28T03:58:44.098Z"
   },
   {
    "duration": 5,
    "start_time": "2025-02-28T04:02:38.057Z"
   },
   {
    "duration": 4,
    "start_time": "2025-02-28T04:02:59.232Z"
   },
   {
    "duration": 5,
    "start_time": "2025-02-28T04:03:19.344Z"
   },
   {
    "duration": 63,
    "start_time": "2025-02-28T04:04:41.619Z"
   },
   {
    "duration": 64,
    "start_time": "2025-02-28T04:06:39.155Z"
   }
  ],
  "colab": {
   "collapsed_sections": [
    "E0vqbgi9ay0H",
    "VUC88oWjTJw2"
   ],
   "provenance": []
  },
  "kernelspec": {
   "display_name": "Python 3 (ipykernel)",
   "language": "python",
   "name": "python3"
  },
  "language_info": {
   "codemirror_mode": {
    "name": "ipython",
    "version": 3
   },
   "file_extension": ".py",
   "mimetype": "text/x-python",
   "name": "python",
   "nbconvert_exporter": "python",
   "pygments_lexer": "ipython3",
   "version": "3.9.19"
  },
  "toc": {
   "base_numbering": 1,
   "nav_menu": {},
   "number_sections": true,
   "sideBar": true,
   "skip_h1_title": true,
   "title_cell": "Table of Contents",
   "title_sidebar": "Contents",
   "toc_cell": false,
   "toc_position": {},
   "toc_section_display": true,
   "toc_window_display": false
  }
 },
 "nbformat": 4,
 "nbformat_minor": 1
}
